{
  "nbformat": 4,
  "nbformat_minor": 0,
  "metadata": {
    "colab": {
      "provenance": [],
      "include_colab_link": true
    },
    "kernelspec": {
      "name": "python3",
      "display_name": "Python 3"
    },
    "language_info": {
      "name": "python"
    }
  },
  "cells": [
    {
      "cell_type": "markdown",
      "metadata": {
        "id": "view-in-github",
        "colab_type": "text"
      },
      "source": [
        "<a href=\"https://colab.research.google.com/github/nyanta012/chatgpt_api_practice/blob/main/section8/section8.ipynb\" target=\"_parent\"><img src=\"https://colab.research.google.com/assets/colab-badge.svg\" alt=\"Open In Colab\"/></a>"
      ]
    },
    {
      "cell_type": "markdown",
      "source": [
        "# Google Colaboratoryのショートカットキー\n",
        "1. **現在のセルを実行し、次のセルを選択**: `Shift + Enter`\n",
        "2. **コードセルをテキストセルにする**: `Ctrl + M M`\n",
        "3. **コードセルを上に追加**: `Ctrl + M A`\n",
        "4. **コードセルを下に追加**: `Ctrl + M B`\n",
        "5. **セルの削除**: `Ctrl + M D`"
      ],
      "metadata": {
        "id": "R2OtL4NSkqAB"
      }
    },
    {
      "cell_type": "code",
      "source": [],
      "metadata": {
        "id": "-0HkeQygkwGl"
      },
      "execution_count": null,
      "outputs": []
    },
    {
      "cell_type": "code",
      "source": [],
      "metadata": {
        "id": "vyFQPNfEk2s3"
      },
      "execution_count": null,
      "outputs": []
    },
    {
      "cell_type": "markdown",
      "source": [
        "# API KEYの設定など"
      ],
      "metadata": {
        "id": "6WN7SzHtkwKe"
      }
    },
    {
      "cell_type": "code",
      "source": [
        "%%capture\n",
        "!pip install langchain==0.0.340\n",
        "!pip install llama-index==0.9.7\n",
        "!wget https://github.com/nyanta012/chatgpt_api_practice/raw/main/pdf/コンプライアンスのすべて.pdf\n",
        "!wget https://github.com/nyanta012/chatgpt_api_practice/raw/main/pdf/健康のすべて.pdf"
      ],
      "metadata": {
        "id": "9pzisJGwa6a0"
      },
      "execution_count": 1,
      "outputs": []
    },
    {
      "cell_type": "code",
      "execution_count": 2,
      "metadata": {
        "id": "y86N_W7MauF6",
        "colab": {
          "base_uri": "https://localhost:8080/"
        },
        "outputId": "0f0a1943-ed54-4a9d-8f22-2fbdece59c03"
      },
      "outputs": [
        {
          "name": "stdout",
          "output_type": "stream",
          "text": [
            "OpenAIのAPIキーを入力してください··········\n"
          ]
        }
      ],
      "source": [
        "import getpass\n",
        "import json\n",
        "import os\n",
        "from pathlib import Path\n",
        "\n",
        "from IPython.display import Markdown, display\n",
        "from langchain.chat_models import ChatOpenAI\n",
        "from llama_index import (GPTVectorStoreIndex, LLMPredictor, ServiceContext,\n",
        "                         StorageContext, VectorStoreIndex, download_loader,\n",
        "                         load_index_from_storage)\n",
        "\n",
        "apikey = getpass.getpass(prompt=\"OpenAIのAPIキーを入力してください\")\n",
        "os.environ[\"OPENAI_API_KEY\"] = apikey # llama indexは環境変数じゃないとエラーがでる？"
      ]
    },
    {
      "cell_type": "code",
      "source": [
        "PDFReader = download_loader(\"PDFReader\")\n",
        "\n",
        "loader = PDFReader()\n",
        "documents = loader.load_data(file=Path(\"コンプライアンスのすべて.pdf\"))"
      ],
      "metadata": {
        "id": "OfEbGiSMXDT8"
      },
      "execution_count": 3,
      "outputs": []
    },
    {
      "cell_type": "code",
      "source": [
        "service_context = ServiceContext.from_defaults(\n",
        "    llm_predictor=LLMPredictor(\n",
        "        llm=ChatOpenAI(model_name=\"gpt-3.5-turbo-0613\", temperature=0)\n",
        "    )\n",
        ")"
      ],
      "metadata": {
        "id": "sNZbBxlobDQo",
        "colab": {
          "base_uri": "https://localhost:8080/"
        },
        "outputId": "8c1f0d21-acfc-4705-cea5-b45710d6a0b4"
      },
      "execution_count": 4,
      "outputs": [
        {
          "output_type": "stream",
          "name": "stderr",
          "text": [
            "[nltk_data] Downloading package punkt to /tmp/llama_index...\n",
            "[nltk_data]   Unzipping tokenizers/punkt.zip.\n"
          ]
        }
      ]
    },
    {
      "cell_type": "code",
      "source": [
        "# indexを作成\n",
        "index = VectorStoreIndex.from_documents(documents, service_context=service_context)\n",
        "index.storage_context.persist(persist_dir=\"./storage/\")"
      ],
      "metadata": {
        "id": "hYgvpS6rbDUH"
      },
      "execution_count": 5,
      "outputs": []
    },
    {
      "cell_type": "code",
      "source": [
        "query_engine = index.as_query_engine()"
      ],
      "metadata": {
        "id": "tJQ9vBgKbDXb"
      },
      "execution_count": 6,
      "outputs": []
    },
    {
      "cell_type": "code",
      "source": [
        "response = query_engine.query(\"AIとコンプライアンスについて教えて\")"
      ],
      "metadata": {
        "id": "U5abgJO1bDac"
      },
      "execution_count": 7,
      "outputs": []
    },
    {
      "cell_type": "code",
      "source": [
        "print(response)"
      ],
      "metadata": {
        "colab": {
          "base_uri": "https://localhost:8080/"
        },
        "id": "zmBSbhvSbgaR",
        "outputId": "cc2ca80b-c2f7-4e59-fa23-49a518b4dc8e"
      },
      "execution_count": 8,
      "outputs": [
        {
          "output_type": "stream",
          "name": "stdout",
          "text": [
            "AIは人工知能の略称であり、コンプライアンス活動においても活用されています。AIはリスク評価や予測、自動監視、データ分析などの機能を持ち、コンプライアンスプロセスやリスク管理に役立てることができます。また、AIの活用により効率化や精度向上が図られることもあります。ただし、AIの活用には課題やリスクも存在し、人間とAIの役割分担や倫理的な問題についても考慮する必要があります。\n"
          ]
        }
      ]
    },
    {
      "cell_type": "code",
      "source": [
        "print((response.source_nodes[0].node.get_text()))"
      ],
      "metadata": {
        "colab": {
          "base_uri": "https://localhost:8080/"
        },
        "id": "AOr7aRxMXK0K",
        "outputId": "c542b1e7-eacf-4e53-e244-bc5d01231993"
      },
      "execution_count": 9,
      "outputs": [
        {
          "output_type": "stream",
          "name": "stdout",
          "text": [
            "テクノロジーの活用とコンプライアンス】 （ 500文字程度）  \n",
            "テクノロジーの進化は、コンプライアンス活動において革新的な手法とチャンスをもたら\n",
            "しています。 この章では、 テクノロジーの活用とコンプライアンスの関連性について探求し\n",
            "ます。 AI（人工知能）や機械学習、ブロックチェーンなどのテクノロジーがコンプライアン\n",
            "スプロセスやリスク管理にどのように活用されているかを解説します。 また、 データ分析や\n",
            "自動化ツールの導入による効率化や精度向上の具体例についても紹介します。読者はテク\n",
            "ノロジーを活用してコンプライアンス活動を効果的に支援し、効率性と正確性を向上させ\n",
            "る方法を学ぶことができま す。  \n",
            " \n",
            "【21. デジタルトランスフォーメーションとコンプライアンス】 （ 500文字程度）  \n",
            "デジタルトランスフォーメーションの進展により、ビジネスプロセスのデジタル化と効率\n",
            "化が進んでいます。 この章では、 デジタルトランスフォーメーションとコンプライアンスの\n",
            "関係に焦点を当てます。 デジタルプラットフォームやクラウドサービスの活用、 データの保\n"
          ]
        }
      ]
    },
    {
      "cell_type": "code",
      "source": [
        "response = query_engine.query(\"猫について教えてください\")"
      ],
      "metadata": {
        "id": "7kI8z1-ebNbc"
      },
      "execution_count": 10,
      "outputs": []
    },
    {
      "cell_type": "code",
      "source": [
        "print(response)"
      ],
      "metadata": {
        "id": "Lf5c7RckbNeQ",
        "colab": {
          "base_uri": "https://localhost:8080/"
        },
        "outputId": "b28e585c-4002-4678-c925-6515db272cd9"
      },
      "execution_count": 11,
      "outputs": [
        {
          "output_type": "stream",
          "name": "stdout",
          "text": [
            "I'm sorry, but I don't have any information about cats based on the given context.\n"
          ]
        }
      ]
    },
    {
      "cell_type": "markdown",
      "source": [
        "# 一度index化して保存すると再度読み込むことが可能"
      ],
      "metadata": {
        "id": "bguwCQm_bWCd"
      }
    },
    {
      "cell_type": "markdown",
      "source": [
        "別のpdfを読み込んでみる"
      ],
      "metadata": {
        "id": "c_-8EWkvdPfj"
      }
    },
    {
      "cell_type": "code",
      "source": [
        "PDFReader = download_loader(\"PDFReader\")\n",
        "\n",
        "loader = PDFReader()\n",
        "documents = loader.load_data(file=Path(\"健康のすべて.pdf\"))"
      ],
      "metadata": {
        "id": "uK-meFwVglQk"
      },
      "execution_count": 12,
      "outputs": []
    },
    {
      "cell_type": "code",
      "source": [
        "service_context = ServiceContext.from_defaults(\n",
        "    llm_predictor=LLMPredictor(\n",
        "        llm=ChatOpenAI(model_name=\"gpt-3.5-turbo-0613\", temperature=0)\n",
        "    )\n",
        ")\n",
        "\n",
        "# indexを作成\n",
        "index = VectorStoreIndex.from_documents(documents, service_context=service_context)\n",
        "index.storage_context.persist(persist_dir=\"./health/\")"
      ],
      "metadata": {
        "id": "QLgKd2o5gmOp"
      },
      "execution_count": 13,
      "outputs": []
    },
    {
      "cell_type": "code",
      "source": [
        "query_engine = index.as_query_engine()"
      ],
      "metadata": {
        "id": "AEX-PTm8gm8q"
      },
      "execution_count": 14,
      "outputs": []
    },
    {
      "cell_type": "code",
      "source": [
        "response = query_engine.query(\"健康とストレスについて何が書かれていますか？\")"
      ],
      "metadata": {
        "id": "iuM5_WlCgByz"
      },
      "execution_count": 15,
      "outputs": []
    },
    {
      "cell_type": "code",
      "source": [
        "print(response)"
      ],
      "metadata": {
        "colab": {
          "base_uri": "https://localhost:8080/"
        },
        "id": "oicifQ_agC4Y",
        "outputId": "fe1e1649-b2a9-4442-ce1e-d6cbaa9a068e"
      },
      "execution_count": 16,
      "outputs": [
        {
          "output_type": "stream",
          "name": "stdout",
          "text": [
            "ストレスは健康に悪影響を与える要因の一つであり、過度のストレスや長期的なストレスは身体的な症状や心理的な問題を引き起こす可能性があります。ストレスマネジメントが必要であり、ストレスの原因を特定し、対策を講じることが重要です。リラックス法やストレス軽減のための活動、時間管理やプライオリティの設定、コミュニケーションスキルの向上などが有効なストレスマネジメントの手法です。健康なストレスマネジメントは心身のバランスを取り戻し、健康な生活を実現するために重要です。\n"
          ]
        }
      ]
    },
    {
      "cell_type": "code",
      "source": [
        "print((response.source_nodes[0].node.get_text()))"
      ],
      "metadata": {
        "colab": {
          "base_uri": "https://localhost:8080/"
        },
        "id": "-3-4EdXVgD3d",
        "outputId": "1554341a-d5f8-40f0-f91c-30fea3ba09c8"
      },
      "execution_count": 17,
      "outputs": [
        {
          "output_type": "stream",
          "name": "stdout",
          "text": [
            "切なストレスマネジメントが必要です。 ストレスの原因を特定し、 対策を講じることが重要\n",
            "です。リラックス法やストレス軽減のための活動（例：ヨガ、瞑想、散歩など） 、時間管理\n",
            "やプライオリティの設定、コミュニケーションスキルの向上などが有効なストレスマネジ\n",
            "メントの手法です。 健康なストレスマネジメントは心身のバランスを取り戻し、 健康な生活\n",
            "を実現するために重要です。  \n",
            " \n",
            "１８．健康と睡眠の重要性  \n",
            " \n",
            "良質な睡眠は健康にとって極めて重要 です。 十分な睡眠を確保することは、 身体と心の回復\n",
            "やリフレッシュに不可欠です。 睡眠不足や睡眠の質の低下は、 免疫機能の低下やメンタルヘ\n",
            "ルスの悪化、 集中力や注意力の低下などの健康問題を引き起こす可能性があります。 健康な\n",
            "睡眠のためには、 定期的な睡眠スケジュールの確立や快適な睡眠環境の整備、 リラックスす\n",
            "る習慣の導入などが重要です。また、適切な睡眠のためには、日中の活動や食事、運動など\n",
            "も考慮する必要があります。良質な睡眠を確保することで、健康な身体と心を維持し、日々\n",
            "の活動に充実感をもたらすことができます。  \n",
            " \n",
            "１９．健康 と栄養の関係  \n",
            " \n",
            "栄養は健康に直接的な影響を与える重要な要素です。バランスの取れた食事を摂取するこ\n",
            "とは、健康を維持するために不可欠です。食事は私たちの身体の燃料となり、成長や修復に\n",
            "必要な栄養素を提供します。健康的な食事は、ビタミン、ミネラル、たんぱく質、繊維など\n",
            "の栄養素をバランス良く摂取することを意味します。 また、 食事の多様性や適切なカロリー\n",
            "摂取も重要です。健康な食事の基本は、野菜や果物、全粒穀物、健康な脂肪、良質なタンパ\n",
            "ク質の摂取です。食事の栄養バランスに注意し、健康な身体と心をサポートしましょう。  \n",
            " \n",
            "２０．健康と適度な運動の意義  \n",
            " \n",
            "適度な運動は健康維持に不可欠です。 適度な運動を行うことは、 心臓や血管の健康を促進し、\n",
            "筋力や柔軟性を向上させるだけでなく、 ストレスの軽減や体重の管理にも役立ちます。\n"
          ]
        }
      ]
    },
    {
      "cell_type": "code",
      "source": [
        "# コンプライアンスのpdfの構造化データを読み込む\n",
        "storage_context = StorageContext.from_defaults(persist_dir=\"./storage/\")\n",
        "index = load_index_from_storage(storage_context)"
      ],
      "metadata": {
        "id": "xI3p5FpshYQe"
      },
      "execution_count": 18,
      "outputs": []
    },
    {
      "cell_type": "code",
      "source": [
        "query_engine = index.as_query_engine()"
      ],
      "metadata": {
        "id": "RhRo-ZP9hYUs"
      },
      "execution_count": 19,
      "outputs": []
    },
    {
      "cell_type": "code",
      "source": [
        "response = query_engine.query(\"健康とストレスについて何が書かれていますか？\")"
      ],
      "metadata": {
        "id": "9j7uim5khYYN"
      },
      "execution_count": 20,
      "outputs": []
    },
    {
      "cell_type": "code",
      "source": [
        "print(response)"
      ],
      "metadata": {
        "colab": {
          "base_uri": "https://localhost:8080/"
        },
        "id": "zI-KjPjkgJth",
        "outputId": "dcac0391-3ea3-40fe-8cce-ac202f61406e"
      },
      "execution_count": 21,
      "outputs": [
        {
          "output_type": "stream",
          "name": "stdout",
          "text": [
            "健康とストレスについては、提供されたコンテキスト情報では何も書かれていません。\n"
          ]
        }
      ]
    },
    {
      "cell_type": "code",
      "source": [
        "print((response.source_nodes[0].node.get_text()))"
      ],
      "metadata": {
        "colab": {
          "base_uri": "https://localhost:8080/"
        },
        "id": "pbd5c7SrgK3H",
        "outputId": "888cb46b-ad9f-48b7-cfc3-055b9de2482b"
      },
      "execution_count": 22,
      "outputs": [
        {
          "output_type": "stream",
          "name": "stdout",
          "text": [
            "サイバーセキュリティとコンプライアンス】 （ 500文字程度）  \n",
            "コンプライアンスとサイバーセキュリティは、デジタル時代のビジネスにおいて密接に関\n",
            "連しています。 この章では、 サイバーセキュリティとコンプライアンスの関係性に焦点を当\n",
            "てます。 サイバーセキュリティの重要性と最善のプラクティス、 セキュリティ対策とコンプ\n",
            "ライアンス要件の統 合、データの保護とセキュリティポリシーの策定などについて詳しく\n",
            "解説します。 読者はサイバーセキュリティとコンプライアンスを連携させ、 組織のデジタル\n",
            "アセットを保護するための手法を学ぶことができます。  \n",
            " \n",
            "【30. コンプライアンスと人権保護】 （ 500文字程度）  \n",
            "コンプライアンス活動は、 人権保護の観点からも重要な役割を果たしています。 この章では、\n"
          ]
        }
      ]
    },
    {
      "cell_type": "markdown",
      "source": [
        "# プロンプトを書き変える"
      ],
      "metadata": {
        "id": "qSSzo517gXbH"
      }
    },
    {
      "cell_type": "code",
      "source": [
        "from llama_index import PromptTemplate\n",
        "\n",
        "TEMPLATE = (\n",
        "    \"下記の情報が与えられています。 \\n\"\n",
        "    \"---------------------\\n\"\n",
        "    \"{context_str}\"\n",
        "    \"\\n---------------------\\n\"\n",
        "    \"この情報を参照して次の質問に答えてください: {query_str}\\n\"\n",
        ")\n",
        "PROMPT = PromptTemplate(TEMPLATE)"
      ],
      "metadata": {
        "id": "eAEq2OaqbYIj"
      },
      "execution_count": 23,
      "outputs": []
    },
    {
      "cell_type": "code",
      "source": [
        "# 健康すべてのpdfの構造化データを読み込む\n",
        "storage_context = StorageContext.from_defaults(persist_dir=\"./health/\")\n",
        "index = load_index_from_storage(storage_context)"
      ],
      "metadata": {
        "id": "2LNqRKShk4hU"
      },
      "execution_count": 24,
      "outputs": []
    },
    {
      "cell_type": "code",
      "source": [
        "query_engine = index.as_query_engine(text_qa_template=PROMPT)"
      ],
      "metadata": {
        "id": "geoxyOdNk3Pb"
      },
      "execution_count": 25,
      "outputs": []
    },
    {
      "cell_type": "code",
      "source": [
        "response = query_engine.query(\"健康とストレスについて何が書かれていますか？\")"
      ],
      "metadata": {
        "id": "hIv1tl2hf2WX"
      },
      "execution_count": 26,
      "outputs": []
    },
    {
      "cell_type": "code",
      "source": [
        "print(response)"
      ],
      "metadata": {
        "colab": {
          "base_uri": "https://localhost:8080/"
        },
        "id": "M2S9vP3xk59Z",
        "outputId": "4824d3b6-ba0d-4d73-8366-0ef3ea4dfd33"
      },
      "execution_count": 27,
      "outputs": [
        {
          "output_type": "stream",
          "name": "stdout",
          "text": [
            "健康とストレスについては、以下のような内容が書かれています。\n",
            "\n",
            "- ストレスの原因を特定し、対策を講じることが重要であり、リラックス法やストレス軽減のための活動、時間管理やプライオリティの設定、コミュニケーションスキルの向上などが有効なストレスマネジメントの手法とされています。\n",
            "- ストレスマネジメントは心身のバランスを取り戻し、健康な生活を実現するために重要です。\n",
            "- ストレスは健康に悪影響を与える要因の一つであり、過度のストレスや長期的なストレスは身体的な症状や心理的な問題を引き起こす可能性があります。\n"
          ]
        }
      ]
    },
    {
      "cell_type": "code",
      "source": [
        "TEMPLATE = (\n",
        "    \"下記の情報が与えられています。 \\n\"\n",
        "    \"---------------------\\n\"\n",
        "    \"{context_str}\"\n",
        "    \"\\n---------------------\\n\"\n",
        "    \"次の質問に答えてください: {query_str}\\n 出力は箇条書きで書いてください\"\n",
        ")\n",
        "PROMPT = PromptTemplate(TEMPLATE)\n",
        "\n",
        "query_engine = index.as_query_engine(text_qa_template=PROMPT)"
      ],
      "metadata": {
        "id": "LQeDg-Xmmqoy"
      },
      "execution_count": 28,
      "outputs": []
    },
    {
      "cell_type": "code",
      "source": [
        "response = query_engine.query(\"健康とストレスについて何が書かれていますか？\")\n",
        "print(response)"
      ],
      "metadata": {
        "id": "8oXUjQSqmr8B",
        "colab": {
          "base_uri": "https://localhost:8080/"
        },
        "outputId": "ac0f0cb8-2158-40d3-e308-9c79b2a05256"
      },
      "execution_count": 29,
      "outputs": [
        {
          "output_type": "stream",
          "name": "stdout",
          "text": [
            "- ストレスの原因を特定し、対策を講じることが重要\n",
            "- リラックス法やストレス軽減のための活動が有効なストレスマネジメントの手法\n",
            "- 健康なストレスマネジメントは心身のバランスを取り戻し、健康な生活を実現するために重要\n",
            "- 良質な睡眠の重要性\n",
            "- 睡眠不足や睡眠の質の低下は健康問題を引き起こす可能性がある\n",
            "- 定期的な睡眠スケジュールの確立や快適な睡眠環境の整備、リラックスする習慣の導入が重要\n",
            "- 適切な睡眠のためには日中の活動や食事、運動も考慮する必要がある\n",
            "- 栄養は健康に直接的な影響を与える重要な要素\n",
            "- バランスの取れた食事を摂取することは健康を維持するために不可欠\n",
            "- 食事の栄養バランスに注意し、健康な身体と心をサポートする必要がある\n",
            "- 適度な運動は健康維持に不可欠\n",
            "- 適度な運動を行うことは心臓や血管の健康を促進し、ストレスの軽減や体重の管理に役立つ\n",
            "- 芸術的な表現やクリエイティブな活動によってストレスの軽減や心身のリラックスを促す効果がある\n",
            "- アートやクリエイティビティを通じて自己表現や創造性を育むことは健康な生活を促進し、心の豊かさをもたらすことができる\n",
            "- 過度のストレスや長期的なストレスは身体的な症状や心理的な問題を引き起こす可能性がある\n",
            "- 健康を維持するためには適切なストレスマネジメントが必要\n"
          ]
        }
      ]
    },
    {
      "cell_type": "code",
      "source": [],
      "metadata": {
        "id": "8obR1qr-OFMY"
      },
      "execution_count": null,
      "outputs": []
    }
  ]
}