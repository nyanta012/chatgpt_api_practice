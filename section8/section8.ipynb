{
  "nbformat": 4,
  "nbformat_minor": 0,
  "metadata": {
    "colab": {
      "provenance": [],
      "include_colab_link": true
    },
    "kernelspec": {
      "name": "python3",
      "display_name": "Python 3"
    },
    "language_info": {
      "name": "python"
    }
  },
  "cells": [
    {
      "cell_type": "markdown",
      "metadata": {
        "id": "view-in-github",
        "colab_type": "text"
      },
      "source": [
        "<a href=\"https://colab.research.google.com/github/nyanta012/chatgpt_api_practice/blob/main/section8/section8.ipynb\" target=\"_parent\"><img src=\"https://colab.research.google.com/assets/colab-badge.svg\" alt=\"Open In Colab\"/></a>"
      ]
    },
    {
      "cell_type": "markdown",
      "source": [
        "# Google Colaboratoryのショートカットキー\n",
        "1. **現在のセルを実行し、次のセルを選択**: `Shift + Enter`\n",
        "2. **コードセルをテキストセルにする**: `Ctrl + M M`\n",
        "3. **コードセルを上に追加**: `Ctrl + M A`\n",
        "4. **コードセルを下に追加**: `Ctrl + M B`\n",
        "5. **セルの削除**: `Ctrl + M D`"
      ],
      "metadata": {
        "id": "R2OtL4NSkqAB"
      }
    },
    {
      "cell_type": "code",
      "source": [],
      "metadata": {
        "id": "-0HkeQygkwGl"
      },
      "execution_count": null,
      "outputs": []
    },
    {
      "cell_type": "code",
      "source": [],
      "metadata": {
        "id": "vyFQPNfEk2s3"
      },
      "execution_count": null,
      "outputs": []
    },
    {
      "cell_type": "markdown",
      "source": [
        "# API KEYの設定など"
      ],
      "metadata": {
        "id": "6WN7SzHtkwKe"
      }
    },
    {
      "cell_type": "code",
      "source": [
        "%%capture\n",
        "!pip install langchain==0.0.340\n",
        "!pip install llama-index==0.9.7\n",
        "!wget https://github.com/nyanta012/chatgpt_api_practice/raw/main/pdf/コンプライアンスのすべて.pdf\n",
        "!wget https://github.com/nyanta012/chatgpt_api_practice/raw/main/pdf/健康のすべて.pdf"
      ],
      "metadata": {
        "id": "9pzisJGwa6a0"
      },
      "execution_count": null,
      "outputs": []
    },
    {
      "cell_type": "code",
      "execution_count": null,
      "metadata": {
        "id": "y86N_W7MauF6",
        "colab": {
          "base_uri": "https://localhost:8080/"
        },
        "outputId": "ad0a168f-3ab6-4ceb-b638-27c4f7b6d929"
      },
      "outputs": [
        {
          "name": "stdout",
          "output_type": "stream",
          "text": [
            "OpenAIのAPIキーを入力してください··········\n"
          ]
        }
      ],
      "source": [
        "import getpass\n",
        "import json\n",
        "import os\n",
        "from pathlib import Path\n",
        "\n",
        "from IPython.display import Markdown, display\n",
        "from langchain.chat_models import ChatOpenAI\n",
        "from llama_index import (GPTVectorStoreIndex, LLMPredictor, ServiceContext,\n",
        "                         StorageContext, VectorStoreIndex, download_loader,\n",
        "                         load_index_from_storage)\n",
        "\n",
        "apikey = getpass.getpass(prompt=\"OpenAIのAPIキーを入力してください\")\n",
        "os.environ[\"OPENAI_API_KEY\"] = apikey # llama indexは環境変数じゃないとエラーがでる？"
      ]
    },
    {
      "cell_type": "code",
      "source": [
        "PDFReader = download_loader(\"PDFReader\")\n",
        "\n",
        "loader = PDFReader()\n",
        "documents = loader.load_data(file=Path(\"コンプライアンスのすべて.pdf\"))"
      ],
      "metadata": {
        "id": "OfEbGiSMXDT8"
      },
      "execution_count": null,
      "outputs": []
    },
    {
      "cell_type": "code",
      "source": [
        "service_context = ServiceContext.from_defaults(\n",
        "    llm_predictor=LLMPredictor(\n",
        "        llm=ChatOpenAI(model_name=\"gpt-3.5-turbo-1106\", temperature=0, model_kwargs={\"seed\": 0})\n",
        "    )\n",
        ")"
      ],
      "metadata": {
        "id": "sNZbBxlobDQo"
      },
      "execution_count": null,
      "outputs": []
    },
    {
      "cell_type": "code",
      "source": [
        "# indexを作成\n",
        "index = VectorStoreIndex.from_documents(documents, service_context=service_context)\n",
        "index.storage_context.persist(persist_dir=\"./storage/\")"
      ],
      "metadata": {
        "id": "hYgvpS6rbDUH"
      },
      "execution_count": null,
      "outputs": []
    },
    {
      "cell_type": "code",
      "source": [
        "query_engine = index.as_query_engine()"
      ],
      "metadata": {
        "id": "tJQ9vBgKbDXb"
      },
      "execution_count": null,
      "outputs": []
    },
    {
      "cell_type": "code",
      "source": [
        "response = query_engine.query(\"AIとコンプライアンスについて教えて\")"
      ],
      "metadata": {
        "id": "U5abgJO1bDac"
      },
      "execution_count": null,
      "outputs": []
    },
    {
      "cell_type": "code",
      "source": [
        "print(response)"
      ],
      "metadata": {
        "colab": {
          "base_uri": "https://localhost:8080/"
        },
        "id": "zmBSbhvSbgaR",
        "outputId": "4a117b0b-2222-4397-f9ee-d525d032216a"
      },
      "execution_count": null,
      "outputs": [
        {
          "output_type": "stream",
          "name": "stdout",
          "text": [
            "AIの活用により、コンプライアンス活動における自動化や洞察力の向上が期待されています。具体的には、AIによるリスク評価と予測、自動監視とデータ分析、AIの倫理と透明性などが取り上げられています。また、AIの活用に伴う課題やリスク、人間とAIの役割分担に関する考察も行われています。\n"
          ]
        }
      ]
    },
    {
      "cell_type": "code",
      "source": [
        "print((response.source_nodes[0].node.get_text()))"
      ],
      "metadata": {
        "colab": {
          "base_uri": "https://localhost:8080/"
        },
        "id": "AOr7aRxMXK0K",
        "outputId": "4b9ce84d-3d09-4fa8-f891-ecae79c5595d"
      },
      "execution_count": null,
      "outputs": [
        {
          "output_type": "stream",
          "name": "stdout",
          "text": [
            "テクノロジーの活用とコンプライアンス】 （ 500文字程度）  \n",
            "テクノロジーの進化は、コンプライアンス活動において革新的な手法とチャンスをもたら\n",
            "しています。 この章では、 テクノロジーの活用とコンプライアンスの関連性について探求し\n",
            "ます。 AI（人工知能）や機械学習、ブロックチェーンなどのテクノロジーがコンプライアン\n",
            "スプロセスやリスク管理にどのように活用されているかを解説します。 また、 データ分析や\n",
            "自動化ツールの導入による効率化や精度向上の具体例についても紹介します。読者はテク\n",
            "ノロジーを活用してコンプライアンス活動を効果的に支援し、効率性と正確性を向上させ\n",
            "る方法を学ぶことができま す。  \n",
            " \n",
            "【21. デジタルトランスフォーメーションとコンプライアンス】 （ 500文字程度）  \n",
            "デジタルトランスフォーメーションの進展により、ビジネスプロセスのデジタル化と効率\n",
            "化が進んでいます。 この章では、 デジタルトランスフォーメーションとコンプライアンスの\n",
            "関係に焦点を当てます。 デジタルプラットフォームやクラウドサービスの活用、 データの保\n"
          ]
        }
      ]
    },
    {
      "cell_type": "code",
      "source": [
        "response = query_engine.query(\"猫について教えてください\")"
      ],
      "metadata": {
        "id": "7kI8z1-ebNbc"
      },
      "execution_count": null,
      "outputs": []
    },
    {
      "cell_type": "code",
      "source": [
        "print(response)"
      ],
      "metadata": {
        "id": "Lf5c7RckbNeQ",
        "colab": {
          "base_uri": "https://localhost:8080/"
        },
        "outputId": "fa6aa267-2288-4e85-b30e-e979341234a3"
      },
      "execution_count": null,
      "outputs": [
        {
          "output_type": "stream",
          "name": "stdout",
          "text": [
            "I'm sorry, I cannot provide an answer to that query based on the given context.\n"
          ]
        }
      ]
    },
    {
      "cell_type": "markdown",
      "source": [
        "# 一度index化して保存すると再度読み込むことが可能"
      ],
      "metadata": {
        "id": "bguwCQm_bWCd"
      }
    },
    {
      "cell_type": "markdown",
      "source": [
        "別のpdfを読み込んでみる"
      ],
      "metadata": {
        "id": "c_-8EWkvdPfj"
      }
    },
    {
      "cell_type": "code",
      "source": [
        "PDFReader = download_loader(\"PDFReader\")\n",
        "\n",
        "loader = PDFReader()\n",
        "documents = loader.load_data(file=Path(\"健康のすべて.pdf\"))"
      ],
      "metadata": {
        "id": "uK-meFwVglQk"
      },
      "execution_count": null,
      "outputs": []
    },
    {
      "cell_type": "code",
      "source": [
        "service_context = ServiceContext.from_defaults(\n",
        "    llm_predictor=LLMPredictor(\n",
        "        llm=ChatOpenAI(model_name=\"gpt-3.5-turbo-1106\", temperature=0, model_kwargs={\"seed\": 0})\n",
        "    )\n",
        ")\n",
        "\n",
        "# indexを作成\n",
        "index = VectorStoreIndex.from_documents(documents, service_context=service_context)\n",
        "index.storage_context.persist(persist_dir=\"./health/\")"
      ],
      "metadata": {
        "id": "QLgKd2o5gmOp"
      },
      "execution_count": null,
      "outputs": []
    },
    {
      "cell_type": "code",
      "source": [
        "query_engine = index.as_query_engine()"
      ],
      "metadata": {
        "id": "AEX-PTm8gm8q"
      },
      "execution_count": null,
      "outputs": []
    },
    {
      "cell_type": "code",
      "source": [
        "response = query_engine.query(\"健康とストレスについて何が書かれていますか？\")"
      ],
      "metadata": {
        "id": "iuM5_WlCgByz"
      },
      "execution_count": null,
      "outputs": []
    },
    {
      "cell_type": "code",
      "source": [
        "print(response)"
      ],
      "metadata": {
        "colab": {
          "base_uri": "https://localhost:8080/"
        },
        "id": "oicifQ_agC4Y",
        "outputId": "c62abcd4-1b85-41eb-9e4a-b05550ae0067"
      },
      "execution_count": null,
      "outputs": [
        {
          "output_type": "stream",
          "name": "stdout",
          "text": [
            "The text discusses the importance of stress management for maintaining good health, emphasizing the need to identify the causes of stress and take appropriate measures. It also highlights the significance of quality sleep for physical and mental recovery, as well as the potential health issues associated with sleep deprivation or poor sleep quality. Additionally, it addresses the direct impact of nutrition on health and the essential role of balanced and diverse dietary intake. Furthermore, it emphasizes the necessity of moderate exercise for maintaining overall health and its benefits in promoting cardiovascular health, stress reduction, and weight management. Lastly, it mentions the positive effects of artistic and creative activities in reducing stress, regulating emotions, and promoting relaxation, as well as their potential use in art therapy for psychological issues and rehabilitation.\n"
          ]
        }
      ]
    },
    {
      "cell_type": "code",
      "source": [
        "print((response.source_nodes[0].node.get_text()))"
      ],
      "metadata": {
        "colab": {
          "base_uri": "https://localhost:8080/"
        },
        "id": "-3-4EdXVgD3d",
        "outputId": "a5985946-c636-456a-c1a6-3da893dedc00"
      },
      "execution_count": null,
      "outputs": [
        {
          "output_type": "stream",
          "name": "stdout",
          "text": [
            "切なストレスマネジメントが必要です。 ストレスの原因を特定し、 対策を講じることが重要\n",
            "です。リラックス法やストレス軽減のための活動（例：ヨガ、瞑想、散歩など） 、時間管理\n",
            "やプライオリティの設定、コミュニケーションスキルの向上などが有効なストレスマネジ\n",
            "メントの手法です。 健康なストレスマネジメントは心身のバランスを取り戻し、 健康な生活\n",
            "を実現するために重要です。  \n",
            " \n",
            "１８．健康と睡眠の重要性  \n",
            " \n",
            "良質な睡眠は健康にとって極めて重要 です。 十分な睡眠を確保することは、 身体と心の回復\n",
            "やリフレッシュに不可欠です。 睡眠不足や睡眠の質の低下は、 免疫機能の低下やメンタルヘ\n",
            "ルスの悪化、 集中力や注意力の低下などの健康問題を引き起こす可能性があります。 健康な\n",
            "睡眠のためには、 定期的な睡眠スケジュールの確立や快適な睡眠環境の整備、 リラックスす\n",
            "る習慣の導入などが重要です。また、適切な睡眠のためには、日中の活動や食事、運動など\n",
            "も考慮する必要があります。良質な睡眠を確保することで、健康な身体と心を維持し、日々\n",
            "の活動に充実感をもたらすことができます。  \n",
            " \n",
            "１９．健康 と栄養の関係  \n",
            " \n",
            "栄養は健康に直接的な影響を与える重要な要素です。バランスの取れた食事を摂取するこ\n",
            "とは、健康を維持するために不可欠です。食事は私たちの身体の燃料となり、成長や修復に\n",
            "必要な栄養素を提供します。健康的な食事は、ビタミン、ミネラル、たんぱく質、繊維など\n",
            "の栄養素をバランス良く摂取することを意味します。 また、 食事の多様性や適切なカロリー\n",
            "摂取も重要です。健康な食事の基本は、野菜や果物、全粒穀物、健康な脂肪、良質なタンパ\n",
            "ク質の摂取です。食事の栄養バランスに注意し、健康な身体と心をサポートしましょう。  \n",
            " \n",
            "２０．健康と適度な運動の意義  \n",
            " \n",
            "適度な運動は健康維持に不可欠です。 適度な運動を行うことは、 心臓や血管の健康を促進し、\n",
            "筋力や柔軟性を向上させるだけでなく、 ストレスの軽減や体重の管理にも役立ちます。\n"
          ]
        }
      ]
    },
    {
      "cell_type": "code",
      "source": [
        "# コンプライアンスのpdfの構造化データを読み込む\n",
        "storage_context = StorageContext.from_defaults(persist_dir=\"./storage/\")\n",
        "index = load_index_from_storage(storage_context)"
      ],
      "metadata": {
        "id": "xI3p5FpshYQe"
      },
      "execution_count": null,
      "outputs": []
    },
    {
      "cell_type": "code",
      "source": [
        "query_engine = index.as_query_engine()"
      ],
      "metadata": {
        "id": "RhRo-ZP9hYUs"
      },
      "execution_count": null,
      "outputs": []
    },
    {
      "cell_type": "code",
      "source": [
        "response = query_engine.query(\"健康とストレスについて何が書かれていますか？\")"
      ],
      "metadata": {
        "id": "9j7uim5khYYN"
      },
      "execution_count": null,
      "outputs": []
    },
    {
      "cell_type": "code",
      "source": [
        "print(response)"
      ],
      "metadata": {
        "colab": {
          "base_uri": "https://localhost:8080/"
        },
        "id": "zI-KjPjkgJth",
        "outputId": "43108bde-9aac-4095-83cd-fa810c5f6b16"
      },
      "execution_count": null,
      "outputs": [
        {
          "output_type": "stream",
          "name": "stdout",
          "text": [
            "健康とストレスについては、提供されたコンテキスト情報では何も書かれていません。\n"
          ]
        }
      ]
    },
    {
      "cell_type": "code",
      "source": [
        "print((response.source_nodes[0].node.get_text()))"
      ],
      "metadata": {
        "colab": {
          "base_uri": "https://localhost:8080/"
        },
        "id": "pbd5c7SrgK3H",
        "outputId": "8d0c21d7-c0b5-47a8-91cb-3c314624bbc2"
      },
      "execution_count": null,
      "outputs": [
        {
          "output_type": "stream",
          "name": "stdout",
          "text": [
            "サイバーセキュリティとコンプライアンス】 （ 500文字程度）  \n",
            "コンプライアンスとサイバーセキュリティは、デジタル時代のビジネスにおいて密接に関\n",
            "連しています。 この章では、 サイバーセキュリティとコンプライアンスの関係性に焦点を当\n",
            "てます。 サイバーセキュリティの重要性と最善のプラクティス、 セキュリティ対策とコンプ\n",
            "ライアンス要件の統 合、データの保護とセキュリティポリシーの策定などについて詳しく\n",
            "解説します。 読者はサイバーセキュリティとコンプライアンスを連携させ、 組織のデジタル\n",
            "アセットを保護するための手法を学ぶことができます。  \n",
            " \n",
            "【30. コンプライアンスと人権保護】 （ 500文字程度）  \n",
            "コンプライアンス活動は、 人権保護の観点からも重要な役割を果たしています。 この章では、\n"
          ]
        }
      ]
    },
    {
      "cell_type": "markdown",
      "source": [
        "# プロンプトを書き変える"
      ],
      "metadata": {
        "id": "qSSzo517gXbH"
      }
    },
    {
      "cell_type": "code",
      "source": [
        "from llama_index import PromptTemplate\n",
        "\n",
        "TEMPLATE = (\n",
        "    \"下記の情報が与えられています。 \\n\"\n",
        "    \"---------------------\\n\"\n",
        "    \"{context_str}\"\n",
        "    \"\\n---------------------\\n\"\n",
        "    \"この情報を参照して次の質問に答えてください: {query_str}\\n\"\n",
        ")\n",
        "PROMPT = PromptTemplate(TEMPLATE)"
      ],
      "metadata": {
        "id": "eAEq2OaqbYIj"
      },
      "execution_count": null,
      "outputs": []
    },
    {
      "cell_type": "code",
      "source": [
        "# 健康すべてのpdfの構造化データを読み込む\n",
        "storage_context = StorageContext.from_defaults(persist_dir=\"./health/\")\n",
        "index = load_index_from_storage(storage_context)"
      ],
      "metadata": {
        "id": "2LNqRKShk4hU"
      },
      "execution_count": null,
      "outputs": []
    },
    {
      "cell_type": "code",
      "source": [
        "query_engine = index.as_query_engine(text_qa_template=PROMPT)"
      ],
      "metadata": {
        "id": "geoxyOdNk3Pb"
      },
      "execution_count": null,
      "outputs": []
    },
    {
      "cell_type": "code",
      "source": [
        "response = query_engine.query(\"健康とストレスについて何が書かれていますか？\")"
      ],
      "metadata": {
        "id": "hIv1tl2hf2WX"
      },
      "execution_count": null,
      "outputs": []
    },
    {
      "cell_type": "code",
      "source": [
        "print(response)"
      ],
      "metadata": {
        "colab": {
          "base_uri": "https://localhost:8080/"
        },
        "id": "M2S9vP3xk59Z",
        "outputId": "3a947f37-2e2e-4f44-f069-6b5669fa0dce"
      },
      "execution_count": null,
      "outputs": [
        {
          "output_type": "stream",
          "name": "stdout",
          "text": [
            "健康とストレスについては、以下のような内容が書かれています。\n",
            "\n",
            "- ストレスの原因を特定し、対策を講じることが重要であり、リラックス法やストレス軽減のための活動、時間管理やプライオリティの設定、コミュニケーションスキルの向上などが有効なストレスマネジメントの手法である。\n",
            "- 健康なストレスマネジメントは心身のバランスを取り戻し、健康な生活を実現するために重要である。\n",
            "- ストレスは健康に悪影響を与える要因の一つであり、過度のストレスや長期的なストレスは身体的な症状や心理的な問題を引き起こす可能性がある。\n"
          ]
        }
      ]
    },
    {
      "cell_type": "code",
      "source": [
        "TEMPLATE = (\n",
        "    \"下記の情報が与えられています。 \\n\"\n",
        "    \"---------------------\\n\"\n",
        "    \"{context_str}\"\n",
        "    \"\\n---------------------\\n\"\n",
        "    \"次の質問に答えてください: {query_str}\\n 出力は箇条書きで書いてください\"\n",
        ")\n",
        "PROMPT = PromptTemplate(TEMPLATE)\n",
        "\n",
        "query_engine = index.as_query_engine(text_qa_template=PROMPT)"
      ],
      "metadata": {
        "id": "LQeDg-Xmmqoy"
      },
      "execution_count": null,
      "outputs": []
    },
    {
      "cell_type": "code",
      "source": [
        "response = query_engine.query(\"健康とストレスについて何が書かれていますか？\")\n",
        "print(response)"
      ],
      "metadata": {
        "id": "8oXUjQSqmr8B",
        "colab": {
          "base_uri": "https://localhost:8080/"
        },
        "outputId": "07a4db17-9e7f-4b93-dcad-f5ee059fe804"
      },
      "execution_count": null,
      "outputs": [
        {
          "output_type": "stream",
          "name": "stdout",
          "text": [
            "- ストレスの原因を特定し、対策を講じることが重要\n",
            "- リラックス法やストレス軽減のための活動が有効なストレスマネジメントの手法\n",
            "- 健康なストレスマネジメントは心身のバランスを取り戻し、健康な生活を実現するために重要\n",
            "- 良質な睡眠の重要性\n",
            "- 十分な睡眠を確保することは身体と心の回復やリフレッシュに不可欠\n",
            "- 睡眠不足や睡眠の質の低下は健康問題を引き起こす可能性がある\n",
            "- 健康な睡眠のためには定期的な睡眠スケジュールや快適な睡眠環境の整備、リラックスする習慣が重要\n",
            "- 適切な睡眠のためには日中の活動や食事、運動も考慮する必要がある\n",
            "- 栄養は健康に直接的な影響を与える重要な要素\n",
            "- バランスの取れた食事を摂取することは健康を維持するために不可欠\n",
            "- 健康的な食事は栄養素をバランス良く摂取することを意味し、食事の多様性や適切なカロリー摂取も重要\n",
            "- 適度な運動は健康維持に不可欠であり、心臓や血管の健康を促進し、ストレスの軽減や体重の管理にも役立つ\n",
            "- 芸術的な表現やクリエイティブな活動によってストレスの軽減や感情の調整、心身のリラックスを促す効果がある\n",
            "- アートセラピーとしても活用され、心理的な問題やリハビリテーションにも効果的なアプローチとなる\n",
            "- アートやクリエイティビティを通じて自己表現や創造性を育むことは健康な生活を促進し、心の豊かさをもたらすことができる\n",
            "- 過度のストレスや長期的なストレスは身体的な症状や心理的な問題を引き起こす可能性がある\n",
            "- 健康を維持するためには適切なストレスマネジメントが必要\n"
          ]
        }
      ]
    },
    {
      "cell_type": "code",
      "source": [],
      "metadata": {
        "id": "8obR1qr-OFMY"
      },
      "execution_count": null,
      "outputs": []
    }
  ]
}