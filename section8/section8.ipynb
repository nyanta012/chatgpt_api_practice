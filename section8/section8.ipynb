{
  "nbformat": 4,
  "nbformat_minor": 0,
  "metadata": {
    "colab": {
      "provenance": [],
      "authorship_tag": "ABX9TyO3DNmXraC6DvajV+xATRRs",
      "include_colab_link": true
    },
    "kernelspec": {
      "name": "python3",
      "display_name": "Python 3"
    },
    "language_info": {
      "name": "python"
    }
  },
  "cells": [
    {
      "cell_type": "markdown",
      "metadata": {
        "id": "view-in-github",
        "colab_type": "text"
      },
      "source": [
        "<a href=\"https://colab.research.google.com/github/nyanta012/chatgpt_api_practice/blob/main/section8/section8.ipynb\" target=\"_parent\"><img src=\"https://colab.research.google.com/assets/colab-badge.svg\" alt=\"Open In Colab\"/></a>"
      ]
    },
    {
      "cell_type": "markdown",
      "source": [
        "# Google Colaboratoryのショートカットキー\n",
        "1. **現在のセルを実行し、次のセルを選択**: `Shift + Enter`\n",
        "2. **コードセルをテキストセルにする**: `Ctrl + M M`\n",
        "3. **コードセルを上に追加**: `Ctrl + M A`\n",
        "4. **コードセルを下に追加**: `Ctrl + M B`\n",
        "5. **セルの削除**: `Ctrl + M D`"
      ],
      "metadata": {
        "id": "R2OtL4NSkqAB"
      }
    },
    {
      "cell_type": "code",
      "source": [],
      "metadata": {
        "id": "-0HkeQygkwGl"
      },
      "execution_count": null,
      "outputs": []
    },
    {
      "cell_type": "code",
      "source": [],
      "metadata": {
        "id": "vyFQPNfEk2s3"
      },
      "execution_count": null,
      "outputs": []
    },
    {
      "cell_type": "markdown",
      "source": [
        "# API KEYの設定など"
      ],
      "metadata": {
        "id": "6WN7SzHtkwKe"
      }
    },
    {
      "cell_type": "code",
      "source": [
        "%%capture\n",
        "!pip install openai==0.27.2\n",
        "!pip install llama-index==0.8.39.post2 langchain==0.0.308\n",
        "!wget https://github.com/nyanta012/chatgpt_api_practice/raw/main/pdf/コンプライアンスのすべて.pdf\n",
        "!wget https://github.com/nyanta012/chatgpt_api_practice/raw/main/pdf/健康のすべて.pdf"
      ],
      "metadata": {
        "id": "9pzisJGwa6a0"
      },
      "execution_count": 1,
      "outputs": []
    },
    {
      "cell_type": "code",
      "execution_count": 2,
      "metadata": {
        "id": "y86N_W7MauF6",
        "colab": {
          "base_uri": "https://localhost:8080/"
        },
        "outputId": "350dc4fe-0644-4c41-98ae-994522449fe5"
      },
      "outputs": [
        {
          "name": "stdout",
          "output_type": "stream",
          "text": [
            "OpenAIのAPIキーを入力してください··········\n"
          ]
        }
      ],
      "source": [
        "import getpass\n",
        "import json\n",
        "import os\n",
        "from pathlib import Path\n",
        "\n",
        "import openai\n",
        "from IPython.display import Markdown, display\n",
        "from langchain.chat_models import ChatOpenAI\n",
        "from llama_index import (GPTVectorStoreIndex, LLMPredictor, ServiceContext,\n",
        "                         StorageContext, VectorStoreIndex, download_loader,\n",
        "                         load_index_from_storage)\n",
        "\n",
        "apikey = getpass.getpass(prompt=\"OpenAIのAPIキーを入力してください\")\n",
        "os.environ[\"OPENAI_API_KEY\"] = apikey # llama indexは環境変数じゃないとエラーがでる？\n",
        "openai.api_key = apikey"
      ]
    },
    {
      "cell_type": "code",
      "source": [
        "PDFReader = download_loader(\"PDFReader\")\n",
        "\n",
        "loader = PDFReader()\n",
        "documents = loader.load_data(file=Path(\"コンプライアンスのすべて.pdf\"))"
      ],
      "metadata": {
        "id": "OfEbGiSMXDT8"
      },
      "execution_count": 3,
      "outputs": []
    },
    {
      "cell_type": "code",
      "source": [
        "service_context = ServiceContext.from_defaults(\n",
        "    llm_predictor=LLMPredictor(\n",
        "        llm=ChatOpenAI(model_name=\"gpt-3.5-turbo-0613\", temperature=0)\n",
        "    )\n",
        ")"
      ],
      "metadata": {
        "id": "sNZbBxlobDQo",
        "outputId": "c6fcd557-a45e-4c16-c0e5-02c49c847e0e",
        "colab": {
          "base_uri": "https://localhost:8080/"
        }
      },
      "execution_count": 4,
      "outputs": [
        {
          "output_type": "stream",
          "name": "stderr",
          "text": [
            "[nltk_data] Downloading package punkt to /tmp/llama_index...\n",
            "[nltk_data]   Unzipping tokenizers/punkt.zip.\n"
          ]
        }
      ]
    },
    {
      "cell_type": "code",
      "source": [
        "# indexを作成\n",
        "index = VectorStoreIndex.from_documents(documents, service_context=service_context)\n",
        "index.storage_context.persist(persist_dir=\"./storage/\")"
      ],
      "metadata": {
        "id": "hYgvpS6rbDUH"
      },
      "execution_count": 5,
      "outputs": []
    },
    {
      "cell_type": "code",
      "source": [
        "query_engine = index.as_query_engine()"
      ],
      "metadata": {
        "id": "tJQ9vBgKbDXb"
      },
      "execution_count": 6,
      "outputs": []
    },
    {
      "cell_type": "code",
      "source": [
        "response = query_engine.query(\"AIとコンプライアンスについて教えて\")"
      ],
      "metadata": {
        "id": "U5abgJO1bDac"
      },
      "execution_count": 7,
      "outputs": []
    },
    {
      "cell_type": "code",
      "source": [
        "print(response)"
      ],
      "metadata": {
        "colab": {
          "base_uri": "https://localhost:8080/"
        },
        "id": "zmBSbhvSbgaR",
        "outputId": "f966a797-7ac7-4549-979b-634938483ed9"
      },
      "execution_count": 8,
      "outputs": [
        {
          "output_type": "stream",
          "name": "stdout",
          "text": [
            "AIとコンプライアンスには、いくつかの関連性があります。AIは、コンプライアンス活動において自動化や洞察力の向上をもたらすことが期待されています。具体的には、AIを使用してリスク評価や予測を行ったり、自動監視やデータ分析を行ったりすることができます。また、AIの倫理や透明性についても考慮する必要があります。AIを活用することで、コンプライアンス活動を効率化し、洞察力やリスク管理能力を向上させることができます。\n"
          ]
        }
      ]
    },
    {
      "cell_type": "code",
      "source": [
        "print((response.source_nodes[0].node.get_text()))"
      ],
      "metadata": {
        "colab": {
          "base_uri": "https://localhost:8080/"
        },
        "id": "AOr7aRxMXK0K",
        "outputId": "9cafa7b3-b353-497a-8a7a-ab9d6bbe6a6d"
      },
      "execution_count": 9,
      "outputs": [
        {
          "output_type": "stream",
          "name": "stdout",
          "text": [
            "【35. コンプライアンスとクラウドコンピューティング】 （ 500文字程度）  \n",
            "クラウドコンピューティングの普及により、データ保護とコンプライアンスの課題が浮上\n",
            "しています。 この章では、 コンプライアンスとクラウドコンピューティングの関連性につい\n",
            "て詳しく解説します。 データの保護とプライバシー確保、 クラウドプロバイダとの契約と監\n",
            "査、データの移転と適法性の確保などに関する具体的なアドバイスやベストプラクティス\n",
            "を紹介します。読者はクラウドコンピューティングの活用とコンプライアンス要件の両立\n",
            "を図り、安全かつ法的に適合したクラウド環境を構築するための手法を学ぶことができま\n",
            "す。  \n",
            " \n",
            "【36. コンプライアンスと人工知能（ AI） 】 （ 500文字程度）  \n",
            "人工知能（ AI）の発展により、コンプライアンス活動における自動化や洞察力の向上が期待\n",
            "されています。 この章では、 コンプライアンスと人工知能の関連性に焦点を当てます。 AIに\n",
            "よるリスク評価と予測、自動監視とデータ分析、 AIの倫理と透明性などについて詳しく解\n",
            "説します。また、 AIの活用に伴う課題やリスク、人間と AIの役割分担に関する考察も取り\n",
            "上げます。 読者は人工知能を活用してコンプライアンス活動を効率化し、 洞察力とリスク管\n",
            "理能力を向上させるための手法を学ぶこ とができます。  \n",
            " \n",
            "【37.\n"
          ]
        }
      ]
    },
    {
      "cell_type": "code",
      "source": [
        "response = query_engine.query(\"猫について教えてください\")"
      ],
      "metadata": {
        "id": "7kI8z1-ebNbc"
      },
      "execution_count": 10,
      "outputs": []
    },
    {
      "cell_type": "code",
      "source": [
        "print(response)"
      ],
      "metadata": {
        "id": "Lf5c7RckbNeQ",
        "colab": {
          "base_uri": "https://localhost:8080/"
        },
        "outputId": "e8690d46-876e-4ba0-a0e1-6af255431511"
      },
      "execution_count": 11,
      "outputs": [
        {
          "output_type": "stream",
          "name": "stdout",
          "text": [
            "I'm sorry, but I don't have any information about cats based on the given context.\n"
          ]
        }
      ]
    },
    {
      "cell_type": "code",
      "source": [],
      "metadata": {
        "id": "6EO_GKjBbfdr"
      },
      "execution_count": null,
      "outputs": []
    },
    {
      "cell_type": "code",
      "source": [],
      "metadata": {
        "id": "jiP1OKltbfgW"
      },
      "execution_count": null,
      "outputs": []
    },
    {
      "cell_type": "code",
      "source": [],
      "metadata": {
        "id": "1ExR9-krbNjL"
      },
      "execution_count": null,
      "outputs": []
    },
    {
      "cell_type": "code",
      "source": [],
      "metadata": {
        "id": "GYxbjSccXMR9"
      },
      "execution_count": null,
      "outputs": []
    },
    {
      "cell_type": "code",
      "source": [],
      "metadata": {
        "id": "Qs2_NLn7bV5j"
      },
      "execution_count": null,
      "outputs": []
    },
    {
      "cell_type": "code",
      "source": [],
      "metadata": {
        "id": "rrdOeeMEbV81"
      },
      "execution_count": null,
      "outputs": []
    },
    {
      "cell_type": "code",
      "source": [],
      "metadata": {
        "id": "oyMVbKSIbV_5"
      },
      "execution_count": null,
      "outputs": []
    },
    {
      "cell_type": "code",
      "source": [],
      "metadata": {
        "id": "XPuFidFDbepn"
      },
      "execution_count": null,
      "outputs": []
    },
    {
      "cell_type": "code",
      "source": [],
      "metadata": {
        "id": "1M_XH14HbetQ"
      },
      "execution_count": null,
      "outputs": []
    },
    {
      "cell_type": "code",
      "source": [],
      "metadata": {
        "id": "Vmm0DPzRbewm"
      },
      "execution_count": null,
      "outputs": []
    },
    {
      "cell_type": "code",
      "source": [],
      "metadata": {
        "id": "e1guh6xIbez0"
      },
      "execution_count": null,
      "outputs": []
    },
    {
      "cell_type": "code",
      "source": [],
      "metadata": {
        "id": "LqRsEHIbbe3n"
      },
      "execution_count": null,
      "outputs": []
    },
    {
      "cell_type": "markdown",
      "source": [
        "# 一度index化して保存すると再度読み込むことが可能"
      ],
      "metadata": {
        "id": "bguwCQm_bWCd"
      }
    },
    {
      "cell_type": "markdown",
      "source": [
        "別のpdfを読み込んでみる"
      ],
      "metadata": {
        "id": "c_-8EWkvdPfj"
      }
    },
    {
      "cell_type": "code",
      "source": [
        "PDFReader = download_loader(\"PDFReader\")\n",
        "\n",
        "loader = PDFReader()\n",
        "documents = loader.load_data(file=Path(\"健康のすべて.pdf\"))"
      ],
      "metadata": {
        "id": "uK-meFwVglQk"
      },
      "execution_count": 12,
      "outputs": []
    },
    {
      "cell_type": "code",
      "source": [
        "service_context = ServiceContext.from_defaults(\n",
        "    llm_predictor=LLMPredictor(\n",
        "        llm=ChatOpenAI(model_name=\"gpt-3.5-turbo-0613\", temperature=0)\n",
        "    )\n",
        ")\n",
        "\n",
        "# indexを作成\n",
        "index = VectorStoreIndex.from_documents(documents, service_context=service_context)\n",
        "index.storage_context.persist(persist_dir=\"./health/\")"
      ],
      "metadata": {
        "id": "QLgKd2o5gmOp"
      },
      "execution_count": 13,
      "outputs": []
    },
    {
      "cell_type": "code",
      "source": [
        "query_engine = index.as_query_engine()"
      ],
      "metadata": {
        "id": "AEX-PTm8gm8q"
      },
      "execution_count": 14,
      "outputs": []
    },
    {
      "cell_type": "code",
      "source": [
        "response = query_engine.query(\"健康とストレスについて何が書かれていますか？\")"
      ],
      "metadata": {
        "id": "iuM5_WlCgByz"
      },
      "execution_count": 15,
      "outputs": []
    },
    {
      "cell_type": "code",
      "source": [
        "print(response)"
      ],
      "metadata": {
        "colab": {
          "base_uri": "https://localhost:8080/"
        },
        "id": "oicifQ_agC4Y",
        "outputId": "d323a900-b408-4012-eb8e-185cecd467ea"
      },
      "execution_count": 16,
      "outputs": [
        {
          "output_type": "stream",
          "name": "stdout",
          "text": [
            "ストレスは健康に悪影響を与える要因の一つであり、過度のストレスや長期的なストレスは身体的な症状や心理的な問題を引き起こす可能性があります。健康を維持するためには、適切なストレスマネジメントが必要であり、ストレスの原因を特定し、対策を講じることが重要です。リラックス法やストレス軽減のための活動、時間管理やプライオリティの設定、コミュニケーションスキルの向上などが有効なストレスマネジメントの手法とされています。健康なストレスマネジメントは心身のバランスを取り戻し、健康な生活を実現するために重要です。\n"
          ]
        }
      ]
    },
    {
      "cell_type": "code",
      "source": [
        "print((response.source_nodes[0].node.get_text()))"
      ],
      "metadata": {
        "colab": {
          "base_uri": "https://localhost:8080/"
        },
        "id": "-3-4EdXVgD3d",
        "outputId": "1a25235d-acef-45c3-d07a-faed39f0d589"
      },
      "execution_count": 17,
      "outputs": [
        {
          "output_type": "stream",
          "name": "stdout",
          "text": [
            "切なストレスマネジメントが必要です。 ストレスの原因を特定し、 対策を講じることが重要\n",
            "です。リラックス法やストレス軽減のための活動（例：ヨガ、瞑想、散歩など） 、時間管理\n",
            "やプライオリティの設定、コミュニケーションスキルの向上などが有効なストレスマネジ\n",
            "メントの手法です。 健康なストレスマネジメントは心身のバランスを取り戻し、 健康な生活\n",
            "を実現するために重要です。  \n",
            " \n",
            "１８．健康と睡眠の重要性  \n",
            " \n",
            "良質な睡眠は健康にとって極めて重要 です。 十分な睡眠を確保することは、 身体と心の回復\n",
            "やリフレッシュに不可欠です。 睡眠不足や睡眠の質の低下は、 免疫機能の低下やメンタルヘ\n",
            "ルスの悪化、 集中力や注意力の低下などの健康問題を引き起こす可能性があります。 健康な\n",
            "睡眠のためには、 定期的な睡眠スケジュールの確立や快適な睡眠環境の整備、 リラックスす\n",
            "る習慣の導入などが重要です。また、適切な睡眠のためには、日中の活動や食事、運動など\n",
            "も考慮する必要があります。良質な睡眠を確保することで、健康な身体と心を維持し、日々\n",
            "の活動に充実感をもたらすことができます。  \n",
            " \n",
            "１９．健康 と栄養の関係  \n",
            " \n",
            "栄養は健康に直接的な影響を与える重要な要素です。バランスの取れた食事を摂取するこ\n",
            "とは、健康を維持するために不可欠です。食事は私たちの身体の燃料となり、成長や修復に\n",
            "必要な栄養素を提供します。健康的な食事は、ビタミン、ミネラル、たんぱく質、繊維など\n",
            "の栄養素をバランス良く摂取することを意味します。\n"
          ]
        }
      ]
    },
    {
      "cell_type": "code",
      "source": [],
      "metadata": {
        "id": "gOrdEQsLhYFE"
      },
      "execution_count": 17,
      "outputs": []
    },
    {
      "cell_type": "code",
      "source": [],
      "metadata": {
        "id": "zvZLPjDviDPm"
      },
      "execution_count": 17,
      "outputs": []
    },
    {
      "cell_type": "code",
      "source": [],
      "metadata": {
        "id": "_2x5R4kUXVo-"
      },
      "execution_count": null,
      "outputs": []
    },
    {
      "cell_type": "code",
      "source": [],
      "metadata": {
        "id": "y_v7ClfFXV1q"
      },
      "execution_count": null,
      "outputs": []
    },
    {
      "cell_type": "code",
      "source": [
        "# コンプライアンスのpdfの構造化データを読み込む\n",
        "storage_context = StorageContext.from_defaults(persist_dir=\"./storage/\")\n",
        "index = load_index_from_storage(storage_context)"
      ],
      "metadata": {
        "id": "xI3p5FpshYQe"
      },
      "execution_count": 18,
      "outputs": []
    },
    {
      "cell_type": "code",
      "source": [
        "query_engine = index.as_query_engine()"
      ],
      "metadata": {
        "id": "RhRo-ZP9hYUs"
      },
      "execution_count": 19,
      "outputs": []
    },
    {
      "cell_type": "code",
      "source": [
        "response = query_engine.query(\"健康とストレスについて何が書かれていますか？\")"
      ],
      "metadata": {
        "id": "9j7uim5khYYN"
      },
      "execution_count": 20,
      "outputs": []
    },
    {
      "cell_type": "code",
      "source": [
        "print(response)"
      ],
      "metadata": {
        "colab": {
          "base_uri": "https://localhost:8080/"
        },
        "id": "zI-KjPjkgJth",
        "outputId": "62341f5c-2067-4b4a-d7e0-6d54bab6b5db"
      },
      "execution_count": 21,
      "outputs": [
        {
          "output_type": "stream",
          "name": "stdout",
          "text": [
            "健康とストレスについては、提供された文書の中では何も書かれていません。\n"
          ]
        }
      ]
    },
    {
      "cell_type": "code",
      "source": [
        "print((response.source_nodes[0].node.get_text()))"
      ],
      "metadata": {
        "colab": {
          "base_uri": "https://localhost:8080/"
        },
        "id": "pbd5c7SrgK3H",
        "outputId": "be00bd41-80ee-470f-c028-966f1717ebac"
      },
      "execution_count": 22,
      "outputs": [
        {
          "output_type": "stream",
          "name": "stdout",
          "text": [
            "護とプライバシーの確保、エレクトロニックコンプライアンスツールの導入などに関する\n",
            "具体的なアドバイスや課題を取り上げます。読者はデジタルトランスフォーメーションと\n",
            "コンプライアンスの 融合に向けた戦略を学び、組織の競争力と遵守の両立を図ることがで\n",
            "きます。  \n",
            " \n",
            "【22. インシデント管理とレスポンス】 （ 500文字程度）  \n",
            "コンプライアンス違反やセキュリティインシデントが発生した場合、適切なインシデント\n",
            "管理とレスポンスが求められます。 この章では、 インシデント管理プロセスの構築と効果的\n",
            "なレスポンスについて詳しく解説します。インシデントの検知と報告、対応計画の策定、情\n",
            "報の収集と分析、 修復措置の実施、 外部への報告手続きなどに関するベストプラクティスを\n",
            "紹介します。 読者はインシデント管理とレスポンス能力を 高め、 迅速かつ適切な対応を行う\n",
            "ためのガイドラインを学ぶことができます。  \n",
            " \n",
            "【23. コンプライアンスとエシックスの融合】 （ 500文字程度）  \n",
            "コンプライアンスとエシックス（倫理）は密接に関連しており、組織の持続可能性と信頼性\n",
            "を確保するためには両者の融合が重要です。 この章では、 コンプライアンスとエシックスの\n",
            "関係性について探求します。エシックスの概念と原則、組織文化とエシックスの関連、エシ\n",
            "カルリーダーシップの重要性などについて詳しく解説します。 また、 コンプライアンスとエ\n",
            "シックスの統合を実現するための手法や成功事例 を紹介します。読者はコンプライアンス\n",
            "とエシックスを組み合わせることで、 組織全体の倫理的な行動を促進し、 リスクを軽減する\n",
            "手段を学ぶことができます。  \n",
            " \n",
            "【24.\n"
          ]
        }
      ]
    },
    {
      "cell_type": "code",
      "source": [],
      "metadata": {
        "id": "1BIQrBMSYva1"
      },
      "execution_count": null,
      "outputs": []
    },
    {
      "cell_type": "code",
      "source": [],
      "metadata": {
        "id": "Bm0QC4yehnUw"
      },
      "execution_count": null,
      "outputs": []
    },
    {
      "cell_type": "code",
      "source": [],
      "metadata": {
        "id": "aaK3e7NthnX-"
      },
      "execution_count": null,
      "outputs": []
    },
    {
      "cell_type": "code",
      "source": [],
      "metadata": {
        "id": "CLl5pYqThnbD"
      },
      "execution_count": null,
      "outputs": []
    },
    {
      "cell_type": "code",
      "source": [],
      "metadata": {
        "id": "ysQmPfQkiJm9"
      },
      "execution_count": null,
      "outputs": []
    },
    {
      "cell_type": "code",
      "source": [],
      "metadata": {
        "id": "ObmMaqd4iJuA"
      },
      "execution_count": null,
      "outputs": []
    },
    {
      "cell_type": "code",
      "source": [],
      "metadata": {
        "id": "aW4gUktrgXFi"
      },
      "execution_count": null,
      "outputs": []
    },
    {
      "cell_type": "code",
      "source": [],
      "metadata": {
        "id": "uSDrjtj5gXJO"
      },
      "execution_count": null,
      "outputs": []
    },
    {
      "cell_type": "code",
      "source": [],
      "metadata": {
        "id": "ESmWRcSRgXMR"
      },
      "execution_count": null,
      "outputs": []
    },
    {
      "cell_type": "markdown",
      "source": [
        "# プロンプトを書き変える"
      ],
      "metadata": {
        "id": "qSSzo517gXbH"
      }
    },
    {
      "cell_type": "code",
      "source": [
        "from llama_index import QuestionAnswerPrompt\n",
        "\n",
        "PROMPT_TEMPLATE = (\n",
        "    \"下記の情報が与えられています。 \\n\"\n",
        "    \"---------------------\\n\"\n",
        "    \"{context_str}\"\n",
        "    \"\\n---------------------\\n\"\n",
        "    \"この情報を参照して次の質問に答えてください: {query_str}\\n\"\n",
        ")\n",
        "PROMPT = QuestionAnswerPrompt(PROMPT_TEMPLATE)"
      ],
      "metadata": {
        "id": "eAEq2OaqbYIj"
      },
      "execution_count": 23,
      "outputs": []
    },
    {
      "cell_type": "code",
      "source": [
        "# 健康すべてのpdfの構造化データを読み込む\n",
        "storage_context = StorageContext.from_defaults(persist_dir=\"./health/\")\n",
        "index = load_index_from_storage(storage_context)"
      ],
      "metadata": {
        "id": "2LNqRKShk4hU"
      },
      "execution_count": 24,
      "outputs": []
    },
    {
      "cell_type": "code",
      "source": [
        "query_engine = index.as_query_engine(text_qa_template=PROMPT)"
      ],
      "metadata": {
        "id": "geoxyOdNk3Pb"
      },
      "execution_count": 25,
      "outputs": []
    },
    {
      "cell_type": "code",
      "source": [
        "response = query_engine.query(\"健康とストレスについて何が書かれていますか？\")"
      ],
      "metadata": {
        "id": "hIv1tl2hf2WX"
      },
      "execution_count": 26,
      "outputs": []
    },
    {
      "cell_type": "code",
      "source": [
        "print(response)"
      ],
      "metadata": {
        "colab": {
          "base_uri": "https://localhost:8080/"
        },
        "id": "M2S9vP3xk59Z",
        "outputId": "a0d41e67-0c49-45d5-937c-e18a66cad022"
      },
      "execution_count": 27,
      "outputs": [
        {
          "output_type": "stream",
          "name": "stdout",
          "text": [
            "健康とストレスについては、以下のような内容が書かれています。\n",
            "\n",
            "- ストレスの原因を特定し、対策を講じることが重要であり、リラックス法やストレス軽減のための活動、時間管理やプライオリティの設定、コミュニケーションスキルの向上などが有効なストレスマネジメントの手法である。\n",
            "- 健康なストレスマネジメントは心身のバランスを取り戻し、健康な生活を実現するために重要である。\n",
            "- 過度のストレスや長期的なストレスは身体的な症状や心理的な問題を引き起こす可能性があり、健康を維持するためには適切なストレスマネジメントが必要である。\n"
          ]
        }
      ]
    },
    {
      "cell_type": "code",
      "source": [
        "PROMPT_TEMPLATE = (\n",
        "    \"下記の情報が与えられています。 \\n\"\n",
        "    \"---------------------\\n\"\n",
        "    \"{context_str}\"\n",
        "    \"\\n---------------------\\n\"\n",
        "    \"次の質問に答えてください: {query_str}\\n 出力は箇条書きで書いてください\"\n",
        ")\n",
        "PROMPT = QuestionAnswerPrompt(PROMPT_TEMPLATE)\n",
        "\n",
        "query_engine = index.as_query_engine(text_qa_template=PROMPT)"
      ],
      "metadata": {
        "id": "LQeDg-Xmmqoy"
      },
      "execution_count": 28,
      "outputs": []
    },
    {
      "cell_type": "code",
      "source": [
        "response = query_engine.query(\"健康とストレスについて何が書かれていますか？\")\n",
        "print(response)"
      ],
      "metadata": {
        "colab": {
          "base_uri": "https://localhost:8080/"
        },
        "id": "8oXUjQSqmr8B",
        "outputId": "59765434-f83f-4e12-de3b-5e5254e803d5"
      },
      "execution_count": 29,
      "outputs": [
        {
          "output_type": "stream",
          "name": "stdout",
          "text": [
            "- ストレスの原因を特定し、対策を講じることが重要\n",
            "- リラックス法やストレス軽減のための活動（例：ヨガ、瞑想、散歩など）\n",
            "- 時間管理やプライオリティの設定、コミュニケーションスキルの向上などが有効なストレスマネジメントの手法\n",
            "- 健康なストレスマネジメントは心身のバランスを取り戻し、健康な生活を実現するために重要\n"
          ]
        }
      ]
    },
    {
      "cell_type": "code",
      "source": [],
      "metadata": {
        "id": "oLvZyD3df16w"
      },
      "execution_count": null,
      "outputs": []
    },
    {
      "cell_type": "code",
      "source": [],
      "metadata": {
        "id": "Dn09ZDvGbYRr"
      },
      "execution_count": null,
      "outputs": []
    },
    {
      "cell_type": "code",
      "source": [],
      "metadata": {
        "id": "HnJUToRqbYUe"
      },
      "execution_count": null,
      "outputs": []
    },
    {
      "cell_type": "code",
      "source": [],
      "metadata": {
        "id": "Kjl_GVUYbYXh"
      },
      "execution_count": null,
      "outputs": []
    }
  ]
}