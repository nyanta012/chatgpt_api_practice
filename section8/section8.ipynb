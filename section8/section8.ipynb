{
  "nbformat": 4,
  "nbformat_minor": 0,
  "metadata": {
    "colab": {
      "provenance": [],
      "authorship_tag": "ABX9TyOnYHQ7nzYQIDM1L0leFqzq",
      "include_colab_link": true
    },
    "kernelspec": {
      "name": "python3",
      "display_name": "Python 3"
    },
    "language_info": {
      "name": "python"
    }
  },
  "cells": [
    {
      "cell_type": "markdown",
      "metadata": {
        "id": "view-in-github",
        "colab_type": "text"
      },
      "source": [
        "<a href=\"https://colab.research.google.com/github/nyanta012/chatgpt_api_practice/blob/main/section8/section8.ipynb\" target=\"_parent\"><img src=\"https://colab.research.google.com/assets/colab-badge.svg\" alt=\"Open In Colab\"/></a>"
      ]
    },
    {
      "cell_type": "markdown",
      "source": [
        "# Google Colaboratoryのショートカットキー\n",
        "1. **現在のセルを実行し、次のセルを選択**: `Shift + Enter`\n",
        "2. **コードセルをテキストセルにする**: `Ctrl + M M`\n",
        "3. **コードセルを上に追加**: `Ctrl + M A`\n",
        "4. **コードセルを下に追加**: `Ctrl + M B`\n",
        "5. **セルの削除**: `Ctrl + M D`"
      ],
      "metadata": {
        "id": "R2OtL4NSkqAB"
      }
    },
    {
      "cell_type": "code",
      "source": [],
      "metadata": {
        "id": "-0HkeQygkwGl"
      },
      "execution_count": null,
      "outputs": []
    },
    {
      "cell_type": "code",
      "source": [],
      "metadata": {
        "id": "vyFQPNfEk2s3"
      },
      "execution_count": null,
      "outputs": []
    },
    {
      "cell_type": "markdown",
      "source": [
        "# API KEYの設定など"
      ],
      "metadata": {
        "id": "6WN7SzHtkwKe"
      }
    },
    {
      "cell_type": "code",
      "source": [
        "%%capture\n",
        "!pip install openai==0.27.2\n",
        "!pip install llama-index==0.6.26\n",
        "!wget https://github.com/nyanta012/chatgpt_api_practice/raw/main/pdf/コンプライアンスのすべて.pdf\n",
        "!wget https://github.com/nyanta012/chatgpt_api_practice/raw/main/pdf/健康のすべて.pdf"
      ],
      "metadata": {
        "id": "9pzisJGwa6a0"
      },
      "execution_count": null,
      "outputs": []
    },
    {
      "cell_type": "code",
      "execution_count": null,
      "metadata": {
        "id": "y86N_W7MauF6",
        "colab": {
          "base_uri": "https://localhost:8080/"
        },
        "outputId": "9a5adcf7-692f-42d2-afc4-756211552ba7"
      },
      "outputs": [
        {
          "name": "stdout",
          "output_type": "stream",
          "text": [
            "OpenAIのAPIキーを入力してください··········\n"
          ]
        }
      ],
      "source": [
        "import getpass\n",
        "import json\n",
        "import os\n",
        "from pathlib import Path\n",
        "\n",
        "import openai\n",
        "from IPython.display import Markdown, display\n",
        "from langchain.chat_models import ChatOpenAI\n",
        "from llama_index import (GPTVectorStoreIndex, LLMPredictor, ServiceContext,\n",
        "                         StorageContext, VectorStoreIndex, download_loader,\n",
        "                         load_index_from_storage)\n",
        "\n",
        "apikey = getpass.getpass(prompt=\"OpenAIのAPIキーを入力してください\")\n",
        "os.environ[\"OPENAI_API_KEY\"] = apikey # llama indexは環境変数じゃないとエラーがでる？\n",
        "openai.api_key = apikey"
      ]
    },
    {
      "cell_type": "code",
      "source": [
        "PDFReader = download_loader(\"PDFReader\")\n",
        "\n",
        "loader = PDFReader()\n",
        "documents = loader.load_data(file=Path(\"コンプライアンスのすべて.pdf\"))"
      ],
      "metadata": {
        "id": "OfEbGiSMXDT8"
      },
      "execution_count": null,
      "outputs": []
    },
    {
      "cell_type": "code",
      "source": [
        "service_context = ServiceContext.from_defaults(\n",
        "    llm_predictor=LLMPredictor(\n",
        "        llm=ChatOpenAI(model_name=\"gpt-3.5-turbo\", temperature=0)\n",
        "    )\n",
        ")"
      ],
      "metadata": {
        "id": "sNZbBxlobDQo"
      },
      "execution_count": null,
      "outputs": []
    },
    {
      "cell_type": "code",
      "source": [
        "# indexを作成\n",
        "index = VectorStoreIndex.from_documents(documents, service_context=service_context)\n",
        "index.storage_context.persist(persist_dir=\"./storage/\")"
      ],
      "metadata": {
        "id": "hYgvpS6rbDUH"
      },
      "execution_count": null,
      "outputs": []
    },
    {
      "cell_type": "code",
      "source": [
        "query_engine = index.as_query_engine()"
      ],
      "metadata": {
        "id": "tJQ9vBgKbDXb"
      },
      "execution_count": null,
      "outputs": []
    },
    {
      "cell_type": "code",
      "source": [
        "response = query_engine.query(\"AIとコンプライアンスについて教えて\")"
      ],
      "metadata": {
        "id": "U5abgJO1bDac"
      },
      "execution_count": null,
      "outputs": []
    },
    {
      "cell_type": "code",
      "source": [
        "print(response)"
      ],
      "metadata": {
        "colab": {
          "base_uri": "https://localhost:8080/"
        },
        "id": "zmBSbhvSbgaR",
        "outputId": "14787b1c-0554-4ea5-e2bb-df343d575e53"
      },
      "execution_count": null,
      "outputs": [
        {
          "output_type": "stream",
          "name": "stdout",
          "text": [
            "AIとコンプライアンスについては、人工知能によるリスク評価や予測、自動監視やデータ分析、倫理や透明性などが取り上げられています。また、AIを活用することでコンプライアンス活動を効率化し、洞察力やリスク管理能力を向上させることができるとされています。詳細は不明です。\n"
          ]
        }
      ]
    },
    {
      "cell_type": "code",
      "source": [
        "print((response.source_nodes[0].node.get_text()))"
      ],
      "metadata": {
        "colab": {
          "base_uri": "https://localhost:8080/"
        },
        "id": "AOr7aRxMXK0K",
        "outputId": "16fe5a3f-4981-4a42-a963-3ecfb4971667"
      },
      "execution_count": null,
      "outputs": [
        {
          "output_type": "stream",
          "name": "stdout",
          "text": [
            "page_label: 4\n",
            "file_name: コンプライアンスのすべて.pdf\n",
            "\n",
            "この章では、 グローバルなコンプライアンスの課題に\n",
            "焦点を当てます。異文化間のコミュニケーション、法的要件の遵守、グローバルなチームの\n",
            "調整、政府との関係構築などに関する具体的なアドバイスやベストプラクティスを紹介し\n",
            "ます。 読者はグローバルなコンプライアンスの課題に対処し、 国際的な展開におけるリスク\n",
            "を最小化するための手法を学ぶことができます。  \n",
            " \n",
            "【20. テクノロジーの活用とコンプライアンス】 （ 500文字程度）  \n",
            "テクノロジーの進化は、コンプライアンス活動において革新的な手法とチャンスをもたら\n",
            "しています。 この章では、 テクノロジーの活用とコンプライアンスの関連性について探求し\n",
            "ます。 AI（人工知能）や機械学習、ブロックチェーンなどのテクノロジーがコンプライアン\n",
            "スプロセスやリスク管理にどのように活用されているかを解説します。 また、 データ分析や\n",
            "自動化ツールの導入による効率化や精度向上の具体例についても紹介します。読者はテク\n",
            "ノロジーを活用してコンプライアンス活動を効果的に支援し、効率性と正確性を向上させ\n",
            "る方法を学ぶことができま す。  \n",
            " \n",
            "【21. デジタルトランスフォーメーションとコンプライアンス】 （ 500文字程度）  \n",
            "デジタルトランスフォーメーションの進展により、ビジネスプロセスのデジタル化と効率\n",
            "化が進んでいます。 この章では、 デジタルトランスフォーメーションとコンプライアンスの\n",
            "関係に焦点を当てます。 デジタルプラットフォームやクラウドサービスの活用、 データの保\n"
          ]
        }
      ]
    },
    {
      "cell_type": "code",
      "source": [
        "response = query_engine.query(\"猫について教えてください\")"
      ],
      "metadata": {
        "id": "7kI8z1-ebNbc"
      },
      "execution_count": null,
      "outputs": []
    },
    {
      "cell_type": "code",
      "source": [
        "print(response)"
      ],
      "metadata": {
        "id": "Lf5c7RckbNeQ",
        "colab": {
          "base_uri": "https://localhost:8080/"
        },
        "outputId": "3936a44e-db58-4e40-cc6b-e9f2440e09a9"
      },
      "execution_count": null,
      "outputs": [
        {
          "output_type": "stream",
          "name": "stdout",
          "text": [
            "I'm sorry, I cannot answer that question as it is not related to the context information provided.\n"
          ]
        }
      ]
    },
    {
      "cell_type": "code",
      "source": [],
      "metadata": {
        "id": "6EO_GKjBbfdr"
      },
      "execution_count": null,
      "outputs": []
    },
    {
      "cell_type": "code",
      "source": [],
      "metadata": {
        "id": "jiP1OKltbfgW"
      },
      "execution_count": null,
      "outputs": []
    },
    {
      "cell_type": "code",
      "source": [],
      "metadata": {
        "id": "1ExR9-krbNjL"
      },
      "execution_count": null,
      "outputs": []
    },
    {
      "cell_type": "code",
      "source": [],
      "metadata": {
        "id": "GYxbjSccXMR9"
      },
      "execution_count": null,
      "outputs": []
    },
    {
      "cell_type": "code",
      "source": [],
      "metadata": {
        "id": "Qs2_NLn7bV5j"
      },
      "execution_count": null,
      "outputs": []
    },
    {
      "cell_type": "code",
      "source": [],
      "metadata": {
        "id": "rrdOeeMEbV81"
      },
      "execution_count": null,
      "outputs": []
    },
    {
      "cell_type": "code",
      "source": [],
      "metadata": {
        "id": "oyMVbKSIbV_5"
      },
      "execution_count": null,
      "outputs": []
    },
    {
      "cell_type": "code",
      "source": [],
      "metadata": {
        "id": "XPuFidFDbepn"
      },
      "execution_count": null,
      "outputs": []
    },
    {
      "cell_type": "code",
      "source": [],
      "metadata": {
        "id": "1M_XH14HbetQ"
      },
      "execution_count": null,
      "outputs": []
    },
    {
      "cell_type": "code",
      "source": [],
      "metadata": {
        "id": "Vmm0DPzRbewm"
      },
      "execution_count": null,
      "outputs": []
    },
    {
      "cell_type": "code",
      "source": [],
      "metadata": {
        "id": "e1guh6xIbez0"
      },
      "execution_count": null,
      "outputs": []
    },
    {
      "cell_type": "code",
      "source": [],
      "metadata": {
        "id": "LqRsEHIbbe3n"
      },
      "execution_count": null,
      "outputs": []
    },
    {
      "cell_type": "markdown",
      "source": [
        "# 一度index化して保存すると再度読み込むことが可能"
      ],
      "metadata": {
        "id": "bguwCQm_bWCd"
      }
    },
    {
      "cell_type": "markdown",
      "source": [
        "別のpdfを読み込んでみる"
      ],
      "metadata": {
        "id": "c_-8EWkvdPfj"
      }
    },
    {
      "cell_type": "code",
      "source": [
        "PDFReader = download_loader(\"PDFReader\")\n",
        "\n",
        "loader = PDFReader()\n",
        "documents = loader.load_data(file=Path(\"健康のすべて.pdf\"))"
      ],
      "metadata": {
        "id": "uK-meFwVglQk"
      },
      "execution_count": null,
      "outputs": []
    },
    {
      "cell_type": "code",
      "source": [
        "service_context = ServiceContext.from_defaults(\n",
        "    llm_predictor=LLMPredictor(\n",
        "        llm=ChatOpenAI(model_name=\"gpt-3.5-turbo\", temperature=0)\n",
        "    )\n",
        ")\n",
        "\n",
        "# indexを作成\n",
        "index = VectorStoreIndex.from_documents(documents, service_context=service_context)\n",
        "index.storage_context.persist(persist_dir=\"./health/\")"
      ],
      "metadata": {
        "id": "QLgKd2o5gmOp"
      },
      "execution_count": null,
      "outputs": []
    },
    {
      "cell_type": "code",
      "source": [
        "query_engine = index.as_query_engine()"
      ],
      "metadata": {
        "id": "AEX-PTm8gm8q"
      },
      "execution_count": null,
      "outputs": []
    },
    {
      "cell_type": "code",
      "source": [
        "response = query_engine.query(\"健康とストレスについて何が書かれていますか？\")"
      ],
      "metadata": {
        "id": "iuM5_WlCgByz"
      },
      "execution_count": null,
      "outputs": []
    },
    {
      "cell_type": "code",
      "source": [
        "print(response)"
      ],
      "metadata": {
        "colab": {
          "base_uri": "https://localhost:8080/"
        },
        "id": "oicifQ_agC4Y",
        "outputId": "2b3aa668-aecd-492d-a1fb-cc158aef76d5"
      },
      "execution_count": null,
      "outputs": [
        {
          "output_type": "stream",
          "name": "stdout",
          "text": [
            "健康とストレスについて、ストレスマネジメントの重要性やリラックス法、睡眠の重要性、健康的な食事の必要性などが書かれています。また、自己管理や生涯学習、予防医学の重要性も言及されています。\n"
          ]
        }
      ]
    },
    {
      "cell_type": "code",
      "source": [
        "print((response.source_nodes[0].node.get_text()))"
      ],
      "metadata": {
        "colab": {
          "base_uri": "https://localhost:8080/"
        },
        "id": "-3-4EdXVgD3d",
        "outputId": "bec27901-35b1-4064-ac30-086ec7263568"
      },
      "execution_count": null,
      "outputs": [
        {
          "output_type": "stream",
          "name": "stdout",
          "text": [
            "page_label: 5\n",
            "file_name: 健康のすべて.pdf\n",
            "\n",
            "切なストレスマネジメントが必要です。 ストレスの原因を特定し、 対策を講じることが重要\n",
            "です。リラックス法やストレス軽減のための活動（例：ヨガ、瞑想、散歩など） 、時間管理\n",
            "やプライオリティの設定、コミュニケーションスキルの向上などが有効なストレスマネジ\n",
            "メントの手法です。 健康なストレスマネジメントは心身のバランスを取り戻し、 健康な生活\n",
            "を実現するために重要です。  \n",
            " \n",
            "１８．健康と睡眠の重要性  \n",
            " \n",
            "良質な睡眠は健康にとって極めて重要 です。 十分な睡眠を確保することは、 身体と心の回復\n",
            "やリフレッシュに不可欠です。 睡眠不足や睡眠の質の低下は、 免疫機能の低下やメンタルヘ\n",
            "ルスの悪化、 集中力や注意力の低下などの健康問題を引き起こす可能性があります。 健康な\n",
            "睡眠のためには、 定期的な睡眠スケジュールの確立や快適な睡眠環境の整備、 リラックスす\n",
            "る習慣の導入などが重要です。また、適切な睡眠のためには、日中の活動や食事、運動など\n",
            "も考慮する必要があります。良質な睡眠を確保することで、健康な身体と心を維持し、日々\n",
            "の活動に充実感をもたらすことができます。  \n",
            " \n",
            "１９．健康 と栄養の関係  \n",
            " \n",
            "栄養は健康に直接的な影響を与える重要な要素です。バランスの取れた食事を摂取するこ\n",
            "とは、健康を維持するために不可欠です。食事は私たちの身体の燃料となり、成長や修復に\n",
            "必要な栄養素を提供します。健康的な食事は、ビタミン、ミネラル、たんぱく質、繊維など\n",
            "の栄養素をバランス良く摂取することを意味します。 また、\n"
          ]
        }
      ]
    },
    {
      "cell_type": "code",
      "source": [],
      "metadata": {
        "id": "gOrdEQsLhYFE"
      },
      "execution_count": null,
      "outputs": []
    },
    {
      "cell_type": "code",
      "source": [],
      "metadata": {
        "id": "zvZLPjDviDPm"
      },
      "execution_count": null,
      "outputs": []
    },
    {
      "cell_type": "code",
      "source": [],
      "metadata": {
        "id": "_2x5R4kUXVo-"
      },
      "execution_count": null,
      "outputs": []
    },
    {
      "cell_type": "code",
      "source": [],
      "metadata": {
        "id": "y_v7ClfFXV1q"
      },
      "execution_count": null,
      "outputs": []
    },
    {
      "cell_type": "code",
      "source": [
        "# コンプライアンスのpdfの構造化データを読み込む\n",
        "storage_context = StorageContext.from_defaults(persist_dir=\"./storage/\")\n",
        "index = load_index_from_storage(storage_context)"
      ],
      "metadata": {
        "id": "xI3p5FpshYQe"
      },
      "execution_count": null,
      "outputs": []
    },
    {
      "cell_type": "code",
      "source": [
        "query_engine = index.as_query_engine()"
      ],
      "metadata": {
        "id": "RhRo-ZP9hYUs"
      },
      "execution_count": null,
      "outputs": []
    },
    {
      "cell_type": "code",
      "source": [
        "response = query_engine.query(\"健康とストレスについて何が書かれていますか？\")"
      ],
      "metadata": {
        "id": "9j7uim5khYYN"
      },
      "execution_count": null,
      "outputs": []
    },
    {
      "cell_type": "code",
      "source": [
        "print(response)"
      ],
      "metadata": {
        "colab": {
          "base_uri": "https://localhost:8080/"
        },
        "id": "zI-KjPjkgJth",
        "outputId": "80c3cbd0-79c6-4879-d20a-7ec0f3c20c4b"
      },
      "execution_count": null,
      "outputs": [
        {
          "output_type": "stream",
          "name": "stdout",
          "text": [
            "\n",
            "This information is not provided in the context information given.\n"
          ]
        }
      ]
    },
    {
      "cell_type": "code",
      "source": [
        "print((response.source_nodes[0].node.get_text()))"
      ],
      "metadata": {
        "colab": {
          "base_uri": "https://localhost:8080/"
        },
        "id": "pbd5c7SrgK3H",
        "outputId": "53a472db-9ee0-4768-9c5b-808d36dbf9bf"
      },
      "execution_count": null,
      "outputs": [
        {
          "output_type": "stream",
          "name": "stdout",
          "text": [
            "page_label: 5\n",
            "file_name: コンプライアンスのすべて.pdf\n",
            "\n",
            "護とプライバシーの確保、エレクトロニックコンプライアンスツールの導入などに関する\n",
            "具体的なアドバイスや課題を取り上げます。読者はデジタルトランスフォーメーションと\n",
            "コンプライアンスの 融合に向けた戦略を学び、組織の競争力と遵守の両立を図ることがで\n",
            "きます。  \n",
            " \n",
            "【22. インシデント管理とレスポンス】 （ 500文字程度）  \n",
            "コンプライアンス違反やセキュリティインシデントが発生した場合、適切なインシデント\n",
            "管理とレスポンスが求められます。 この章では、 インシデント管理プロセスの構築と効果的\n",
            "なレスポンスについて詳しく解説します。インシデントの検知と報告、対応計画の策定、情\n",
            "報の収集と分析、 修復措置の実施、 外部への報告手続きなどに関するベストプラクティスを\n",
            "紹介します。 読者はインシデント管理とレスポンス能力を 高め、 迅速かつ適切な対応を行う\n",
            "ためのガイドラインを学ぶことができます。  \n",
            " \n",
            "【23. コンプライアンスとエシックスの融合】 （ 500文字程度）  \n",
            "コンプライアンスとエシックス（倫理）は密接に関連しており、組織の持続可能性と信頼性\n",
            "を確保するためには両者の融合が重要です。 この章では、 コンプライアンスとエシックスの\n",
            "関係性について探求します。エシックスの概念と原則、組織文化とエシックスの関連、エシ\n",
            "カルリーダーシップの重要性などについて詳しく解説します。 また、 コンプライアンスとエ\n",
            "シックスの統合を実現するための手法や成功事例 を紹介します。読者はコンプライアンス\n",
            "とエシックスを組み合わせることで、 組織全体の倫理的な行動を促進し、 リスクを軽減する\n",
            "手段を学ぶことができます。  \n",
            " \n",
            "【24. 組織内のコンプライアンスリーダーシップ】 （ 500文字程度） \n"
          ]
        }
      ]
    },
    {
      "cell_type": "code",
      "source": [],
      "metadata": {
        "id": "1BIQrBMSYva1"
      },
      "execution_count": null,
      "outputs": []
    },
    {
      "cell_type": "code",
      "source": [],
      "metadata": {
        "id": "Bm0QC4yehnUw"
      },
      "execution_count": null,
      "outputs": []
    },
    {
      "cell_type": "code",
      "source": [],
      "metadata": {
        "id": "aaK3e7NthnX-"
      },
      "execution_count": null,
      "outputs": []
    },
    {
      "cell_type": "code",
      "source": [],
      "metadata": {
        "id": "CLl5pYqThnbD"
      },
      "execution_count": null,
      "outputs": []
    },
    {
      "cell_type": "code",
      "source": [],
      "metadata": {
        "id": "ysQmPfQkiJm9"
      },
      "execution_count": null,
      "outputs": []
    },
    {
      "cell_type": "code",
      "source": [],
      "metadata": {
        "id": "ObmMaqd4iJuA"
      },
      "execution_count": null,
      "outputs": []
    },
    {
      "cell_type": "code",
      "source": [],
      "metadata": {
        "id": "aW4gUktrgXFi"
      },
      "execution_count": null,
      "outputs": []
    },
    {
      "cell_type": "code",
      "source": [],
      "metadata": {
        "id": "uSDrjtj5gXJO"
      },
      "execution_count": null,
      "outputs": []
    },
    {
      "cell_type": "code",
      "source": [],
      "metadata": {
        "id": "ESmWRcSRgXMR"
      },
      "execution_count": null,
      "outputs": []
    },
    {
      "cell_type": "markdown",
      "source": [
        "# プロンプトを書き変える"
      ],
      "metadata": {
        "id": "qSSzo517gXbH"
      }
    },
    {
      "cell_type": "code",
      "source": [
        "from llama_index import QuestionAnswerPrompt\n",
        "\n",
        "PROMPT_TEMPLATE = (\n",
        "    \"下記の情報が与えられています。 \\n\"\n",
        "    \"---------------------\\n\"\n",
        "    \"{context_str}\"\n",
        "    \"\\n---------------------\\n\"\n",
        "    \"この情報を参照して次の質問に答えてください: {query_str}\\n\"\n",
        ")\n",
        "PROMPT = QuestionAnswerPrompt(PROMPT_TEMPLATE)"
      ],
      "metadata": {
        "id": "eAEq2OaqbYIj"
      },
      "execution_count": null,
      "outputs": []
    },
    {
      "cell_type": "code",
      "source": [
        "# 健康すべてのpdfの構造化データを読み込む\n",
        "storage_context = StorageContext.from_defaults(persist_dir=\"./health/\")\n",
        "index = load_index_from_storage(storage_context)"
      ],
      "metadata": {
        "id": "2LNqRKShk4hU"
      },
      "execution_count": null,
      "outputs": []
    },
    {
      "cell_type": "code",
      "source": [
        "query_engine = index.as_query_engine(text_qa_template=PROMPT)"
      ],
      "metadata": {
        "id": "geoxyOdNk3Pb"
      },
      "execution_count": null,
      "outputs": []
    },
    {
      "cell_type": "code",
      "source": [
        "response = query_engine.query(\"健康とストレスについて何が書かれていますか？\")"
      ],
      "metadata": {
        "id": "hIv1tl2hf2WX"
      },
      "execution_count": null,
      "outputs": []
    },
    {
      "cell_type": "code",
      "source": [
        "print(response)"
      ],
      "metadata": {
        "colab": {
          "base_uri": "https://localhost:8080/"
        },
        "id": "M2S9vP3xk59Z",
        "outputId": "7df6dc8a-4e50-4d52-e63c-05e4e4d98f0e"
      },
      "execution_count": null,
      "outputs": [
        {
          "output_type": "stream",
          "name": "stdout",
          "text": [
            "\n",
            "ストレスマネジメントが必要であること、ストレスの原因を特定し、対策を講じることが重要であること、リラックス法やストレス軽減のための活動（例：ヨガ、瞑想、散歩など）、時間管理やプライオリティの設定、コミュニケーションスキルの向上などが有効なストレスマネジメントの手法であることが書かれています。\n"
          ]
        }
      ]
    },
    {
      "cell_type": "code",
      "source": [
        "PROMPT_TEMPLATE = (\n",
        "    \"下記の情報が与えられています。 \\n\"\n",
        "    \"---------------------\\n\"\n",
        "    \"{context_str}\"\n",
        "    \"\\n---------------------\\n\"\n",
        "    \"次の質問に答えてください: {query_str}\\n 出力は箇条書きで書いてください\"\n",
        ")\n",
        "PROMPT = QuestionAnswerPrompt(PROMPT_TEMPLATE)\n",
        "\n",
        "query_engine = index.as_query_engine(text_qa_template=PROMPT)"
      ],
      "metadata": {
        "id": "LQeDg-Xmmqoy"
      },
      "execution_count": null,
      "outputs": []
    },
    {
      "cell_type": "code",
      "source": [
        "response = query_engine.query(\"健康とストレスについて何が書かれていますか？\")\n",
        "print(response)"
      ],
      "metadata": {
        "colab": {
          "base_uri": "https://localhost:8080/"
        },
        "id": "8oXUjQSqmr8B",
        "outputId": "f0bc3be7-09fc-4ae1-b742-22d720ba947d"
      },
      "execution_count": null,
      "outputs": [
        {
          "output_type": "stream",
          "name": "stdout",
          "text": [
            "。\n",
            "\n",
            "- 切なストレスマネジメントが必要であること\n",
            "- ストレスの原因を特定し、対策を講じることが重要であること\n",
            "- リラックス法やストレス軽減のための活動（例：ヨガ、瞑想、散歩など）、時間管理やプライオリティの設定、コミュニケーションスキルの向上などが有効なストレスマネジメントの手法であること\n",
            "- 自己管理を通じて、自分自身の健康を主体的に管理し、健康な生活を実現することができること\n",
            "- 健康とストレス管理の手法の学習などが挙げられること\n"
          ]
        }
      ]
    },
    {
      "cell_type": "code",
      "source": [],
      "metadata": {
        "id": "oLvZyD3df16w"
      },
      "execution_count": null,
      "outputs": []
    },
    {
      "cell_type": "code",
      "source": [],
      "metadata": {
        "id": "Dn09ZDvGbYRr"
      },
      "execution_count": null,
      "outputs": []
    },
    {
      "cell_type": "code",
      "source": [],
      "metadata": {
        "id": "HnJUToRqbYUe"
      },
      "execution_count": null,
      "outputs": []
    },
    {
      "cell_type": "code",
      "source": [],
      "metadata": {
        "id": "Kjl_GVUYbYXh"
      },
      "execution_count": null,
      "outputs": []
    },
    {
      "cell_type": "code",
      "source": [],
      "metadata": {
        "id": "dGZHLnrziLNG"
      },
      "execution_count": null,
      "outputs": []
    },
    {
      "cell_type": "code",
      "source": [],
      "metadata": {
        "id": "7C_4rq77iLQM"
      },
      "execution_count": null,
      "outputs": []
    },
    {
      "cell_type": "code",
      "source": [],
      "metadata": {
        "id": "M4hwjFGQiLTf"
      },
      "execution_count": null,
      "outputs": []
    },
    {
      "cell_type": "code",
      "source": [],
      "metadata": {
        "id": "9Zz2WKj_iLWh"
      },
      "execution_count": null,
      "outputs": []
    },
    {
      "cell_type": "code",
      "source": [],
      "metadata": {
        "id": "7j04USh6iLZ4"
      },
      "execution_count": null,
      "outputs": []
    },
    {
      "cell_type": "markdown",
      "source": [
        "# 演習"
      ],
      "metadata": {
        "id": "pr6fWK4RiLsE"
      }
    },
    {
      "cell_type": "markdown",
      "source": [
        "FunctionCallingを用いてユーザーからの入力を基に、2つの参照情報を切り替える実装をしてみよう"
      ],
      "metadata": {
        "id": "stEUtKLbiN3E"
      }
    },
    {
      "cell_type": "code",
      "source": [],
      "metadata": {
        "id": "iPkecbRQXsQ9"
      },
      "execution_count": null,
      "outputs": []
    },
    {
      "cell_type": "code",
      "source": [],
      "metadata": {
        "id": "xv9FqP89nf2k"
      },
      "execution_count": null,
      "outputs": []
    },
    {
      "cell_type": "code",
      "source": [],
      "metadata": {
        "id": "8eFzEdA0ngAK"
      },
      "execution_count": null,
      "outputs": []
    },
    {
      "cell_type": "code",
      "source": [],
      "metadata": {
        "id": "tn04C5EDngFj"
      },
      "execution_count": null,
      "outputs": []
    },
    {
      "cell_type": "code",
      "source": [],
      "metadata": {
        "id": "JmJNeN7cngNS"
      },
      "execution_count": null,
      "outputs": []
    },
    {
      "cell_type": "code",
      "source": [],
      "metadata": {
        "id": "7DOEHfGCXsWZ"
      },
      "execution_count": null,
      "outputs": []
    },
    {
      "cell_type": "code",
      "source": [],
      "metadata": {
        "id": "gIFeohbJXsan"
      },
      "execution_count": null,
      "outputs": []
    },
    {
      "cell_type": "code",
      "source": [],
      "metadata": {
        "id": "cw5xNMgOibaR"
      },
      "execution_count": null,
      "outputs": []
    },
    {
      "cell_type": "code",
      "source": [
        "document_1 = loader.load_data(file=Path(\"コンプライアンスのすべて.pdf\"))\n",
        "document_2 = loader.load_data(file=Path(\"健康のすべて.pdf\"))\n",
        "\n",
        "INDEX_1 = VectorStoreIndex.from_documents(document_1)\n",
        "INDEX_2 = VectorStoreIndex.from_documents(document_2)"
      ],
      "metadata": {
        "id": "WBmL0l8uiQU1"
      },
      "execution_count": null,
      "outputs": []
    },
    {
      "cell_type": "code",
      "source": [
        "def get_index_engine(index_name):\n",
        "    \"\"\"\n",
        "    プロンプトを回答するのに適切なindexを提供する\n",
        "    \"\"\"\n",
        "    PROMPT_TEMPLATE = (\n",
        "        \"下記の情報が与えられています。 \\n\"\n",
        "        \"---------------------\\n\"\n",
        "        \"{context_str}\"\n",
        "        \"\\n---------------------\\n\"\n",
        "        \"この情報を参照して次の質問に答えてください:  {query_str}\\n\"\n",
        "    )\n",
        "    PROMPT = QuestionAnswerPrompt(PROMPT_TEMPLATE)\n",
        "\n",
        "    if index_name == \"コンプライアンス\":\n",
        "        return INDEX_1.as_query_engine(text_qa_template=PROMPT)\n",
        "    elif index_name == \"健康問題\":\n",
        "        return INDEX_2.as_query_engine(text_qa_template=PROMPT)\n",
        "    else:\n",
        "        return None"
      ],
      "metadata": {
        "id": "eoBcujg_ilD2"
      },
      "execution_count": null,
      "outputs": []
    },
    {
      "cell_type": "code",
      "source": [
        "def get_chatgpt_response_from_different_sources(user_input):\n",
        "    # 与えた関数の説明を記載\n",
        "    my_functions = [\n",
        "        {\n",
        "            \"name\": \"get_index_engine\",\n",
        "            \"description\": \"ユーザーの質問・指示に答えるために使われる関数\",\n",
        "            \"parameters\": {\n",
        "                \"type\": \"object\",\n",
        "                \"properties\": {\n",
        "                    \"index_name\": {\n",
        "                        \"type\": \"string\",\n",
        "                        \"enum\": [\"コンプライアンス\", \"健康問題\", \"該当なし\"],\n",
        "                        \"description\": \"ユーザーの質問に答えるために、関連が高い単語を1つ選択してください\",\n",
        "                    },\n",
        "                },\n",
        "                \"required\": [\"index_name\"],\n",
        "            },\n",
        "        }\n",
        "    ]\n",
        "\n",
        "    response = openai.ChatCompletion.create(\n",
        "        model=\"gpt-3.5-turbo-0613\",\n",
        "        messages=[{\"role\": \"user\", \"content\": user_input}],\n",
        "        functions=my_functions,\n",
        "        function_call={\"name\": \"get_index_engine\"},\n",
        "    )\n",
        "\n",
        "    message = response[\"choices\"][0][\"message\"]\n",
        "    function_args = json.loads(message[\"function_call\"][\"arguments\"])\n",
        "\n",
        "    engine = get_index_engine(function_args[\"index_name\"])\n",
        "\n",
        "    if engine:\n",
        "        function_response = engine.query(user_input)\n",
        "        source = function_response.get_formatted_sources(200)  # 200文字まで表示\n",
        "        used_index = function_args[\"index_name\"]\n",
        "        display(\n",
        "            Markdown(\n",
        "                f\"## ユーザー入力\\n\\n{user_input}\\n\\n## AI回答\\n\\n{function_response}\\n\\n## 参照情報({used_index}) \\n\\n{source}\"\n",
        "            )\n",
        "        )\n",
        "    else:\n",
        "        print(\"関連する情報がありません\")"
      ],
      "metadata": {
        "id": "QRftkEzsiQac"
      },
      "execution_count": null,
      "outputs": []
    },
    {
      "cell_type": "code",
      "source": [
        "get_chatgpt_response_from_different_sources(\"AIとコンプライアンスについて教えてください\")"
      ],
      "metadata": {
        "id": "D_JLZFNhY0Gq"
      },
      "execution_count": null,
      "outputs": []
    },
    {
      "cell_type": "code",
      "source": [
        "get_chatgpt_response_from_different_sources(\"AIと健康について教えてください\")"
      ],
      "metadata": {
        "id": "inSLj_xfY1k2"
      },
      "execution_count": null,
      "outputs": []
    },
    {
      "cell_type": "code",
      "source": [
        "get_chatgpt_response_from_different_sources(\"Llama indexとは何ですか？\")"
      ],
      "metadata": {
        "id": "UeFcEGpSi_zx"
      },
      "execution_count": null,
      "outputs": []
    },
    {
      "cell_type": "code",
      "source": [],
      "metadata": {
        "id": "r9kNE6rmiQjz"
      },
      "execution_count": null,
      "outputs": []
    },
    {
      "cell_type": "code",
      "source": [],
      "metadata": {
        "id": "Wxug6CfAiQoT"
      },
      "execution_count": null,
      "outputs": []
    }
  ]
}