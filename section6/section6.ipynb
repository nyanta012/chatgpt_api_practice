{
  "nbformat": 4,
  "nbformat_minor": 0,
  "metadata": {
    "colab": {
      "provenance": [],
      "authorship_tag": "ABX9TyN772zDCOxfz3RBCfFRuufp",
      "include_colab_link": true
    },
    "kernelspec": {
      "name": "python3",
      "display_name": "Python 3"
    },
    "language_info": {
      "name": "python"
    }
  },
  "cells": [
    {
      "cell_type": "markdown",
      "metadata": {
        "id": "view-in-github",
        "colab_type": "text"
      },
      "source": [
        "<a href=\"https://colab.research.google.com/github/nyanta012/chatgpt_api_practice/blob/main/section6/section6.ipynb\" target=\"_parent\"><img src=\"https://colab.research.google.com/assets/colab-badge.svg\" alt=\"Open In Colab\"/></a>"
      ]
    },
    {
      "cell_type": "markdown",
      "source": [
        "# Google Colaboratoryのショートカットキー\n",
        "1. **現在のセルを実行し、次のセルを選択**: `Shift + Enter`\n",
        "2. **コードセルをテキストセルにする**: `Ctrl + M M`\n",
        "3. **コードセルを上に追加**: `Ctrl + M A`\n",
        "4. **コードセルを下に追加**: `Ctrl + M B`\n",
        "5. **セルの削除**: `Ctrl + M D`"
      ],
      "metadata": {
        "id": "_VRhVucN3dO-"
      }
    },
    {
      "cell_type": "code",
      "source": [],
      "metadata": {
        "id": "qlL4Dh5m3oXa"
      },
      "execution_count": null,
      "outputs": []
    },
    {
      "cell_type": "markdown",
      "source": [
        "# API KEYの設定"
      ],
      "metadata": {
        "id": "F_1_4AxY3eVU"
      }
    },
    {
      "cell_type": "code",
      "source": [
        "%%capture\n",
        "!pip install openai==0.28.1"
      ],
      "metadata": {
        "id": "2p75Kj1XXA-8"
      },
      "execution_count": null,
      "outputs": []
    },
    {
      "cell_type": "code",
      "execution_count": null,
      "metadata": {
        "id": "AVAgPbFiJ2ke",
        "colab": {
          "base_uri": "https://localhost:8080/"
        },
        "outputId": "591aab93-fd94-4ce7-cdb1-bd54624b19c6"
      },
      "outputs": [
        {
          "name": "stdout",
          "output_type": "stream",
          "text": [
            "OpenAIのAPIキーを入力してください··········\n"
          ]
        }
      ],
      "source": [
        "import getpass\n",
        "import json\n",
        "\n",
        "import openai\n",
        "from IPython.display import Markdown, display\n",
        "\n",
        "apikey = getpass.getpass(prompt=\"OpenAIのAPIキーを入力してください\")\n",
        "openai.api_key = apikey"
      ]
    },
    {
      "cell_type": "markdown",
      "source": [
        "# 並行処理で高速に回答を得よう"
      ],
      "metadata": {
        "id": "Ho1WO_BUWwdf"
      }
    },
    {
      "cell_type": "markdown",
      "source": [
        "並行処理とは簡単に言うと、並行して異なる処理を行うこと\n",
        "\n",
        "**例えば、料理を作るケースを考えると･･･**\n",
        "　　何かの材料をオーブンで温めている待ち時間に、別の材料を切ったりするイメージ\n",
        "\n",
        "**今回の例だと･･･**\n",
        "　　APIのリクエストを送ってから返答を得るまで(オーブンで温めている待ち時間)\n",
        "　　次のAPIのリクエストを送る(別の材料を切ったりする)と高速化できる"
      ],
      "metadata": {
        "id": "suqJon2CWwiX"
      }
    },
    {
      "cell_type": "code",
      "source": [
        "def get_chatgpt_response(\n",
        "    user_input: str,\n",
        "    template: str,\n",
        "    model: str = \"gpt-3.5-turbo\",\n",
        "    temperature: float = 0,\n",
        "    max_tokens: int = 500,\n",
        "):\n",
        "    \"\"\"\n",
        "    ChatGPTに対して対話を投げかけ、返答を取得する\n",
        "    \"\"\"\n",
        "    prompt = template.format(user_input=user_input)\n",
        "    messages = [{\"role\": \"user\", \"content\": prompt}]\n",
        "    response = openai.ChatCompletion.create(\n",
        "        model=model,\n",
        "        messages=messages,\n",
        "        temperature=temperature,\n",
        "        max_tokens=max_tokens,\n",
        "    )\n",
        "    return response.choices[0].message[\"content\"]"
      ],
      "metadata": {
        "id": "onL-bN1HWwmF"
      },
      "execution_count": null,
      "outputs": []
    },
    {
      "cell_type": "code",
      "source": [
        "PROMPT_TEMPLATE = \"\"\"\n",
        "次の文章を英語にしてください\n",
        "\n",
        "{user_input}\n",
        "\n",
        "\"\"\""
      ],
      "metadata": {
        "id": "d090KTVuWwpJ"
      },
      "execution_count": null,
      "outputs": []
    },
    {
      "cell_type": "code",
      "source": [
        "%%time\n",
        "get_chatgpt_response(\"こんにちは\", PROMPT_TEMPLATE)"
      ],
      "metadata": {
        "colab": {
          "base_uri": "https://localhost:8080/",
          "height": 72
        },
        "id": "_D9LTLJnBMpa",
        "outputId": "e3c9bef9-16ae-43fa-8056-7348f2a0bab0"
      },
      "execution_count": null,
      "outputs": [
        {
          "output_type": "stream",
          "name": "stdout",
          "text": [
            "CPU times: user 30.6 ms, sys: 4.85 ms, total: 35.4 ms\n",
            "Wall time: 933 ms\n"
          ]
        },
        {
          "output_type": "execute_result",
          "data": {
            "text/plain": [
              "'Hello.'"
            ],
            "application/vnd.google.colaboratory.intrinsic+json": {
              "type": "string"
            }
          },
          "metadata": {},
          "execution_count": 6
        }
      ]
    },
    {
      "cell_type": "code",
      "source": [],
      "metadata": {
        "id": "hCg_vYvUYlT6"
      },
      "execution_count": null,
      "outputs": []
    },
    {
      "cell_type": "code",
      "source": [],
      "metadata": {
        "id": "wOfbRGAEYlZx"
      },
      "execution_count": null,
      "outputs": []
    },
    {
      "cell_type": "code",
      "source": [
        "from concurrent.futures import ThreadPoolExecutor"
      ],
      "metadata": {
        "id": "JB9U2NLwYlet"
      },
      "execution_count": null,
      "outputs": []
    },
    {
      "cell_type": "code",
      "source": [
        "%%time\n",
        "\n",
        "# スレッドプールを作成し、最大3つのスレッドを同時に実行できるようにする\n",
        "list_user_input = [\"こんにちは\", \"こんばんは\", \"おはよう\"]\n",
        "tpe = ThreadPoolExecutor(max_workers=len(list_user_input))\n",
        "\n",
        "list_response = []\n",
        "for user_input in list_user_input:\n",
        "    response = tpe.submit(get_chatgpt_response, user_input, PROMPT_TEMPLATE)\n",
        "    list_response.append(response)\n",
        "tpe.shutdown()  # 全てのタスクが実行されるとスレッドが終了する\n",
        "\n",
        "# 結果を表示\n",
        "for r in list_response:\n",
        "    print(r.result())"
      ],
      "metadata": {
        "colab": {
          "base_uri": "https://localhost:8080/"
        },
        "id": "I0BKkP-LBONf",
        "outputId": "0f0fbfce-1015-4a43-e3fb-d4c798ce580a"
      },
      "execution_count": null,
      "outputs": [
        {
          "output_type": "stream",
          "name": "stdout",
          "text": [
            "Hello.\n",
            "Good evening.\n",
            "Good morning.\n",
            "CPU times: user 54.9 ms, sys: 7.17 ms, total: 62.1 ms\n",
            "Wall time: 904 ms\n"
          ]
        }
      ]
    },
    {
      "cell_type": "code",
      "source": [],
      "metadata": {
        "id": "SdAdk0TeYpGX"
      },
      "execution_count": null,
      "outputs": []
    },
    {
      "cell_type": "code",
      "source": [],
      "metadata": {
        "id": "H2KClFNlYpKC"
      },
      "execution_count": null,
      "outputs": []
    },
    {
      "cell_type": "code",
      "source": [],
      "metadata": {
        "id": "_zq0fz0cDp3h"
      },
      "execution_count": null,
      "outputs": []
    },
    {
      "cell_type": "code",
      "source": [],
      "metadata": {
        "id": "xBFmcxa4YpNT"
      },
      "execution_count": null,
      "outputs": []
    },
    {
      "cell_type": "code",
      "source": [],
      "metadata": {
        "id": "MIOB9UYfYpQZ"
      },
      "execution_count": null,
      "outputs": []
    },
    {
      "cell_type": "code",
      "source": [],
      "metadata": {
        "id": "zR6lYVx2YpTY"
      },
      "execution_count": null,
      "outputs": []
    },
    {
      "cell_type": "code",
      "source": [],
      "metadata": {
        "id": "cP02ar5pYpuk"
      },
      "execution_count": null,
      "outputs": []
    },
    {
      "cell_type": "code",
      "source": [],
      "metadata": {
        "id": "KwIaqUgMYpyG"
      },
      "execution_count": null,
      "outputs": []
    },
    {
      "cell_type": "markdown",
      "source": [
        "# Section5のメール生成を並行処理で実装してみよう"
      ],
      "metadata": {
        "id": "o4qnL_h-Yp1Z"
      }
    },
    {
      "cell_type": "code",
      "source": [
        "def get_chatgpt_response(\n",
        "    user_input: str,\n",
        "    category_1: str,\n",
        "    category_2: str,\n",
        "    template: str,\n",
        "    model: str = \"gpt-3.5-turbo\",\n",
        "    temperature: float = 0,\n",
        "    max_tokens: int = 500,\n",
        "):\n",
        "    \"\"\"\n",
        "    ChatGPTに対して対話を投げかけ、返答を取得する\n",
        "    \"\"\"\n",
        "    prompt = template.format(\n",
        "        user_input=user_input, category_1=category_1, category_2=category_2\n",
        "    )\n",
        "    messages = [{\"role\": \"user\", \"content\": prompt}]\n",
        "    response = openai.ChatCompletion.create(\n",
        "        model=model,\n",
        "        messages=messages,\n",
        "        temperature=temperature,\n",
        "        max_tokens=max_tokens,\n",
        "    )\n",
        "    return response.choices[0].message[\"content\"]"
      ],
      "metadata": {
        "id": "yCo7Y-iGEcmD"
      },
      "execution_count": null,
      "outputs": []
    },
    {
      "cell_type": "code",
      "source": [
        "PROMPT_TEMPLATE = \"\"\"\n",
        "    あなたはカスタマーセンターの従業員です。\n",
        "    あなたの仕事は顧客の問い合わせに対して、適切な部門の連絡先を教えることです。\n",
        "    顧客の問い合わせ内容とカテゴリ－は下記の####で区切られた内容です。\n",
        "\n",
        "    ####\n",
        "    {user_input}\n",
        "\n",
        "    第一カテゴリー:{category_1}\n",
        "    第二カテゴリー:{category_2}\n",
        "    ####\n",
        "\n",
        "   下記ステップに従って、メールを作成してください。\n",
        "\n",
        "    1. 第一カテゴリーと第二カテゴリーに応じてメールアドレスを下記から抽出してください。\n",
        "        製品：スペック は product_spec@example.com\n",
        "        製品：値段 は product_price@example.com\n",
        "        製品：購入方法 は product_purchase_method@example.com\n",
        "        注文：注文状況 は order_status@example.com\n",
        "        注文：注文変更 は order_change@example.com\n",
        "        注文：支払い方法 は order_payment_method@example.com\n",
        "        配送：配送ステータス は delivery_status@example.com\n",
        "        配送：配送オプション は delivery_option@example.com\n",
        "        配送：配送問題 は delivery_issue@example.com\n",
        "\n",
        "    2. メール文章を作成\n",
        "       ユーザーからの問い合わせ内容に対して1で抽出したメールアドレスに送信するようにお願いする文章を書いてください。\n",
        "        形式：\n",
        "          件名\n",
        "\n",
        "          文章\n",
        "    \"\"\""
      ],
      "metadata": {
        "id": "NEOUX7sxEeTS"
      },
      "execution_count": null,
      "outputs": []
    },
    {
      "cell_type": "code",
      "source": [
        "import pandas as pd"
      ],
      "metadata": {
        "id": "Dp61M_dzEYFS"
      },
      "execution_count": null,
      "outputs": []
    },
    {
      "cell_type": "code",
      "source": [
        "questions = [\n",
        "    \"このカメラの最大シャッタースピードは何ですか？\",\n",
        "    \"私のパッケージの追跡番号を教えてください。\",\n",
        "    \"エクスプレス配送は可能ですか？\",\n",
        "    \"特定の日時に配送することはできますか？\",\n",
        "    \"配送された商品が損傷していました。どうすればいいですか？\",\n",
        "    \"注文の支払いにApple PayやGoogle Payは使用できますか？\",\n",
        "    \"私のパッケージはいつ到着予定ですか？\",\n",
        "    \"注文の支払いにクレジットカードは使用できますか？\",\n",
        "    \"私の注文はまだ出荷されていませんか？\",\n",
        "    \"この製品はオンラインで注文することができますか？\",\n",
        "]\n",
        "\n",
        "list_json = [\n",
        "    {\"key\": \"製品\", \"value\": \"スペック\"},\n",
        "    {\"key\": \"配送\", \"value\": \"配送ステータス\"},\n",
        "    {\"key\": \"配送\", \"value\": \"配送オプション\"},\n",
        "    {\"key\": \"配送\", \"value\": \"配送オプション\"},\n",
        "    {\"key\": \"配送\", \"value\": \"配送問題\"},\n",
        "    {\"key\": \"注文\", \"value\": \"支払い方法\"},\n",
        "    {\"key\": \"配送\", \"value\": \"配送ステータス\"},\n",
        "    {\"key\": \"注文\", \"value\": \"支払い方法\"},\n",
        "    {\"key\": \"配送\", \"value\": \"配送ステータス\"},\n",
        "    {\"key\": \"注文\", \"value\": \"購入方法\"},\n",
        "]\n",
        "\n",
        "df = pd.DataFrame(list_json)\n",
        "df[\"question\"] = questions\n",
        "df.columns = [\"category_1\", \"category_2\", \"question\"]"
      ],
      "metadata": {
        "id": "A3u0V6fsEaZq"
      },
      "execution_count": null,
      "outputs": []
    },
    {
      "cell_type": "code",
      "source": [
        "%%time\n",
        "# スレッドプールを作成\n",
        "tpe = ThreadPoolExecutor(max_workers=len(df))\n",
        "\n",
        "list_response = []\n",
        "for _, row in df.iterrows():\n",
        "    category_1, category_2, user_question = row['category_1'], row['category_2'], row['question']\n",
        "    response = tpe.submit(\n",
        "        get_chatgpt_response, user_question, category_1, category_2, PROMPT_TEMPLATE\n",
        "    )\n",
        "    list_response.append(response)\n",
        "tpe.shutdown()  # 全てのタスクが実行されるとスレッドが終了する\n",
        "\n",
        "\n",
        "# 結果を表示\n",
        "for i, r in enumerate(list_response):\n",
        "    user_question = df.loc[i, \"question\"]\n",
        "    display(\n",
        "        Markdown(\n",
        "            f\"\"\"\\n\\n### メール {i+1} \\n **問い合わせ内容:** {user_question}\\n\\n **生成文:**\\n\\n {r.result()}\"\"\"\n",
        "        )\n",
        "    )"
      ],
      "metadata": {
        "colab": {
          "base_uri": "https://localhost:8080/",
          "height": 1000
        },
        "id": "a53jiCKAE71v",
        "outputId": "70314f60-1d1f-4176-ce61-70d273cb7157"
      },
      "execution_count": null,
      "outputs": [
        {
          "output_type": "display_data",
          "data": {
            "text/plain": [
              "<IPython.core.display.Markdown object>"
            ],
            "text/markdown": "\n\n### メール 1 \n **問い合わせ内容:** このカメラの最大シャッタースピードは何ですか？\n\n **生成文:**\n\n 件名：カメラの最大シャッタースピードについてのお問い合わせ\n\nproduct_spec@example.com 宛に送信してください。\n\n尊敬する product_spec@example.com 様、\n\nお世話になっております。カスタマーセンターの従業員です。\n\nお客様から、カメラの最大シャッタースピードについてのお問い合わせがありました。\n\nお手数ですが、下記の問い合わせに対してご回答いただけますようお願い申し上げます。\n\n問い合わせ内容：\nこのカメラの最大シャッタースピードは何ですか？\n\n何卒、よろしくお願い申し上げます。\n\n敬具\n\nカスタマーセンターの従業員"
          },
          "metadata": {}
        },
        {
          "output_type": "display_data",
          "data": {
            "text/plain": [
              "<IPython.core.display.Markdown object>"
            ],
            "text/markdown": "\n\n### メール 2 \n **問い合わせ内容:** 私のパッケージの追跡番号を教えてください。\n\n **生成文:**\n\n 件名：配送ステータスに関するお問い合わせ\n\nお客様\n\nこの度は弊社にお問い合わせいただき、誠にありがとうございます。\nお客様からのお問い合わせにつきまして、配送ステータスに関するお問い合わせであることを確認いたしました。\n\n下記のメールアドレスにお問い合わせ内容をご連絡いただけますようお願い申し上げます。\n\n配送：配送ステータス は delivery_status@example.com\n\n何卒よろしくお願い申し上げます。\n\n敬具\n\nカスタマーセンターの従業員"
          },
          "metadata": {}
        },
        {
          "output_type": "display_data",
          "data": {
            "text/plain": [
              "<IPython.core.display.Markdown object>"
            ],
            "text/markdown": "\n\n### メール 3 \n **問い合わせ内容:** エクスプレス配送は可能ですか？\n\n **生成文:**\n\n 件名：配送オプションに関するお問い合わせ\n\nお客様からのお問い合わせありがとうございます。\n配送オプションに関するお問い合わせについては、以下のメールアドレスにお問い合わせください。\n\n配送：配送オプション は delivery_option@example.com\n\n何かご不明な点がございましたら、お気軽にお問い合わせください。\n今後ともよろしくお願いいたします。\n\n敬具\nカスタマーセンター"
          },
          "metadata": {}
        },
        {
          "output_type": "display_data",
          "data": {
            "text/plain": [
              "<IPython.core.display.Markdown object>"
            ],
            "text/markdown": "\n\n### メール 4 \n **問い合わせ内容:** 特定の日時に配送することはできますか？\n\n **生成文:**\n\n 件名：配送オプションに関するお問い合わせ\n\nお客様\n\nいつも当社のサービスをご利用いただきありがとうございます。\nお問い合わせいただきました配送オプションに関するご質問について、適切な部署にお問い合わせいただくようお願い申し上げます。\n\n配送に関するお問い合わせは、以下のメールアドレスにお送りください。\n配送：配送オプション は delivery_option@example.com\n\n何かご不明な点がございましたら、お気軽にお問い合わせください。\n\nよろしくお願いいたします。\n\nカスタマーセンター"
          },
          "metadata": {}
        },
        {
          "output_type": "display_data",
          "data": {
            "text/plain": [
              "<IPython.core.display.Markdown object>"
            ],
            "text/markdown": "\n\n### メール 5 \n **問い合わせ内容:** 配送された商品が損傷していました。どうすればいいですか？\n\n **生成文:**\n\n 件名：配送問題に関するお問い合わせ\n\nお客様\n\nこの度は、弊社の商品をご購入いただきありがとうございます。\nお客様からのお問い合わせについて、適切な部署にご連絡いただくために、下記のメールアドレスにお問い合わせ内容をお送りください。\n\n配送：配送問題 は delivery_issue@example.com\n\nお手数をおかけいたしますが、何卒よろしくお願い申し上げます。\n\n敬具\n\nカスタマーセンターの従業員"
          },
          "metadata": {}
        },
        {
          "output_type": "display_data",
          "data": {
            "text/plain": [
              "<IPython.core.display.Markdown object>"
            ],
            "text/markdown": "\n\n### メール 6 \n **問い合わせ内容:** 注文の支払いにApple PayやGoogle Payは使用できますか？\n\n **生成文:**\n\n 件名：注文の支払いについてのお問い合わせ\n\nお客様からのお問い合わせありがとうございます。\nお問い合わせ内容に応じて、適切な部署に転送いたします。\n\nお問い合わせ内容：\n注文の支払いにApple PayやGoogle Payは使用できますか？\n\n上記のお問い合わせは「注文：支払い方法」に該当します。\nそのため、下記のメールアドレスにお問い合わせ内容を転送いたします。\n\norder_payment_method@example.com\n\nお手数をおかけいたしますが、何卒よろしくお願いいたします。\n\n以上、よろしくお願いいたします。\n\nカスタマーセンター"
          },
          "metadata": {}
        },
        {
          "output_type": "display_data",
          "data": {
            "text/plain": [
              "<IPython.core.display.Markdown object>"
            ],
            "text/markdown": "\n\n### メール 7 \n **問い合わせ内容:** 私のパッケージはいつ到着予定ですか？\n\n **生成文:**\n\n 件名：配送ステータスに関するお問い合わせについて\n\nお客様へ\n\nこの度は弊社製品をご購入いただき、誠にありがとうございます。\nお問い合わせいただきました配送ステータスに関しましては、下記のメールアドレスにお問い合わせください。\n\n配送：配送ステータス は delivery_status@example.com\n\n上記メールアドレスにお問い合わせいただけますよう、お願い申し上げます。\n何かご不明な点がございましたら、お気軽にお問い合わせください。\n\n敬具"
          },
          "metadata": {}
        },
        {
          "output_type": "display_data",
          "data": {
            "text/plain": [
              "<IPython.core.display.Markdown object>"
            ],
            "text/markdown": "\n\n### メール 8 \n **問い合わせ内容:** 注文の支払いにクレジットカードは使用できますか？\n\n **生成文:**\n\n 件名：注文の支払いについて\n\nproduct_payment_method@example.com 宛に送信してください。\n\n文章：\nお客様からのお問い合わせについて、注文の支払い方法に関するご質問がありました。\nこの件については、order_payment_method@example.com にお問い合わせいただけます。\nお手数ですが、上記メールアドレスにご連絡いただけますようお願い申し上げます。\n何かご不明な点がございましたら、お気軽にお問い合わせください。\nよろしくお願いいたします。"
          },
          "metadata": {}
        },
        {
          "output_type": "display_data",
          "data": {
            "text/plain": [
              "<IPython.core.display.Markdown object>"
            ],
            "text/markdown": "\n\n### メール 9 \n **問い合わせ内容:** 私の注文はまだ出荷されていませんか？\n\n **生成文:**\n\n 件名：配送ステータスに関するお問い合わせについて\n\nお客様のお問い合わせありがとうございます。\n配送ステータスに関するお問い合わせにつきましては、下記のメールアドレスにご連絡いただけます。\n\n配送：配送ステータス は delivery_status@example.com\n\n何卒よろしくお願いいたします。"
          },
          "metadata": {}
        },
        {
          "output_type": "display_data",
          "data": {
            "text/plain": [
              "<IPython.core.display.Markdown object>"
            ],
            "text/markdown": "\n\n### メール 10 \n **問い合わせ内容:** この製品はオンラインで注文することができますか？\n\n **生成文:**\n\n 件名：オンライン注文に関するお問い合わせ\n\nproduct_purchase_method@example.com 宛に送信してください。\n\n尊敬するお客様、\n\nこの度は弊社製品にご興味をお持ちいただき、誠にありがとうございます。\nお問い合わせいただきました「オンラインでの注文方法について」につきまして、\nお答えいたします。\n\nオンラインでの注文は可能です。詳細につきましては、下記のメールアドレスにお問い合わせください。\n\nproduct_purchase_method@example.com\n\n何かご不明な点がございましたら、お気軽にお問い合わせください。\n\n敬具"
          },
          "metadata": {}
        },
        {
          "output_type": "stream",
          "name": "stdout",
          "text": [
            "CPU times: user 229 ms, sys: 9.96 ms, total: 239 ms\n",
            "Wall time: 7.5 s\n"
          ]
        }
      ]
    },
    {
      "cell_type": "code",
      "source": [],
      "metadata": {
        "id": "W1PsDtChY7cB"
      },
      "execution_count": null,
      "outputs": []
    },
    {
      "cell_type": "code",
      "source": [],
      "metadata": {
        "id": "y4bU8R33Y7fU"
      },
      "execution_count": null,
      "outputs": []
    },
    {
      "cell_type": "code",
      "source": [],
      "metadata": {
        "id": "_M6lIpq9Y7in"
      },
      "execution_count": null,
      "outputs": []
    },
    {
      "cell_type": "code",
      "source": [],
      "metadata": {
        "id": "4U3--DkLY4pb"
      },
      "execution_count": null,
      "outputs": []
    },
    {
      "cell_type": "code",
      "source": [],
      "metadata": {
        "id": "-mfjw_v2Y4tp"
      },
      "execution_count": null,
      "outputs": []
    },
    {
      "cell_type": "code",
      "source": [],
      "metadata": {
        "id": "m15rrVXLY4xp"
      },
      "execution_count": null,
      "outputs": []
    },
    {
      "cell_type": "code",
      "source": [],
      "metadata": {
        "id": "v_i_FbQ7Y2gG"
      },
      "execution_count": null,
      "outputs": []
    },
    {
      "cell_type": "code",
      "source": [],
      "metadata": {
        "id": "0PqDSe47Y2ki"
      },
      "execution_count": null,
      "outputs": []
    }
  ]
}