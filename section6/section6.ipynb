{
  "nbformat": 4,
  "nbformat_minor": 0,
  "metadata": {
    "colab": {
      "provenance": [],
      "include_colab_link": true
    },
    "kernelspec": {
      "name": "python3",
      "display_name": "Python 3"
    },
    "language_info": {
      "name": "python"
    }
  },
  "cells": [
    {
      "cell_type": "markdown",
      "metadata": {
        "id": "view-in-github",
        "colab_type": "text"
      },
      "source": [
        "<a href=\"https://colab.research.google.com/github/nyanta012/chatgpt_api_practice/blob/main/section6/section6.ipynb\" target=\"_parent\"><img src=\"https://colab.research.google.com/assets/colab-badge.svg\" alt=\"Open In Colab\"/></a>"
      ]
    },
    {
      "cell_type": "markdown",
      "source": [
        "# Google Colaboratoryのショートカットキー\n",
        "1. **現在のセルを実行し、次のセルを選択**: `Shift + Enter`\n",
        "2. **コードセルをテキストセルにする**: `Ctrl + M M`\n",
        "3. **コードセルを上に追加**: `Ctrl + M A`\n",
        "4. **コードセルを下に追加**: `Ctrl + M B`\n",
        "5. **セルの削除**: `Ctrl + M D`"
      ],
      "metadata": {
        "id": "_VRhVucN3dO-"
      }
    },
    {
      "cell_type": "code",
      "source": [],
      "metadata": {
        "id": "qlL4Dh5m3oXa"
      },
      "execution_count": null,
      "outputs": []
    },
    {
      "cell_type": "markdown",
      "source": [
        "# API KEYの設定"
      ],
      "metadata": {
        "id": "F_1_4AxY3eVU"
      }
    },
    {
      "cell_type": "code",
      "source": [
        "%%capture\n",
        "!pip install openai==1.3.5"
      ],
      "metadata": {
        "id": "2p75Kj1XXA-8"
      },
      "execution_count": null,
      "outputs": []
    },
    {
      "cell_type": "code",
      "execution_count": null,
      "metadata": {
        "id": "AVAgPbFiJ2ke",
        "colab": {
          "base_uri": "https://localhost:8080/"
        },
        "outputId": "ad098320-4b3b-45c7-9b64-a1e26e1319b1"
      },
      "outputs": [
        {
          "name": "stdout",
          "output_type": "stream",
          "text": [
            "OpenAIのAPIキーを入力してください··········\n"
          ]
        }
      ],
      "source": [
        "import getpass\n",
        "import json\n",
        "\n",
        "from openai import OpenAI\n",
        "from IPython.display import Markdown, display\n",
        "\n",
        "apikey = getpass.getpass(prompt=\"OpenAIのAPIキーを入力してください\")\n",
        "client = OpenAI(api_key=apikey)"
      ]
    },
    {
      "cell_type": "markdown",
      "source": [
        "# 並行処理で高速に回答を得よう"
      ],
      "metadata": {
        "id": "Ho1WO_BUWwdf"
      }
    },
    {
      "cell_type": "markdown",
      "source": [
        "並行処理とは簡単に言うと、並行して異なる処理を行うこと\n",
        "\n",
        "**例えば、料理を作るケースを考えると･･･**  \n",
        "何かの材料をオーブンで温めている待ち時間に、別の材料を切ったりするイメージ\n",
        "\n",
        "**今回の例だと･･･**  \n",
        " APIのリクエストを送ってから返答を得るまで(オーブンで温めている待ち時間)  \n",
        " 次のAPIのリクエストを送る(別の材料を切ったりする)と高速化できる"
      ],
      "metadata": {
        "id": "suqJon2CWwiX"
      }
    },
    {
      "cell_type": "code",
      "source": [
        "def get_chatgpt_response(\n",
        "    user_input: str,\n",
        "    template: str,\n",
        "    model: str = \"gpt-3.5-turbo-1106\",\n",
        "    temperature: float = 0,\n",
        "    max_tokens: int = 500,\n",
        ") -> str:\n",
        "    \"\"\"\n",
        "    ChatGPTに対して対話を投げかけ、返答を取得する\n",
        "    \"\"\"\n",
        "    prompt = template.format(user_input=user_input)\n",
        "    messages = [{\"role\": \"user\", \"content\": prompt}]\n",
        "    response = client.chat.completions.create(\n",
        "        model=model,\n",
        "        messages=messages,\n",
        "        temperature=temperature,\n",
        "        max_tokens=max_tokens,\n",
        "        seed=0\n",
        "    )\n",
        "    return response.choices[0].message.content"
      ],
      "metadata": {
        "id": "onL-bN1HWwmF"
      },
      "execution_count": null,
      "outputs": []
    },
    {
      "cell_type": "code",
      "source": [
        "PROMPT_TEMPLATE = \"\"\"\n",
        "次の文章を英語にしてください\n",
        "\n",
        "{user_input}\n",
        "\n",
        "\"\"\""
      ],
      "metadata": {
        "id": "d090KTVuWwpJ"
      },
      "execution_count": null,
      "outputs": []
    },
    {
      "cell_type": "code",
      "source": [
        "%%time\n",
        "get_chatgpt_response(\"こんにちは\", PROMPT_TEMPLATE)"
      ],
      "metadata": {
        "colab": {
          "base_uri": "https://localhost:8080/",
          "height": 72
        },
        "id": "_D9LTLJnBMpa",
        "outputId": "30705917-47e1-43ae-9fef-33528a2afc90"
      },
      "execution_count": null,
      "outputs": [
        {
          "output_type": "stream",
          "name": "stdout",
          "text": [
            "CPU times: user 31 ms, sys: 1.24 ms, total: 32.2 ms\n",
            "Wall time: 624 ms\n"
          ]
        },
        {
          "output_type": "execute_result",
          "data": {
            "text/plain": [
              "'Hello.'"
            ],
            "application/vnd.google.colaboratory.intrinsic+json": {
              "type": "string"
            }
          },
          "metadata": {},
          "execution_count": 5
        }
      ]
    },
    {
      "cell_type": "code",
      "source": [
        "from concurrent.futures import ThreadPoolExecutor"
      ],
      "metadata": {
        "id": "JB9U2NLwYlet"
      },
      "execution_count": null,
      "outputs": []
    },
    {
      "cell_type": "code",
      "source": [
        "%%time\n",
        "\n",
        "# スレッドプールを作成し、最大3つのスレッドを同時に実行できるようにする\n",
        "list_user_input = [\"こんにちは\", \"こんばんは\", \"おはよう\"]\n",
        "tpe = ThreadPoolExecutor(max_workers=len(list_user_input))\n",
        "\n",
        "list_response = []\n",
        "for user_input in list_user_input:\n",
        "    response = tpe.submit(get_chatgpt_response, user_input, PROMPT_TEMPLATE)\n",
        "    list_response.append(response)\n",
        "tpe.shutdown()  # 全てのタスクが実行されるとスレッドが終了する\n",
        "\n",
        "# 結果を表示\n",
        "for r in list_response:\n",
        "    print(r.result())"
      ],
      "metadata": {
        "colab": {
          "base_uri": "https://localhost:8080/"
        },
        "id": "I0BKkP-LBONf",
        "outputId": "648ab4e1-f678-48ce-c8f6-2f0f72ca9963"
      },
      "execution_count": null,
      "outputs": [
        {
          "output_type": "stream",
          "name": "stdout",
          "text": [
            "Hello.\n",
            "Good evening.\n",
            "Good morning.\n",
            "CPU times: user 29.8 ms, sys: 3.74 ms, total: 33.5 ms\n",
            "Wall time: 525 ms\n"
          ]
        }
      ]
    },
    {
      "cell_type": "code",
      "source": [],
      "metadata": {
        "id": "2HtJJmLnrUaa"
      },
      "execution_count": null,
      "outputs": []
    },
    {
      "cell_type": "code",
      "source": [],
      "metadata": {
        "id": "ThxVQ3J4rUg2"
      },
      "execution_count": null,
      "outputs": []
    },
    {
      "cell_type": "markdown",
      "source": [
        "# Section5のメール生成を並行処理で実装してみよう"
      ],
      "metadata": {
        "id": "o4qnL_h-Yp1Z"
      }
    },
    {
      "cell_type": "code",
      "source": [
        "def get_chatgpt_response(\n",
        "    user_input: str,\n",
        "    category_1: str,\n",
        "    category_2: str,\n",
        "    template: str,\n",
        "    model: str = \"gpt-3.5-turbo-1106\",\n",
        "    temperature: float = 0,\n",
        "    max_tokens: int = 500,\n",
        ") -> str:\n",
        "    \"\"\"\n",
        "    ChatGPTに対して対話を投げかけ、返答を取得する\n",
        "    \"\"\"\n",
        "    prompt = template.format(\n",
        "        user_input=user_input, category_1=category_1, category_2=category_2\n",
        "    )\n",
        "    messages = [{\"role\": \"user\", \"content\": prompt}]\n",
        "    response = client.chat.completions.create(\n",
        "        model=model,\n",
        "        messages=messages,\n",
        "        temperature=temperature,\n",
        "        max_tokens=max_tokens,\n",
        "        seed=0\n",
        "    )\n",
        "    return response.choices[0].message.content"
      ],
      "metadata": {
        "id": "GLYs579GJVGi"
      },
      "execution_count": null,
      "outputs": []
    },
    {
      "cell_type": "code",
      "source": [
        "PROMPT_TEMPLATE = \"\"\"\n",
        "    あなたは優秀なカスタマーサポートセンターの担当者です。\n",
        "    あなたの仕事は下記の顧客の問い合わせとカテゴリーに対して実行手順を処理することで、\n",
        "    適切な部門のメールアドレスを顧客に伝えるためのメールを作成することです。\n",
        "    下記の実行手順に従って段階的に考えて、最高の品質でメールの文章を作成してください。\n",
        "\n",
        "    # 顧客の問い合わせ\n",
        "     {user_input}\n",
        "\n",
        "    # カテゴリー\n",
        "      第一カテゴリー:{category_1}\n",
        "      第二カテゴリー:{category_2}\n",
        "\n",
        "    # 実行手順\n",
        "    1. 第一カテゴリーと第二カテゴリーに応じてメールアドレスを下記から抽出してください。\n",
        "       下記は第一カテゴリー：第二カテゴリーを表す。\n",
        "         製品：スペック は product_spec@example.com\n",
        "         製品：値段 は product_price@example.com\n",
        "         製品：購入方法 は product_purchase_method@example.com\n",
        "         注文：注文状況 は order_status@example.com\n",
        "         注文：注文変更 は order_change@example.com\n",
        "         注文：支払い方法 は order_payment_method@example.com\n",
        "         配送：配送ステータス は delivery_status@example.com\n",
        "         配送：配送オプション は delivery_option@example.com\n",
        "         配送：配送問題 は delivery_issue@example.com\n",
        "\n",
        "    2. メール文章を作成\n",
        "      顧客からの問い合わせに対して、カスタマーセンターの従業員として責任をもって丁寧な文章で\n",
        "      1で抽出したメールアドレスに問い合わせをお願いする文章を300文字程度で作成する\n",
        "\n",
        "    # メール文章形式\n",
        "      考えたメールタイトル\n",
        "      考えたメール本文\n",
        "    \"\"\""
      ],
      "metadata": {
        "id": "obo0K3lLJUDQ"
      },
      "execution_count": null,
      "outputs": []
    },
    {
      "cell_type": "code",
      "source": [],
      "metadata": {
        "id": "iYmjyYBqH2I5"
      },
      "execution_count": null,
      "outputs": []
    },
    {
      "cell_type": "code",
      "source": [
        "import pandas as pd\n",
        "\n",
        "inquiries = [\n",
        "    \"このカメラの最大シャッタースピードは何ですか？\",\n",
        "    \"私のパッケージの追跡番号を教えてください。\",\n",
        "    \"エクスプレス配送は可能ですか？\",\n",
        "    \"特定の日時に配送することはできますか？\",\n",
        "    \"配送された商品が損傷していました。どうすればいいですか？\",\n",
        "    \"注文の支払いにApple PayやGoogle Payは使用できますか？\",\n",
        "    \"私のパッケージはいつ到着予定ですか？\",\n",
        "    \"注文の支払いにクレジットカードは使用できますか？\",\n",
        "    \"私の注文はまだ出荷されていませんか？\",\n",
        "    \"この製品はオンラインで注文することができますか？\",\n",
        "]\n",
        "\n",
        "list_json = [\n",
        "    {\"key\": \"製品\", \"value\": \"スペック\"},\n",
        "    {\"key\": \"配送\", \"value\": \"配送状況\"},\n",
        "    {\"key\": \"配送\", \"value\": \"配送オプション\"},\n",
        "    {\"key\": \"配送\", \"value\": \"配送問題\"},\n",
        "    {\"key\": \"配送\", \"value\": \"配送問題\"},\n",
        "    {\"key\": \"注文\", \"value\": \"支払い方法\"},\n",
        "    {\"key\": \"配送\", \"value\": \"配送状況\"},\n",
        "    {\"key\": \"注文\", \"value\": \"支払い方法\"},\n",
        "    {\"key\": \"配送\", \"value\": \"注文状況\"},\n",
        "    {\"key\": \"注文\", \"value\": \"購入方法\"},\n",
        "]\n",
        "\n",
        "df = pd.DataFrame(list_json)\n",
        "df[\"inquiry\"] = inquiries\n",
        "df.columns = [\"category_1\", \"category_2\", \"inquiry\"]"
      ],
      "metadata": {
        "id": "w7uY8knZJSMM"
      },
      "execution_count": null,
      "outputs": []
    },
    {
      "cell_type": "code",
      "source": [
        "%%time\n",
        "# スレッドプールを作成\n",
        "tpe = ThreadPoolExecutor(max_workers=len(df))\n",
        "\n",
        "list_response = []\n",
        "for _, row in df.iterrows():\n",
        "    category_1, category_2, inquiry = row['category_1'], row['category_2'], row['inquiry']\n",
        "    response = tpe.submit(\n",
        "        get_chatgpt_response, inquiry, category_1, category_2, PROMPT_TEMPLATE\n",
        "    )\n",
        "    list_response.append(response)\n",
        "tpe.shutdown()  # 全てのタスクが実行されるとスレッドが終了する\n",
        "\n",
        "\n",
        "# 結果を表示\n",
        "for i, r in enumerate(list_response):\n",
        "    inquiry = df.loc[i, \"inquiry\"]\n",
        "    display(\n",
        "        Markdown(\n",
        "            f\"\"\"\\n\\n### メール {i+1} \\n **問い合わせ内容:** {inquiry}\\n\\n **生成文:**\\n\\n {r.result()}\"\"\"\n",
        "        )\n",
        "    )"
      ],
      "metadata": {
        "colab": {
          "base_uri": "https://localhost:8080/",
          "height": 1000
        },
        "id": "myPZcJVTH79g",
        "outputId": "ef57503b-b4a5-4b89-8614-9941d6bb5d4b"
      },
      "execution_count": null,
      "outputs": [
        {
          "output_type": "display_data",
          "data": {
            "text/plain": [
              "<IPython.core.display.Markdown object>"
            ],
            "text/markdown": "\n\n### メール 1 \n **問い合わせ内容:** このカメラの最大シャッタースピードは何ですか？\n\n **生成文:**\n\n 件名：カメラの最大シャッタースピードについての問い合わせ\n\nいつもお世話になっております。カスタマーサポートセンターの担当者です。\n\nお客様からの問い合わせに対して、製品のスペックに関するお問い合わせを受け付けました。お手数ですが、以下のメールアドレスに直接お問い合わせいただけますでしょうか。\n\n製品：スペック は product_spec@example.com\n\nカメラの最大シャッタースピードについての詳細な情報をお客様にお伝えできる部署になりますので、お手数ですがそちらにお問い合わせいただけますと幸いです。\n\n何かご不明点がございましたら、お気軽にお知らせください。何卒よろしくお願い申し上げます。\n\n以上、よろしくお願いいたします。\n\nカスタマーサポートセンターの担当者より"
          },
          "metadata": {}
        },
        {
          "output_type": "display_data",
          "data": {
            "text/plain": [
              "<IPython.core.display.Markdown object>"
            ],
            "text/markdown": "\n\n### メール 2 \n **問い合わせ内容:** 私のパッケージの追跡番号を教えてください。\n\n **生成文:**\n\n 件名：パッケージの追跡番号についてのお問い合わせ\n\nいつも弊社のサービスをご利用いただき、誠にありがとうございます。お客様からのパッケージの追跡番号についてのお問い合わせにつきまして、お手数をおかけいたしますが、以下のメールアドレスに直接お問い合わせいただけますでしょうか。\n\n配送：配送ステータス は delivery_status@example.com\n\nお手数をおかけいたしますが、上記のメールアドレスにお問い合わせいただければ、迅速に対応させていただきます。何かご不明点がございましたら、お気軽にお知らせください。\n\n何卒よろしくお願い申し上げます。\n\n株式会社〇〇 カスタマーサポートセンター"
          },
          "metadata": {}
        },
        {
          "output_type": "display_data",
          "data": {
            "text/plain": [
              "<IPython.core.display.Markdown object>"
            ],
            "text/markdown": "\n\n### メール 3 \n **問い合わせ内容:** エクスプレス配送は可能ですか？\n\n **生成文:**\n\n 件名：エクスプレス配送についてのお問い合わせ\n\nいつも弊社のカスタマーサポートセンターにお問い合わせいただき、誠にありがとうございます。\n\nお客様からのお問い合わせについて、配送オプションに関するご質問を承りました。お客様のご要望にお応えするために、配送オプションに関する詳細な情報をお知らせいただけますでしょうか。\n\nこの件については、配送カテゴリーに関するお問い合わせとなりますので、配送オプション担当のメールアドレスにお問い合わせいただくことが適切です。配送オプション担当のメールアドレスは delivery_option@example.com です。\n\nお手数をおかけいたしますが、上記のメールアドレス宛に直接お問い合わせいただけますようお願い申し上げます。\n\n何かご不明点がございましたら、お気軽にお知らせください。お客様のご要望にお応えできるよう、全力でサポートさせていただきます。\n\n何卒よろしくお願い申し上げます。\n\nカスタマーサポートセンター\n[会社名]"
          },
          "metadata": {}
        },
        {
          "output_type": "display_data",
          "data": {
            "text/plain": [
              "<IPython.core.display.Markdown object>"
            ],
            "text/markdown": "\n\n### メール 4 \n **問い合わせ内容:** 特定の日時に配送することはできますか？\n\n **生成文:**\n\n 件名：特定の日時に配送することについてのお問い合わせ\n\nいつも弊社の配送サービスをご利用いただき、誠にありがとうございます。お客様からいただいたお問い合わせについて、お手伝いさせていただきます。\n\nお問い合わせ内容に関しては、配送カテゴリーに該当いたします。そのため、配送に関するお問い合わせについては、下記のメールアドレスにご連絡いただけますようお願い申し上げます。\n\n配送問題に関するお問い合わせについては、delivery_issue@example.com までご連絡ください。\n\nお客様のご要望にできる限りお応えできるよう、スタッフ一同努めてまいります。何かご不明点やご質問がございましたら、お気軽にお知らせください。\n\n何かお手伝いできることがございましたら、お知らせください。引き続き、弊社のサービスをご利用いただけますようお願い申し上げます。\n\nどうぞよろしくお願いいたします。\n\nカスタマーサポートセンターより"
          },
          "metadata": {}
        },
        {
          "output_type": "display_data",
          "data": {
            "text/plain": [
              "<IPython.core.display.Markdown object>"
            ],
            "text/markdown": "\n\n### メール 5 \n **問い合わせ内容:** 配送された商品が損傷していました。どうすればいいですか？\n\n **生成文:**\n\n 件名：配送された商品の損傷についての問い合わせ\n\nいつも弊社の商品をご利用いただき、誠にありがとうございます。お客様からの配送された商品が損傷していたというお問い合わせについて、大変申し訳ございません。\n\nこのような問題については、配送部門の担当者が最も適切に対応させていただきます。そのため、お手数ですが配送問題に関するご連絡は、delivery_issue@example.comまでお送りいただけますでしょうか。\n\nお手続きに関しては迅速に対応させていただきますので、何卒よろしくお願い申し上げます。\n\n何かご不明点がございましたら、お気軽にお知らせください。\n\n敬具\n\nカスタマーサポートセンター"
          },
          "metadata": {}
        },
        {
          "output_type": "display_data",
          "data": {
            "text/plain": [
              "<IPython.core.display.Markdown object>"
            ],
            "text/markdown": "\n\n### メール 6 \n **問い合わせ内容:** 注文の支払いにApple PayやGoogle Payは使用できますか？\n\n **生成文:**\n\n 件名：注文支払い方法についての問い合わせ\n\nいつも弊社の製品をご利用いただき、誠にありがとうございます。お客様からのお問い合わせについて、以下のメールアドレスにご連絡いただければ幸いです。\n\n注文：支払い方法\nメールアドレス：order_payment_method@example.com\n\nApple PayやGoogle Payについてのご質問につきましては、上記のメールアドレス宛にお問い合わせいただければ、専門の担当者が迅速にご対応させていただきます。\n\n何かご不明点やご質問がございましたら、お気軽にお知らせください。引き続き、弊社製品をご愛顧いただけますようお願い申し上げます。\n\nよろしくお願いいたします。\n\nカスタマーサポートセンター"
          },
          "metadata": {}
        },
        {
          "output_type": "display_data",
          "data": {
            "text/plain": [
              "<IPython.core.display.Markdown object>"
            ],
            "text/markdown": "\n\n### メール 7 \n **問い合わせ内容:** 私のパッケージはいつ到着予定ですか？\n\n **生成文:**\n\n 件名：パッケージ到着予定についての問い合わせ\n\nいつも弊社のサービスをご利用いただき、誠にありがとうございます。お客様からのお問い合わせについて、配送部門にお問い合わせいただく必要がございます。\n\nお手数をおかけいたしますが、以下のメールアドレスに直接お問い合わせいただけますでしょうか。\n配送：配送ステータス は delivery_status@example.com\n\nお客様のご理解とご協力に感謝申し上げます。何かご不明点がございましたら、お気軽にお知らせください。\n\nよろしくお願いいたします。\n\nカスタマーサポートセンター"
          },
          "metadata": {}
        },
        {
          "output_type": "display_data",
          "data": {
            "text/plain": [
              "<IPython.core.display.Markdown object>"
            ],
            "text/markdown": "\n\n### メール 8 \n **問い合わせ内容:** 注文の支払いにクレジットカードは使用できますか？\n\n **生成文:**\n\n 件名：注文支払いについての問い合わせ\n\nいつも弊社製品をご利用いただき、誠にありがとうございます。お客様からの注文支払いに関するお問い合わせについて、お手伝いさせていただきます。\n\nお問い合わせ内容については、注文カテゴリーの支払い方法に関するものとなります。そのため、以下のメールアドレスにお問い合わせいただけますようお願い申し上げます。\n\n注文：支払い方法\nメールアドレス：order_payment_method@example.com\n\nお手数をおかけいたしますが、上記のメールアドレス宛にお問い合わせいただけますと、迅速にご対応させていただきます。\n\n何かご不明点がございましたら、お気軽にお知らせください。引き続き、弊社製品をご愛顧いただけますようお願い申し上げます。\n\nよろしくお願いいたします。\n\nカスタマーサポートセンター\n[会社名]"
          },
          "metadata": {}
        },
        {
          "output_type": "display_data",
          "data": {
            "text/plain": [
              "<IPython.core.display.Markdown object>"
            ],
            "text/markdown": "\n\n### メール 9 \n **問い合わせ内容:** 私の注文はまだ出荷されていませんか？\n\n **生成文:**\n\n 件名：注文の配送状況についてのお問い合わせ\n\nいつもご利用いただき、誠にありがとうございます。お客様の注文の配送状況についてのお問い合わせを承りました。\n\nお客様の注文に関する配送状況については、配送ステータスに関するお問い合わせは、delivery_status@example.com までご連絡いただけます。\n\nお手数をおかけいたしますが、上記のメールアドレスに直接お問い合わせいただければ、迅速に対応させていただきます。\n\n何かご不明点がございましたら、お気軽にお知らせください。引き続き、ご利用いただきありがとうございます。\n\nよろしくお願いいたします。\n\nカスタマーサポートセンター"
          },
          "metadata": {}
        },
        {
          "output_type": "display_data",
          "data": {
            "text/plain": [
              "<IPython.core.display.Markdown object>"
            ],
            "text/markdown": "\n\n### メール 10 \n **問い合わせ内容:** この製品はオンラインで注文することができますか？\n\n **生成文:**\n\n 件名：オンラインでの製品注文についての問い合わせ\n\nいつも弊社製品にご興味をお持ちいただき、誠にありがとうございます。お問い合わせいただきました「オンラインでの製品注文」について、お手数ですが以下のメールアドレスにご連絡いただけますでしょうか。\n\n製品：購入方法\nメールアドレス：product_purchase_method@example.com\n\nご不明点やご質問がございましたら、遠慮なくお知らせください。お客様のご要望にお応えできるよう、心を込めてサポートさせていただきます。何卒よろしくお願い申し上げます。\n\n株式会社〇〇\nカスタマーサポートセンター"
          },
          "metadata": {}
        },
        {
          "output_type": "stream",
          "name": "stdout",
          "text": [
            "CPU times: user 176 ms, sys: 16 ms, total: 192 ms\n",
            "Wall time: 5.77 s\n"
          ]
        }
      ]
    },
    {
      "cell_type": "code",
      "source": [],
      "metadata": {
        "id": "W1PsDtChY7cB"
      },
      "execution_count": null,
      "outputs": []
    },
    {
      "cell_type": "code",
      "source": [],
      "metadata": {
        "id": "y4bU8R33Y7fU"
      },
      "execution_count": null,
      "outputs": []
    },
    {
      "cell_type": "code",
      "source": [],
      "metadata": {
        "id": "_M6lIpq9Y7in"
      },
      "execution_count": null,
      "outputs": []
    },
    {
      "cell_type": "code",
      "source": [],
      "metadata": {
        "id": "4U3--DkLY4pb"
      },
      "execution_count": null,
      "outputs": []
    },
    {
      "cell_type": "code",
      "source": [],
      "metadata": {
        "id": "-mfjw_v2Y4tp"
      },
      "execution_count": null,
      "outputs": []
    },
    {
      "cell_type": "code",
      "source": [],
      "metadata": {
        "id": "m15rrVXLY4xp"
      },
      "execution_count": null,
      "outputs": []
    },
    {
      "cell_type": "code",
      "source": [],
      "metadata": {
        "id": "v_i_FbQ7Y2gG"
      },
      "execution_count": null,
      "outputs": []
    },
    {
      "cell_type": "code",
      "source": [],
      "metadata": {
        "id": "0PqDSe47Y2ki"
      },
      "execution_count": null,
      "outputs": []
    }
  ]
}