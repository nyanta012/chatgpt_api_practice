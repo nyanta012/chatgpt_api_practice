{
  "nbformat": 4,
  "nbformat_minor": 0,
  "metadata": {
    "colab": {
      "provenance": [],
      "authorship_tag": "ABX9TyMHfOarcWnEIn9MlUNtEiWr",
      "include_colab_link": true
    },
    "kernelspec": {
      "name": "python3",
      "display_name": "Python 3"
    },
    "language_info": {
      "name": "python"
    }
  },
  "cells": [
    {
      "cell_type": "markdown",
      "metadata": {
        "id": "view-in-github",
        "colab_type": "text"
      },
      "source": [
        "<a href=\"https://colab.research.google.com/github/nyanta012/chatgpt_api_practice/blob/main/section7/section7.ipynb\" target=\"_parent\"><img src=\"https://colab.research.google.com/assets/colab-badge.svg\" alt=\"Open In Colab\"/></a>"
      ]
    },
    {
      "cell_type": "markdown",
      "source": [
        "# Google Colaboratoryのショートカットキー\n",
        "1. **現在のセルを実行し、次のセルを選択**: `Shift + Enter`\n",
        "2. **コードセルをテキストセルにする**: `Ctrl + M M`\n",
        "3. **コードセルを上に追加**: `Ctrl + M A`\n",
        "4. **コードセルを下に追加**: `Ctrl + M B`\n",
        "5. **セルの削除**: `Ctrl + M D`"
      ],
      "metadata": {
        "id": "ttC8a66lNZ-8"
      }
    },
    {
      "cell_type": "code",
      "source": [],
      "metadata": {
        "id": "3bXFbISJNa7y"
      },
      "execution_count": null,
      "outputs": []
    },
    {
      "cell_type": "markdown",
      "source": [
        "# API KEYの設定"
      ],
      "metadata": {
        "id": "QD1Cy0xmNcSn"
      }
    },
    {
      "cell_type": "code",
      "source": [
        "%%capture\n",
        "!pip install openai==0.28.1"
      ],
      "metadata": {
        "id": "PC-MDGRNZu0-"
      },
      "execution_count": null,
      "outputs": []
    },
    {
      "cell_type": "code",
      "execution_count": null,
      "metadata": {
        "id": "I3HYGeB4ZNBJ",
        "colab": {
          "base_uri": "https://localhost:8080/"
        },
        "outputId": "cbfe990b-04f7-491a-cc5c-e9d7dab31d77"
      },
      "outputs": [
        {
          "name": "stdout",
          "output_type": "stream",
          "text": [
            "OpenAIのAPIキーを入力してください··········\n"
          ]
        }
      ],
      "source": [
        "import openai\n",
        "import getpass\n",
        "import json\n",
        "from IPython.display import Markdown, display\n",
        "\n",
        "\n",
        "apikey = getpass.getpass(prompt=\"OpenAIのAPIキーを入力してください\")\n",
        "openai.api_key = apikey"
      ]
    },
    {
      "cell_type": "markdown",
      "source": [
        "**Function Callingとは･･･**\n",
        "　簡単に言うと、ユーザーの入力文から外部の関数を利用できる形式(JSON形式)に変換する機能"
      ],
      "metadata": {
        "id": "uS7SvXjdZfNA"
      }
    },
    {
      "cell_type": "code",
      "source": [
        "# 使いたい外部の関数を定義\n",
        "def get_current_weather(location, unit):\n",
        "    \"\"\"Get the current weather in a given location\"\"\"\n",
        "    weather_info = {\n",
        "        \"location\": location,\n",
        "        \"temperature\": 25,\n",
        "        \"unit\": unit,\n",
        "        \"forecast\": [\"sunny\", \"windy\"],\n",
        "    }\n",
        "    return json.dumps(weather_info)"
      ],
      "metadata": {
        "id": "7vy4WC5VZaeY"
      },
      "execution_count": null,
      "outputs": []
    },
    {
      "cell_type": "code",
      "source": [
        "# 与えた関数の説明を記載\n",
        "my_functions = [\n",
        "    {\n",
        "        \"name\": \"get_current_weather\",\n",
        "        \"description\": \"Get the current weather\",\n",
        "        \"parameters\": {\n",
        "            \"type\": \"object\",\n",
        "            \"properties\": {\n",
        "                \"location\": {\n",
        "                    \"type\": \"string\",\n",
        "                    \"description\": \"The city and state, e.g. San Francisco, CA\",\n",
        "                },\n",
        "                \"unit\": {\n",
        "                    \"type\": \"string\",\n",
        "                    \"enum\": [\"celsius\", \"fahrenheit\"],\n",
        "                    \"description\": \"The temperature unit to use. Infer this from the users location.\",\n",
        "                },\n",
        "            },\n",
        "            \"required\": [\"location\", \"unit\"],\n",
        "        },\n",
        "    }\n",
        "]"
      ],
      "metadata": {
        "id": "cAj-1iU5Zaku"
      },
      "execution_count": null,
      "outputs": []
    },
    {
      "cell_type": "code",
      "source": [
        "response = openai.ChatCompletion.create(\n",
        "    model=\"gpt-3.5-turbo-0613\",\n",
        "    messages=[{\"role\": \"user\", \"content\": \"東京の天気は何でしょうか?\"}],\n",
        "    functions=my_functions,\n",
        "    function_call=\"auto\",\n",
        ")"
      ],
      "metadata": {
        "id": "ePOU7wHaZaos"
      },
      "execution_count": null,
      "outputs": []
    },
    {
      "cell_type": "code",
      "source": [
        "response[\"choices\"][0][\"message\"].get(\"function_call\")"
      ],
      "metadata": {
        "colab": {
          "base_uri": "https://localhost:8080/"
        },
        "id": "IPNX2MUWSrng",
        "outputId": "e7fd12f6-ed18-4125-dccc-876c24e90276"
      },
      "execution_count": null,
      "outputs": [
        {
          "output_type": "execute_result",
          "data": {
            "text/plain": [
              "<OpenAIObject at 0x7ffa56939080> JSON: {\n",
              "  \"name\": \"get_current_weather\",\n",
              "  \"arguments\": \"{\\n  \\\"location\\\": \\\"Tokyo\\\",\\n  \\\"unit\\\": \\\"celsius\\\"\\n}\"\n",
              "}"
            ]
          },
          "metadata": {},
          "execution_count": 31
        }
      ]
    },
    {
      "cell_type": "code",
      "source": [
        "response[\"choices\"][0][\"message\"][\"function_call\"][\"arguments\"]"
      ],
      "metadata": {
        "colab": {
          "base_uri": "https://localhost:8080/",
          "height": 36
        },
        "id": "HgIK53TPZehb",
        "outputId": "796761d0-05a1-4f8a-9541-35c5c9bdbf68"
      },
      "execution_count": null,
      "outputs": [
        {
          "output_type": "execute_result",
          "data": {
            "text/plain": [
              "'{\\n  \"location\": \"Tokyo\",\\n  \"unit\": \"celsius\"\\n}'"
            ],
            "application/vnd.google.colaboratory.intrinsic+json": {
              "type": "string"
            }
          },
          "metadata": {},
          "execution_count": 32
        }
      ]
    },
    {
      "cell_type": "code",
      "source": [
        "json_response = json.loads(response[\"choices\"][0][\"message\"][\"function_call\"][\"arguments\"])"
      ],
      "metadata": {
        "id": "wpRmqNONZxb7"
      },
      "execution_count": null,
      "outputs": []
    },
    {
      "cell_type": "code",
      "source": [
        "json_response[\"unit\"]"
      ],
      "metadata": {
        "colab": {
          "base_uri": "https://localhost:8080/",
          "height": 36
        },
        "id": "_DjswY4TZnHW",
        "outputId": "dc1343e6-36bb-4271-ef52-15f761427f40"
      },
      "execution_count": null,
      "outputs": [
        {
          "output_type": "execute_result",
          "data": {
            "text/plain": [
              "'celsius'"
            ],
            "application/vnd.google.colaboratory.intrinsic+json": {
              "type": "string"
            }
          },
          "metadata": {},
          "execution_count": 36
        }
      ]
    },
    {
      "cell_type": "code",
      "source": [
        "get_current_weather(location=json_response[\"location\"], unit=json_response[\"unit\"])"
      ],
      "metadata": {
        "colab": {
          "base_uri": "https://localhost:8080/",
          "height": 36
        },
        "id": "uQyWg6WPStGL",
        "outputId": "fffed57c-cd59-4c1e-a1d1-39d16b632de2"
      },
      "execution_count": null,
      "outputs": [
        {
          "output_type": "execute_result",
          "data": {
            "text/plain": [
              "'{\"location\": \"Tokyo\", \"temperature\": 25, \"unit\": \"celsius\", \"forecast\": [\"sunny\", \"windy\"]}'"
            ],
            "application/vnd.google.colaboratory.intrinsic+json": {
              "type": "string"
            }
          },
          "metadata": {},
          "execution_count": 37
        }
      ]
    },
    {
      "cell_type": "code",
      "source": [
        "function_response = get_current_weather(location=json_response[\"location\"], unit=json_response[\"unit\"])"
      ],
      "metadata": {
        "id": "OEnSAj2IZ5G7"
      },
      "execution_count": null,
      "outputs": []
    },
    {
      "cell_type": "code",
      "source": [
        "function_name = response[\"choices\"][0][\"message\"][\"function_call\"][\"name\"]"
      ],
      "metadata": {
        "id": "iNc-soagQpLU"
      },
      "execution_count": null,
      "outputs": []
    },
    {
      "cell_type": "code",
      "source": [
        "message = response[\"choices\"][0][\"message\"]"
      ],
      "metadata": {
        "id": "FkgRFpyNQaWr"
      },
      "execution_count": null,
      "outputs": []
    },
    {
      "cell_type": "code",
      "source": [
        "# 関数の結果を使って回答を生成させる\n",
        "second_response = openai.ChatCompletion.create(\n",
        "    model=\"gpt-3.5-turbo-0613\",\n",
        "    messages=[\n",
        "        {\"role\": \"user\", \"content\": \"東京の天気は何でしょうか?\"},\n",
        "        message,\n",
        "        {\n",
        "            \"role\": \"function\",\n",
        "            \"name\": function_name,\n",
        "            \"content\": function_response,\n",
        "        },\n",
        "    ],\n",
        ")\n"
      ],
      "metadata": {
        "id": "iZ-SdARFP211"
      },
      "execution_count": null,
      "outputs": []
    },
    {
      "cell_type": "code",
      "source": [
        "print(second_response[\"choices\"][0][\"message\"][\"content\"])"
      ],
      "metadata": {
        "colab": {
          "base_uri": "https://localhost:8080/"
        },
        "id": "VppSxcKoRAMf",
        "outputId": "131b23f9-c803-4038-db4c-4ef5c3a18299"
      },
      "execution_count": null,
      "outputs": [
        {
          "output_type": "stream",
          "name": "stdout",
          "text": [
            "東京の天気は晴れで、気温は摂氏25度です。また、風も強めです。\n"
          ]
        }
      ]
    },
    {
      "cell_type": "code",
      "source": [],
      "metadata": {
        "id": "9ClA_-6eP28T"
      },
      "execution_count": null,
      "outputs": []
    },
    {
      "cell_type": "code",
      "source": [],
      "metadata": {
        "id": "3VzublwgPywH"
      },
      "execution_count": null,
      "outputs": []
    },
    {
      "cell_type": "code",
      "source": [],
      "metadata": {
        "id": "-agBp_04Z5Mk"
      },
      "execution_count": null,
      "outputs": []
    },
    {
      "cell_type": "markdown",
      "source": [
        "関数が不要な質問をしてみると･･･"
      ],
      "metadata": {
        "id": "juNnU5DRZ6_0"
      }
    },
    {
      "cell_type": "code",
      "source": [
        "response = openai.ChatCompletion.create(\n",
        "    model=\"gpt-3.5-turbo-0613\",\n",
        "    messages=[{\"role\": \"user\", \"content\": \"猫を英語で言うと何ですか？\"}],\n",
        "    functions=my_functions,\n",
        "    function_call=\"auto\",\n",
        ")"
      ],
      "metadata": {
        "id": "xSboRoxhZ7EX"
      },
      "execution_count": null,
      "outputs": []
    },
    {
      "cell_type": "code",
      "source": [
        "response[\"choices\"][0][\"message\"].get(\"function_call\")"
      ],
      "metadata": {
        "id": "8ShvyWZkaBjq"
      },
      "execution_count": null,
      "outputs": []
    },
    {
      "cell_type": "code",
      "source": [
        "response[\"choices\"][0][\"message\"][\"content\"]"
      ],
      "metadata": {
        "colab": {
          "base_uri": "https://localhost:8080/",
          "height": 36
        },
        "id": "DK2AUNlXSusH",
        "outputId": "5565d95a-fc9d-46cb-a41c-6c99cbf95773"
      },
      "execution_count": null,
      "outputs": [
        {
          "output_type": "execute_result",
          "data": {
            "text/plain": [
              "'猫を英語で言うと\"cat\"です。'"
            ],
            "application/vnd.google.colaboratory.intrinsic+json": {
              "type": "string"
            }
          },
          "metadata": {},
          "execution_count": 45
        }
      ]
    },
    {
      "cell_type": "code",
      "source": [],
      "metadata": {
        "id": "HJLj73vTaENW"
      },
      "execution_count": null,
      "outputs": []
    },
    {
      "cell_type": "code",
      "source": [],
      "metadata": {
        "id": "33lsToB1aERi"
      },
      "execution_count": null,
      "outputs": []
    },
    {
      "cell_type": "markdown",
      "source": [
        "強制的に使用させることもできる"
      ],
      "metadata": {
        "id": "kFIotUunaEVS"
      }
    },
    {
      "cell_type": "code",
      "source": [
        "response = openai.ChatCompletion.create(\n",
        "    model=\"gpt-3.5-turbo-0613\",\n",
        "    messages=[{\"role\": \"user\", \"content\": \"猫を英語で言うと何ですか？\"}],\n",
        "    functions=my_functions,\n",
        "    function_call={\"name\":\"get_current_weather\"},\n",
        ")"
      ],
      "metadata": {
        "id": "KXI2edPQaEZC"
      },
      "execution_count": null,
      "outputs": []
    },
    {
      "cell_type": "code",
      "source": [
        "response[\"choices\"][0][\"message\"].get(\"function_call\")"
      ],
      "metadata": {
        "colab": {
          "base_uri": "https://localhost:8080/"
        },
        "id": "JzHF0nNDSwPe",
        "outputId": "3deb376f-cbcd-42ad-cfbd-b3c4bf9a9aee"
      },
      "execution_count": null,
      "outputs": [
        {
          "output_type": "execute_result",
          "data": {
            "text/plain": [
              "<OpenAIObject at 0x7ffa40e0efc0> JSON: {\n",
              "  \"name\": \"get_current_weather\",\n",
              "  \"arguments\": \"{\\n  \\\"location\\\": \\\"San Francisco, CA\\\",\\n  \\\"unit\\\": \\\"celsius\\\"\\n}\"\n",
              "}"
            ]
          },
          "metadata": {},
          "execution_count": 50
        }
      ]
    },
    {
      "cell_type": "code",
      "source": [
        "json.loads(response[\"choices\"][0][\"message\"][\"function_call\"][\"arguments\"])"
      ],
      "metadata": {
        "colab": {
          "base_uri": "https://localhost:8080/"
        },
        "id": "SqKbkTpmSxfM",
        "outputId": "3bc7a5ea-2ac0-4e07-d7a0-f6994dcd52b0"
      },
      "execution_count": null,
      "outputs": [
        {
          "output_type": "execute_result",
          "data": {
            "text/plain": [
              "{'location': 'San Francisco, CA', 'unit': 'celsius'}"
            ]
          },
          "metadata": {},
          "execution_count": 51
        }
      ]
    },
    {
      "cell_type": "code",
      "source": [],
      "metadata": {
        "id": "UjdrWVINZxjp"
      },
      "execution_count": null,
      "outputs": []
    },
    {
      "cell_type": "code",
      "source": [],
      "metadata": {
        "id": "pTZjbOYgSyTx"
      },
      "execution_count": null,
      "outputs": []
    },
    {
      "cell_type": "code",
      "source": [],
      "metadata": {
        "id": "b9vMmqhqSycz"
      },
      "execution_count": null,
      "outputs": []
    },
    {
      "cell_type": "code",
      "source": [],
      "metadata": {
        "id": "h5R-zgJwaVLd"
      },
      "execution_count": null,
      "outputs": []
    },
    {
      "cell_type": "code",
      "source": [],
      "metadata": {
        "id": "nQj0y860aVPr"
      },
      "execution_count": null,
      "outputs": []
    },
    {
      "cell_type": "markdown",
      "source": [
        "## まとめ\n",
        "\n",
        "1. ユーザーの入力内容を基に、GPTが関数の説明(`my_functions`)を読み、関数を使うべきか判断する。\n",
        "\n",
        "2. 判断結果によるアクション：\n",
        "    - **使わなくて良い場合**：通常通り回答生成を行う\n",
        "    - **使うべき場合**：その関数を使うために必要な引数を考える\n",
        "\n",
        "3. 必要な引数をJSON形式の文字列で出力する\n",
        "\n",
        "**注意**：②のステップでは、強制的に関数を使わせることも可能。\n"
      ],
      "metadata": {
        "id": "yZp7sgQnaVWr"
      }
    },
    {
      "cell_type": "code",
      "source": [],
      "metadata": {
        "id": "_LXDRVAoZxnd"
      },
      "execution_count": null,
      "outputs": []
    },
    {
      "cell_type": "code",
      "source": [],
      "metadata": {
        "id": "ieo3epg7aWkv"
      },
      "execution_count": null,
      "outputs": []
    },
    {
      "cell_type": "code",
      "source": [],
      "metadata": {
        "id": "7ghPTCkraWoQ"
      },
      "execution_count": null,
      "outputs": []
    },
    {
      "cell_type": "code",
      "source": [],
      "metadata": {
        "id": "7JjBz_1ZaWrh"
      },
      "execution_count": null,
      "outputs": []
    },
    {
      "cell_type": "code",
      "source": [],
      "metadata": {
        "id": "0MJ2OwChaWuz"
      },
      "execution_count": null,
      "outputs": []
    },
    {
      "cell_type": "code",
      "source": [],
      "metadata": {
        "id": "NYKN9kAAaWx2"
      },
      "execution_count": null,
      "outputs": []
    },
    {
      "cell_type": "code",
      "source": [],
      "metadata": {
        "id": "i_tSZzs6aW05"
      },
      "execution_count": null,
      "outputs": []
    },
    {
      "cell_type": "markdown",
      "source": [
        "# Function CallingでCSVから回答を生成させてみよう"
      ],
      "metadata": {
        "id": "AbZtTxkTaW3e"
      }
    },
    {
      "cell_type": "code",
      "source": [
        "import pandas as pd"
      ],
      "metadata": {
        "id": "9X42I6VXaZ2w"
      },
      "execution_count": null,
      "outputs": []
    },
    {
      "cell_type": "code",
      "source": [
        "json_list = {\n",
        "    \"商品A\": {\n",
        "        \"特徴\": \"革新的なデザインが特徴の商品Aです。スリムなボディで、持ち運びも容易です。また、高い耐久性を持ち、長期間使用することが可能です。さらに、エコフレンドリーな材料を使用して製造されています。\"\n",
        "    },\n",
        "    \"商品B\": {\n",
        "        \"特徴\": \"商品Bは独自のテクノロジーにより、効率的な性能を発揮します。充電一回で長時間使用することができ、忙しい日々にピッタリです。さらに、直感的な操作性を誇り、誰でも簡単に使いこなすことができます。\"\n",
        "    },\n",
        "    \"商品C\": {\n",
        "        \"特徴\": \"商品Cは高い解像度と鮮やかな色彩表現が魅力的です。映画鑑賞やゲームに最適で、臨場感あふれる体験を提供します。また、スタイリッシュなデザインは、どの部屋にもマッチします。\"\n",
        "    },\n",
        "    \"商品D\": {\n",
        "        \"特徴\": \"商品Dは、飛躍的に進化したバッテリーライフを誇ります。持ち運びに便利なサイズ感で、外出先でも使用可能です。さらに、強力な防水性能も兼ね備えています。\"\n",
        "    },\n",
        "    \"商品E\": {\n",
        "        \"特徴\": \"商品Eはユーザーフレンドリーなインターフェースが特徴です。初心者でも容易に操作が可能で、簡単に学べます。さらに、高いカスタマイズ性を持ち、ユーザーのニーズに応じた使い方が可能です。持続的なソフトウェアアップデートも提供しています。\"\n",
        "    },\n",
        "    \"商品F\": {\n",
        "        \"特徴\": \"商品Fは、独自の音響技術により、高品質な音を提供します。どんな音楽も深みと広がりを持って再現し、まるでライブ会場にいるかのような感覚を味わえます。軽量でコンパクトなデザインも特徴で、持ち運びも容易です。\"\n",
        "    },\n",
        "    \"商品G\": {\n",
        "        \"特徴\": \"商品Gは、エネルギー効率の良さが特徴です。高いパフォーマンスを維持しつつ、省電力化を実現しています。それにより、長時間の使用でも電力を大幅に節約できます。また、冷却機能も優れており、過熱を防ぎます。\"\n",
        "    },\n",
        "    \"商品H\": {\n",
        "        \"特徴\": \"商品Hは、精密な作業が可能な高性能なツールです。多機能でありながら直感的な操作性を持ち、様々な作業をスムーズにこなします。耐久性の高い素材で作られており、長期間の使用に耐える設計となっています。\"\n",
        "    },\n",
        "    \"商品I\": {\n",
        "        \"特徴\": \"商品Iは、画期的なクリーニング機能が特徴です。自動的に汚れを検出し、最適なクリーニング方法を選択します。その結果、ユーザーは最小限の労力で清潔な状態を維持することができます。さらに、静音設計により騒音を抑えています。\"\n",
        "    },\n",
        "    \"商品J\": {\n",
        "        \"特徴\": \"商品Jは、プロフェッショナルな仕上がりを実現する高品質な材料を使用しています。細部までこだわったデザインと、優れた耐久性が特徴です。さらに、使い心地を追求した形状と質感が、高い満足度を提供します。\"\n",
        "    },\n",
        "    \"商品K\": {\n",
        "        \"特徴\": \"商品Kは、業界をリードするパフォーマンスを発揮します。最新の技術を搭載し、一般的な製品よりも優れた処理速度と効率性を実現します。さらに、信頼性と安定性の高さが、長期間の使用に対応します。\"\n",
        "    },\n",
        "    \"商品L\": {\n",
        "        \"特徴\": \"商品Lは、健康をサポートする高精度なセンサーを搭載しています。リアルタイムで体調管理が可能で、早期の健康問題を予防します。また、使いやすいアプリと連携し、個々のニーズに対応するカスタマイズが可能です。\"\n",
        "    },\n",
        "    \"商品M\": {\n",
        "        \"特徴\": \"商品Mは、高度な通信技術により、迅速かつ安定した接続性能を実現します。データの送受信がスムーズで、オンラインでの作業やゲームに最適です。また、セキュリティ機能も充実しており、安全な通信環境を提供します。\"\n",
        "    },\n",
        "    \"商品N\": {\n",
        "        \"特徴\": \"商品Nは、シンプルかつ洗練されたデザインが特徴です。どんなインテリアにも溶け込み、お部屋の雰囲気を引き立てます。さらに、快適性を追求した設計により、長時間の使用でも快適さを維持します。\"\n",
        "    },\n",
        "    \"商品O\": {\n",
        "        \"特徴\": \"商品Oは、高精度な計測能力を持つ優れたデバイスです。一般的な製品よりも正確なデータを提供し、より信頼性の高い結果を得られます。使いやすいインターフェースと連携して、計測結果の管理と分析を容易にします。\"\n",
        "    },\n",
        "    \"商品P\": {\n",
        "        \"特徴\": \"商品Pは、創新的な3Dプリンティング技術を利用しています。自由度の高いデザインと高精度な造形が可能で、製造業から教育まで幅広い用途に対応します。また、使いやすいソフトウェアと連搐して、誰でも簡単に使用できます。\"\n",
        "    },\n",
        "    \"商品Q\": {\n",
        "        \"特徴\": \"商品Qは、最先端のAI技術を駆使した製品です。ユーザーの行動を学習し、最適な提案を行います。その結果、日々の生活がより便利で効率的になります。さらに、プライバシー保護機能も充実しており、安心して使用できます。\"\n",
        "    },\n",
        "    \"商品R\": {\n",
        "        \"特徴\": \"商品Rは、高速かつ効率的な充電技術が特徴です。一晩でフル充電が可能で、持ち運びにも適しています。また、安全性を確保するための過充電防止機能も搭載されています。\"\n",
        "    },\n",
        "    \"商品S\": {\n",
        "        \"特徴\": \"商品Sは、究極の快適性を追求したアイテムです。最高級の素材と独自の技術で、長時間の使用でも快適さを維持します。さらに、洗練されたデザインが、スタイリッシュなライフスタイルを演出します。\"\n",
        "    },\n",
        "    \"商品T\": {\n",
        "        \"特徴\": \"商品Tは、優れた保温・保冷性能を持つアイテムです。長時間にわたり飲料や食品の温度を保つことができます。また、軽量かつコンパクトなデザインで、持ち運びも容易です。耐久性も高く、長期間使用可能です。\"\n",
        "    },\n",
        "    \"商品U\": {\n",
        "        \"特徴\": \"商品Uは、独特の美しいデザインと優れた機能性を兼ね備えたアイテムです。使用時には高いパフォーマンスを発揮し、使用しない時には室内を美しく彩ります。また、環境に配慮したエコフレンドリーな素材を使用しています。\"\n",
        "    },\n",
        "    \"商品V\": {\n",
        "        \"特徴\": \"商品Vは、精密なセンサー技術により高精度な分析が可能です。実世界の情報をデジタル化し、深い洞察を提供します。それにより、より知識を深めたり、意思決定を行うことが可能となります。さらに、セキュリティ機能も充実しております。\"\n",
        "    },\n",
        "    \"商品W\": {\n",
        "        \"特徴\": \"商品Wは、軽量で強力なエンジン性能が特徴です。加速や旋回性能が優れており、スポーティな走行を楽しむことができます。また、最新の安全装備も搭載しており、安心して乗ることができます。\"\n",
        "    },\n",
        "    \"商品X\": {\n",
        "        \"特徴\": \"商品Xは、立体的な音響体験を提供するヘッドセットです。最新のサラウンド技術により、まるで現場にいるかのような音響を再現します。また、長時間の使用にも適した快適な装着感と、充電持続時間が特徴です。\"\n",
        "    },\n",
        "    \"商品Y\": {\n",
        "        \"特徴\": \"商品Yは、生活の様々なシーンで活躍する多機能ガジェットです。コンパクトながらも高性能な部品を組み込み、一つで複数の機能を果たします。持ち運びも容易で、旅行や出張などにも最適です。\"\n",
        "    },\n",
        "    \"商品Z\": {\n",
        "        \"特徴\": \"商品Zは、高速なデータ転送能力が特徴です。複数のデバイスとの同期もスムーズで、効率的なデジタルライフをサポートします。さらに、セキュリティ機能も充実しており、安心してご使用いただけます。\"\n",
        "    }\n",
        "}"
      ],
      "metadata": {
        "id": "sAcFE0YEaZ7q"
      },
      "execution_count": null,
      "outputs": []
    },
    {
      "cell_type": "code",
      "source": [
        "\"\"\"\n",
        "json_listをそのまま使用しても良いが、\n",
        "ここではExcelやcsvなどのデータを扱う場合を想定\n",
        "\"\"\"\n",
        "df = pd.DataFrame(json_list)\n",
        "df = df.T.reset_index()\n",
        "df.columns = [\"商品名\", \"特徴\"]"
      ],
      "metadata": {
        "id": "xgAUl9yveIer"
      },
      "execution_count": null,
      "outputs": []
    },
    {
      "cell_type": "code",
      "source": [
        "dict_description = dict(zip(df[\"商品名\"].values, df[\"特徴\"].values))"
      ],
      "metadata": {
        "id": "lL_M-Ae0ac5C"
      },
      "execution_count": null,
      "outputs": []
    },
    {
      "cell_type": "code",
      "source": [
        "def get_product_description(product_name):\n",
        "    \"\"\"\n",
        "    商品名から特徴を返す関数\n",
        "    \"\"\"\n",
        "    description = dict_description.get(product_name)\n",
        "    if not description:\n",
        "        description = \"該当データがありません\"\n",
        "    return description"
      ],
      "metadata": {
        "id": "8cAU7_vjaeDX"
      },
      "execution_count": null,
      "outputs": []
    },
    {
      "cell_type": "code",
      "source": [
        "def get_chatgpt_response_with_description(user_input):\n",
        "    # 与えた関数の説明を記載\n",
        "    my_functions = [\n",
        "        {\n",
        "            \"name\": \"get_product_description\",\n",
        "            \"description\": \"商品名から特徴を返す関数\",\n",
        "            \"parameters\": {\n",
        "                \"type\": \"object\",\n",
        "                \"properties\": {\n",
        "                    \"product_name\": {\n",
        "                        \"type\": \"string\",\n",
        "                        \"description\": \"商品名を抽出する。例:商品A\",\n",
        "                    },\n",
        "                },\n",
        "                \"required\": [\"product_name\"],\n",
        "            },\n",
        "        }\n",
        "    ]\n",
        "\n",
        "    response = openai.ChatCompletion.create(\n",
        "        model=\"gpt-3.5-turbo-0613\",\n",
        "        messages=[{\"role\": \"user\", \"content\": user_input}],\n",
        "        functions=my_functions,\n",
        "        function_call={\"name\": \"get_product_description\"},\n",
        "    )\n",
        "\n",
        "    message = response[\"choices\"][0][\"message\"]\n",
        "\n",
        "    # 今回は必ず使われるので無くても良い\n",
        "    if message.get(\"function_call\"):\n",
        "        function_name = message[\"function_call\"][\"name\"]\n",
        "        function_args = json.loads(message[\"function_call\"][\"arguments\"])\n",
        "\n",
        "        function_response = get_product_description(\n",
        "            product_name=function_args.get(\"product_name\"),\n",
        "        )\n",
        "\n",
        "        # 関数を使った結果を含めて回答を生成する\n",
        "        second_response = openai.ChatCompletion.create(\n",
        "            model=\"gpt-3.5-turbo-0613\",\n",
        "            messages=[\n",
        "                {\"role\": \"user\", \"content\": user_input},\n",
        "                message,\n",
        "                {\n",
        "                    \"role\": \"function\",\n",
        "                    \"name\": function_name,\n",
        "                    \"content\": function_response,\n",
        "                },\n",
        "            ],\n",
        "        )\n",
        "\n",
        "        return second_response[\"choices\"][0][\"message\"][\"content\"]"
      ],
      "metadata": {
        "id": "4pORAzPAaeHj"
      },
      "execution_count": null,
      "outputs": []
    },
    {
      "cell_type": "code",
      "source": [
        "response = get_chatgpt_response_with_description(\"商品Bについて教えてください\")"
      ],
      "metadata": {
        "id": "FMBtg_q_agIT"
      },
      "execution_count": null,
      "outputs": []
    },
    {
      "cell_type": "code",
      "source": [
        "print(response)"
      ],
      "metadata": {
        "id": "krWv0Ocyalzf",
        "colab": {
          "base_uri": "https://localhost:8080/"
        },
        "outputId": "c8f008dd-7edb-4156-bc43-ed31bfc1c142"
      },
      "execution_count": null,
      "outputs": [
        {
          "output_type": "stream",
          "name": "stdout",
          "text": [
            "商品Bは独自のテクノロジーを搭載しており、高い性能を発揮します。一回の充電で長時間使用することができ、忙しい日常生活に最適です。操作も直感的で、誰でも簡単に使いこなすことができます。\n"
          ]
        }
      ]
    },
    {
      "cell_type": "code",
      "source": [
        "response = get_chatgpt_response_with_description(\"商品Dについて教えてください\")\n",
        "print(response)"
      ],
      "metadata": {
        "colab": {
          "base_uri": "https://localhost:8080/"
        },
        "id": "UxIOjHAaiT2i",
        "outputId": "0fd45b91-a3a0-4fa2-beb8-e69c8e94daa4"
      },
      "execution_count": null,
      "outputs": [
        {
          "output_type": "stream",
          "name": "stdout",
          "text": [
            "商品Dは、持ち運びに便利なサイズ感でありながら、飛躍的に進化したバッテリーライフを誇る商品です。これにより、外出先でも長時間の使用が可能となります。また、商品Dは強力な防水性能を持っており、雨や水のかかる場面でも安心して使用することができます。商品Dは、ユーザーにとって非常に便利で信頼性の高い製品となっています。\n"
          ]
        }
      ]
    },
    {
      "cell_type": "code",
      "source": [
        "response = get_chatgpt_response_with_description(\"商品Wについて、中学生にもわかるように説明してください\")\n",
        "print(response)"
      ],
      "metadata": {
        "colab": {
          "base_uri": "https://localhost:8080/"
        },
        "id": "BXDHclaBijFE",
        "outputId": "1feab74f-82ea-4f9e-ad2a-56ac5e194db3"
      },
      "execution_count": null,
      "outputs": [
        {
          "output_type": "stream",
          "name": "stdout",
          "text": [
            "商品Wは、すごくパワフルで軽くて、速く走ることができる車です。曲がるときもすごくスムーズで、スポーツカーのような感じで楽しむことができるよ！そして、最新の安全装置もついていて、安心して乗ることができますよ！\n"
          ]
        }
      ]
    },
    {
      "cell_type": "code",
      "source": [
        "response = get_chatgpt_response_with_description(\"商品ABBについて教えてください\")\n",
        "print(response)"
      ],
      "metadata": {
        "colab": {
          "base_uri": "https://localhost:8080/"
        },
        "id": "cJxGEZjwi06-",
        "outputId": "3cca2cd8-17a0-4aea-e095-0998a450e4d6"
      },
      "execution_count": null,
      "outputs": [
        {
          "output_type": "stream",
          "name": "stdout",
          "text": [
            "商品ABBについて詳細な情報を提供することができません。具体的な商品名や説明があれば、再度お知らせいただければ幸いです。\n"
          ]
        }
      ]
    },
    {
      "cell_type": "code",
      "source": [
        "df"
      ],
      "metadata": {
        "id": "LP4Nl6QxakCv",
        "colab": {
          "base_uri": "https://localhost:8080/",
          "height": 864
        },
        "outputId": "402fb052-694e-4fd2-f272-7cac74ba851f"
      },
      "execution_count": null,
      "outputs": [
        {
          "output_type": "execute_result",
          "data": {
            "text/plain": [
              "    商品名                                                 特徴\n",
              "0   商品A  革新的なデザインが特徴の商品Aです。スリムなボディで、持ち運びも容易です。また、高い耐久性を...\n",
              "1   商品B  商品Bは独自のテクノロジーにより、効率的な性能を発揮します。充電一回で長時間使用することがで...\n",
              "2   商品C  商品Cは高い解像度と鮮やかな色彩表現が魅力的です。映画鑑賞やゲームに最適で、臨場感あふれる体...\n",
              "3   商品D  商品Dは、飛躍的に進化したバッテリーライフを誇ります。持ち運びに便利なサイズ感で、外出先でも...\n",
              "4   商品E  商品Eはユーザーフレンドリーなインターフェースが特徴です。初心者でも容易に操作が可能で、簡単...\n",
              "5   商品F  商品Fは、独自の音響技術により、高品質な音を提供します。どんな音楽も深みと広がりを持って再現...\n",
              "6   商品G  商品Gは、エネルギー効率の良さが特徴です。高いパフォーマンスを維持しつつ、省電力化を実現して...\n",
              "7   商品H  商品Hは、精密な作業が可能な高性能なツールです。多機能でありながら直感的な操作性を持ち、様々...\n",
              "8   商品I  商品Iは、画期的なクリーニング機能が特徴です。自動的に汚れを検出し、最適なクリーニング方法を...\n",
              "9   商品J  商品Jは、プロフェッショナルな仕上がりを実現する高品質な材料を使用しています。細部までこだわ...\n",
              "10  商品K  商品Kは、業界をリードするパフォーマンスを発揮します。最新の技術を搭載し、一般的な製品よりも...\n",
              "11  商品L  商品Lは、健康をサポートする高精度なセンサーを搭載しています。リアルタイムで体調管理が可能で...\n",
              "12  商品M  商品Mは、高度な通信技術により、迅速かつ安定した接続性能を実現します。データの送受信がスムー...\n",
              "13  商品N  商品Nは、シンプルかつ洗練されたデザインが特徴です。どんなインテリアにも溶け込み、お部屋の雰...\n",
              "14  商品O  商品Oは、高精度な計測能力を持つ優れたデバイスです。一般的な製品よりも正確なデータを提供し、...\n",
              "15  商品P  商品Pは、創新的な3Dプリンティング技術を利用しています。自由度の高いデザインと高精度な造形...\n",
              "16  商品Q  商品Qは、最先端のAI技術を駆使した製品です。ユーザーの行動を学習し、最適な提案を行います。...\n",
              "17  商品R  商品Rは、高速かつ効率的な充電技術が特徴です。一晩でフル充電が可能で、持ち運びにも適していま...\n",
              "18  商品S  商品Sは、究極の快適性を追求したアイテムです。最高級の素材と独自の技術で、長時間の使用でも快...\n",
              "19  商品T  商品Tは、優れた保温・保冷性能を持つアイテムです。長時間にわたり飲料や食品の温度を保つことが...\n",
              "20  商品U  商品Uは、独特の美しいデザインと優れた機能性を兼ね備えたアイテムです。使用時には高いパフォー...\n",
              "21  商品V  商品Vは、精密なセンサー技術により高精度な分析が可能です。実世界の情報をデジタル化し、深い洞...\n",
              "22  商品W  商品Wは、軽量で強力なエンジン性能が特徴です。加速や旋回性能が優れており、スポーティな走行を...\n",
              "23  商品X  商品Xは、立体的な音響体験を提供するヘッドセットです。最新のサラウンド技術により、まるで現場...\n",
              "24  商品Y  商品Yは、生活の様々なシーンで活躍する多機能ガジェットです。コンパクトながらも高性能な部品を...\n",
              "25  商品Z  商品Zは、高速なデータ転送能力が特徴です。複数のデバイスとの同期もスムーズで、効率的なデジタ..."
            ],
            "text/html": [
              "\n",
              "  <div id=\"df-b104b8a5-c768-408a-a1ed-583c59a32782\">\n",
              "    <div class=\"colab-df-container\">\n",
              "      <div>\n",
              "<style scoped>\n",
              "    .dataframe tbody tr th:only-of-type {\n",
              "        vertical-align: middle;\n",
              "    }\n",
              "\n",
              "    .dataframe tbody tr th {\n",
              "        vertical-align: top;\n",
              "    }\n",
              "\n",
              "    .dataframe thead th {\n",
              "        text-align: right;\n",
              "    }\n",
              "</style>\n",
              "<table border=\"1\" class=\"dataframe\">\n",
              "  <thead>\n",
              "    <tr style=\"text-align: right;\">\n",
              "      <th></th>\n",
              "      <th>商品名</th>\n",
              "      <th>特徴</th>\n",
              "    </tr>\n",
              "  </thead>\n",
              "  <tbody>\n",
              "    <tr>\n",
              "      <th>0</th>\n",
              "      <td>商品A</td>\n",
              "      <td>革新的なデザインが特徴の商品Aです。スリムなボディで、持ち運びも容易です。また、高い耐久性を...</td>\n",
              "    </tr>\n",
              "    <tr>\n",
              "      <th>1</th>\n",
              "      <td>商品B</td>\n",
              "      <td>商品Bは独自のテクノロジーにより、効率的な性能を発揮します。充電一回で長時間使用することがで...</td>\n",
              "    </tr>\n",
              "    <tr>\n",
              "      <th>2</th>\n",
              "      <td>商品C</td>\n",
              "      <td>商品Cは高い解像度と鮮やかな色彩表現が魅力的です。映画鑑賞やゲームに最適で、臨場感あふれる体...</td>\n",
              "    </tr>\n",
              "    <tr>\n",
              "      <th>3</th>\n",
              "      <td>商品D</td>\n",
              "      <td>商品Dは、飛躍的に進化したバッテリーライフを誇ります。持ち運びに便利なサイズ感で、外出先でも...</td>\n",
              "    </tr>\n",
              "    <tr>\n",
              "      <th>4</th>\n",
              "      <td>商品E</td>\n",
              "      <td>商品Eはユーザーフレンドリーなインターフェースが特徴です。初心者でも容易に操作が可能で、簡単...</td>\n",
              "    </tr>\n",
              "    <tr>\n",
              "      <th>5</th>\n",
              "      <td>商品F</td>\n",
              "      <td>商品Fは、独自の音響技術により、高品質な音を提供します。どんな音楽も深みと広がりを持って再現...</td>\n",
              "    </tr>\n",
              "    <tr>\n",
              "      <th>6</th>\n",
              "      <td>商品G</td>\n",
              "      <td>商品Gは、エネルギー効率の良さが特徴です。高いパフォーマンスを維持しつつ、省電力化を実現して...</td>\n",
              "    </tr>\n",
              "    <tr>\n",
              "      <th>7</th>\n",
              "      <td>商品H</td>\n",
              "      <td>商品Hは、精密な作業が可能な高性能なツールです。多機能でありながら直感的な操作性を持ち、様々...</td>\n",
              "    </tr>\n",
              "    <tr>\n",
              "      <th>8</th>\n",
              "      <td>商品I</td>\n",
              "      <td>商品Iは、画期的なクリーニング機能が特徴です。自動的に汚れを検出し、最適なクリーニング方法を...</td>\n",
              "    </tr>\n",
              "    <tr>\n",
              "      <th>9</th>\n",
              "      <td>商品J</td>\n",
              "      <td>商品Jは、プロフェッショナルな仕上がりを実現する高品質な材料を使用しています。細部までこだわ...</td>\n",
              "    </tr>\n",
              "    <tr>\n",
              "      <th>10</th>\n",
              "      <td>商品K</td>\n",
              "      <td>商品Kは、業界をリードするパフォーマンスを発揮します。最新の技術を搭載し、一般的な製品よりも...</td>\n",
              "    </tr>\n",
              "    <tr>\n",
              "      <th>11</th>\n",
              "      <td>商品L</td>\n",
              "      <td>商品Lは、健康をサポートする高精度なセンサーを搭載しています。リアルタイムで体調管理が可能で...</td>\n",
              "    </tr>\n",
              "    <tr>\n",
              "      <th>12</th>\n",
              "      <td>商品M</td>\n",
              "      <td>商品Mは、高度な通信技術により、迅速かつ安定した接続性能を実現します。データの送受信がスムー...</td>\n",
              "    </tr>\n",
              "    <tr>\n",
              "      <th>13</th>\n",
              "      <td>商品N</td>\n",
              "      <td>商品Nは、シンプルかつ洗練されたデザインが特徴です。どんなインテリアにも溶け込み、お部屋の雰...</td>\n",
              "    </tr>\n",
              "    <tr>\n",
              "      <th>14</th>\n",
              "      <td>商品O</td>\n",
              "      <td>商品Oは、高精度な計測能力を持つ優れたデバイスです。一般的な製品よりも正確なデータを提供し、...</td>\n",
              "    </tr>\n",
              "    <tr>\n",
              "      <th>15</th>\n",
              "      <td>商品P</td>\n",
              "      <td>商品Pは、創新的な3Dプリンティング技術を利用しています。自由度の高いデザインと高精度な造形...</td>\n",
              "    </tr>\n",
              "    <tr>\n",
              "      <th>16</th>\n",
              "      <td>商品Q</td>\n",
              "      <td>商品Qは、最先端のAI技術を駆使した製品です。ユーザーの行動を学習し、最適な提案を行います。...</td>\n",
              "    </tr>\n",
              "    <tr>\n",
              "      <th>17</th>\n",
              "      <td>商品R</td>\n",
              "      <td>商品Rは、高速かつ効率的な充電技術が特徴です。一晩でフル充電が可能で、持ち運びにも適していま...</td>\n",
              "    </tr>\n",
              "    <tr>\n",
              "      <th>18</th>\n",
              "      <td>商品S</td>\n",
              "      <td>商品Sは、究極の快適性を追求したアイテムです。最高級の素材と独自の技術で、長時間の使用でも快...</td>\n",
              "    </tr>\n",
              "    <tr>\n",
              "      <th>19</th>\n",
              "      <td>商品T</td>\n",
              "      <td>商品Tは、優れた保温・保冷性能を持つアイテムです。長時間にわたり飲料や食品の温度を保つことが...</td>\n",
              "    </tr>\n",
              "    <tr>\n",
              "      <th>20</th>\n",
              "      <td>商品U</td>\n",
              "      <td>商品Uは、独特の美しいデザインと優れた機能性を兼ね備えたアイテムです。使用時には高いパフォー...</td>\n",
              "    </tr>\n",
              "    <tr>\n",
              "      <th>21</th>\n",
              "      <td>商品V</td>\n",
              "      <td>商品Vは、精密なセンサー技術により高精度な分析が可能です。実世界の情報をデジタル化し、深い洞...</td>\n",
              "    </tr>\n",
              "    <tr>\n",
              "      <th>22</th>\n",
              "      <td>商品W</td>\n",
              "      <td>商品Wは、軽量で強力なエンジン性能が特徴です。加速や旋回性能が優れており、スポーティな走行を...</td>\n",
              "    </tr>\n",
              "    <tr>\n",
              "      <th>23</th>\n",
              "      <td>商品X</td>\n",
              "      <td>商品Xは、立体的な音響体験を提供するヘッドセットです。最新のサラウンド技術により、まるで現場...</td>\n",
              "    </tr>\n",
              "    <tr>\n",
              "      <th>24</th>\n",
              "      <td>商品Y</td>\n",
              "      <td>商品Yは、生活の様々なシーンで活躍する多機能ガジェットです。コンパクトながらも高性能な部品を...</td>\n",
              "    </tr>\n",
              "    <tr>\n",
              "      <th>25</th>\n",
              "      <td>商品Z</td>\n",
              "      <td>商品Zは、高速なデータ転送能力が特徴です。複数のデバイスとの同期もスムーズで、効率的なデジタ...</td>\n",
              "    </tr>\n",
              "  </tbody>\n",
              "</table>\n",
              "</div>\n",
              "      <button class=\"colab-df-convert\" onclick=\"convertToInteractive('df-b104b8a5-c768-408a-a1ed-583c59a32782')\"\n",
              "              title=\"Convert this dataframe to an interactive table.\"\n",
              "              style=\"display:none;\">\n",
              "        \n",
              "  <svg xmlns=\"http://www.w3.org/2000/svg\" height=\"24px\"viewBox=\"0 0 24 24\"\n",
              "       width=\"24px\">\n",
              "    <path d=\"M0 0h24v24H0V0z\" fill=\"none\"/>\n",
              "    <path d=\"M18.56 5.44l.94 2.06.94-2.06 2.06-.94-2.06-.94-.94-2.06-.94 2.06-2.06.94zm-11 1L8.5 8.5l.94-2.06 2.06-.94-2.06-.94L8.5 2.5l-.94 2.06-2.06.94zm10 10l.94 2.06.94-2.06 2.06-.94-2.06-.94-.94-2.06-.94 2.06-2.06.94z\"/><path d=\"M17.41 7.96l-1.37-1.37c-.4-.4-.92-.59-1.43-.59-.52 0-1.04.2-1.43.59L10.3 9.45l-7.72 7.72c-.78.78-.78 2.05 0 2.83L4 21.41c.39.39.9.59 1.41.59.51 0 1.02-.2 1.41-.59l7.78-7.78 2.81-2.81c.8-.78.8-2.07 0-2.86zM5.41 20L4 18.59l7.72-7.72 1.47 1.35L5.41 20z\"/>\n",
              "  </svg>\n",
              "      </button>\n",
              "      \n",
              "  <style>\n",
              "    .colab-df-container {\n",
              "      display:flex;\n",
              "      flex-wrap:wrap;\n",
              "      gap: 12px;\n",
              "    }\n",
              "\n",
              "    .colab-df-convert {\n",
              "      background-color: #E8F0FE;\n",
              "      border: none;\n",
              "      border-radius: 50%;\n",
              "      cursor: pointer;\n",
              "      display: none;\n",
              "      fill: #1967D2;\n",
              "      height: 32px;\n",
              "      padding: 0 0 0 0;\n",
              "      width: 32px;\n",
              "    }\n",
              "\n",
              "    .colab-df-convert:hover {\n",
              "      background-color: #E2EBFA;\n",
              "      box-shadow: 0px 1px 2px rgba(60, 64, 67, 0.3), 0px 1px 3px 1px rgba(60, 64, 67, 0.15);\n",
              "      fill: #174EA6;\n",
              "    }\n",
              "\n",
              "    [theme=dark] .colab-df-convert {\n",
              "      background-color: #3B4455;\n",
              "      fill: #D2E3FC;\n",
              "    }\n",
              "\n",
              "    [theme=dark] .colab-df-convert:hover {\n",
              "      background-color: #434B5C;\n",
              "      box-shadow: 0px 1px 3px 1px rgba(0, 0, 0, 0.15);\n",
              "      filter: drop-shadow(0px 1px 2px rgba(0, 0, 0, 0.3));\n",
              "      fill: #FFFFFF;\n",
              "    }\n",
              "  </style>\n",
              "\n",
              "      <script>\n",
              "        const buttonEl =\n",
              "          document.querySelector('#df-b104b8a5-c768-408a-a1ed-583c59a32782 button.colab-df-convert');\n",
              "        buttonEl.style.display =\n",
              "          google.colab.kernel.accessAllowed ? 'block' : 'none';\n",
              "\n",
              "        async function convertToInteractive(key) {\n",
              "          const element = document.querySelector('#df-b104b8a5-c768-408a-a1ed-583c59a32782');\n",
              "          const dataTable =\n",
              "            await google.colab.kernel.invokeFunction('convertToInteractive',\n",
              "                                                     [key], {});\n",
              "          if (!dataTable) return;\n",
              "\n",
              "          const docLinkHtml = 'Like what you see? Visit the ' +\n",
              "            '<a target=\"_blank\" href=https://colab.research.google.com/notebooks/data_table.ipynb>data table notebook</a>'\n",
              "            + ' to learn more about interactive tables.';\n",
              "          element.innerHTML = '';\n",
              "          dataTable['output_type'] = 'display_data';\n",
              "          await google.colab.output.renderOutput(dataTable, element);\n",
              "          const docLink = document.createElement('div');\n",
              "          docLink.innerHTML = docLinkHtml;\n",
              "          element.appendChild(docLink);\n",
              "        }\n",
              "      </script>\n",
              "    </div>\n",
              "  </div>\n",
              "  "
            ]
          },
          "metadata": {},
          "execution_count": 85
        }
      ]
    },
    {
      "cell_type": "code",
      "source": [],
      "metadata": {
        "id": "rLMroV5dakGR"
      },
      "execution_count": null,
      "outputs": []
    },
    {
      "cell_type": "code",
      "source": [],
      "metadata": {
        "id": "fwjMD9fmaiS9"
      },
      "execution_count": null,
      "outputs": []
    },
    {
      "cell_type": "code",
      "source": [],
      "metadata": {
        "id": "Hbtx5ZWHagOT"
      },
      "execution_count": null,
      "outputs": []
    },
    {
      "cell_type": "code",
      "source": [],
      "metadata": {
        "id": "19qgBGRUagRV"
      },
      "execution_count": null,
      "outputs": []
    },
    {
      "cell_type": "code",
      "source": [],
      "metadata": {
        "id": "K2AyavMeagU3"
      },
      "execution_count": null,
      "outputs": []
    },
    {
      "cell_type": "code",
      "source": [],
      "metadata": {
        "id": "kzydpL2sagX6"
      },
      "execution_count": null,
      "outputs": []
    },
    {
      "cell_type": "code",
      "source": [],
      "metadata": {
        "id": "v5QDL6cfaeK4"
      },
      "execution_count": null,
      "outputs": []
    },
    {
      "cell_type": "code",
      "source": [],
      "metadata": {
        "id": "3fqetjUEaeM7"
      },
      "execution_count": null,
      "outputs": []
    },
    {
      "cell_type": "code",
      "source": [],
      "metadata": {
        "id": "nAnTJKmsadBs"
      },
      "execution_count": null,
      "outputs": []
    },
    {
      "cell_type": "code",
      "source": [],
      "metadata": {
        "id": "KRJ2KnVOaZ-r"
      },
      "execution_count": null,
      "outputs": []
    },
    {
      "cell_type": "code",
      "source": [],
      "metadata": {
        "id": "V2Sm3NwEaaBC"
      },
      "execution_count": null,
      "outputs": []
    },
    {
      "cell_type": "code",
      "source": [],
      "metadata": {
        "id": "pkpS1TuZaaD4"
      },
      "execution_count": null,
      "outputs": []
    },
    {
      "cell_type": "code",
      "source": [],
      "metadata": {
        "id": "HAkIqj_jaaJe"
      },
      "execution_count": null,
      "outputs": []
    }
  ]
}