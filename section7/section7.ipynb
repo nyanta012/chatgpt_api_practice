{
  "nbformat": 4,
  "nbformat_minor": 0,
  "metadata": {
    "colab": {
      "provenance": [],
      "include_colab_link": true
    },
    "kernelspec": {
      "name": "python3",
      "display_name": "Python 3"
    },
    "language_info": {
      "name": "python"
    }
  },
  "cells": [
    {
      "cell_type": "markdown",
      "metadata": {
        "id": "view-in-github",
        "colab_type": "text"
      },
      "source": [
        "<a href=\"https://colab.research.google.com/github/nyanta012/chatgpt_api_practice/blob/main/section7/section7.ipynb\" target=\"_parent\"><img src=\"https://colab.research.google.com/assets/colab-badge.svg\" alt=\"Open In Colab\"/></a>"
      ]
    },
    {
      "cell_type": "markdown",
      "source": [
        "# Google Colaboratoryのショートカットキー\n",
        "1. **現在のセルを実行し、次のセルを選択**: `Shift + Enter`\n",
        "2. **コードセルをテキストセルにする**: `Ctrl + M M`\n",
        "3. **コードセルを上に追加**: `Ctrl + M A`\n",
        "4. **コードセルを下に追加**: `Ctrl + M B`\n",
        "5. **セルの削除**: `Ctrl + M D`"
      ],
      "metadata": {
        "id": "ttC8a66lNZ-8"
      }
    },
    {
      "cell_type": "code",
      "source": [],
      "metadata": {
        "id": "3bXFbISJNa7y"
      },
      "execution_count": null,
      "outputs": []
    },
    {
      "cell_type": "markdown",
      "source": [
        "# API KEYの設定"
      ],
      "metadata": {
        "id": "QD1Cy0xmNcSn"
      }
    },
    {
      "cell_type": "code",
      "source": [
        "%%capture\n",
        "!pip install openai==1.3.5"
      ],
      "metadata": {
        "id": "PC-MDGRNZu0-"
      },
      "execution_count": null,
      "outputs": []
    },
    {
      "cell_type": "code",
      "execution_count": null,
      "metadata": {
        "id": "I3HYGeB4ZNBJ",
        "colab": {
          "base_uri": "https://localhost:8080/"
        },
        "outputId": "2099eb22-ac4a-49f7-d850-980a2d121e77"
      },
      "outputs": [
        {
          "name": "stdout",
          "output_type": "stream",
          "text": [
            "OpenAIのAPIキーを入力してください··········\n"
          ]
        }
      ],
      "source": [
        "import getpass\n",
        "import json\n",
        "\n",
        "from openai import OpenAI\n",
        "from IPython.display import Markdown, display\n",
        "\n",
        "apikey = getpass.getpass(prompt=\"OpenAIのAPIキーを入力してください\")\n",
        "client = OpenAI(api_key=apikey)"
      ]
    },
    {
      "cell_type": "markdown",
      "source": [
        "**Function Callingとは･･･**\n",
        "　簡単に言うと、ユーザーの入力文から外部の関数を利用できる形式(JSON形式)に変換する機能"
      ],
      "metadata": {
        "id": "uS7SvXjdZfNA"
      }
    },
    {
      "cell_type": "code",
      "source": [
        "# 使いたい外部の関数を定義\n",
        "def get_current_weather(location, unit) -> str:\n",
        "    \"\"\"Get the current weather in a given location\"\"\"\n",
        "    weather_info = {\n",
        "        \"location\": location,\n",
        "        \"temperature\": 25,\n",
        "        \"unit\": unit,\n",
        "        \"forecast\": [\"sunny\", \"windy\"],\n",
        "    }\n",
        "    return json.dumps(weather_info)"
      ],
      "metadata": {
        "id": "7vy4WC5VZaeY"
      },
      "execution_count": null,
      "outputs": []
    },
    {
      "cell_type": "code",
      "source": [
        "# 与えた関数の説明を記載\n",
        "my_functions = [\n",
        "    {\n",
        "        \"name\": \"get_current_weather\",\n",
        "        \"description\": \"Get the current weather\",\n",
        "        \"parameters\": {\n",
        "            \"type\": \"object\",\n",
        "            \"properties\": {\n",
        "                \"location\": {\n",
        "                    \"type\": \"string\",\n",
        "                    \"description\": \"The city and state, e.g. San Francisco, CA\",\n",
        "                },\n",
        "                \"unit\": {\n",
        "                    \"type\": \"string\",\n",
        "                    \"enum\": [\"celsius\", \"fahrenheit\"],\n",
        "                    \"description\": \"The temperature unit to use. Infer this from the users location.\",\n",
        "                },\n",
        "            },\n",
        "            \"required\": [\"location\", \"unit\"],\n",
        "        },\n",
        "    }\n",
        "]"
      ],
      "metadata": {
        "id": "cAj-1iU5Zaku"
      },
      "execution_count": null,
      "outputs": []
    },
    {
      "cell_type": "code",
      "source": [
        "response = client.chat.completions.create(\n",
        "    model=\"gpt-3.5-turbo-1106\",\n",
        "    messages=[{\"role\": \"user\", \"content\": \"東京の天気は何でしょうか?\"}],\n",
        "    functions=my_functions,\n",
        "    function_call=\"auto\",\n",
        "    seed=0\n",
        ")"
      ],
      "metadata": {
        "id": "ePOU7wHaZaos"
      },
      "execution_count": null,
      "outputs": []
    },
    {
      "cell_type": "code",
      "source": [
        "response.choices[0].message.function_call"
      ],
      "metadata": {
        "colab": {
          "base_uri": "https://localhost:8080/"
        },
        "id": "IPNX2MUWSrng",
        "outputId": "4f0e53d6-37e6-40fa-cda8-dbc83245b59a"
      },
      "execution_count": null,
      "outputs": [
        {
          "output_type": "execute_result",
          "data": {
            "text/plain": [
              "FunctionCall(arguments='{\"location\":\"Tokyo, Japan\",\"unit\":\"celsius\"}', name='get_current_weather')"
            ]
          },
          "metadata": {},
          "execution_count": 39
        }
      ]
    },
    {
      "cell_type": "code",
      "source": [
        "response.choices[0].message.function_call.arguments"
      ],
      "metadata": {
        "colab": {
          "base_uri": "https://localhost:8080/",
          "height": 35
        },
        "id": "TuXqlAQR-ZdO",
        "outputId": "4762e1a3-cd30-4251-fd4d-f8e51fdf588d"
      },
      "execution_count": null,
      "outputs": [
        {
          "output_type": "execute_result",
          "data": {
            "text/plain": [
              "'{\"location\":\"Tokyo, Japan\",\"unit\":\"celsius\"}'"
            ],
            "application/vnd.google.colaboratory.intrinsic+json": {
              "type": "string"
            }
          },
          "metadata": {},
          "execution_count": 40
        }
      ]
    },
    {
      "cell_type": "code",
      "source": [
        "json_response = json.loads(response.choices[0].message.function_call.arguments)"
      ],
      "metadata": {
        "id": "wpRmqNONZxb7"
      },
      "execution_count": null,
      "outputs": []
    },
    {
      "cell_type": "code",
      "source": [
        "json_response[\"unit\"]"
      ],
      "metadata": {
        "colab": {
          "base_uri": "https://localhost:8080/",
          "height": 35
        },
        "id": "_DjswY4TZnHW",
        "outputId": "4dba815f-a349-424a-89ec-f16f5e3fecf3"
      },
      "execution_count": null,
      "outputs": [
        {
          "output_type": "execute_result",
          "data": {
            "text/plain": [
              "'celsius'"
            ],
            "application/vnd.google.colaboratory.intrinsic+json": {
              "type": "string"
            }
          },
          "metadata": {},
          "execution_count": 42
        }
      ]
    },
    {
      "cell_type": "code",
      "source": [
        "get_current_weather(location=json_response[\"location\"], unit=json_response[\"unit\"])"
      ],
      "metadata": {
        "colab": {
          "base_uri": "https://localhost:8080/",
          "height": 35
        },
        "id": "uQyWg6WPStGL",
        "outputId": "9e6658f4-1a1a-43d5-cbcd-98458e4e7c97"
      },
      "execution_count": null,
      "outputs": [
        {
          "output_type": "execute_result",
          "data": {
            "text/plain": [
              "'{\"location\": \"Tokyo, Japan\", \"temperature\": 25, \"unit\": \"celsius\", \"forecast\": [\"sunny\", \"windy\"]}'"
            ],
            "application/vnd.google.colaboratory.intrinsic+json": {
              "type": "string"
            }
          },
          "metadata": {},
          "execution_count": 43
        }
      ]
    },
    {
      "cell_type": "code",
      "source": [
        "function_response = get_current_weather(location=json_response[\"location\"], unit=json_response[\"unit\"])"
      ],
      "metadata": {
        "id": "OEnSAj2IZ5G7"
      },
      "execution_count": null,
      "outputs": []
    },
    {
      "cell_type": "code",
      "source": [
        "function_name = response.choices[0].message.function_call.name"
      ],
      "metadata": {
        "id": "iNc-soagQpLU"
      },
      "execution_count": null,
      "outputs": []
    },
    {
      "cell_type": "code",
      "source": [
        "message = response.choices[0].message"
      ],
      "metadata": {
        "id": "FkgRFpyNQaWr"
      },
      "execution_count": null,
      "outputs": []
    },
    {
      "cell_type": "code",
      "source": [
        "# 関数の結果を使って回答を生成させる\n",
        "second_response = client.chat.completions.create(\n",
        "    model=\"gpt-3.5-turbo-1106\",\n",
        "    messages=[\n",
        "        {\"role\": \"user\", \"content\": \"東京の天気は何でしょうか?\"},\n",
        "        message,\n",
        "        {\n",
        "            \"role\": \"function\",\n",
        "            \"name\": function_name,\n",
        "            \"content\": function_response,\n",
        "        },\n",
        "    ],\n",
        "    seed=0\n",
        ")\n"
      ],
      "metadata": {
        "id": "iZ-SdARFP211"
      },
      "execution_count": null,
      "outputs": []
    },
    {
      "cell_type": "code",
      "source": [
        "print(second_response.choices[0].message.content)"
      ],
      "metadata": {
        "colab": {
          "base_uri": "https://localhost:8080/"
        },
        "id": "VppSxcKoRAMf",
        "outputId": "ad53211c-79be-44c8-c77c-8545b8a0448f"
      },
      "execution_count": null,
      "outputs": [
        {
          "output_type": "stream",
          "name": "stdout",
          "text": [
            "東京の天気は晴れで、気温は摂氏25度です。また、風も強いようです。\n"
          ]
        }
      ]
    },
    {
      "cell_type": "code",
      "source": [],
      "metadata": {
        "id": "9ClA_-6eP28T"
      },
      "execution_count": null,
      "outputs": []
    },
    {
      "cell_type": "code",
      "source": [],
      "metadata": {
        "id": "3VzublwgPywH"
      },
      "execution_count": null,
      "outputs": []
    },
    {
      "cell_type": "code",
      "source": [],
      "metadata": {
        "id": "-agBp_04Z5Mk"
      },
      "execution_count": null,
      "outputs": []
    },
    {
      "cell_type": "markdown",
      "source": [
        "関数が不要な質問をしてみると･･･"
      ],
      "metadata": {
        "id": "juNnU5DRZ6_0"
      }
    },
    {
      "cell_type": "code",
      "source": [
        "response = client.chat.completions.create(\n",
        "    model=\"gpt-3.5-turbo-1106\",\n",
        "    messages=[{\"role\": \"user\", \"content\": \"猫を英語で言うと何ですか？\"}],\n",
        "    functions=my_functions,\n",
        "    function_call=\"auto\",\n",
        "    seed=0\n",
        ")"
      ],
      "metadata": {
        "id": "xSboRoxhZ7EX"
      },
      "execution_count": null,
      "outputs": []
    },
    {
      "cell_type": "code",
      "source": [
        "response.choices[0].message.function_call"
      ],
      "metadata": {
        "id": "8ShvyWZkaBjq"
      },
      "execution_count": null,
      "outputs": []
    },
    {
      "cell_type": "code",
      "source": [
        "response.choices[0].message.content"
      ],
      "metadata": {
        "colab": {
          "base_uri": "https://localhost:8080/",
          "height": 35
        },
        "id": "DK2AUNlXSusH",
        "outputId": "e214fb37-6c14-4bae-b018-2e4a7bbc7230"
      },
      "execution_count": null,
      "outputs": [
        {
          "output_type": "execute_result",
          "data": {
            "text/plain": [
              "'\"猫\"を英語で言うと \"cat\" です。'"
            ],
            "application/vnd.google.colaboratory.intrinsic+json": {
              "type": "string"
            }
          },
          "metadata": {},
          "execution_count": 51
        }
      ]
    },
    {
      "cell_type": "code",
      "source": [],
      "metadata": {
        "id": "HJLj73vTaENW"
      },
      "execution_count": null,
      "outputs": []
    },
    {
      "cell_type": "code",
      "source": [],
      "metadata": {
        "id": "33lsToB1aERi"
      },
      "execution_count": null,
      "outputs": []
    },
    {
      "cell_type": "markdown",
      "source": [
        "強制的に使用させることもできる"
      ],
      "metadata": {
        "id": "kFIotUunaEVS"
      }
    },
    {
      "cell_type": "code",
      "source": [
        "response = client.chat.completions.create(\n",
        "    model=\"gpt-3.5-turbo-1106\",\n",
        "    messages=[{\"role\": \"user\", \"content\": \"猫を英語で言うと何ですか？\"}],\n",
        "    functions=my_functions,\n",
        "    function_call={\"name\":\"get_current_weather\"},\n",
        "    seed=0\n",
        ")"
      ],
      "metadata": {
        "id": "KXI2edPQaEZC"
      },
      "execution_count": null,
      "outputs": []
    },
    {
      "cell_type": "code",
      "source": [
        "response.choices[0].message.function_call"
      ],
      "metadata": {
        "colab": {
          "base_uri": "https://localhost:8080/"
        },
        "id": "JzHF0nNDSwPe",
        "outputId": "a5cfb315-f947-40bb-ff2c-ae14371c7b28"
      },
      "execution_count": null,
      "outputs": [
        {
          "output_type": "execute_result",
          "data": {
            "text/plain": [
              "FunctionCall(arguments='{\"location\":\"San Francisco, CA\",\"unit\":\"celsius\"}', name='get_current_weather')"
            ]
          },
          "metadata": {},
          "execution_count": 53
        }
      ]
    },
    {
      "cell_type": "code",
      "source": [
        "json.loads(response.choices[0].message.function_call.arguments)"
      ],
      "metadata": {
        "colab": {
          "base_uri": "https://localhost:8080/"
        },
        "id": "SqKbkTpmSxfM",
        "outputId": "a509d715-5855-4b1c-e0ce-3fda5f2c6bad"
      },
      "execution_count": null,
      "outputs": [
        {
          "output_type": "execute_result",
          "data": {
            "text/plain": [
              "{'location': 'San Francisco, CA', 'unit': 'celsius'}"
            ]
          },
          "metadata": {},
          "execution_count": 54
        }
      ]
    },
    {
      "cell_type": "markdown",
      "source": [
        "## まとめ\n",
        "\n",
        "1. ユーザーの入力内容を基に、GPTが関数の説明(`my_functions`)を読み、関数を使うべきか判断する。\n",
        "\n",
        "2. 判断結果によるアクション：\n",
        "    - **使わなくて良い場合**：通常通り回答生成を行う\n",
        "    - **使うべき場合**：その関数を使うために必要な引数を考える\n",
        "\n",
        "3. 必要な引数をJSON形式の文字列で出力する\n",
        "\n",
        "**注意**：②のステップでは、強制的に関数を使わせることも可能。\n"
      ],
      "metadata": {
        "id": "yZp7sgQnaVWr"
      }
    },
    {
      "cell_type": "code",
      "source": [],
      "metadata": {
        "id": "i_tSZzs6aW05"
      },
      "execution_count": null,
      "outputs": []
    },
    {
      "cell_type": "markdown",
      "source": [
        "# Function CallingでCSVから回答を生成させてみよう"
      ],
      "metadata": {
        "id": "AbZtTxkTaW3e"
      }
    },
    {
      "cell_type": "code",
      "source": [
        "import pandas as pd"
      ],
      "metadata": {
        "id": "9X42I6VXaZ2w"
      },
      "execution_count": null,
      "outputs": []
    },
    {
      "cell_type": "code",
      "source": [
        "json_list = {\n",
        "    \"商品A\": {\n",
        "        \"特徴\": \"革新的なデザインが特徴の商品Aです。スリムなボディで、持ち運びも容易です。また、高い耐久性を持ち、長期間使用することが可能です。さらに、エコフレンドリーな材料を使用して製造されています。\"\n",
        "    },\n",
        "    \"商品B\": {\n",
        "        \"特徴\": \"商品Bは独自のテクノロジーにより、効率的な性能を発揮します。充電一回で長時間使用することができ、忙しい日々にピッタリです。さらに、直感的な操作性を誇り、誰でも簡単に使いこなすことができます。\"\n",
        "    },\n",
        "    \"商品C\": {\n",
        "        \"特徴\": \"商品Cは高い解像度と鮮やかな色彩表現が魅力的です。映画鑑賞やゲームに最適で、臨場感あふれる体験を提供します。また、スタイリッシュなデザインは、どの部屋にもマッチします。\"\n",
        "    },\n",
        "    \"商品D\": {\n",
        "        \"特徴\": \"商品Dは、飛躍的に進化したバッテリーライフを誇ります。持ち運びに便利なサイズ感で、外出先でも使用可能です。さらに、強力な防水性能も兼ね備えています。\"\n",
        "    },\n",
        "    \"商品E\": {\n",
        "        \"特徴\": \"商品Eはユーザーフレンドリーなインターフェースが特徴です。初心者でも容易に操作が可能で、簡単に学べます。さらに、高いカスタマイズ性を持ち、ユーザーのニーズに応じた使い方が可能です。持続的なソフトウェアアップデートも提供しています。\"\n",
        "    },\n",
        "    \"商品F\": {\n",
        "        \"特徴\": \"商品Fは、独自の音響技術により、高品質な音を提供します。どんな音楽も深みと広がりを持って再現し、まるでライブ会場にいるかのような感覚を味わえます。軽量でコンパクトなデザインも特徴で、持ち運びも容易です。\"\n",
        "    },\n",
        "    \"商品G\": {\n",
        "        \"特徴\": \"商品Gは、エネルギー効率の良さが特徴です。高いパフォーマンスを維持しつつ、省電力化を実現しています。それにより、長時間の使用でも電力を大幅に節約できます。また、冷却機能も優れており、過熱を防ぎます。\"\n",
        "    },\n",
        "    \"商品H\": {\n",
        "        \"特徴\": \"商品Hは、精密な作業が可能な高性能なツールです。多機能でありながら直感的な操作性を持ち、様々な作業をスムーズにこなします。耐久性の高い素材で作られており、長期間の使用に耐える設計となっています。\"\n",
        "    },\n",
        "    \"商品I\": {\n",
        "        \"特徴\": \"商品Iは、画期的なクリーニング機能が特徴です。自動的に汚れを検出し、最適なクリーニング方法を選択します。その結果、ユーザーは最小限の労力で清潔な状態を維持することができます。さらに、静音設計により騒音を抑えています。\"\n",
        "    },\n",
        "    \"商品J\": {\n",
        "        \"特徴\": \"商品Jは、プロフェッショナルな仕上がりを実現する高品質な材料を使用しています。細部までこだわったデザインと、優れた耐久性が特徴です。さらに、使い心地を追求した形状と質感が、高い満足度を提供します。\"\n",
        "    },\n",
        "    \"商品K\": {\n",
        "        \"特徴\": \"商品Kは、業界をリードするパフォーマンスを発揮します。最新の技術を搭載し、一般的な製品よりも優れた処理速度と効率性を実現します。さらに、信頼性と安定性の高さが、長期間の使用に対応します。\"\n",
        "    },\n",
        "    \"商品L\": {\n",
        "        \"特徴\": \"商品Lは、健康をサポートする高精度なセンサーを搭載しています。リアルタイムで体調管理が可能で、早期の健康問題を予防します。また、使いやすいアプリと連携し、個々のニーズに対応するカスタマイズが可能です。\"\n",
        "    },\n",
        "    \"商品M\": {\n",
        "        \"特徴\": \"商品Mは、高度な通信技術により、迅速かつ安定した接続性能を実現します。データの送受信がスムーズで、オンラインでの作業やゲームに最適です。また、セキュリティ機能も充実しており、安全な通信環境を提供します。\"\n",
        "    },\n",
        "    \"商品N\": {\n",
        "        \"特徴\": \"商品Nは、シンプルかつ洗練されたデザインが特徴です。どんなインテリアにも溶け込み、お部屋の雰囲気を引き立てます。さらに、快適性を追求した設計により、長時間の使用でも快適さを維持します。\"\n",
        "    },\n",
        "    \"商品O\": {\n",
        "        \"特徴\": \"商品Oは、高精度な計測能力を持つ優れたデバイスです。一般的な製品よりも正確なデータを提供し、より信頼性の高い結果を得られます。使いやすいインターフェースと連携して、計測結果の管理と分析を容易にします。\"\n",
        "    },\n",
        "    \"商品P\": {\n",
        "        \"特徴\": \"商品Pは、創新的な3Dプリンティング技術を利用しています。自由度の高いデザインと高精度な造形が可能で、製造業から教育まで幅広い用途に対応します。また、使いやすいソフトウェアと連搐して、誰でも簡単に使用できます。\"\n",
        "    },\n",
        "    \"商品Q\": {\n",
        "        \"特徴\": \"商品Qは、最先端のAI技術を駆使した製品です。ユーザーの行動を学習し、最適な提案を行います。その結果、日々の生活がより便利で効率的になります。さらに、プライバシー保護機能も充実しており、安心して使用できます。\"\n",
        "    },\n",
        "    \"商品R\": {\n",
        "        \"特徴\": \"商品Rは、高速かつ効率的な充電技術が特徴です。一晩でフル充電が可能で、持ち運びにも適しています。また、安全性を確保するための過充電防止機能も搭載されています。\"\n",
        "    },\n",
        "    \"商品S\": {\n",
        "        \"特徴\": \"商品Sは、究極の快適性を追求したアイテムです。最高級の素材と独自の技術で、長時間の使用でも快適さを維持します。さらに、洗練されたデザインが、スタイリッシュなライフスタイルを演出します。\"\n",
        "    },\n",
        "    \"商品T\": {\n",
        "        \"特徴\": \"商品Tは、優れた保温・保冷性能を持つアイテムです。長時間にわたり飲料や食品の温度を保つことができます。また、軽量かつコンパクトなデザインで、持ち運びも容易です。耐久性も高く、長期間使用可能です。\"\n",
        "    },\n",
        "    \"商品U\": {\n",
        "        \"特徴\": \"商品Uは、独特の美しいデザインと優れた機能性を兼ね備えたアイテムです。使用時には高いパフォーマンスを発揮し、使用しない時には室内を美しく彩ります。また、環境に配慮したエコフレンドリーな素材を使用しています。\"\n",
        "    },\n",
        "    \"商品V\": {\n",
        "        \"特徴\": \"商品Vは、精密なセンサー技術により高精度な分析が可能です。実世界の情報をデジタル化し、深い洞察を提供します。それにより、より知識を深めたり、意思決定を行うことが可能となります。さらに、セキュリティ機能も充実しております。\"\n",
        "    },\n",
        "    \"商品W\": {\n",
        "        \"特徴\": \"商品Wは、軽量で強力なエンジン性能が特徴です。加速や旋回性能が優れており、スポーティな走行を楽しむことができます。また、最新の安全装備も搭載しており、安心して乗ることができます。\"\n",
        "    },\n",
        "    \"商品X\": {\n",
        "        \"特徴\": \"商品Xは、立体的な音響体験を提供するヘッドセットです。最新のサラウンド技術により、まるで現場にいるかのような音響を再現します。また、長時間の使用にも適した快適な装着感と、充電持続時間が特徴です。\"\n",
        "    },\n",
        "    \"商品Y\": {\n",
        "        \"特徴\": \"商品Yは、生活の様々なシーンで活躍する多機能ガジェットです。コンパクトながらも高性能な部品を組み込み、一つで複数の機能を果たします。持ち運びも容易で、旅行や出張などにも最適です。\"\n",
        "    },\n",
        "    \"商品Z\": {\n",
        "        \"特徴\": \"商品Zは、高速なデータ転送能力が特徴です。複数のデバイスとの同期もスムーズで、効率的なデジタルライフをサポートします。さらに、セキュリティ機能も充実しており、安心してご使用いただけます。\"\n",
        "    }\n",
        "}"
      ],
      "metadata": {
        "id": "sAcFE0YEaZ7q"
      },
      "execution_count": null,
      "outputs": []
    },
    {
      "cell_type": "code",
      "source": [
        "\"\"\"\n",
        "json_listをそのまま使用しても良いが、\n",
        "ここではExcelやcsvなどのデータを扱う場合を想定\n",
        "\"\"\"\n",
        "df = pd.DataFrame(json_list)\n",
        "df = df.T.reset_index()\n",
        "df.columns = [\"商品名\", \"特徴\"]"
      ],
      "metadata": {
        "id": "xgAUl9yveIer"
      },
      "execution_count": null,
      "outputs": []
    },
    {
      "cell_type": "code",
      "source": [
        "dict_description = dict(zip(df[\"商品名\"].values, df[\"特徴\"].values))"
      ],
      "metadata": {
        "id": "lL_M-Ae0ac5C"
      },
      "execution_count": null,
      "outputs": []
    },
    {
      "cell_type": "code",
      "source": [
        "def get_product_description(product_name: str) -> str:\n",
        "    \"\"\"\n",
        "    商品名から特徴を返す関数\n",
        "    \"\"\"\n",
        "    description = dict_description.get(product_name)\n",
        "    if not description:\n",
        "        description = \"該当データがありません\"\n",
        "    return description"
      ],
      "metadata": {
        "id": "8cAU7_vjaeDX"
      },
      "execution_count": null,
      "outputs": []
    },
    {
      "cell_type": "code",
      "source": [
        "def get_chatgpt_response_with_description(user_input: str) -> str:\n",
        "    # 与えた関数の説明を記載\n",
        "    my_functions = [\n",
        "        {\n",
        "            \"name\": \"get_product_description\",\n",
        "            \"description\": \"商品名から特徴を返す関数\",\n",
        "            \"parameters\": {\n",
        "                \"type\": \"object\",\n",
        "                \"properties\": {\n",
        "                    \"product_name\": {\n",
        "                        \"type\": \"string\",\n",
        "                        \"description\": \"商品名を抽出する。例:商品A\",\n",
        "                    },\n",
        "                },\n",
        "                \"required\": [\"product_name\"],\n",
        "            },\n",
        "        }\n",
        "    ]\n",
        "\n",
        "    response = client.chat.completions.create(\n",
        "        model=\"gpt-3.5-turbo-1106\",\n",
        "        messages=[{\"role\": \"user\", \"content\": user_input}],\n",
        "        functions=my_functions,\n",
        "        function_call={\"name\": \"get_product_description\"},\n",
        "        seed=0\n",
        "    )\n",
        "\n",
        "    message = response.choices[0].message\n",
        "\n",
        "    # 今回は必ず使われるので無くても良い\n",
        "    if message.function_call:\n",
        "        function_name = message.function_call.name\n",
        "        function_args = json.loads(message.function_call.arguments)\n",
        "\n",
        "        function_response = get_product_description(\n",
        "            product_name=function_args[\"product_name\"],\n",
        "        )\n",
        "\n",
        "        # 関数を使った結果を含めて回答を生成する\n",
        "        second_response = client.chat.completions.create(\n",
        "            model=\"gpt-3.5-turbo-1106\",\n",
        "            messages=[\n",
        "                {\"role\": \"user\", \"content\": user_input},\n",
        "                message,\n",
        "                {\n",
        "                    \"role\": \"function\",\n",
        "                    \"name\": function_name,\n",
        "                    \"content\": function_response,\n",
        "                },\n",
        "            ],\n",
        "            seed=0\n",
        "        )\n",
        "\n",
        "        return second_response.choices[0].message.content"
      ],
      "metadata": {
        "id": "4pORAzPAaeHj"
      },
      "execution_count": null,
      "outputs": []
    },
    {
      "cell_type": "code",
      "source": [
        "response = get_chatgpt_response_with_description(\"商品Bについて教えてください\")"
      ],
      "metadata": {
        "id": "FMBtg_q_agIT"
      },
      "execution_count": null,
      "outputs": []
    },
    {
      "cell_type": "code",
      "source": [
        "print(response)"
      ],
      "metadata": {
        "id": "krWv0Ocyalzf",
        "colab": {
          "base_uri": "https://localhost:8080/"
        },
        "outputId": "2c863249-21ce-4f17-dd06-535fe3fa5e25"
      },
      "execution_count": null,
      "outputs": [
        {
          "output_type": "stream",
          "name": "stdout",
          "text": [
            "商品Bは独自のテクノロジーにより、効率的な性能を発揮する商品です。充電一回で長時間使用することができ、直感的な操作性を誇り、誰でも簡単に使いこなすことができます。忙しい日々にピッタリな商品です。\n"
          ]
        }
      ]
    },
    {
      "cell_type": "code",
      "source": [
        "response = get_chatgpt_response_with_description(\"商品Dについて教えてください\")\n",
        "print(response)"
      ],
      "metadata": {
        "colab": {
          "base_uri": "https://localhost:8080/"
        },
        "id": "UxIOjHAaiT2i",
        "outputId": "df90513c-dc54-4af8-8c5f-d621fdcf3e27"
      },
      "execution_count": null,
      "outputs": [
        {
          "output_type": "stream",
          "name": "stdout",
          "text": [
            "商品Dは、飛躍的に進化したバッテリーライフを誇ります。持ち運びに便利なサイズ感で、外出先でも使用可能です。さらに、強力な防水性能も兼ね備えています。\n"
          ]
        }
      ]
    },
    {
      "cell_type": "code",
      "source": [
        "response = get_chatgpt_response_with_description(\"商品Wについて、中学生にもわかるように説明してください\")\n",
        "print(response)"
      ],
      "metadata": {
        "colab": {
          "base_uri": "https://localhost:8080/"
        },
        "id": "BXDHclaBijFE",
        "outputId": "9a3d8fb6-6937-4cd2-f988-e0f16cdc17b0"
      },
      "execution_count": null,
      "outputs": [
        {
          "output_type": "stream",
          "name": "stdout",
          "text": [
            "商品Wは、とても軽くて、とても速い自動車です。ブレーキもきちんと効いて、とても安全です。また、旋回（せんかい）するときもすごくうまく曲がるので、乗っていて楽しいですよ。\n"
          ]
        }
      ]
    },
    {
      "cell_type": "code",
      "source": [
        "response = get_chatgpt_response_with_description(\"商品ABBについて教えてください\")\n",
        "print(response)"
      ],
      "metadata": {
        "colab": {
          "base_uri": "https://localhost:8080/"
        },
        "id": "cJxGEZjwi06-",
        "outputId": "bb5f9649-5329-4eed-f8f6-4ba5276ce468"
      },
      "execution_count": null,
      "outputs": [
        {
          "output_type": "stream",
          "name": "stdout",
          "text": [
            "申し訳ございません、商品ABBに関する詳細な情報は提供することができません。他の商品やサービスについてお知りになりたいことがありましたら、お知らせください。\n"
          ]
        }
      ]
    },
    {
      "cell_type": "code",
      "source": [
        "df"
      ],
      "metadata": {
        "id": "LP4Nl6QxakCv",
        "colab": {
          "base_uri": "https://localhost:8080/",
          "height": 865
        },
        "outputId": "f27fe996-9517-484f-e27b-96b0472ef6ec"
      },
      "execution_count": null,
      "outputs": [
        {
          "output_type": "execute_result",
          "data": {
            "text/plain": [
              "    商品名                                                 特徴\n",
              "0   商品A  革新的なデザインが特徴の商品Aです。スリムなボディで、持ち運びも容易です。また、高い耐久性を...\n",
              "1   商品B  商品Bは独自のテクノロジーにより、効率的な性能を発揮します。充電一回で長時間使用することがで...\n",
              "2   商品C  商品Cは高い解像度と鮮やかな色彩表現が魅力的です。映画鑑賞やゲームに最適で、臨場感あふれる体...\n",
              "3   商品D  商品Dは、飛躍的に進化したバッテリーライフを誇ります。持ち運びに便利なサイズ感で、外出先でも...\n",
              "4   商品E  商品Eはユーザーフレンドリーなインターフェースが特徴です。初心者でも容易に操作が可能で、簡単...\n",
              "5   商品F  商品Fは、独自の音響技術により、高品質な音を提供します。どんな音楽も深みと広がりを持って再現...\n",
              "6   商品G  商品Gは、エネルギー効率の良さが特徴です。高いパフォーマンスを維持しつつ、省電力化を実現して...\n",
              "7   商品H  商品Hは、精密な作業が可能な高性能なツールです。多機能でありながら直感的な操作性を持ち、様々...\n",
              "8   商品I  商品Iは、画期的なクリーニング機能が特徴です。自動的に汚れを検出し、最適なクリーニング方法を...\n",
              "9   商品J  商品Jは、プロフェッショナルな仕上がりを実現する高品質な材料を使用しています。細部までこだわ...\n",
              "10  商品K  商品Kは、業界をリードするパフォーマンスを発揮します。最新の技術を搭載し、一般的な製品よりも...\n",
              "11  商品L  商品Lは、健康をサポートする高精度なセンサーを搭載しています。リアルタイムで体調管理が可能で...\n",
              "12  商品M  商品Mは、高度な通信技術により、迅速かつ安定した接続性能を実現します。データの送受信がスムー...\n",
              "13  商品N  商品Nは、シンプルかつ洗練されたデザインが特徴です。どんなインテリアにも溶け込み、お部屋の雰...\n",
              "14  商品O  商品Oは、高精度な計測能力を持つ優れたデバイスです。一般的な製品よりも正確なデータを提供し、...\n",
              "15  商品P  商品Pは、創新的な3Dプリンティング技術を利用しています。自由度の高いデザインと高精度な造形...\n",
              "16  商品Q  商品Qは、最先端のAI技術を駆使した製品です。ユーザーの行動を学習し、最適な提案を行います。...\n",
              "17  商品R  商品Rは、高速かつ効率的な充電技術が特徴です。一晩でフル充電が可能で、持ち運びにも適していま...\n",
              "18  商品S  商品Sは、究極の快適性を追求したアイテムです。最高級の素材と独自の技術で、長時間の使用でも快...\n",
              "19  商品T  商品Tは、優れた保温・保冷性能を持つアイテムです。長時間にわたり飲料や食品の温度を保つことが...\n",
              "20  商品U  商品Uは、独特の美しいデザインと優れた機能性を兼ね備えたアイテムです。使用時には高いパフォー...\n",
              "21  商品V  商品Vは、精密なセンサー技術により高精度な分析が可能です。実世界の情報をデジタル化し、深い洞...\n",
              "22  商品W  商品Wは、軽量で強力なエンジン性能が特徴です。加速や旋回性能が優れており、スポーティな走行を...\n",
              "23  商品X  商品Xは、立体的な音響体験を提供するヘッドセットです。最新のサラウンド技術により、まるで現場...\n",
              "24  商品Y  商品Yは、生活の様々なシーンで活躍する多機能ガジェットです。コンパクトながらも高性能な部品を...\n",
              "25  商品Z  商品Zは、高速なデータ転送能力が特徴です。複数のデバイスとの同期もスムーズで、効率的なデジタ..."
            ],
            "text/html": [
              "\n",
              "  <div id=\"df-92e3e331-ef14-4aa8-9fb0-96a707d68b04\" class=\"colab-df-container\">\n",
              "    <div>\n",
              "<style scoped>\n",
              "    .dataframe tbody tr th:only-of-type {\n",
              "        vertical-align: middle;\n",
              "    }\n",
              "\n",
              "    .dataframe tbody tr th {\n",
              "        vertical-align: top;\n",
              "    }\n",
              "\n",
              "    .dataframe thead th {\n",
              "        text-align: right;\n",
              "    }\n",
              "</style>\n",
              "<table border=\"1\" class=\"dataframe\">\n",
              "  <thead>\n",
              "    <tr style=\"text-align: right;\">\n",
              "      <th></th>\n",
              "      <th>商品名</th>\n",
              "      <th>特徴</th>\n",
              "    </tr>\n",
              "  </thead>\n",
              "  <tbody>\n",
              "    <tr>\n",
              "      <th>0</th>\n",
              "      <td>商品A</td>\n",
              "      <td>革新的なデザインが特徴の商品Aです。スリムなボディで、持ち運びも容易です。また、高い耐久性を...</td>\n",
              "    </tr>\n",
              "    <tr>\n",
              "      <th>1</th>\n",
              "      <td>商品B</td>\n",
              "      <td>商品Bは独自のテクノロジーにより、効率的な性能を発揮します。充電一回で長時間使用することがで...</td>\n",
              "    </tr>\n",
              "    <tr>\n",
              "      <th>2</th>\n",
              "      <td>商品C</td>\n",
              "      <td>商品Cは高い解像度と鮮やかな色彩表現が魅力的です。映画鑑賞やゲームに最適で、臨場感あふれる体...</td>\n",
              "    </tr>\n",
              "    <tr>\n",
              "      <th>3</th>\n",
              "      <td>商品D</td>\n",
              "      <td>商品Dは、飛躍的に進化したバッテリーライフを誇ります。持ち運びに便利なサイズ感で、外出先でも...</td>\n",
              "    </tr>\n",
              "    <tr>\n",
              "      <th>4</th>\n",
              "      <td>商品E</td>\n",
              "      <td>商品Eはユーザーフレンドリーなインターフェースが特徴です。初心者でも容易に操作が可能で、簡単...</td>\n",
              "    </tr>\n",
              "    <tr>\n",
              "      <th>5</th>\n",
              "      <td>商品F</td>\n",
              "      <td>商品Fは、独自の音響技術により、高品質な音を提供します。どんな音楽も深みと広がりを持って再現...</td>\n",
              "    </tr>\n",
              "    <tr>\n",
              "      <th>6</th>\n",
              "      <td>商品G</td>\n",
              "      <td>商品Gは、エネルギー効率の良さが特徴です。高いパフォーマンスを維持しつつ、省電力化を実現して...</td>\n",
              "    </tr>\n",
              "    <tr>\n",
              "      <th>7</th>\n",
              "      <td>商品H</td>\n",
              "      <td>商品Hは、精密な作業が可能な高性能なツールです。多機能でありながら直感的な操作性を持ち、様々...</td>\n",
              "    </tr>\n",
              "    <tr>\n",
              "      <th>8</th>\n",
              "      <td>商品I</td>\n",
              "      <td>商品Iは、画期的なクリーニング機能が特徴です。自動的に汚れを検出し、最適なクリーニング方法を...</td>\n",
              "    </tr>\n",
              "    <tr>\n",
              "      <th>9</th>\n",
              "      <td>商品J</td>\n",
              "      <td>商品Jは、プロフェッショナルな仕上がりを実現する高品質な材料を使用しています。細部までこだわ...</td>\n",
              "    </tr>\n",
              "    <tr>\n",
              "      <th>10</th>\n",
              "      <td>商品K</td>\n",
              "      <td>商品Kは、業界をリードするパフォーマンスを発揮します。最新の技術を搭載し、一般的な製品よりも...</td>\n",
              "    </tr>\n",
              "    <tr>\n",
              "      <th>11</th>\n",
              "      <td>商品L</td>\n",
              "      <td>商品Lは、健康をサポートする高精度なセンサーを搭載しています。リアルタイムで体調管理が可能で...</td>\n",
              "    </tr>\n",
              "    <tr>\n",
              "      <th>12</th>\n",
              "      <td>商品M</td>\n",
              "      <td>商品Mは、高度な通信技術により、迅速かつ安定した接続性能を実現します。データの送受信がスムー...</td>\n",
              "    </tr>\n",
              "    <tr>\n",
              "      <th>13</th>\n",
              "      <td>商品N</td>\n",
              "      <td>商品Nは、シンプルかつ洗練されたデザインが特徴です。どんなインテリアにも溶け込み、お部屋の雰...</td>\n",
              "    </tr>\n",
              "    <tr>\n",
              "      <th>14</th>\n",
              "      <td>商品O</td>\n",
              "      <td>商品Oは、高精度な計測能力を持つ優れたデバイスです。一般的な製品よりも正確なデータを提供し、...</td>\n",
              "    </tr>\n",
              "    <tr>\n",
              "      <th>15</th>\n",
              "      <td>商品P</td>\n",
              "      <td>商品Pは、創新的な3Dプリンティング技術を利用しています。自由度の高いデザインと高精度な造形...</td>\n",
              "    </tr>\n",
              "    <tr>\n",
              "      <th>16</th>\n",
              "      <td>商品Q</td>\n",
              "      <td>商品Qは、最先端のAI技術を駆使した製品です。ユーザーの行動を学習し、最適な提案を行います。...</td>\n",
              "    </tr>\n",
              "    <tr>\n",
              "      <th>17</th>\n",
              "      <td>商品R</td>\n",
              "      <td>商品Rは、高速かつ効率的な充電技術が特徴です。一晩でフル充電が可能で、持ち運びにも適していま...</td>\n",
              "    </tr>\n",
              "    <tr>\n",
              "      <th>18</th>\n",
              "      <td>商品S</td>\n",
              "      <td>商品Sは、究極の快適性を追求したアイテムです。最高級の素材と独自の技術で、長時間の使用でも快...</td>\n",
              "    </tr>\n",
              "    <tr>\n",
              "      <th>19</th>\n",
              "      <td>商品T</td>\n",
              "      <td>商品Tは、優れた保温・保冷性能を持つアイテムです。長時間にわたり飲料や食品の温度を保つことが...</td>\n",
              "    </tr>\n",
              "    <tr>\n",
              "      <th>20</th>\n",
              "      <td>商品U</td>\n",
              "      <td>商品Uは、独特の美しいデザインと優れた機能性を兼ね備えたアイテムです。使用時には高いパフォー...</td>\n",
              "    </tr>\n",
              "    <tr>\n",
              "      <th>21</th>\n",
              "      <td>商品V</td>\n",
              "      <td>商品Vは、精密なセンサー技術により高精度な分析が可能です。実世界の情報をデジタル化し、深い洞...</td>\n",
              "    </tr>\n",
              "    <tr>\n",
              "      <th>22</th>\n",
              "      <td>商品W</td>\n",
              "      <td>商品Wは、軽量で強力なエンジン性能が特徴です。加速や旋回性能が優れており、スポーティな走行を...</td>\n",
              "    </tr>\n",
              "    <tr>\n",
              "      <th>23</th>\n",
              "      <td>商品X</td>\n",
              "      <td>商品Xは、立体的な音響体験を提供するヘッドセットです。最新のサラウンド技術により、まるで現場...</td>\n",
              "    </tr>\n",
              "    <tr>\n",
              "      <th>24</th>\n",
              "      <td>商品Y</td>\n",
              "      <td>商品Yは、生活の様々なシーンで活躍する多機能ガジェットです。コンパクトながらも高性能な部品を...</td>\n",
              "    </tr>\n",
              "    <tr>\n",
              "      <th>25</th>\n",
              "      <td>商品Z</td>\n",
              "      <td>商品Zは、高速なデータ転送能力が特徴です。複数のデバイスとの同期もスムーズで、効率的なデジタ...</td>\n",
              "    </tr>\n",
              "  </tbody>\n",
              "</table>\n",
              "</div>\n",
              "    <div class=\"colab-df-buttons\">\n",
              "\n",
              "  <div class=\"colab-df-container\">\n",
              "    <button class=\"colab-df-convert\" onclick=\"convertToInteractive('df-92e3e331-ef14-4aa8-9fb0-96a707d68b04')\"\n",
              "            title=\"Convert this dataframe to an interactive table.\"\n",
              "            style=\"display:none;\">\n",
              "\n",
              "  <svg xmlns=\"http://www.w3.org/2000/svg\" height=\"24px\" viewBox=\"0 -960 960 960\">\n",
              "    <path d=\"M120-120v-720h720v720H120Zm60-500h600v-160H180v160Zm220 220h160v-160H400v160Zm0 220h160v-160H400v160ZM180-400h160v-160H180v160Zm440 0h160v-160H620v160ZM180-180h160v-160H180v160Zm440 0h160v-160H620v160Z\"/>\n",
              "  </svg>\n",
              "    </button>\n",
              "\n",
              "  <style>\n",
              "    .colab-df-container {\n",
              "      display:flex;\n",
              "      gap: 12px;\n",
              "    }\n",
              "\n",
              "    .colab-df-convert {\n",
              "      background-color: #E8F0FE;\n",
              "      border: none;\n",
              "      border-radius: 50%;\n",
              "      cursor: pointer;\n",
              "      display: none;\n",
              "      fill: #1967D2;\n",
              "      height: 32px;\n",
              "      padding: 0 0 0 0;\n",
              "      width: 32px;\n",
              "    }\n",
              "\n",
              "    .colab-df-convert:hover {\n",
              "      background-color: #E2EBFA;\n",
              "      box-shadow: 0px 1px 2px rgba(60, 64, 67, 0.3), 0px 1px 3px 1px rgba(60, 64, 67, 0.15);\n",
              "      fill: #174EA6;\n",
              "    }\n",
              "\n",
              "    .colab-df-buttons div {\n",
              "      margin-bottom: 4px;\n",
              "    }\n",
              "\n",
              "    [theme=dark] .colab-df-convert {\n",
              "      background-color: #3B4455;\n",
              "      fill: #D2E3FC;\n",
              "    }\n",
              "\n",
              "    [theme=dark] .colab-df-convert:hover {\n",
              "      background-color: #434B5C;\n",
              "      box-shadow: 0px 1px 3px 1px rgba(0, 0, 0, 0.15);\n",
              "      filter: drop-shadow(0px 1px 2px rgba(0, 0, 0, 0.3));\n",
              "      fill: #FFFFFF;\n",
              "    }\n",
              "  </style>\n",
              "\n",
              "    <script>\n",
              "      const buttonEl =\n",
              "        document.querySelector('#df-92e3e331-ef14-4aa8-9fb0-96a707d68b04 button.colab-df-convert');\n",
              "      buttonEl.style.display =\n",
              "        google.colab.kernel.accessAllowed ? 'block' : 'none';\n",
              "\n",
              "      async function convertToInteractive(key) {\n",
              "        const element = document.querySelector('#df-92e3e331-ef14-4aa8-9fb0-96a707d68b04');\n",
              "        const dataTable =\n",
              "          await google.colab.kernel.invokeFunction('convertToInteractive',\n",
              "                                                    [key], {});\n",
              "        if (!dataTable) return;\n",
              "\n",
              "        const docLinkHtml = 'Like what you see? Visit the ' +\n",
              "          '<a target=\"_blank\" href=https://colab.research.google.com/notebooks/data_table.ipynb>data table notebook</a>'\n",
              "          + ' to learn more about interactive tables.';\n",
              "        element.innerHTML = '';\n",
              "        dataTable['output_type'] = 'display_data';\n",
              "        await google.colab.output.renderOutput(dataTable, element);\n",
              "        const docLink = document.createElement('div');\n",
              "        docLink.innerHTML = docLinkHtml;\n",
              "        element.appendChild(docLink);\n",
              "      }\n",
              "    </script>\n",
              "  </div>\n",
              "\n",
              "\n",
              "<div id=\"df-3344e466-dad1-4309-806c-157262ca1e9c\">\n",
              "  <button class=\"colab-df-quickchart\" onclick=\"quickchart('df-3344e466-dad1-4309-806c-157262ca1e9c')\"\n",
              "            title=\"Suggest charts\"\n",
              "            style=\"display:none;\">\n",
              "\n",
              "<svg xmlns=\"http://www.w3.org/2000/svg\" height=\"24px\"viewBox=\"0 0 24 24\"\n",
              "     width=\"24px\">\n",
              "    <g>\n",
              "        <path d=\"M19 3H5c-1.1 0-2 .9-2 2v14c0 1.1.9 2 2 2h14c1.1 0 2-.9 2-2V5c0-1.1-.9-2-2-2zM9 17H7v-7h2v7zm4 0h-2V7h2v10zm4 0h-2v-4h2v4z\"/>\n",
              "    </g>\n",
              "</svg>\n",
              "  </button>\n",
              "\n",
              "<style>\n",
              "  .colab-df-quickchart {\n",
              "      --bg-color: #E8F0FE;\n",
              "      --fill-color: #1967D2;\n",
              "      --hover-bg-color: #E2EBFA;\n",
              "      --hover-fill-color: #174EA6;\n",
              "      --disabled-fill-color: #AAA;\n",
              "      --disabled-bg-color: #DDD;\n",
              "  }\n",
              "\n",
              "  [theme=dark] .colab-df-quickchart {\n",
              "      --bg-color: #3B4455;\n",
              "      --fill-color: #D2E3FC;\n",
              "      --hover-bg-color: #434B5C;\n",
              "      --hover-fill-color: #FFFFFF;\n",
              "      --disabled-bg-color: #3B4455;\n",
              "      --disabled-fill-color: #666;\n",
              "  }\n",
              "\n",
              "  .colab-df-quickchart {\n",
              "    background-color: var(--bg-color);\n",
              "    border: none;\n",
              "    border-radius: 50%;\n",
              "    cursor: pointer;\n",
              "    display: none;\n",
              "    fill: var(--fill-color);\n",
              "    height: 32px;\n",
              "    padding: 0;\n",
              "    width: 32px;\n",
              "  }\n",
              "\n",
              "  .colab-df-quickchart:hover {\n",
              "    background-color: var(--hover-bg-color);\n",
              "    box-shadow: 0 1px 2px rgba(60, 64, 67, 0.3), 0 1px 3px 1px rgba(60, 64, 67, 0.15);\n",
              "    fill: var(--button-hover-fill-color);\n",
              "  }\n",
              "\n",
              "  .colab-df-quickchart-complete:disabled,\n",
              "  .colab-df-quickchart-complete:disabled:hover {\n",
              "    background-color: var(--disabled-bg-color);\n",
              "    fill: var(--disabled-fill-color);\n",
              "    box-shadow: none;\n",
              "  }\n",
              "\n",
              "  .colab-df-spinner {\n",
              "    border: 2px solid var(--fill-color);\n",
              "    border-color: transparent;\n",
              "    border-bottom-color: var(--fill-color);\n",
              "    animation:\n",
              "      spin 1s steps(1) infinite;\n",
              "  }\n",
              "\n",
              "  @keyframes spin {\n",
              "    0% {\n",
              "      border-color: transparent;\n",
              "      border-bottom-color: var(--fill-color);\n",
              "      border-left-color: var(--fill-color);\n",
              "    }\n",
              "    20% {\n",
              "      border-color: transparent;\n",
              "      border-left-color: var(--fill-color);\n",
              "      border-top-color: var(--fill-color);\n",
              "    }\n",
              "    30% {\n",
              "      border-color: transparent;\n",
              "      border-left-color: var(--fill-color);\n",
              "      border-top-color: var(--fill-color);\n",
              "      border-right-color: var(--fill-color);\n",
              "    }\n",
              "    40% {\n",
              "      border-color: transparent;\n",
              "      border-right-color: var(--fill-color);\n",
              "      border-top-color: var(--fill-color);\n",
              "    }\n",
              "    60% {\n",
              "      border-color: transparent;\n",
              "      border-right-color: var(--fill-color);\n",
              "    }\n",
              "    80% {\n",
              "      border-color: transparent;\n",
              "      border-right-color: var(--fill-color);\n",
              "      border-bottom-color: var(--fill-color);\n",
              "    }\n",
              "    90% {\n",
              "      border-color: transparent;\n",
              "      border-bottom-color: var(--fill-color);\n",
              "    }\n",
              "  }\n",
              "</style>\n",
              "\n",
              "  <script>\n",
              "    async function quickchart(key) {\n",
              "      const quickchartButtonEl =\n",
              "        document.querySelector('#' + key + ' button');\n",
              "      quickchartButtonEl.disabled = true;  // To prevent multiple clicks.\n",
              "      quickchartButtonEl.classList.add('colab-df-spinner');\n",
              "      try {\n",
              "        const charts = await google.colab.kernel.invokeFunction(\n",
              "            'suggestCharts', [key], {});\n",
              "      } catch (error) {\n",
              "        console.error('Error during call to suggestCharts:', error);\n",
              "      }\n",
              "      quickchartButtonEl.classList.remove('colab-df-spinner');\n",
              "      quickchartButtonEl.classList.add('colab-df-quickchart-complete');\n",
              "    }\n",
              "    (() => {\n",
              "      let quickchartButtonEl =\n",
              "        document.querySelector('#df-3344e466-dad1-4309-806c-157262ca1e9c button');\n",
              "      quickchartButtonEl.style.display =\n",
              "        google.colab.kernel.accessAllowed ? 'block' : 'none';\n",
              "    })();\n",
              "  </script>\n",
              "</div>\n",
              "\n",
              "  <div id=\"id_97b1ccc8-b7eb-45e2-ae41-8bf6bf35388f\">\n",
              "    <style>\n",
              "      .colab-df-generate {\n",
              "        background-color: #E8F0FE;\n",
              "        border: none;\n",
              "        border-radius: 50%;\n",
              "        cursor: pointer;\n",
              "        display: none;\n",
              "        fill: #1967D2;\n",
              "        height: 32px;\n",
              "        padding: 0 0 0 0;\n",
              "        width: 32px;\n",
              "      }\n",
              "\n",
              "      .colab-df-generate:hover {\n",
              "        background-color: #E2EBFA;\n",
              "        box-shadow: 0px 1px 2px rgba(60, 64, 67, 0.3), 0px 1px 3px 1px rgba(60, 64, 67, 0.15);\n",
              "        fill: #174EA6;\n",
              "      }\n",
              "\n",
              "      [theme=dark] .colab-df-generate {\n",
              "        background-color: #3B4455;\n",
              "        fill: #D2E3FC;\n",
              "      }\n",
              "\n",
              "      [theme=dark] .colab-df-generate:hover {\n",
              "        background-color: #434B5C;\n",
              "        box-shadow: 0px 1px 3px 1px rgba(0, 0, 0, 0.15);\n",
              "        filter: drop-shadow(0px 1px 2px rgba(0, 0, 0, 0.3));\n",
              "        fill: #FFFFFF;\n",
              "      }\n",
              "    </style>\n",
              "    <button class=\"colab-df-generate\" onclick=\"generateWithVariable('df')\"\n",
              "            title=\"Generate code using this dataframe.\"\n",
              "            style=\"display:none;\">\n",
              "\n",
              "  <svg xmlns=\"http://www.w3.org/2000/svg\" height=\"24px\"viewBox=\"0 0 24 24\"\n",
              "       width=\"24px\">\n",
              "    <path d=\"M7,19H8.4L18.45,9,17,7.55,7,17.6ZM5,21V16.75L18.45,3.32a2,2,0,0,1,2.83,0l1.4,1.43a1.91,1.91,0,0,1,.58,1.4,1.91,1.91,0,0,1-.58,1.4L9.25,21ZM18.45,9,17,7.55Zm-12,3A5.31,5.31,0,0,0,4.9,8.1,5.31,5.31,0,0,0,1,6.5,5.31,5.31,0,0,0,4.9,4.9,5.31,5.31,0,0,0,6.5,1,5.31,5.31,0,0,0,8.1,4.9,5.31,5.31,0,0,0,12,6.5,5.46,5.46,0,0,0,6.5,12Z\"/>\n",
              "  </svg>\n",
              "    </button>\n",
              "    <script>\n",
              "      (() => {\n",
              "      const buttonEl =\n",
              "        document.querySelector('#id_97b1ccc8-b7eb-45e2-ae41-8bf6bf35388f button.colab-df-generate');\n",
              "      buttonEl.style.display =\n",
              "        google.colab.kernel.accessAllowed ? 'block' : 'none';\n",
              "\n",
              "      buttonEl.onclick = () => {\n",
              "        google.colab.notebook.generateWithVariable('df');\n",
              "      }\n",
              "      })();\n",
              "    </script>\n",
              "  </div>\n",
              "\n",
              "    </div>\n",
              "  </div>\n"
            ]
          },
          "metadata": {},
          "execution_count": 66
        }
      ]
    }
  ]
}