{
  "nbformat": 4,
  "nbformat_minor": 0,
  "metadata": {
    "colab": {
      "provenance": [],
      "authorship_tag": "ABX9TyPBHEdBBFeY+hDINiL4AWFk",
      "include_colab_link": true
    },
    "kernelspec": {
      "name": "python3",
      "display_name": "Python 3"
    },
    "language_info": {
      "name": "python"
    }
  },
  "cells": [
    {
      "cell_type": "markdown",
      "metadata": {
        "id": "view-in-github",
        "colab_type": "text"
      },
      "source": [
        "<a href=\"https://colab.research.google.com/github/nyanta012/chatgpt_api_practice/blob/main/section9/section9.ipynb\" target=\"_parent\"><img src=\"https://colab.research.google.com/assets/colab-badge.svg\" alt=\"Open In Colab\"/></a>"
      ]
    },
    {
      "cell_type": "markdown",
      "source": [
        "# Google Colaboratoryのショートカットキー\n",
        "1. **現在のセルを実行し、次のセルを選択**: `Shift + Enter`\n",
        "2. **コードセルをテキストセルにする**: `Ctrl + M M`\n",
        "3. **コードセルを上に追加**: `Ctrl + M A`\n",
        "4. **コードセルを下に追加**: `Ctrl + M B`\n",
        "5. **セルの削除**: `Ctrl + M D`"
      ],
      "metadata": {
        "id": "Bire-phP3RxR"
      }
    },
    {
      "cell_type": "code",
      "source": [],
      "metadata": {
        "id": "zzL3hTZiCESp"
      },
      "execution_count": null,
      "outputs": []
    },
    {
      "cell_type": "markdown",
      "source": [
        "# 演習"
      ],
      "metadata": {
        "id": "zfFl7Y7k3Xmd"
      }
    },
    {
      "cell_type": "markdown",
      "source": [
        "FunctionCallingを用いてユーザーからの入力を基に、2つの参照情報を切り替える実装をしてみよう"
      ],
      "metadata": {
        "id": "NvbC_6Mn3gF8"
      }
    },
    {
      "cell_type": "code",
      "source": [],
      "metadata": {
        "id": "DSsts-8NR5OO"
      },
      "execution_count": null,
      "outputs": []
    },
    {
      "cell_type": "code",
      "source": [],
      "metadata": {
        "id": "L5e2uJRt3ilz"
      },
      "execution_count": null,
      "outputs": []
    },
    {
      "cell_type": "code",
      "source": [],
      "metadata": {
        "id": "pPEgwcKw3gKa"
      },
      "execution_count": null,
      "outputs": []
    },
    {
      "cell_type": "markdown",
      "source": [
        "# API KEYの設定など"
      ],
      "metadata": {
        "id": "5DqDEZyA3Xrn"
      }
    },
    {
      "cell_type": "code",
      "source": [
        "%%capture\n",
        "!pip install openai==0.28.1\n",
        "!pip install llama-index==0.7.23\n",
        "!wget https://github.com/nyanta012/chatgpt_api_practice/raw/main/pdf/コンプライアンスのすべて.pdf\n",
        "!wget https://github.com/nyanta012/chatgpt_api_practice/raw/main/pdf/健康のすべて.pdf"
      ],
      "metadata": {
        "id": "sf97wb_u3Xu6"
      },
      "execution_count": null,
      "outputs": []
    },
    {
      "cell_type": "code",
      "source": [
        "import getpass\n",
        "import json\n",
        "import os\n",
        "from pathlib import Path\n",
        "\n",
        "import openai\n",
        "from IPython.display import Markdown, display\n",
        "from langchain.chat_models import ChatOpenAI\n",
        "from llama_index import (GPTVectorStoreIndex, LLMPredictor, ServiceContext,\n",
        "                         StorageContext, VectorStoreIndex, download_loader,\n",
        "                         load_index_from_storage, QuestionAnswerPrompt)\n",
        "\n",
        "apikey = getpass.getpass(prompt=\"OpenAIのAPIキーを入力してください\")\n",
        "os.environ[\"OPENAI_API_KEY\"] = apikey # llama indexは環境変数じゃないとエラーがでる？\n",
        "openai.api_key = apikey"
      ],
      "metadata": {
        "colab": {
          "base_uri": "https://localhost:8080/"
        },
        "id": "0rfvs4QXQSqw",
        "outputId": "61b86071-c9e5-4fc7-e08a-daa7e48ab77f"
      },
      "execution_count": null,
      "outputs": [
        {
          "name": "stdout",
          "output_type": "stream",
          "text": [
            "OpenAIのAPIキーを入力してください··········\n"
          ]
        }
      ]
    },
    {
      "cell_type": "code",
      "source": [],
      "metadata": {
        "id": "2U5bzZKT3c0T"
      },
      "execution_count": null,
      "outputs": []
    },
    {
      "cell_type": "markdown",
      "source": [
        "# 実装してみよう"
      ],
      "metadata": {
        "id": "4aXVDdLmRZwM"
      }
    },
    {
      "cell_type": "code",
      "source": [],
      "metadata": {
        "id": "rULju3NSRY8N"
      },
      "execution_count": null,
      "outputs": []
    },
    {
      "cell_type": "code",
      "source": [],
      "metadata": {
        "id": "-brWm5hxRZA9"
      },
      "execution_count": null,
      "outputs": []
    },
    {
      "cell_type": "code",
      "source": [],
      "metadata": {
        "id": "mlltztUjRZHS"
      },
      "execution_count": null,
      "outputs": []
    },
    {
      "cell_type": "code",
      "source": [],
      "metadata": {
        "id": "2UXz_wNy3c8Z"
      },
      "execution_count": null,
      "outputs": []
    },
    {
      "cell_type": "code",
      "source": [],
      "metadata": {
        "id": "pAAeuORe33NI"
      },
      "execution_count": null,
      "outputs": []
    },
    {
      "cell_type": "code",
      "source": [],
      "metadata": {
        "id": "Si2EKhN833Q5"
      },
      "execution_count": null,
      "outputs": []
    },
    {
      "cell_type": "code",
      "source": [],
      "metadata": {
        "id": "TeXAQFUW33UJ"
      },
      "execution_count": null,
      "outputs": []
    },
    {
      "cell_type": "code",
      "source": [],
      "metadata": {
        "id": "JmQjtNrx33XP"
      },
      "execution_count": null,
      "outputs": []
    },
    {
      "cell_type": "code",
      "source": [],
      "metadata": {
        "id": "j_sLu0gw33at"
      },
      "execution_count": null,
      "outputs": []
    },
    {
      "cell_type": "code",
      "source": [],
      "metadata": {
        "id": "E_8ngMsxRcmh"
      },
      "execution_count": null,
      "outputs": []
    },
    {
      "cell_type": "markdown",
      "source": [
        "# 実装例(一例)"
      ],
      "metadata": {
        "id": "FoayrY_I3X0_"
      }
    },
    {
      "cell_type": "code",
      "source": [
        "# llama indexのpdf readerを使う\n",
        "PDFReader = download_loader(\"PDFReader\")\n",
        "loader = PDFReader()\n",
        "\n",
        "# テキスト情報を抽出する\n",
        "document_1 = loader.load_data(file=Path(\"コンプライアンスのすべて.pdf\"))\n",
        "document_2 = loader.load_data(file=Path(\"健康のすべて.pdf\"))\n",
        "\n",
        "# テキストをインデックス化する\n",
        "INDEX_1 = VectorStoreIndex.from_documents(document_1)\n",
        "INDEX_2 = VectorStoreIndex.from_documents(document_2)"
      ],
      "metadata": {
        "id": "2M1yX1NG3X3l",
        "outputId": "eb43519a-bfb1-49ba-f120-31b9b92d08d8",
        "colab": {
          "base_uri": "https://localhost:8080/"
        }
      },
      "execution_count": null,
      "outputs": [
        {
          "output_type": "stream",
          "name": "stderr",
          "text": [
            "[nltk_data] Downloading package punkt to /tmp/llama_index...\n",
            "[nltk_data]   Unzipping tokenizers/punkt.zip.\n"
          ]
        }
      ]
    },
    {
      "cell_type": "code",
      "source": [
        "def get_index_engine(index_name: str):\n",
        "    \"\"\"\n",
        "    プロンプトを回答するのに適切なindexを提供する\n",
        "    \"\"\"\n",
        "    PROMPT_TEMPLATE = (\n",
        "        \"下記の情報が与えられています。 \\n\"\n",
        "        \"---------------------\\n\"\n",
        "        \"{context_str}\"\n",
        "        \"\\n---------------------\\n\"\n",
        "        \"この情報を参照して次の質問に答えてください:  {query_str}\\n\"\n",
        "    )\n",
        "    PROMPT = QuestionAnswerPrompt(PROMPT_TEMPLATE)\n",
        "\n",
        "    if index_name == \"コンプライアンス\":\n",
        "        return INDEX_1.as_query_engine(text_qa_template=PROMPT)\n",
        "    elif index_name == \"健康問題\":\n",
        "        return INDEX_2.as_query_engine(text_qa_template=PROMPT)\n",
        "    else:\n",
        "        return None"
      ],
      "metadata": {
        "id": "lAWVkxrs3X5q"
      },
      "execution_count": null,
      "outputs": []
    },
    {
      "cell_type": "code",
      "source": [
        "def get_chatgpt_response_from_different_sources(user_input: str):\n",
        "    # 与えた関数の説明を記載\n",
        "    my_functions = [\n",
        "        {\n",
        "            \"name\": \"get_index_engine\",\n",
        "            \"description\": \"ユーザーの質問・指示に答えるために使われる関数\",\n",
        "            \"parameters\": {\n",
        "                \"type\": \"object\",\n",
        "                \"properties\": {\n",
        "                    \"index_name\": {\n",
        "                        \"type\": \"string\",\n",
        "                        \"enum\": [\"コンプライアンス\", \"健康問題\", \"該当なし\"],\n",
        "                        \"description\": \"ユーザーの質問に答えるために、関連が高い単語を1つ選択してください。\",\n",
        "                    },\n",
        "                },\n",
        "                \"required\": [\"index_name\"],\n",
        "            },\n",
        "        }\n",
        "    ]\n",
        "\n",
        "    response = openai.ChatCompletion.create(\n",
        "        model=\"gpt-3.5-turbo-0613\",\n",
        "        messages=[{\"role\": \"user\", \"content\": user_input}],\n",
        "        functions=my_functions,\n",
        "        function_call={\"name\": \"get_index_engine\"},\n",
        "    )\n",
        "\n",
        "    message = response[\"choices\"][0][\"message\"]\n",
        "    function_args = json.loads(message[\"function_call\"][\"arguments\"])\n",
        "\n",
        "    engine = get_index_engine(function_args[\"index_name\"])\n",
        "\n",
        "    if engine:\n",
        "        function_response = engine.query(user_input)\n",
        "        source = function_response.get_formatted_sources(200)  # 200文字まで表示\n",
        "        used_index = function_args[\"index_name\"]\n",
        "        display(\n",
        "            Markdown(\n",
        "                f\"## ユーザー入力\\n\\n{user_input}\\n\\n## AI回答\\n\\n{function_response}\\n\\n## 参照情報({used_index}) \\n\\n{source}\"\n",
        "            )\n",
        "        )\n",
        "    else:\n",
        "        print(\"関連する情報がありません\")"
      ],
      "metadata": {
        "id": "x0hyezT03tXm"
      },
      "execution_count": null,
      "outputs": []
    },
    {
      "cell_type": "code",
      "source": [
        "get_chatgpt_response_from_different_sources(\"AIとコンプライアンスについて教えてください\")"
      ],
      "metadata": {
        "colab": {
          "base_uri": "https://localhost:8080/",
          "height": 491
        },
        "id": "WpuJRI-CQhyR",
        "outputId": "23468cef-c22a-484d-bb3e-2a7236da3cf0"
      },
      "execution_count": null,
      "outputs": [
        {
          "output_type": "display_data",
          "data": {
            "text/plain": [
              "<IPython.core.display.Markdown object>"
            ],
            "text/markdown": "## ユーザー入力\n\nAIとコンプライアンスについて教えてください\n\n## AI回答\n\nAIとコンプライアンスについては、以下のような情報が与えられています。\n\n- 人工知能（AI）の発展により、コンプライアンス活動における自動化や洞察力の向上が期待されています。\n- AIによるリスク評価と予測、自動監視とデータ分析、AIの倫理と透明性などがコンプライアンスと関連しています。\n- AIの活用に伴う課題やリスク、人間とAIの役割分担に関する考察も取り上げられています。\n- AIを活用してコンプライアンス活動を効率化し、洞察力とリスク管理能力を向上させるための手法が学べます。\n\n以上の情報から、AIはコンプライアンス活動において重要な役割を果たす技術であり、リスク評価や予測、自動監視、データ分析などの面で効果的に活用されることが期待されています。また、AIの活用には課題やリスクも存在し、人間とAIの役割分担についても考慮する必要があります。\n\n## 参照情報(コンプライアンス) \n\n> Source (Doc id: 11bac3fb-0de1-4270-ac34-12a02f7b873d): 【35. コンプライアンスとクラウドコンピューティング】 （ 500文字程度）  \nクラウドコンピューティングの普及により、データ保護とコンプライアンスの課題が浮上\nしています。 この章では、 コンプライアンスとクラウドコンピューティングの関連性につい\nて詳しく解説します。 データの保護とプライバシー確保、 クラウドプロバイダとの契約と監\n査、データの移転と適法性の確保などに関する具体的なア...\n\n> Source (Doc id: 10fe7b26-d28a-40e9-ba25-7d22a7a5a867): 【48. コンプライアンスとテクノロジー】 （ 500文字程度）  \nテクノロジーの進化は、 コンプライアンス活動に革新と効率性をもたらします。 この章では、\nコンプライアンスとテクノロジーの関連性に焦点を当てます。 AI、 ロボティックプロセスオ\nートメーション（ RPA） 、ブロックチェーン、ビッグデータなどのテクノロジーがコンプラ\nイアンスにどのように応用されるかについて解説します。 ..."
          },
          "metadata": {}
        }
      ]
    },
    {
      "cell_type": "code",
      "source": [
        "get_chatgpt_response_from_different_sources(\"AIと健康について教えてください\")"
      ],
      "metadata": {
        "colab": {
          "base_uri": "https://localhost:8080/",
          "height": 488
        },
        "id": "sy4iIjrsQi-6",
        "outputId": "8ab5170c-b5e6-4d6f-fcb2-fcac4dfa629f"
      },
      "execution_count": null,
      "outputs": [
        {
          "output_type": "display_data",
          "data": {
            "text/plain": [
              "<IPython.core.display.Markdown object>"
            ],
            "text/markdown": "## ユーザー入力\n\nAIと健康について教えてください\n\n## AI回答\n\nAIと健康についての情報は、与えられたテキストには含まれていません。ただし、AIは健康分野においても革新的な進展をもたらしているとされています。AIを活用することで、医療の効率性や精度が向上し、病気の早期発見や治療の最適化が可能となります。また、AIは健康管理や予防医学の分野でも活用されており、個人の健康データを分析し、適切なアドバイスや予測を提供することができます。AIの進歩により、より効果的な健康管理や医療が実現されると期待されています。\n\n## 参照情報(健康問題) \n\n> Source (Doc id: 2e896abf-a8d9-4057-a9a4-ef63fa0284ae): 例えば、食事や運動の\n計画立て、 定期的な健康チェックの予約、 ストレス管理の手法の学習などが挙げられます。\n自己管理を通じて、 自分自身の健康を主体的に管理し、 健康な生活を送ることができます。  \n \n１２．健康と生涯学習  \n \n健康は一生涯にわたっての学びと関係しています。健康に関する新しい知識や最新の研究\n結果を学び続けることで、自身の健康管理や健康への取り組みを進化させることがで...\n\n> Source (Doc id: 033655e4-f065-4491-9709-0c29de4d5f98): 健康を維持するためには、疾病の予防が重要です。予防医学の手法としては、予防接種やス\nクリーニングテストの実施、健康診断の受診などがあります。また、リスクファクターの管\n理や健康への適切なアドバイスも予防医学の重要な要素です。自身の健康リスクを正しく\n評価し、 予防医学の 原則に基づいた行動を取ることで、 病気や健康問題を予防することが可\n能となります。  \n \n１４．健康への環境への配慮  ..."
          },
          "metadata": {}
        }
      ]
    },
    {
      "cell_type": "code",
      "source": [
        "get_chatgpt_response_from_different_sources(\"にゃんたについて教えてください\")"
      ],
      "metadata": {
        "colab": {
          "base_uri": "https://localhost:8080/"
        },
        "id": "bn8vutHBQkcK",
        "outputId": "a0fe5755-e0f7-4dd9-b7d1-c7c443aef376"
      },
      "execution_count": null,
      "outputs": [
        {
          "output_type": "stream",
          "name": "stdout",
          "text": [
            "関連する情報がありません\n"
          ]
        }
      ]
    },
    {
      "cell_type": "code",
      "source": [],
      "metadata": {
        "id": "QD7agNX43wTx"
      },
      "execution_count": null,
      "outputs": []
    },
    {
      "cell_type": "code",
      "source": [],
      "metadata": {
        "id": "O_OHCrBd3u6Q"
      },
      "execution_count": null,
      "outputs": []
    },
    {
      "cell_type": "code",
      "source": [],
      "metadata": {
        "id": "tydgpHM13u_4"
      },
      "execution_count": null,
      "outputs": []
    },
    {
      "cell_type": "code",
      "source": [],
      "metadata": {
        "id": "fiR4HArg3tcC"
      },
      "execution_count": null,
      "outputs": []
    },
    {
      "cell_type": "code",
      "source": [],
      "metadata": {
        "id": "VQCCRHrW3tf0"
      },
      "execution_count": null,
      "outputs": []
    },
    {
      "cell_type": "code",
      "source": [],
      "metadata": {
        "id": "WYyR10ql3tji"
      },
      "execution_count": null,
      "outputs": []
    },
    {
      "cell_type": "code",
      "source": [],
      "metadata": {
        "id": "EEXxtOUa3tmW"
      },
      "execution_count": null,
      "outputs": []
    }
  ]
}