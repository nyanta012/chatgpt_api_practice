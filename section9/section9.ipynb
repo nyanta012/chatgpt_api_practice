{
  "nbformat": 4,
  "nbformat_minor": 0,
  "metadata": {
    "colab": {
      "provenance": [],
      "include_colab_link": true
    },
    "kernelspec": {
      "name": "python3",
      "display_name": "Python 3"
    },
    "language_info": {
      "name": "python"
    }
  },
  "cells": [
    {
      "cell_type": "markdown",
      "metadata": {
        "id": "view-in-github",
        "colab_type": "text"
      },
      "source": [
        "<a href=\"https://colab.research.google.com/github/nyanta012/chatgpt_api_practice/blob/main/section9/section9.ipynb\" target=\"_parent\"><img src=\"https://colab.research.google.com/assets/colab-badge.svg\" alt=\"Open In Colab\"/></a>"
      ]
    },
    {
      "cell_type": "markdown",
      "source": [
        "# Google Colaboratoryのショートカットキー\n",
        "1. **現在のセルを実行し、次のセルを選択**: `Shift + Enter`\n",
        "2. **コードセルをテキストセルにする**: `Ctrl + M M`\n",
        "3. **コードセルを上に追加**: `Ctrl + M A`\n",
        "4. **コードセルを下に追加**: `Ctrl + M B`\n",
        "5. **セルの削除**: `Ctrl + M D`"
      ],
      "metadata": {
        "id": "Bire-phP3RxR"
      }
    },
    {
      "cell_type": "code",
      "source": [],
      "metadata": {
        "id": "zzL3hTZiCESp"
      },
      "execution_count": null,
      "outputs": []
    },
    {
      "cell_type": "markdown",
      "source": [
        "# 演習"
      ],
      "metadata": {
        "id": "zfFl7Y7k3Xmd"
      }
    },
    {
      "cell_type": "markdown",
      "source": [
        "FunctionCallingを用いてユーザーからの入力を基に、2つの参照情報を切り替える実装をしてみよう"
      ],
      "metadata": {
        "id": "NvbC_6Mn3gF8"
      }
    },
    {
      "cell_type": "code",
      "source": [],
      "metadata": {
        "id": "DSsts-8NR5OO"
      },
      "execution_count": null,
      "outputs": []
    },
    {
      "cell_type": "code",
      "source": [],
      "metadata": {
        "id": "L5e2uJRt3ilz"
      },
      "execution_count": null,
      "outputs": []
    },
    {
      "cell_type": "code",
      "source": [],
      "metadata": {
        "id": "pPEgwcKw3gKa"
      },
      "execution_count": null,
      "outputs": []
    },
    {
      "cell_type": "markdown",
      "source": [
        "# API KEYの設定など"
      ],
      "metadata": {
        "id": "5DqDEZyA3Xrn"
      }
    },
    {
      "cell_type": "code",
      "source": [
        "%%capture\n",
        "!pip install langchain==0.0.340\n",
        "!pip install llama-index==0.9.7\n",
        "!wget https://github.com/nyanta012/chatgpt_api_practice/raw/main/pdf/コンプライアンスのすべて.pdf\n",
        "!wget https://github.com/nyanta012/chatgpt_api_practice/raw/main/pdf/健康のすべて.pdf"
      ],
      "metadata": {
        "id": "sf97wb_u3Xu6"
      },
      "execution_count": null,
      "outputs": []
    },
    {
      "cell_type": "code",
      "source": [
        "import getpass\n",
        "import json\n",
        "import os\n",
        "from pathlib import Path\n",
        "\n",
        "from openai import OpenAI\n",
        "from IPython.display import Markdown, display\n",
        "from langchain.chat_models import ChatOpenAI\n",
        "from llama_index import (GPTVectorStoreIndex, LLMPredictor, ServiceContext,\n",
        "                         StorageContext, VectorStoreIndex, download_loader,\n",
        "                         load_index_from_storage, PromptTemplate)\n",
        "\n",
        "apikey = getpass.getpass(prompt=\"OpenAIのAPIキーを入力してください\")\n",
        "os.environ[\"OPENAI_API_KEY\"] = apikey # llama indexは環境変数じゃないとエラーがでる？\n",
        "\n",
        "client = OpenAI(api_key=apikey)"
      ],
      "metadata": {
        "colab": {
          "base_uri": "https://localhost:8080/"
        },
        "id": "0rfvs4QXQSqw",
        "outputId": "bca6b576-3ab4-44e7-8b6b-dfc2ca29df70"
      },
      "execution_count": null,
      "outputs": [
        {
          "name": "stdout",
          "output_type": "stream",
          "text": [
            "OpenAIのAPIキーを入力してください··········\n"
          ]
        }
      ]
    },
    {
      "cell_type": "code",
      "source": [],
      "metadata": {
        "id": "2U5bzZKT3c0T"
      },
      "execution_count": null,
      "outputs": []
    },
    {
      "cell_type": "markdown",
      "source": [
        "# 実装してみよう"
      ],
      "metadata": {
        "id": "4aXVDdLmRZwM"
      }
    },
    {
      "cell_type": "code",
      "source": [],
      "metadata": {
        "id": "rULju3NSRY8N"
      },
      "execution_count": null,
      "outputs": []
    },
    {
      "cell_type": "code",
      "source": [],
      "metadata": {
        "id": "-brWm5hxRZA9"
      },
      "execution_count": null,
      "outputs": []
    },
    {
      "cell_type": "code",
      "source": [],
      "metadata": {
        "id": "mlltztUjRZHS"
      },
      "execution_count": null,
      "outputs": []
    },
    {
      "cell_type": "code",
      "source": [],
      "metadata": {
        "id": "2UXz_wNy3c8Z"
      },
      "execution_count": null,
      "outputs": []
    },
    {
      "cell_type": "code",
      "source": [],
      "metadata": {
        "id": "pAAeuORe33NI"
      },
      "execution_count": null,
      "outputs": []
    },
    {
      "cell_type": "code",
      "source": [],
      "metadata": {
        "id": "Si2EKhN833Q5"
      },
      "execution_count": null,
      "outputs": []
    },
    {
      "cell_type": "code",
      "source": [],
      "metadata": {
        "id": "TeXAQFUW33UJ"
      },
      "execution_count": null,
      "outputs": []
    },
    {
      "cell_type": "code",
      "source": [],
      "metadata": {
        "id": "JmQjtNrx33XP"
      },
      "execution_count": null,
      "outputs": []
    },
    {
      "cell_type": "code",
      "source": [],
      "metadata": {
        "id": "j_sLu0gw33at"
      },
      "execution_count": null,
      "outputs": []
    },
    {
      "cell_type": "code",
      "source": [],
      "metadata": {
        "id": "E_8ngMsxRcmh"
      },
      "execution_count": null,
      "outputs": []
    },
    {
      "cell_type": "markdown",
      "source": [
        "# 実装例(一例)"
      ],
      "metadata": {
        "id": "FoayrY_I3X0_"
      }
    },
    {
      "cell_type": "code",
      "source": [
        "# llama indexのpdf readerを使う\n",
        "PDFReader = download_loader(\"PDFReader\")\n",
        "loader = PDFReader()\n",
        "\n",
        "# テキスト情報を抽出する\n",
        "document_1 = loader.load_data(file=Path(\"コンプライアンスのすべて.pdf\"))\n",
        "document_2 = loader.load_data(file=Path(\"健康のすべて.pdf\"))\n",
        "\n",
        "# テキストをインデックス化する\n",
        "INDEX_1 = VectorStoreIndex.from_documents(document_1)\n",
        "INDEX_2 = VectorStoreIndex.from_documents(document_2)"
      ],
      "metadata": {
        "id": "2M1yX1NG3X3l"
      },
      "execution_count": null,
      "outputs": []
    },
    {
      "cell_type": "code",
      "source": [
        "def get_index_engine(index_name: str):\n",
        "    \"\"\"\n",
        "    プロンプトを回答するのに適切なindexを提供する\n",
        "    \"\"\"\n",
        "    TEMPLATE = (\n",
        "        \"下記の情報が与えられています。 \\n\"\n",
        "        \"---------------------\\n\"\n",
        "        \"{context_str}\"\n",
        "        \"\\n---------------------\\n\"\n",
        "        \"この情報を参照して次の質問に答えてください:  {query_str}\\n\"\n",
        "    )\n",
        "    PROMPT = PromptTemplate(TEMPLATE)\n",
        "\n",
        "    if index_name == \"コンプライアンス\":\n",
        "        return INDEX_1.as_query_engine(text_qa_template=PROMPT)\n",
        "    elif index_name == \"健康問題\":\n",
        "        return INDEX_2.as_query_engine(text_qa_template=PROMPT)\n",
        "    else:\n",
        "        return None"
      ],
      "metadata": {
        "id": "lAWVkxrs3X5q"
      },
      "execution_count": null,
      "outputs": []
    },
    {
      "cell_type": "code",
      "source": [
        "def get_chatgpt_response_from_different_sources(user_input: str) -> None:\n",
        "    # 与えた関数の説明を記載\n",
        "    my_functions = [\n",
        "        {\n",
        "            \"name\": \"get_index_engine\",\n",
        "            \"description\": \"ユーザーの質問・指示に答えるために使われる関数\",\n",
        "            \"parameters\": {\n",
        "                \"type\": \"object\",\n",
        "                \"properties\": {\n",
        "                    \"index_name\": {\n",
        "                        \"type\": \"string\",\n",
        "                        \"enum\": [\"コンプライアンス\", \"健康問題\", \"該当なし\"],\n",
        "                        \"description\": \"ユーザーの質問に答えるために、関連が高い単語を1つ選択してください。\",\n",
        "                    },\n",
        "                },\n",
        "                \"required\": [\"index_name\"],\n",
        "            },\n",
        "        }\n",
        "    ]\n",
        "\n",
        "    response = client.chat.completions.create(\n",
        "        model=\"gpt-3.5-turbo-1106\",\n",
        "        messages=[{\"role\": \"user\", \"content\": user_input}],\n",
        "        functions=my_functions,\n",
        "        function_call={\"name\": \"get_index_engine\"},\n",
        "        seed=0\n",
        "    )\n",
        "\n",
        "    message = response.choices[0].message\n",
        "    function_args = json.loads(message.function_call.arguments)\n",
        "\n",
        "    engine = get_index_engine(function_args[\"index_name\"])\n",
        "\n",
        "    if engine:\n",
        "        function_response = engine.query(user_input)\n",
        "        source = function_response.get_formatted_sources(200)  # 200文字まで表示\n",
        "        used_index = function_args[\"index_name\"]\n",
        "        display(\n",
        "            Markdown(\n",
        "                f\"## ユーザー入力\\n\\n{user_input}\\n\\n## AI回答\\n\\n{function_response}\\n\\n## 参照情報({used_index}) \\n\\n{source}\"\n",
        "            )\n",
        "        )\n",
        "    else:\n",
        "        print(\"関連する情報がありません\")"
      ],
      "metadata": {
        "id": "x0hyezT03tXm"
      },
      "execution_count": null,
      "outputs": []
    },
    {
      "cell_type": "code",
      "source": [
        "get_chatgpt_response_from_different_sources(\"AIとコンプライアンスについて教えてください\")"
      ],
      "metadata": {
        "colab": {
          "base_uri": "https://localhost:8080/",
          "height": 474
        },
        "id": "WpuJRI-CQhyR",
        "outputId": "8a181d71-e824-48e6-9f1e-9c8368518480"
      },
      "execution_count": null,
      "outputs": [
        {
          "output_type": "display_data",
          "data": {
            "text/plain": [
              "<IPython.core.display.Markdown object>"
            ],
            "text/markdown": "## ユーザー入力\n\nAIとコンプライアンスについて教えてください\n\n## AI回答\n\nAIとコンプライアンスについては、以下のような情報が与えられています。\n\n- 人工知能（AI）の発展により、コンプライアンス活動における自動化や洞察力の向上が期待されています。\n- AIによるリスク評価と予測、自動監視とデータ分析、AIの倫理と透明性などがコンプライアンスと関連しています。\n- AIの活用に伴う課題やリスク、人間とAIの役割分担に関する考察も取り上げられています。\n- AIを活用してコンプライアンス活動を効率化し、洞察力とリスク管理能力を向上させるための手法を学ぶことができます。\n\n具体的な内容や詳細は与えられていませんが、AIがコンプライアンス活動においてどのように活用されるかや、その効果について学ぶことができると言えます。\n\n## 参照情報(コンプライアンス) \n\n> Source (Doc id: ea8e3d00-0cd5-498f-809f-280d60017a1e): 【35. コンプライアンスとクラウドコンピューティング】 （ 500文字程度）  \nクラウドコンピューティングの普及により、データ保護とコンプライアンスの課題が浮上\nしています。 この章では、 コンプライアンスとクラウドコンピューティングの関連性につい\nて詳しく解説します。 データの保護とプライバシー確保、 クラウドプロバイダとの契約と監\n査、データの移転と適法性の確保などに関する具体的なア...\n\n> Source (Doc id: 9c115029-6693-4ef3-9822-516385eb4dc3): テクノロジーの活用とコンプライアンス】 （ 500文字程度）  \nテクノロジーの進化は、コンプライアンス活動において革新的な手法とチャンスをもたら\nしています。 この章では、 テクノロジーの活用とコンプライアンスの関連性について探求し\nます。 AI（人工知能）や機械学習、ブロックチェーンなどのテクノロジーがコンプライアン\nスプロセスやリスク管理にどのように活用されているかを解説します。 また..."
          },
          "metadata": {}
        }
      ]
    },
    {
      "cell_type": "code",
      "source": [
        "get_chatgpt_response_from_different_sources(\"AIと健康について教えてください\")"
      ],
      "metadata": {
        "colab": {
          "base_uri": "https://localhost:8080/",
          "height": 581
        },
        "id": "sy4iIjrsQi-6",
        "outputId": "e96afd1a-df1e-4dda-d4e8-44aa346c9ece"
      },
      "execution_count": null,
      "outputs": [
        {
          "output_type": "display_data",
          "data": {
            "text/plain": [
              "<IPython.core.display.Markdown object>"
            ],
            "text/markdown": "## ユーザー入力\n\nAIと健康について教えてください\n\n## AI回答\n\nAI（人工知能）は、健康に関連するさまざまな分野で活用されています。予防医学の一環として、AIは健康リスクの評価や予測、疾病の早期発見、治療計画の立案などに役立てられています。AIは大量のデータを解析し、パターンや傾向を見つけ出すことが得意であり、これによって医療の質を向上させることができます。\n\nまた、AIはテレヘルスやモバイルアプリなどの健康ケアのデジタル化にも活用されています。例えば、スマートウォッチやフィットネスアプリは、個人の健康データを収集し、運動量や睡眠の質などをモニタリングすることができます。AIはこれらのデータを解析し、個々の健康状態やリスクを評価し、適切なアドバイスや予防策を提供することができます。\n\nさらに、AIは医療診断や治療の分野でも活用されています。例えば、画像認識技術を用いたAIは、X線やMRIなどの画像を解析し、病変や異常を検出することができます。また、患者の病歴や症状データを解析することで、疾病の診断や治療計画の立案を支援することも可能です。\n\nAIの活用によって、医療の効率性や精度が向上し、個々の健康管理や疾病の予防・治療に役立てることができます。しかし、AIの活用には倫理的な問題やプライバシーの保護などの課題も存在します。適切な規制や倫理的なガイドラインの策定が求められています。\n\n## 参照情報(健康問題) \n\n> Source (Doc id: fc00fc46-c3ec-4d56-90f1-ffe2cd97c04b): 健康を維持するためには、疾病の予防が重要です。予防医学の手法としては、予防接種やス\nクリーニングテストの実施、健康診断の受診などがあります。また、リスクファクターの管\n理や健康への適切なアドバイスも予防医学の重要な要素です。自身の健康リスクを正しく\n評価し、 予防医学の 原則に基づいた行動を取ることで、 病気や健康問題を予防することが可\n能となります。  \n \n１４．健康への環境への配慮  ...\n\n> Source (Doc id: 2bf0bd5c-d940-42b0-abb0-0da211dead7e): 健康に関する新しい知識や最新の研究\n結果を学び続けることで、自身の健康管理や健康への取り組みを進化させることができま\nす。生涯学習の一環として、健康に関するセミナーやワークショップへの参加、専門書やオ\nンラインの健康情報の活用、健康に関連するコミュニ ティや団体への参加などが挙げられ\nます。 自身の健康についての知識を深めることで、 より良い健康状態を維持するための選択\nや行動が可能となりま..."
          },
          "metadata": {}
        }
      ]
    },
    {
      "cell_type": "code",
      "source": [
        "get_chatgpt_response_from_different_sources(\"にゃんたについて教えてください\")"
      ],
      "metadata": {
        "colab": {
          "base_uri": "https://localhost:8080/"
        },
        "id": "bn8vutHBQkcK",
        "outputId": "c11b56b8-7336-4d00-e7b5-85af1046871a"
      },
      "execution_count": null,
      "outputs": [
        {
          "output_type": "stream",
          "name": "stdout",
          "text": [
            "関連する情報がありません\n"
          ]
        }
      ]
    },
    {
      "cell_type": "code",
      "source": [],
      "metadata": {
        "id": "q_XoykrHOu9i"
      },
      "execution_count": null,
      "outputs": []
    }
  ]
}