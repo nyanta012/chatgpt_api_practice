{
  "cells": [
    {
      "cell_type": "markdown",
      "metadata": {
        "id": "view-in-github",
        "colab_type": "text"
      },
      "source": [
        "<a href=\"https://colab.research.google.com/github/nyanta012/chatgpt_api_practice/blob/main/section4/section4.ipynb\" target=\"_parent\"><img src=\"https://colab.research.google.com/assets/colab-badge.svg\" alt=\"Open In Colab\"/></a>"
      ]
    },
    {
      "cell_type": "markdown",
      "metadata": {
        "id": "Glib2b1nonsK"
      },
      "source": [
        "# Google Colaboratoryのショートカットキー\n",
        "1. **現在のセルを実行し、次のセルを選択**: `Shift + Enter`\n",
        "2. **コードセルをテキストセルにする**: `Ctrl + M M`\n",
        "3. **コードセルを上に追加**: `Ctrl + M A`\n",
        "4. **コードセルを下に追加**: `Ctrl + M B`\n",
        "5. **セルの削除**: `Ctrl + M D`"
      ]
    },
    {
      "cell_type": "code",
      "execution_count": 1,
      "metadata": {
        "colab": {
          "base_uri": "https://localhost:8080/"
        },
        "id": "1vDKXR2Uah-s",
        "outputId": "e5715c35-45f2-46da-c996-f28ad328628f"
      },
      "outputs": [
        {
          "output_type": "stream",
          "name": "stdout",
          "text": [
            "0\n",
            "1\n",
            "2\n",
            "3\n",
            "4\n"
          ]
        }
      ],
      "source": [
        "for i in range(5):\n",
        "  print(i)"
      ]
    },
    {
      "cell_type": "markdown",
      "metadata": {
        "id": "Ja_-Y8MenkI-"
      },
      "source": [
        "これはテキストです"
      ]
    },
    {
      "cell_type": "code",
      "source": [],
      "metadata": {
        "id": "6-KiZtkoamqT"
      },
      "execution_count": 1,
      "outputs": []
    },
    {
      "cell_type": "code",
      "source": [],
      "metadata": {
        "id": "7WMpSwGAamIb"
      },
      "execution_count": 1,
      "outputs": []
    },
    {
      "cell_type": "code",
      "source": [],
      "metadata": {
        "id": "dnrYozm0amQs"
      },
      "execution_count": 1,
      "outputs": []
    },
    {
      "cell_type": "markdown",
      "metadata": {
        "id": "OwQMO3FWm9vU"
      },
      "source": [
        "# 必要なパッケージをインストール"
      ]
    },
    {
      "cell_type": "code",
      "execution_count": 2,
      "metadata": {
        "id": "UH9Zl4Nkm6Lu"
      },
      "outputs": [],
      "source": [
        "# openaiをパッケージをインストール\n",
        "%%capture\n",
        "!pip install openai==1.3.5"
      ]
    },
    {
      "cell_type": "code",
      "source": [],
      "metadata": {
        "id": "JYvIQWAcanPW"
      },
      "execution_count": 2,
      "outputs": []
    },
    {
      "cell_type": "code",
      "source": [],
      "metadata": {
        "id": "HoTvoujbanTu"
      },
      "execution_count": 2,
      "outputs": []
    },
    {
      "cell_type": "code",
      "source": [],
      "metadata": {
        "id": "4Ms_V6cTanX9"
      },
      "execution_count": 2,
      "outputs": []
    },
    {
      "cell_type": "markdown",
      "metadata": {
        "id": "pae45jSzm6XN"
      },
      "source": [
        "# API Keyの設定"
      ]
    },
    {
      "cell_type": "code",
      "execution_count": 3,
      "metadata": {
        "colab": {
          "base_uri": "https://localhost:8080/"
        },
        "id": "qv6aog92m6aA",
        "outputId": "73d40a00-b27b-4b5e-8ff3-95c5ef6f9cf9"
      },
      "outputs": [
        {
          "name": "stdout",
          "output_type": "stream",
          "text": [
            "OpenAIのAPIキーを入力してください··········\n"
          ]
        }
      ],
      "source": [
        "import getpass\n",
        "apikey = getpass.getpass(prompt = 'OpenAIのAPIキーを入力してください')\n",
        "\n",
        "import openai\n",
        "from openai import OpenAI\n",
        "\n",
        "client = OpenAI(api_key=apikey)"
      ]
    },
    {
      "cell_type": "code",
      "source": [],
      "metadata": {
        "id": "DPZWG-wDan3Y"
      },
      "execution_count": null,
      "outputs": []
    },
    {
      "cell_type": "code",
      "source": [],
      "metadata": {
        "id": "_jjTNFGhan7I"
      },
      "execution_count": 2,
      "outputs": []
    },
    {
      "cell_type": "markdown",
      "metadata": {
        "id": "aL2GohVnnTtG"
      },
      "source": [
        "# GPTのAPIを使ってみよう"
      ]
    },
    {
      "cell_type": "code",
      "execution_count": 15,
      "metadata": {
        "id": "Yjdg780onLcn"
      },
      "outputs": [],
      "source": [
        "def get_completion(prompt, model=\"gpt-3.5-turbo-1106\") -> openai.types.chat.chat_completion.ChatCompletion:\n",
        "    messages = [\n",
        "        {\"role\": \"system\", \"content\": \"あなたは親切な人工知能です\"},\n",
        "        {\"role\": \"user\", \"content\": prompt},\n",
        "    ]\n",
        "    response = client.chat.completions.create(\n",
        "        model=model,\n",
        "        messages=messages,\n",
        "        temperature=0,\n",
        "        seed=0\n",
        "    )\n",
        "    return response"
      ]
    },
    {
      "cell_type": "code",
      "execution_count": 16,
      "metadata": {
        "id": "7nNlixgwnLgU"
      },
      "outputs": [],
      "source": [
        "response = get_completion(\"ChatGPTについて教えてください\")"
      ]
    },
    {
      "cell_type": "code",
      "execution_count": 17,
      "metadata": {
        "colab": {
          "base_uri": "https://localhost:8080/"
        },
        "id": "a9s1EWEyannI",
        "outputId": "1782896d-01c7-41ea-b4c8-d440fdb4a019"
      },
      "outputs": [
        {
          "output_type": "stream",
          "name": "stdout",
          "text": [
            "ChatGPTは、OpenAIが開発した自然言語処理モデルの一つです。GPT（Generative Pre-trained Transformer）は、大規模なテキストデータを用いて事前に訓練された言語モデルであり、ChatGPTはその応用の一つです。\n",
            "\n",
            "ChatGPTは、人間のように自然な会話を行うことができるように設計されており、一般的な質問に答えたり、会話を続けたりすることができます。このモデルは、多くの異なるトピックについての知識を持ち、自然な言語生成を行うことができます。\n",
            "\n",
            "ChatGPTは、カスタマーサポート、チャットボット、教育、エンターテイメントなど、さまざまな分野で活用されています。そのため、人々とのコミュニケーションをサポートするためのツールとして広く利用されています。\n"
          ]
        }
      ],
      "source": [
        "print(response.choices[0].message.content)"
      ]
    },
    {
      "cell_type": "code",
      "execution_count": 18,
      "metadata": {
        "colab": {
          "base_uri": "https://localhost:8080/"
        },
        "id": "pu6hsi4naod_",
        "outputId": "3d1d4dba-7615-4096-d6a1-92abd8698eb9"
      },
      "outputs": [
        {
          "output_type": "execute_result",
          "data": {
            "text/plain": [
              "331"
            ]
          },
          "metadata": {},
          "execution_count": 18
        }
      ],
      "source": [
        "response.usage.total_tokens"
      ]
    },
    {
      "cell_type": "code",
      "source": [],
      "metadata": {
        "id": "E9Y1xvZTa9lt"
      },
      "execution_count": null,
      "outputs": []
    },
    {
      "cell_type": "code",
      "source": [],
      "metadata": {
        "id": "Fvv-y-sba9rV"
      },
      "execution_count": null,
      "outputs": []
    },
    {
      "cell_type": "code",
      "source": [],
      "metadata": {
        "id": "Yq-OkccFbDhu"
      },
      "execution_count": null,
      "outputs": []
    },
    {
      "cell_type": "markdown",
      "metadata": {
        "id": "F79wF-XenZkj"
      },
      "source": [
        "# チャットしてみよう"
      ]
    },
    {
      "cell_type": "code",
      "execution_count": 19,
      "metadata": {
        "id": "XllUpZhXnZpO"
      },
      "outputs": [],
      "source": [
        "def get_chat_response(messages, model=\"gpt-3.5-turbo-1106\") -> openai.types.chat.chat_completion.ChatCompletion:\n",
        "    response = client.chat.completions.create(\n",
        "        model=model,\n",
        "        messages=messages,\n",
        "        temperature=0,\n",
        "        seed=0\n",
        "    )\n",
        "    return response"
      ]
    },
    {
      "cell_type": "code",
      "source": [
        "messages = [{\"role\": \"system\", \"content\": \"あなたは親切な人工知能です\"}]\n",
        "\n",
        "cnt = 0\n",
        "while cnt < 10:\n",
        "    user_input = input()\n",
        "    messages.append({\"role\": \"user\", \"content\": user_input})\n",
        "    response = get_chat_response(messages)\n",
        "    messages.append(\n",
        "        {\"role\": \"assistant\", \"content\": response.choices[0].message.content}\n",
        "    )\n",
        "    print(\"\\nGPT Assistant:\" + response.choices[0].message.content + \"\\n\")\n",
        "    cnt += 1"
      ],
      "metadata": {
        "id": "vKcwevAQc_1a"
      },
      "execution_count": null,
      "outputs": []
    },
    {
      "cell_type": "code",
      "execution_count": null,
      "metadata": {
        "id": "EzsvAmYq1RfI"
      },
      "outputs": [],
      "source": []
    }
  ],
  "metadata": {
    "colab": {
      "provenance": [],
      "include_colab_link": true
    },
    "kernelspec": {
      "display_name": "Python 3",
      "name": "python3"
    },
    "language_info": {
      "name": "python"
    }
  },
  "nbformat": 4,
  "nbformat_minor": 0
}