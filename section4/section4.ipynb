{
  "cells": [
    {
      "cell_type": "markdown",
      "metadata": {
        "id": "view-in-github",
        "colab_type": "text"
      },
      "source": [
        "<a href=\"https://colab.research.google.com/github/nyanta012/chatgpt_api_practice/blob/main/section4/section4.ipynb\" target=\"_parent\"><img src=\"https://colab.research.google.com/assets/colab-badge.svg\" alt=\"Open In Colab\"/></a>"
      ]
    },
    {
      "cell_type": "markdown",
      "metadata": {
        "id": "Glib2b1nonsK"
      },
      "source": [
        "# Google Colaboratoryのショートカットキー\n",
        "1. **現在のセルを実行し、次のセルを選択**: `Shift + Enter`\n",
        "2. **コードセルをテキストセルにする**: `Ctrl + M M`\n",
        "3. **コードセルを上に追加**: `Ctrl + M A`\n",
        "4. **コードセルを下に追加**: `Ctrl + M B`\n",
        "5. **セルの削除**: `Ctrl + M D`"
      ]
    },
    {
      "cell_type": "code",
      "execution_count": 1,
      "metadata": {
        "colab": {
          "base_uri": "https://localhost:8080/"
        },
        "id": "1vDKXR2Uah-s",
        "outputId": "36bc7f99-3940-4dd7-92a2-cb2c8d89b500"
      },
      "outputs": [
        {
          "output_type": "stream",
          "name": "stdout",
          "text": [
            "0\n",
            "1\n",
            "2\n",
            "3\n",
            "4\n"
          ]
        }
      ],
      "source": [
        "for i in range(5):\n",
        "  print(i)"
      ]
    },
    {
      "cell_type": "markdown",
      "metadata": {
        "id": "Ja_-Y8MenkI-"
      },
      "source": [
        "これはテキストです"
      ]
    },
    {
      "cell_type": "code",
      "source": [],
      "metadata": {
        "id": "6-KiZtkoamqT"
      },
      "execution_count": 1,
      "outputs": []
    },
    {
      "cell_type": "code",
      "source": [],
      "metadata": {
        "id": "7WMpSwGAamIb"
      },
      "execution_count": 1,
      "outputs": []
    },
    {
      "cell_type": "code",
      "source": [],
      "metadata": {
        "id": "dnrYozm0amQs"
      },
      "execution_count": 1,
      "outputs": []
    },
    {
      "cell_type": "markdown",
      "metadata": {
        "id": "OwQMO3FWm9vU"
      },
      "source": [
        "# 必要なパッケージをインストール"
      ]
    },
    {
      "cell_type": "code",
      "execution_count": 2,
      "metadata": {
        "id": "UH9Zl4Nkm6Lu"
      },
      "outputs": [],
      "source": [
        "# openaiをパッケージをインストール\n",
        "%%capture\n",
        "!pip install openai==1.3.5 httpx==0.27.2 --force-reinstall"
      ]
    },
    {
      "cell_type": "code",
      "source": [],
      "metadata": {
        "id": "JYvIQWAcanPW"
      },
      "execution_count": null,
      "outputs": []
    },
    {
      "cell_type": "code",
      "source": [],
      "metadata": {
        "id": "HoTvoujbanTu"
      },
      "execution_count": null,
      "outputs": []
    },
    {
      "cell_type": "code",
      "source": [],
      "metadata": {
        "id": "4Ms_V6cTanX9"
      },
      "execution_count": null,
      "outputs": []
    },
    {
      "cell_type": "markdown",
      "metadata": {
        "id": "pae45jSzm6XN"
      },
      "source": [
        "# API Keyの設定"
      ]
    },
    {
      "cell_type": "code",
      "execution_count": 6,
      "metadata": {
        "colab": {
          "base_uri": "https://localhost:8080/"
        },
        "id": "qv6aog92m6aA",
        "outputId": "1eb28367-bd11-4a44-9964-b47141877b65"
      },
      "outputs": [
        {
          "name": "stdout",
          "output_type": "stream",
          "text": [
            "OpenAIのAPIキーを入力してください··········\n"
          ]
        }
      ],
      "source": [
        "import getpass\n",
        "apikey = getpass.getpass(prompt = 'OpenAIのAPIキーを入力してください')\n",
        "\n",
        "import openai\n",
        "from openai import OpenAI\n",
        "\n",
        "client = OpenAI(api_key=apikey)"
      ]
    },
    {
      "cell_type": "code",
      "source": [],
      "metadata": {
        "id": "DPZWG-wDan3Y"
      },
      "execution_count": 3,
      "outputs": []
    },
    {
      "cell_type": "code",
      "source": [],
      "metadata": {
        "id": "_jjTNFGhan7I"
      },
      "execution_count": 3,
      "outputs": []
    },
    {
      "cell_type": "markdown",
      "metadata": {
        "id": "aL2GohVnnTtG"
      },
      "source": [
        "# GPTのAPIを使ってみよう"
      ]
    },
    {
      "cell_type": "code",
      "execution_count": 7,
      "metadata": {
        "id": "Yjdg780onLcn"
      },
      "outputs": [],
      "source": [
        "def get_completion(prompt, model=\"gpt-3.5-turbo-1106\") -> openai.types.chat.chat_completion.ChatCompletion:\n",
        "    messages = [\n",
        "        {\"role\": \"system\", \"content\": \"あなたは親切な人工知能です\"},\n",
        "        {\"role\": \"user\", \"content\": prompt},\n",
        "    ]\n",
        "    response = client.chat.completions.create(\n",
        "        model=model,\n",
        "        messages=messages,\n",
        "        temperature=0,\n",
        "        seed=0\n",
        "    )\n",
        "    return response"
      ]
    },
    {
      "cell_type": "code",
      "execution_count": 8,
      "metadata": {
        "id": "7nNlixgwnLgU"
      },
      "outputs": [],
      "source": [
        "response = get_completion(\"ChatGPTについて教えてください\")"
      ]
    },
    {
      "cell_type": "code",
      "execution_count": 9,
      "metadata": {
        "colab": {
          "base_uri": "https://localhost:8080/"
        },
        "id": "a9s1EWEyannI",
        "outputId": "a2614198-b63e-49a7-8ede-73a5c8cb860f"
      },
      "outputs": [
        {
          "output_type": "stream",
          "name": "stdout",
          "text": [
            "ChatGPTは、OpenAIが開発した自然言語処理モデルの一つです。GPT（Generative Pre-trained Transformer）は、大規模なテキストデータを用いて事前に訓練された言語モデルであり、ChatGPTはその応用の一つとして会話を生成するために設計されています。\n",
            "\n",
            "ChatGPTは、ユーザーとの自然な対話を行うことができるように訓練されており、一般的な質問に答えたり、会話を続けたりすることが可能です。そのため、カスタマーサポート、教育、エンターテイメントなど、さまざまな分野で利用されています。\n",
            "\n",
            "ChatGPTは、大規模なデータセットを用いて訓練されているため、一般的な知識や言語の理解に基づいて応答を生成することができます。ただし、特定の専門知識や個人情報に関する情報については、その限界がありますので、注意が必要です。\n"
          ]
        }
      ],
      "source": [
        "print(response.choices[0].message.content)"
      ]
    },
    {
      "cell_type": "code",
      "execution_count": 10,
      "metadata": {
        "colab": {
          "base_uri": "https://localhost:8080/"
        },
        "id": "pu6hsi4naod_",
        "outputId": "2c296484-e684-4a3a-857e-05bb9c3ea666"
      },
      "outputs": [
        {
          "output_type": "execute_result",
          "data": {
            "text/plain": [
              "365"
            ]
          },
          "metadata": {},
          "execution_count": 10
        }
      ],
      "source": [
        "response.usage.total_tokens"
      ]
    },
    {
      "cell_type": "code",
      "source": [],
      "metadata": {
        "id": "E9Y1xvZTa9lt"
      },
      "execution_count": null,
      "outputs": []
    },
    {
      "cell_type": "code",
      "source": [],
      "metadata": {
        "id": "Fvv-y-sba9rV"
      },
      "execution_count": null,
      "outputs": []
    },
    {
      "cell_type": "code",
      "source": [],
      "metadata": {
        "id": "Yq-OkccFbDhu"
      },
      "execution_count": null,
      "outputs": []
    },
    {
      "cell_type": "markdown",
      "metadata": {
        "id": "F79wF-XenZkj"
      },
      "source": [
        "# チャットしてみよう"
      ]
    },
    {
      "cell_type": "code",
      "execution_count": 11,
      "metadata": {
        "id": "XllUpZhXnZpO"
      },
      "outputs": [],
      "source": [
        "def get_chat_response(messages, model=\"gpt-3.5-turbo-1106\") -> openai.types.chat.chat_completion.ChatCompletion:\n",
        "    response = client.chat.completions.create(\n",
        "        model=model,\n",
        "        messages=messages,\n",
        "        temperature=0,\n",
        "        seed=0\n",
        "    )\n",
        "    return response"
      ]
    },
    {
      "cell_type": "code",
      "source": [
        "messages = [{\"role\": \"system\", \"content\": \"あなたは親切な人工知能です\"}]\n",
        "\n",
        "cnt = 0\n",
        "while cnt < 10:\n",
        "    user_input = input()\n",
        "    messages.append({\"role\": \"user\", \"content\": user_input})\n",
        "    response = get_chat_response(messages)\n",
        "    messages.append(\n",
        "        {\"role\": \"assistant\", \"content\": response.choices[0].message.content}\n",
        "    )\n",
        "    print(\"\\nGPT Assistant:\" + response.choices[0].message.content + \"\\n\")\n",
        "    cnt += 1"
      ],
      "metadata": {
        "id": "glbFXQARxLup"
      },
      "execution_count": null,
      "outputs": []
    },
    {
      "cell_type": "code",
      "execution_count": null,
      "metadata": {
        "id": "EzsvAmYq1RfI"
      },
      "outputs": [],
      "source": []
    }
  ],
  "metadata": {
    "colab": {
      "provenance": [],
      "include_colab_link": true
    },
    "kernelspec": {
      "display_name": "Python 3",
      "name": "python3"
    },
    "language_info": {
      "name": "python"
    }
  },
  "nbformat": 4,
  "nbformat_minor": 0
}