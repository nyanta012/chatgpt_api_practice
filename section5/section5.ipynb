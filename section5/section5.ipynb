{
  "cells": [
    {
      "cell_type": "markdown",
      "metadata": {
        "id": "view-in-github",
        "colab_type": "text"
      },
      "source": [
        "<a href=\"https://colab.research.google.com/github/nyanta012/chatgpt_api_practice/blob/main/section5/section5.ipynb\" target=\"_parent\"><img src=\"https://colab.research.google.com/assets/colab-badge.svg\" alt=\"Open In Colab\"/></a>"
      ]
    },
    {
      "cell_type": "markdown",
      "metadata": {
        "id": "rhaDQ8cSy_YW"
      },
      "source": [
        "# Google Colaboratoryのショートカットキー\n",
        "1. **現在のセルを実行し、次のセルを選択**: `Shift + Enter`\n",
        "2. **コードセルをテキストセルにする**: `Ctrl + M M`\n",
        "3. **コードセルを上に追加**: `Ctrl + M A`\n",
        "4. **コードセルを下に追加**: `Ctrl + M B`\n",
        "5. **セルの削除**: `Ctrl + M D`"
      ]
    },
    {
      "cell_type": "code",
      "execution_count": null,
      "metadata": {
        "id": "X7YAH9izwx8N"
      },
      "outputs": [],
      "source": []
    },
    {
      "cell_type": "markdown",
      "metadata": {
        "id": "RFIq_f0IuNnY"
      },
      "source": [
        "# API KEYの設定"
      ]
    },
    {
      "cell_type": "code",
      "execution_count": 1,
      "metadata": {
        "id": "hWyA5Fq8vCR8"
      },
      "outputs": [],
      "source": [
        "%%capture\n",
        "!pip install openai==1.3.5 httpx==0.27.2 --force-reinstall"
      ]
    },
    {
      "cell_type": "code",
      "execution_count": 2,
      "metadata": {
        "colab": {
          "base_uri": "https://localhost:8080/"
        },
        "id": "gctYfamdvCV3",
        "outputId": "2e02e7da-3aa0-43ca-ec63-261cda732770"
      },
      "outputs": [
        {
          "name": "stdout",
          "output_type": "stream",
          "text": [
            "OpenAIのAPIキーを入力してください··········\n"
          ]
        }
      ],
      "source": [
        "from typing import List, Dict, Tuple\n",
        "\n",
        "import getpass\n",
        "apikey = getpass.getpass(prompt = 'OpenAIのAPIキーを入力してください')\n",
        "\n",
        "from openai import OpenAI\n",
        "client = OpenAI(api_key=apikey)"
      ]
    },
    {
      "cell_type": "code",
      "execution_count": null,
      "metadata": {
        "id": "wYg3wJ_HvGv0"
      },
      "outputs": [],
      "source": []
    },
    {
      "cell_type": "code",
      "execution_count": null,
      "metadata": {
        "id": "8EUVQnbMdpdQ"
      },
      "outputs": [],
      "source": []
    },
    {
      "cell_type": "markdown",
      "metadata": {
        "id": "xJ2thOPwvGzl"
      },
      "source": [
        "# プロンプトを入力して返答を返す関数を定義"
      ]
    },
    {
      "cell_type": "code",
      "source": [
        "def get_chatgpt_response(\n",
        "    user_input: str,\n",
        "    template: str,\n",
        "    model: str = \"gpt-3.5-turbo-1106\",\n",
        "    temperature: float = 0,\n",
        "    max_tokens: int = 500,\n",
        ") -> str:\n",
        "    \"\"\"\n",
        "    ChatGPTに対して対話を投げかけ、返答を取得する\n",
        "    \"\"\"\n",
        "    prompt = template.format(user_input=user_input)\n",
        "    messages = [{\"role\": \"user\", \"content\": prompt}]\n",
        "    response = client.chat.completions.create(\n",
        "        model=model,\n",
        "        messages=messages,\n",
        "        temperature=temperature,\n",
        "        max_tokens=max_tokens,\n",
        "        seed=0\n",
        "    )\n",
        "    return response.choices[0].message.content"
      ],
      "metadata": {
        "id": "wC47K7Ktl72a"
      },
      "execution_count": 3,
      "outputs": []
    },
    {
      "cell_type": "code",
      "execution_count": 4,
      "metadata": {
        "id": "qFTotPYdZlpX"
      },
      "outputs": [],
      "source": [
        "PROMPT_TEMPLATE = \"\"\"\n",
        "    下記の文章を関西弁にしてください。\n",
        "    {user_input}\n",
        "    \"\"\""
      ]
    },
    {
      "cell_type": "code",
      "source": [
        "print(get_chatgpt_response(\"がむしゃらにやれ！\", PROMPT_TEMPLATE))"
      ],
      "metadata": {
        "colab": {
          "base_uri": "https://localhost:8080/"
        },
        "id": "jRQiXxxElVOn",
        "outputId": "a2bfeebd-1813-4bcc-8fde-656ea9c5968b"
      },
      "execution_count": 5,
      "outputs": [
        {
          "output_type": "stream",
          "name": "stdout",
          "text": [
            "がんばってやりなさいやで！\n"
          ]
        }
      ]
    },
    {
      "cell_type": "code",
      "execution_count": 6,
      "metadata": {
        "id": "therwnncw_cv",
        "colab": {
          "base_uri": "https://localhost:8080/"
        },
        "outputId": "d513ecbc-ab9e-4367-d140-3bd140b65b66"
      },
      "outputs": [
        {
          "output_type": "stream",
          "name": "stdout",
          "text": [
            "がんばってやるな！\n"
          ]
        }
      ],
      "source": [
        "print(get_chatgpt_response(\"がむしゃらにやるな！\", PROMPT_TEMPLATE))"
      ]
    },
    {
      "cell_type": "code",
      "execution_count": null,
      "metadata": {
        "id": "eAuUgQ7Iw_sT"
      },
      "outputs": [],
      "source": []
    },
    {
      "cell_type": "code",
      "execution_count": null,
      "metadata": {
        "id": "Tgac6M5Bduxe"
      },
      "outputs": [],
      "source": []
    },
    {
      "cell_type": "markdown",
      "metadata": {
        "id": "vK0i5ISsvO3f"
      },
      "source": [
        "# 問い合わせ分類\n",
        "\n",
        "**問い合わせが以下のどのカテゴリーか分類させよう**\n",
        "  - 製品に対する問い合わせ\n",
        "  - 注文に対する問い合わせ\n",
        "  - 配送に対する問い合わせ"
      ]
    },
    {
      "cell_type": "markdown",
      "metadata": {
        "id": "_DWCRN1PvO9w"
      },
      "source": [
        "まずは、プロンプトのテンプレートを定義"
      ]
    },
    {
      "cell_type": "code",
      "source": [
        "PROMPT_TEMPLATE = \"\"\"\n",
        "    あなたは優秀なカスタマーサポートセンターの担当者です。\n",
        "    下記顧客からの問い合わせと分類カテゴリーがあります。\n",
        "    顧客からの問い合わせ内容がどのカテゴリーに当てはまるか考えてください。\n",
        "    可能な限りカテゴリー分けしてください。それでも無い場合「該当なし」としてください。\n",
        "\n",
        "    # 分類カテゴリー\n",
        "     製品に対する問い合わせ\n",
        "     注文に対する問い合わせ\n",
        "     配送に対する問い合わせ\n",
        "\n",
        "    # 顧客からの問い合わせ\n",
        "    {user_input}\n",
        "\n",
        "    # 出力形式\n",
        "     製品に対する問い合わせ, 注文に対する問い合わせ, 配送に対する問い合わせ のどれか\n",
        "    \"\"\""
      ],
      "metadata": {
        "id": "KAux42cRpY5Z"
      },
      "execution_count": 7,
      "outputs": []
    },
    {
      "cell_type": "code",
      "source": [
        "get_chatgpt_response(\"本日購入した場合、最短で納期はいつですか？\", PROMPT_TEMPLATE)"
      ],
      "metadata": {
        "colab": {
          "base_uri": "https://localhost:8080/",
          "height": 36
        },
        "id": "QtTs35kWpZxo",
        "outputId": "3511e293-ae4c-4b9a-b7d5-6f8736238e74"
      },
      "execution_count": 8,
      "outputs": [
        {
          "output_type": "execute_result",
          "data": {
            "text/plain": [
              "'配送に対する問い合わせ'"
            ],
            "application/vnd.google.colaboratory.intrinsic+json": {
              "type": "string"
            }
          },
          "metadata": {},
          "execution_count": 8
        }
      ]
    },
    {
      "cell_type": "code",
      "source": [
        "get_chatgpt_response(\"購入をキャンセルしたいです\", PROMPT_TEMPLATE)"
      ],
      "metadata": {
        "colab": {
          "base_uri": "https://localhost:8080/",
          "height": 36
        },
        "id": "VJeGkLdwpajX",
        "outputId": "c7c00410-f754-482d-9c46-d857efadbdae"
      },
      "execution_count": 9,
      "outputs": [
        {
          "output_type": "execute_result",
          "data": {
            "text/plain": [
              "'注文に対する問い合わせ'"
            ],
            "application/vnd.google.colaboratory.intrinsic+json": {
              "type": "string"
            }
          },
          "metadata": {},
          "execution_count": 9
        }
      ]
    },
    {
      "cell_type": "code",
      "source": [
        "get_chatgpt_response(\"どのような商品がありますか？\", PROMPT_TEMPLATE)"
      ],
      "metadata": {
        "colab": {
          "base_uri": "https://localhost:8080/",
          "height": 36
        },
        "id": "jByQ2yQzpbbI",
        "outputId": "46f624d3-9f94-4683-ce3e-48831b59e571"
      },
      "execution_count": 10,
      "outputs": [
        {
          "output_type": "execute_result",
          "data": {
            "text/plain": [
              "'製品に対する問い合わせ'"
            ],
            "application/vnd.google.colaboratory.intrinsic+json": {
              "type": "string"
            }
          },
          "metadata": {},
          "execution_count": 10
        }
      ]
    },
    {
      "cell_type": "code",
      "source": [
        "get_chatgpt_response(\"猫を飼いたいです\", PROMPT_TEMPLATE)"
      ],
      "metadata": {
        "colab": {
          "base_uri": "https://localhost:8080/",
          "height": 36
        },
        "id": "xYu1qIgBpcPo",
        "outputId": "ea1551d4-5a72-4bd9-d6dd-98d03ac7e949"
      },
      "execution_count": 11,
      "outputs": [
        {
          "output_type": "execute_result",
          "data": {
            "text/plain": [
              "'該当なし'"
            ],
            "application/vnd.google.colaboratory.intrinsic+json": {
              "type": "string"
            }
          },
          "metadata": {},
          "execution_count": 11
        }
      ]
    },
    {
      "cell_type": "code",
      "execution_count": null,
      "metadata": {
        "id": "6XKSMCVldz84"
      },
      "outputs": [],
      "source": []
    },
    {
      "cell_type": "code",
      "source": [],
      "metadata": {
        "id": "hmfYKeYPpde0"
      },
      "execution_count": null,
      "outputs": []
    },
    {
      "cell_type": "code",
      "source": [],
      "metadata": {
        "id": "STcuc574pdi2"
      },
      "execution_count": null,
      "outputs": []
    },
    {
      "cell_type": "code",
      "source": [],
      "metadata": {
        "id": "y3QfNi8Rpdmm"
      },
      "execution_count": null,
      "outputs": []
    },
    {
      "cell_type": "code",
      "source": [],
      "metadata": {
        "id": "IY6NMsrDpdp5"
      },
      "execution_count": null,
      "outputs": []
    },
    {
      "cell_type": "markdown",
      "metadata": {
        "id": "u89KZClQvYe4"
      },
      "source": [
        "# 問い合わせの詳細カテゴリー\n",
        "\n",
        "問い合わせの内容により、以下のカテゴリーに分類します。\n",
        "\n",
        "## 製品に対する問い合わせ\n",
        "  - **スペック**\n",
        "  - **値段**\n",
        "  - **購入方法**\n",
        "\n",
        "## 注文に対する問い合わせ\n",
        "  - **注文状況**\n",
        "  - **注文変更**\n",
        "  - **支払い方法**\n",
        "\n",
        "## 配送に対する問い合わせ\n",
        "  - **配送状況**\n",
        "  - **配送オプション**\n",
        "  - **配送問題**\n"
      ]
    },
    {
      "cell_type": "code",
      "source": [
        "PROMPT_TEMPLATE = \"\"\"\n",
        "    あなたは優秀なカスタマーサポートセンターの担当者です。\n",
        "    下記顧客からの問い合わせと分類カテゴリーがあります。\n",
        "    次のステップで段階的に顧客の問い合わせを分類してください。\n",
        "    1. 顧客からの問い合わせ内容を第一カテゴリーに分ける\n",
        "    2. 第一カテゴリーに紐づいている最も近い第二カテゴリーがどれかを考える\n",
        "    3. 出力形式に従って文章を生成する\n",
        "\n",
        "    # 顧客からの問い合わせ\n",
        "    {user_input}\n",
        "\n",
        "    # 分類カテゴリー\n",
        "      第一カテゴリー：\n",
        "        製品, 注文, 配送\n",
        "      第二カテゴリー：\n",
        "        製品の場合は[スペック, 値段, 購入方法]のどれか\n",
        "        注文の場合は[注文状況, 注文変更, 支払い方法]のどれか\n",
        "        配送の場合は[配送状況, 配送オプション, 配送問題]のどれか\n",
        "\n",
        "    # 出力形式\n",
        "      第一カテゴリー:<第一カテゴリーのどれか>\n",
        "      第二カテゴリー:<第二カテゴリーのどれか>\n",
        "    \"\"\""
      ],
      "metadata": {
        "id": "YDUCd8RDrxP5"
      },
      "execution_count": null,
      "outputs": []
    },
    {
      "cell_type": "code",
      "execution_count": null,
      "metadata": {
        "id": "y9y_pG0WvaW5",
        "colab": {
          "base_uri": "https://localhost:8080/"
        },
        "outputId": "f3ed6564-4b25-417c-cd8d-95a3860136f6"
      },
      "outputs": [
        {
          "output_type": "stream",
          "name": "stdout",
          "text": [
            "    第一カテゴリー: 配送\n",
            "    第二カテゴリー: 配送状況\n"
          ]
        }
      ],
      "source": [
        "response = get_chatgpt_response(\"私のパッケージは出荷されましたか？\", PROMPT_TEMPLATE)\n",
        "print(response)"
      ]
    },
    {
      "cell_type": "code",
      "source": [],
      "metadata": {
        "id": "cNx3VdoeueGj"
      },
      "execution_count": null,
      "outputs": []
    },
    {
      "cell_type": "code",
      "source": [
        "response = get_chatgpt_response(\"到着日時を変更して欲しいです\", PROMPT_TEMPLATE)\n",
        "print(response)"
      ],
      "metadata": {
        "colab": {
          "base_uri": "https://localhost:8080/"
        },
        "id": "yy8mD7_NuXem",
        "outputId": "f2241375-1c90-41d7-f83c-5b95e2ffd491"
      },
      "execution_count": null,
      "outputs": [
        {
          "output_type": "stream",
          "name": "stdout",
          "text": [
            "第一カテゴリー: 配送\n",
            "      第二カテゴリー: 配送オプション\n"
          ]
        }
      ]
    },
    {
      "cell_type": "code",
      "source": [
        "response = get_chatgpt_response(\"商品が微妙です\", PROMPT_TEMPLATE)\n",
        "print(response)"
      ],
      "metadata": {
        "colab": {
          "base_uri": "https://localhost:8080/"
        },
        "id": "e239QM_PteRZ",
        "outputId": "935d2f9a-0cd9-47db-9f27-bd71ed02addb"
      },
      "execution_count": null,
      "outputs": [
        {
          "output_type": "stream",
          "name": "stdout",
          "text": [
            "第一カテゴリー: 製品\n",
            "      第二カテゴリー: スペック\n"
          ]
        }
      ]
    },
    {
      "cell_type": "code",
      "execution_count": null,
      "metadata": {
        "id": "Pxewwetdd7TI",
        "colab": {
          "base_uri": "https://localhost:8080/"
        },
        "outputId": "274f9515-808a-4ffb-f2ee-3a02cd5a1c0b"
      },
      "outputs": [
        {
          "output_type": "stream",
          "name": "stdout",
          "text": [
            "第一カテゴリー:製品\n",
            "第二カテゴリー:スペック\n"
          ]
        }
      ],
      "source": [
        "print(response.replace(\" \", \"\"))"
      ]
    },
    {
      "cell_type": "code",
      "source": [],
      "metadata": {
        "id": "Hk6lxl1iu99y"
      },
      "execution_count": null,
      "outputs": []
    },
    {
      "cell_type": "code",
      "source": [],
      "metadata": {
        "id": "h34y4nRJqyVg"
      },
      "execution_count": null,
      "outputs": []
    },
    {
      "cell_type": "code",
      "source": [],
      "metadata": {
        "id": "poA0Q20BqyeH"
      },
      "execution_count": null,
      "outputs": []
    },
    {
      "cell_type": "code",
      "execution_count": null,
      "metadata": {
        "id": "M0QRxKmkd7ZI"
      },
      "outputs": [],
      "source": []
    },
    {
      "cell_type": "code",
      "execution_count": null,
      "metadata": {
        "id": "wfQZgnOcfgkW"
      },
      "outputs": [],
      "source": []
    },
    {
      "cell_type": "code",
      "execution_count": null,
      "metadata": {
        "id": "T6rh1VYZfgs1"
      },
      "outputs": [],
      "source": []
    },
    {
      "cell_type": "markdown",
      "metadata": {
        "id": "r5S5CLoJfuG2"
      },
      "source": [
        "# JSONモード"
      ]
    },
    {
      "cell_type": "code",
      "source": [
        "def get_chatgpt_response(\n",
        "    user_input: str,\n",
        "    template: str,\n",
        "    model: str = \"gpt-3.5-turbo-1106\",\n",
        "    temperature: float = 0,\n",
        "    max_tokens: int = 500,\n",
        ") -> str:\n",
        "    \"\"\"\n",
        "    ChatGPTに対して対話を投げかけ、返答を取得する\n",
        "    \"\"\"\n",
        "    prompt = template.format(user_input=user_input)\n",
        "    messages = [{\"role\": \"user\", \"content\": prompt}]\n",
        "    response = client.chat.completions.create(\n",
        "        model=model,\n",
        "        response_format={ \"type\": \"json_object\" }, #この設定により、出力は必ずJSON形式となる\n",
        "        messages=messages,\n",
        "        temperature=temperature,\n",
        "        max_tokens=max_tokens,\n",
        "        seed=0\n",
        "    )\n",
        "    return response.choices[0].message.content"
      ],
      "metadata": {
        "id": "2pCf-tL_1f0t"
      },
      "execution_count": 12,
      "outputs": []
    },
    {
      "cell_type": "code",
      "source": [
        "PROMPT_TEMPLATE = \"\"\"\n",
        "    あなたは優秀なカスタマーサポートセンターの担当者です。\n",
        "    下記顧客からの問い合わせと分類カテゴリーがあります。\n",
        "    次のステップで段階的に顧客の問い合わせを分類してください。\n",
        "    1. 顧客からの問い合わせ内容を第一カテゴリーに分ける\n",
        "    2. 第一カテゴリーに紐づいている最も近い第二カテゴリーがどれかを考える\n",
        "    3. JSON形式(key_1:<第一カテゴリーのどれか>, key_2:<第二カテゴリーのどれか>)で出力する\n",
        "    可能な限りカテゴリー分けしてください。それでも無い場合カテゴリーのところを「該当なし」としてください。\n",
        "    例：key_1:該当なし, key_2:該当なし\n",
        "\n",
        "    # 顧客からの問い合わせ\n",
        "    {user_input}\n",
        "\n",
        "    # 分類カテゴリー\n",
        "      第一カテゴリー：\n",
        "        製品, 注文, 配送\n",
        "      第二カテゴリー：\n",
        "        製品の場合は[スペック, 値段, 購入方法]のどれか\n",
        "        注文の場合は[注文状況, 注文変更, 支払い方法]のどれか\n",
        "        配送の場合は[配送状況, 配送オプション, 配送問題]のどれか\n",
        "\n",
        "    # 出力形式\n",
        "     {{\"key_1\": \"製品\", \"key_2\": \"値段\"}}\n",
        "    \"\"\""
      ],
      "metadata": {
        "id": "BkjpNYgp0tcZ"
      },
      "execution_count": 13,
      "outputs": []
    },
    {
      "cell_type": "code",
      "source": [
        "print(get_chatgpt_response(\"このスマートフォンは重たいですか？\", PROMPT_TEMPLATE))"
      ],
      "metadata": {
        "colab": {
          "base_uri": "https://localhost:8080/"
        },
        "id": "U2i9jGag0vi6",
        "outputId": "994d2f8e-8ce5-422c-ce32-71ce0dfe758b"
      },
      "execution_count": 14,
      "outputs": [
        {
          "output_type": "stream",
          "name": "stdout",
          "text": [
            "{\"key_1\": \"製品\", \"key_2\": \"スペック\"}\n"
          ]
        }
      ]
    },
    {
      "cell_type": "code",
      "source": [],
      "metadata": {
        "id": "s9TnklsExcGG"
      },
      "execution_count": null,
      "outputs": []
    },
    {
      "cell_type": "code",
      "execution_count": null,
      "metadata": {
        "id": "rG_EhC5wf-zJ"
      },
      "outputs": [],
      "source": []
    },
    {
      "cell_type": "code",
      "execution_count": null,
      "metadata": {
        "id": "iuoYseineGAf"
      },
      "outputs": [],
      "source": []
    },
    {
      "cell_type": "code",
      "execution_count": null,
      "metadata": {
        "id": "dKPM81DDeGFw"
      },
      "outputs": [],
      "source": []
    },
    {
      "cell_type": "markdown",
      "metadata": {
        "id": "aCcBnL8ZvoyV"
      },
      "source": [
        "# 問い合わせ内容が膨大にある\n",
        "  - \"このスマートフォンのプロセッサーは何ですか？\"\n",
        "  - \"このパソコンのRAMの容量はどれくらいですか？\"\n",
        "  - \"このカメラの最大シャッタースピードは何ですか？\"\n",
        "  - \"このヘッドフォンの周波数レンジは何ですか？\"\n",
        "  - \"この自転車のフレームは何で作られていますか？\"\n",
        "  - \"このスマートフォンの最新の価格は何ですか？\"\n",
        "  - \"このゲーム機の割引価格はありますか？\"\n",
        "  - \"この製品の月々の費用はどれくらいですか？\"\n",
        "  - \"このサブスクリプションサービスの年間費用は何ですか？\"\n",
        "  - \"この洗濯機には何年間の保証が含まれていますか？そのコストはどれくらいですか？\"\n",
        "  - \"この製品はオンラインで注文することができますか？\"\n",
        "  - \"この製品を店舗で購入することは可能ですか？\"\n",
        "  - \"この製品は分割払いで購入できますか？\"\n",
        "  - \"この製品は海外から注文できますか？\"\n",
        "  - \"この製品を予約注文することは可能ですか？\"\n",
        "  - \"私の注文はすでに確認されましたか？\"\n",
        "  - \"私の注文はまだ出荷されていませんか？\"\n",
        "  - \"注文した商品の在庫状況を教えてください。\"\n",
        "  - \"注文の進行状況を確認するにはどうすればよいですか？\"\n",
        "  - \"私の注文はキャンセルされましたか？\"\n",
        "  - \"私の注文の配送先住所を変更することは可能ですか？\"\n",
        "  - \"注文した商品の色やサイズを変更することは可能ですか？\"\n",
        "  - \"注文した商品を別のものに変更することは可能ですか？\"\n",
        "  - \"注文の数量を増やすことは可能ですか？\"  \n",
        "  - \"注文した商品をキャンセルすることは可能ですか？\"\n",
        "  - \"注文の支払いにクレジットカードは使用できますか？\"\n",
        "  - \"注文の支払いにデビットカードは使用できますか？\"\n",
        "  - \"注文の支払いにPayPalは使用できますか？\"\n",
        "  - \"注文の支払いにApple PayやGoogle Payは使用できますか？\"\n",
        "  - \"注文の支払いにビットコインは使用できますか？\"\n",
        "  - \"私のパッケージは出荷されましたか？\"\n",
        "  - \"私のパッケージの追跡番号を教えてください。\"\n",
        "  - \"私のパッケージはいつ到着予定ですか？\"\n",
        "  - \"私のパッケージが遅延しています。なぜですか？\"\n",
        "  - \"私のパッケージは配送中に失われたようです。どうすればいいですか？\"\n",
        "  - \"エクスプレス配送は可能ですか？\"\n",
        "  - \"特定の日時に配送することはできますか？\"\n",
        "  - \"配送先を注文後に変更することは可能ですか？\"\n",
        "  - \"商品の配送はどの運送会社を利用していますか？\"\n",
        "  - \"私の地域への配送は可能ですか？\"\n",
        "  - \"配送された商品が損傷していました。どうすればいいですか？\"\n",
        "  - \"配送された商品が間違っていました。どうすればいいですか？\"\n",
        "  - \"パッケージが届かない場合、どうすればいいですか？\"\n",
        "  - \"配達員が不在票を残していました。どうすればいいですか？\"\n",
        "  - \"パッケージが開封されていました。どうすればいいですか？\""
      ]
    },
    {
      "cell_type": "code",
      "source": [
        "inquiries = [\n",
        "    \"このカメラの最大シャッタースピードは何ですか？\",\n",
        "    \"私のパッケージの追跡番号を教えてください。\",\n",
        "    \"エクスプレス配送は可能ですか？\",\n",
        "    \"特定の日時に配送することはできますか？\",\n",
        "    \"配送された商品が損傷していました。どうすればいいですか？\",\n",
        "    \"注文の支払いにApple PayやGoogle Payは使用できますか？\",\n",
        "    \"私のパッケージはいつ到着予定ですか？\",\n",
        "    \"注文の支払いにクレジットカードは使用できますか？\",\n",
        "    \"私の注文はまだ出荷されていませんか？\",\n",
        "    \"この製品はオンラインで注文することができますか？\",\n",
        "    \"私のパッケージが遅延しています。なぜですか？\",\n",
        "    \"このスマートフォンの最新の価格は何ですか？\",\n",
        "    \"注文した商品をキャンセルすることは可能ですか？\",\n",
        "    \"商品の配送はどの運送会社を利用していますか？\",\n",
        "    \"このサブスクリプションサービスの年間費用は何ですか？\",\n",
        "    \"このヘッドフォンの周波数レンジは何ですか？\",\n",
        "    \"私の地域への配送は可能ですか？\",\n",
        "    \"注文の支払いにビットコインは使用できますか？\",\n",
        "    \"配送された商品が間違っていました。どうすればいいですか？\",\n",
        "    \"この製品を店舗で購入することは可能ですか？\",\n",
        "    \"パッケージが届かない場合、どうすればいいですか？\",\n",
        "    \"私の注文はキャンセルされましたか？\",\n",
        "    \"このパソコンのRAMの容量はどれくらいですか？\",\n",
        "    \"注文の支払いにデビットカードは使用できますか？\",\n",
        "    \"私のパッケージは出荷されましたか？\",\n",
        "    \"注文の数量を増やすことは可能ですか？\",\n",
        "    \"私の注文はすでに確認されましたか？\",\n",
        "    \"注文の進行状況を確認するにはどうすればよいですか？\",\n",
        "    \"配送先を注文後に変更することは可能ですか？\",\n",
        "    \"パッケージが開封されていました。どうすればいいですか？\",\n",
        "    \"配達員が不在票を残していました。どうすればいいですか？\",\n",
        "    \"私のパッケージは配送中に失われたようです。どうすればいいですか？\",\n",
        "    \"この自転車のフレームは何で作られていますか？\",\n",
        "    \"この製品を予約注文することは可能ですか？\",\n",
        "    \"注文した商品の色やサイズを変更することは可能ですか？\",\n",
        "    \"この製品の月々の費用はどれくらいですか？\",\n",
        "    \"このスマートフォンのプロセッサーは何ですか？\",\n",
        "    \"この製品は分割払いで購入できますか？\",\n",
        "    \"この製品は海外から注文できますか？\",\n",
        "    \"注文した商品の在庫状況を教えてください。\",\n",
        "    \"このゲーム機の割引価格はありますか？\",\n",
        "    \"私の注文の配送先住所を変更することは可能ですか？\",\n",
        "    \"注文した商品を別のものに変更することは可能ですか？\",\n",
        "    \"この洗濯機には何年間の保証が含まれていますか？そのコストはどれくらいですか？\",\n",
        "    \"注文の支払いにPayPalは使用できますか？\",\n",
        "]"
      ],
      "metadata": {
        "id": "GI-Db9vx3lB3"
      },
      "execution_count": 15,
      "outputs": []
    },
    {
      "cell_type": "code",
      "source": [
        "from tqdm import tqdm\n",
        "import json\n",
        "\n",
        "\n",
        "def get_responses_and_check_json(inquiries: List[str]) -> List[str]:\n",
        "    \"\"\"\n",
        "    ChatGPTからの応答を取得し、それらがJSON形式であることを確認する\n",
        "    \"\"\"\n",
        "    list_json = []\n",
        "\n",
        "    def json_checker(response):\n",
        "        try:\n",
        "            return json.loads(response.strip())\n",
        "        except json.JSONDecodeError:\n",
        "            print(f\"No json format... {response.strip()}\") # response_formatを指定しているので、JSON以外が出力されることはない。その確認用のもの\n",
        "\n",
        "    for inquery in tqdm(inquiries):\n",
        "        response = get_chatgpt_response(inquery, PROMPT_TEMPLATE)\n",
        "        list_json.append(json_checker(response))\n",
        "\n",
        "    return list_json"
      ],
      "metadata": {
        "id": "pBoh_tsP3nt6"
      },
      "execution_count": 16,
      "outputs": []
    },
    {
      "cell_type": "code",
      "source": [
        "list_json = get_responses_and_check_json(inquiries)"
      ],
      "metadata": {
        "colab": {
          "base_uri": "https://localhost:8080/"
        },
        "id": "BQF5nvjT3mrY",
        "outputId": "8b08490a-3454-4128-b9d3-52c27e716d69"
      },
      "execution_count": 17,
      "outputs": [
        {
          "output_type": "stream",
          "name": "stderr",
          "text": [
            "100%|██████████| 45/45 [00:25<00:00,  1.79it/s]\n"
          ]
        }
      ]
    },
    {
      "cell_type": "code",
      "source": [
        "import pandas as pd\n",
        "\n",
        "df = pd.DataFrame(list_json)\n",
        "df[\"inquiry\"] = inquiries\n",
        "df.columns = [\"category_1\", \"category_2\", \"inquiry\"]"
      ],
      "metadata": {
        "id": "E8iYze2cz59p"
      },
      "execution_count": 18,
      "outputs": []
    },
    {
      "cell_type": "code",
      "source": [
        "df[\"category_1\"].value_counts(normalize=True) * 100"
      ],
      "metadata": {
        "colab": {
          "base_uri": "https://localhost:8080/",
          "height": 209
        },
        "id": "hegoJ4AQvshH",
        "outputId": "78dbba4d-a3fc-44a2-d98c-a9e9f270eec8"
      },
      "execution_count": 19,
      "outputs": [
        {
          "output_type": "execute_result",
          "data": {
            "text/plain": [
              "category_1\n",
              "製品    33.333333\n",
              "配送    33.333333\n",
              "注文    33.333333\n",
              "Name: proportion, dtype: float64"
            ],
            "text/html": [
              "<div>\n",
              "<style scoped>\n",
              "    .dataframe tbody tr th:only-of-type {\n",
              "        vertical-align: middle;\n",
              "    }\n",
              "\n",
              "    .dataframe tbody tr th {\n",
              "        vertical-align: top;\n",
              "    }\n",
              "\n",
              "    .dataframe thead th {\n",
              "        text-align: right;\n",
              "    }\n",
              "</style>\n",
              "<table border=\"1\" class=\"dataframe\">\n",
              "  <thead>\n",
              "    <tr style=\"text-align: right;\">\n",
              "      <th></th>\n",
              "      <th>proportion</th>\n",
              "    </tr>\n",
              "    <tr>\n",
              "      <th>category_1</th>\n",
              "      <th></th>\n",
              "    </tr>\n",
              "  </thead>\n",
              "  <tbody>\n",
              "    <tr>\n",
              "      <th>製品</th>\n",
              "      <td>33.333333</td>\n",
              "    </tr>\n",
              "    <tr>\n",
              "      <th>配送</th>\n",
              "      <td>33.333333</td>\n",
              "    </tr>\n",
              "    <tr>\n",
              "      <th>注文</th>\n",
              "      <td>33.333333</td>\n",
              "    </tr>\n",
              "  </tbody>\n",
              "</table>\n",
              "</div><br><label><b>dtype:</b> float64</label>"
            ]
          },
          "metadata": {},
          "execution_count": 19
        }
      ]
    },
    {
      "cell_type": "code",
      "source": [
        "df[\"category_2\"].value_counts(normalize=True) * 100"
      ],
      "metadata": {
        "colab": {
          "base_uri": "https://localhost:8080/",
          "height": 460
        },
        "id": "DGJRI7g2vtNd",
        "outputId": "b77e7b74-e900-4af0-bd0c-72f191320f2c"
      },
      "execution_count": 20,
      "outputs": [
        {
          "output_type": "execute_result",
          "data": {
            "text/plain": [
              "category_2\n",
              "配送問題       17.777778\n",
              "スペック       11.111111\n",
              "配送状況       11.111111\n",
              "該当なし       11.111111\n",
              "支払い方法      11.111111\n",
              "値段         11.111111\n",
              "注文変更        8.888889\n",
              "注文状況        6.666667\n",
              "購入方法        6.666667\n",
              "配送オプション     2.222222\n",
              "在庫状況        2.222222\n",
              "Name: proportion, dtype: float64"
            ],
            "text/html": [
              "<div>\n",
              "<style scoped>\n",
              "    .dataframe tbody tr th:only-of-type {\n",
              "        vertical-align: middle;\n",
              "    }\n",
              "\n",
              "    .dataframe tbody tr th {\n",
              "        vertical-align: top;\n",
              "    }\n",
              "\n",
              "    .dataframe thead th {\n",
              "        text-align: right;\n",
              "    }\n",
              "</style>\n",
              "<table border=\"1\" class=\"dataframe\">\n",
              "  <thead>\n",
              "    <tr style=\"text-align: right;\">\n",
              "      <th></th>\n",
              "      <th>proportion</th>\n",
              "    </tr>\n",
              "    <tr>\n",
              "      <th>category_2</th>\n",
              "      <th></th>\n",
              "    </tr>\n",
              "  </thead>\n",
              "  <tbody>\n",
              "    <tr>\n",
              "      <th>配送問題</th>\n",
              "      <td>17.777778</td>\n",
              "    </tr>\n",
              "    <tr>\n",
              "      <th>スペック</th>\n",
              "      <td>11.111111</td>\n",
              "    </tr>\n",
              "    <tr>\n",
              "      <th>配送状況</th>\n",
              "      <td>11.111111</td>\n",
              "    </tr>\n",
              "    <tr>\n",
              "      <th>該当なし</th>\n",
              "      <td>11.111111</td>\n",
              "    </tr>\n",
              "    <tr>\n",
              "      <th>支払い方法</th>\n",
              "      <td>11.111111</td>\n",
              "    </tr>\n",
              "    <tr>\n",
              "      <th>値段</th>\n",
              "      <td>11.111111</td>\n",
              "    </tr>\n",
              "    <tr>\n",
              "      <th>注文変更</th>\n",
              "      <td>8.888889</td>\n",
              "    </tr>\n",
              "    <tr>\n",
              "      <th>注文状況</th>\n",
              "      <td>6.666667</td>\n",
              "    </tr>\n",
              "    <tr>\n",
              "      <th>購入方法</th>\n",
              "      <td>6.666667</td>\n",
              "    </tr>\n",
              "    <tr>\n",
              "      <th>配送オプション</th>\n",
              "      <td>2.222222</td>\n",
              "    </tr>\n",
              "    <tr>\n",
              "      <th>在庫状況</th>\n",
              "      <td>2.222222</td>\n",
              "    </tr>\n",
              "  </tbody>\n",
              "</table>\n",
              "</div><br><label><b>dtype:</b> float64</label>"
            ]
          },
          "metadata": {},
          "execution_count": 20
        }
      ]
    },
    {
      "cell_type": "code",
      "execution_count": null,
      "metadata": {
        "id": "sYF2rNt8eKlk"
      },
      "outputs": [],
      "source": []
    },
    {
      "cell_type": "code",
      "source": [],
      "metadata": {
        "id": "NXoWG0MhvuQb"
      },
      "execution_count": null,
      "outputs": []
    },
    {
      "cell_type": "code",
      "source": [],
      "metadata": {
        "id": "FIqONT2SvuXQ"
      },
      "execution_count": null,
      "outputs": []
    },
    {
      "cell_type": "code",
      "source": [],
      "metadata": {
        "id": "W6e86szNvulh"
      },
      "execution_count": null,
      "outputs": []
    },
    {
      "cell_type": "code",
      "source": [],
      "metadata": {
        "id": "lt7_gE7yvuwj"
      },
      "execution_count": null,
      "outputs": []
    },
    {
      "cell_type": "code",
      "execution_count": null,
      "metadata": {
        "id": "nW-c69KbeKqQ"
      },
      "outputs": [],
      "source": []
    },
    {
      "cell_type": "code",
      "execution_count": null,
      "metadata": {
        "id": "xrgvhT2peKv4"
      },
      "outputs": [],
      "source": []
    },
    {
      "cell_type": "markdown",
      "metadata": {
        "id": "ocaFaQ2Jv0Dv"
      },
      "source": [
        "# 各カテゴリーに対応した返答文の生成\n",
        "\n",
        "問い合わせカテゴリーごとに、適切な問い合わせ先を示す返答文を作成しましょう。\n",
        "\n",
        "## シチュエーション\n",
        "\n",
        "具体的には、ユーザーからの問い合わせを適切に分類し、その問い合わせの内容に応じた連絡先をユーザーに教える返答文を自動生成します。\n"
      ]
    },
    {
      "cell_type": "code",
      "source": [
        "def get_chatgpt_response(\n",
        "    user_input: str,\n",
        "    category_1: str,\n",
        "    category_2: str,\n",
        "    template: str,\n",
        "    model: str = \"gpt-3.5-turbo-1106\",\n",
        "    temperature: float = 0,\n",
        "    max_tokens: int = 500,\n",
        "):\n",
        "    \"\"\"\n",
        "    ChatGPTに対して対話を投げかけ、返答を取得する\n",
        "    \"\"\"\n",
        "    prompt = template.format(\n",
        "        user_input=user_input, category_1=category_1, category_2=category_2\n",
        "    )\n",
        "    messages = [{\"role\": \"user\", \"content\": prompt}]\n",
        "    response = client.chat.completions.create(\n",
        "        model=model,\n",
        "        messages=messages,\n",
        "        temperature=temperature,\n",
        "        max_tokens=max_tokens,\n",
        "        seed=0\n",
        "    )\n",
        "    return response.choices[0].message.content"
      ],
      "metadata": {
        "id": "DMhhqb3E7Vrv"
      },
      "execution_count": 21,
      "outputs": []
    },
    {
      "cell_type": "code",
      "source": [
        "PROMPT_TEMPLATE = \"\"\"\n",
        "    あなたは優秀なカスタマーサポートセンターの担当者です。\n",
        "    あなたの仕事は下記の顧客の問い合わせとカテゴリーに対して実行手順を処理することで、\n",
        "    適切な部門のメールアドレスを顧客に伝えるためのメールを作成することです。\n",
        "    下記の実行手順に従って段階的に考えて、最高の品質でメールの文章を作成してください。\n",
        "\n",
        "    # 顧客の問い合わせ\n",
        "     {user_input}\n",
        "\n",
        "    # カテゴリー\n",
        "      第一カテゴリー:{category_1}\n",
        "      第二カテゴリー:{category_2}\n",
        "\n",
        "    # 実行手順\n",
        "    1. 第一カテゴリーと第二カテゴリーに応じてメールアドレスを下記から抽出してください。\n",
        "       下記は第一カテゴリー：第二カテゴリーを表す。\n",
        "         製品：スペック は product_spec@example.com\n",
        "         製品：値段 は product_price@example.com\n",
        "         製品：購入方法 は product_purchase_method@example.com\n",
        "         注文：注文状況 は order_status@example.com\n",
        "         注文：注文変更 は order_change@example.com\n",
        "         注文：支払い方法 は order_payment_method@example.com\n",
        "         配送：配送ステータス は delivery_status@example.com\n",
        "         配送：配送オプション は delivery_option@example.com\n",
        "         配送：配送問題 は delivery_issue@example.com\n",
        "\n",
        "    2. メール文章を作成\n",
        "      顧客からの問い合わせに対して、カスタマーセンターの従業員として責任をもって丁寧な文章で\n",
        "      1で抽出したメールアドレスに問い合わせをお願いする文章を300文字程度で作成する\n",
        "\n",
        "    # メール文章形式\n",
        "      考えたメールタイトル\n",
        "      考えたメール本文\n",
        "    \"\"\""
      ],
      "metadata": {
        "id": "PUND_Ffg7WtH"
      },
      "execution_count": 22,
      "outputs": []
    },
    {
      "cell_type": "code",
      "source": [
        "df[:10]"
      ],
      "metadata": {
        "colab": {
          "base_uri": "https://localhost:8080/",
          "height": 363
        },
        "id": "UZU28oR78lmJ",
        "outputId": "8d40c390-66b0-4970-b94f-88eed54400e3"
      },
      "execution_count": 23,
      "outputs": [
        {
          "output_type": "execute_result",
          "data": {
            "text/plain": [
              "  category_1 category_2                               inquiry\n",
              "0         製品       スペック               このカメラの最大シャッタースピードは何ですか？\n",
              "1         配送       配送状況                 私のパッケージの追跡番号を教えてください。\n",
              "2         配送    配送オプション                       エクスプレス配送は可能ですか？\n",
              "3         配送       該当なし                   特定の日時に配送することはできますか？\n",
              "4         配送       配送問題          配送された商品が損傷していました。どうすればいいですか？\n",
              "5         注文      支払い方法  注文の支払いにApple PayやGoogle Payは使用できますか？\n",
              "6         配送       配送状況                    私のパッケージはいつ到着予定ですか？\n",
              "7         注文      支払い方法              注文の支払いにクレジットカードは使用できますか？\n",
              "8         注文       注文状況                    私の注文はまだ出荷されていませんか？\n",
              "9         製品       購入方法              この製品はオンラインで注文することができますか？"
            ],
            "text/html": [
              "\n",
              "  <div id=\"df-a7060999-21a7-4e1b-a77c-fd4987793a9d\" class=\"colab-df-container\">\n",
              "    <div>\n",
              "<style scoped>\n",
              "    .dataframe tbody tr th:only-of-type {\n",
              "        vertical-align: middle;\n",
              "    }\n",
              "\n",
              "    .dataframe tbody tr th {\n",
              "        vertical-align: top;\n",
              "    }\n",
              "\n",
              "    .dataframe thead th {\n",
              "        text-align: right;\n",
              "    }\n",
              "</style>\n",
              "<table border=\"1\" class=\"dataframe\">\n",
              "  <thead>\n",
              "    <tr style=\"text-align: right;\">\n",
              "      <th></th>\n",
              "      <th>category_1</th>\n",
              "      <th>category_2</th>\n",
              "      <th>inquiry</th>\n",
              "    </tr>\n",
              "  </thead>\n",
              "  <tbody>\n",
              "    <tr>\n",
              "      <th>0</th>\n",
              "      <td>製品</td>\n",
              "      <td>スペック</td>\n",
              "      <td>このカメラの最大シャッタースピードは何ですか？</td>\n",
              "    </tr>\n",
              "    <tr>\n",
              "      <th>1</th>\n",
              "      <td>配送</td>\n",
              "      <td>配送状況</td>\n",
              "      <td>私のパッケージの追跡番号を教えてください。</td>\n",
              "    </tr>\n",
              "    <tr>\n",
              "      <th>2</th>\n",
              "      <td>配送</td>\n",
              "      <td>配送オプション</td>\n",
              "      <td>エクスプレス配送は可能ですか？</td>\n",
              "    </tr>\n",
              "    <tr>\n",
              "      <th>3</th>\n",
              "      <td>配送</td>\n",
              "      <td>該当なし</td>\n",
              "      <td>特定の日時に配送することはできますか？</td>\n",
              "    </tr>\n",
              "    <tr>\n",
              "      <th>4</th>\n",
              "      <td>配送</td>\n",
              "      <td>配送問題</td>\n",
              "      <td>配送された商品が損傷していました。どうすればいいですか？</td>\n",
              "    </tr>\n",
              "    <tr>\n",
              "      <th>5</th>\n",
              "      <td>注文</td>\n",
              "      <td>支払い方法</td>\n",
              "      <td>注文の支払いにApple PayやGoogle Payは使用できますか？</td>\n",
              "    </tr>\n",
              "    <tr>\n",
              "      <th>6</th>\n",
              "      <td>配送</td>\n",
              "      <td>配送状況</td>\n",
              "      <td>私のパッケージはいつ到着予定ですか？</td>\n",
              "    </tr>\n",
              "    <tr>\n",
              "      <th>7</th>\n",
              "      <td>注文</td>\n",
              "      <td>支払い方法</td>\n",
              "      <td>注文の支払いにクレジットカードは使用できますか？</td>\n",
              "    </tr>\n",
              "    <tr>\n",
              "      <th>8</th>\n",
              "      <td>注文</td>\n",
              "      <td>注文状況</td>\n",
              "      <td>私の注文はまだ出荷されていませんか？</td>\n",
              "    </tr>\n",
              "    <tr>\n",
              "      <th>9</th>\n",
              "      <td>製品</td>\n",
              "      <td>購入方法</td>\n",
              "      <td>この製品はオンラインで注文することができますか？</td>\n",
              "    </tr>\n",
              "  </tbody>\n",
              "</table>\n",
              "</div>\n",
              "    <div class=\"colab-df-buttons\">\n",
              "\n",
              "  <div class=\"colab-df-container\">\n",
              "    <button class=\"colab-df-convert\" onclick=\"convertToInteractive('df-a7060999-21a7-4e1b-a77c-fd4987793a9d')\"\n",
              "            title=\"Convert this dataframe to an interactive table.\"\n",
              "            style=\"display:none;\">\n",
              "\n",
              "  <svg xmlns=\"http://www.w3.org/2000/svg\" height=\"24px\" viewBox=\"0 -960 960 960\">\n",
              "    <path d=\"M120-120v-720h720v720H120Zm60-500h600v-160H180v160Zm220 220h160v-160H400v160Zm0 220h160v-160H400v160ZM180-400h160v-160H180v160Zm440 0h160v-160H620v160ZM180-180h160v-160H180v160Zm440 0h160v-160H620v160Z\"/>\n",
              "  </svg>\n",
              "    </button>\n",
              "\n",
              "  <style>\n",
              "    .colab-df-container {\n",
              "      display:flex;\n",
              "      gap: 12px;\n",
              "    }\n",
              "\n",
              "    .colab-df-convert {\n",
              "      background-color: #E8F0FE;\n",
              "      border: none;\n",
              "      border-radius: 50%;\n",
              "      cursor: pointer;\n",
              "      display: none;\n",
              "      fill: #1967D2;\n",
              "      height: 32px;\n",
              "      padding: 0 0 0 0;\n",
              "      width: 32px;\n",
              "    }\n",
              "\n",
              "    .colab-df-convert:hover {\n",
              "      background-color: #E2EBFA;\n",
              "      box-shadow: 0px 1px 2px rgba(60, 64, 67, 0.3), 0px 1px 3px 1px rgba(60, 64, 67, 0.15);\n",
              "      fill: #174EA6;\n",
              "    }\n",
              "\n",
              "    .colab-df-buttons div {\n",
              "      margin-bottom: 4px;\n",
              "    }\n",
              "\n",
              "    [theme=dark] .colab-df-convert {\n",
              "      background-color: #3B4455;\n",
              "      fill: #D2E3FC;\n",
              "    }\n",
              "\n",
              "    [theme=dark] .colab-df-convert:hover {\n",
              "      background-color: #434B5C;\n",
              "      box-shadow: 0px 1px 3px 1px rgba(0, 0, 0, 0.15);\n",
              "      filter: drop-shadow(0px 1px 2px rgba(0, 0, 0, 0.3));\n",
              "      fill: #FFFFFF;\n",
              "    }\n",
              "  </style>\n",
              "\n",
              "    <script>\n",
              "      const buttonEl =\n",
              "        document.querySelector('#df-a7060999-21a7-4e1b-a77c-fd4987793a9d button.colab-df-convert');\n",
              "      buttonEl.style.display =\n",
              "        google.colab.kernel.accessAllowed ? 'block' : 'none';\n",
              "\n",
              "      async function convertToInteractive(key) {\n",
              "        const element = document.querySelector('#df-a7060999-21a7-4e1b-a77c-fd4987793a9d');\n",
              "        const dataTable =\n",
              "          await google.colab.kernel.invokeFunction('convertToInteractive',\n",
              "                                                    [key], {});\n",
              "        if (!dataTable) return;\n",
              "\n",
              "        const docLinkHtml = 'Like what you see? Visit the ' +\n",
              "          '<a target=\"_blank\" href=https://colab.research.google.com/notebooks/data_table.ipynb>data table notebook</a>'\n",
              "          + ' to learn more about interactive tables.';\n",
              "        element.innerHTML = '';\n",
              "        dataTable['output_type'] = 'display_data';\n",
              "        await google.colab.output.renderOutput(dataTable, element);\n",
              "        const docLink = document.createElement('div');\n",
              "        docLink.innerHTML = docLinkHtml;\n",
              "        element.appendChild(docLink);\n",
              "      }\n",
              "    </script>\n",
              "  </div>\n",
              "\n",
              "\n",
              "<div id=\"df-b1b47c15-3c0b-4dde-8083-8e0907b5c35e\">\n",
              "  <button class=\"colab-df-quickchart\" onclick=\"quickchart('df-b1b47c15-3c0b-4dde-8083-8e0907b5c35e')\"\n",
              "            title=\"Suggest charts\"\n",
              "            style=\"display:none;\">\n",
              "\n",
              "<svg xmlns=\"http://www.w3.org/2000/svg\" height=\"24px\"viewBox=\"0 0 24 24\"\n",
              "     width=\"24px\">\n",
              "    <g>\n",
              "        <path d=\"M19 3H5c-1.1 0-2 .9-2 2v14c0 1.1.9 2 2 2h14c1.1 0 2-.9 2-2V5c0-1.1-.9-2-2-2zM9 17H7v-7h2v7zm4 0h-2V7h2v10zm4 0h-2v-4h2v4z\"/>\n",
              "    </g>\n",
              "</svg>\n",
              "  </button>\n",
              "\n",
              "<style>\n",
              "  .colab-df-quickchart {\n",
              "      --bg-color: #E8F0FE;\n",
              "      --fill-color: #1967D2;\n",
              "      --hover-bg-color: #E2EBFA;\n",
              "      --hover-fill-color: #174EA6;\n",
              "      --disabled-fill-color: #AAA;\n",
              "      --disabled-bg-color: #DDD;\n",
              "  }\n",
              "\n",
              "  [theme=dark] .colab-df-quickchart {\n",
              "      --bg-color: #3B4455;\n",
              "      --fill-color: #D2E3FC;\n",
              "      --hover-bg-color: #434B5C;\n",
              "      --hover-fill-color: #FFFFFF;\n",
              "      --disabled-bg-color: #3B4455;\n",
              "      --disabled-fill-color: #666;\n",
              "  }\n",
              "\n",
              "  .colab-df-quickchart {\n",
              "    background-color: var(--bg-color);\n",
              "    border: none;\n",
              "    border-radius: 50%;\n",
              "    cursor: pointer;\n",
              "    display: none;\n",
              "    fill: var(--fill-color);\n",
              "    height: 32px;\n",
              "    padding: 0;\n",
              "    width: 32px;\n",
              "  }\n",
              "\n",
              "  .colab-df-quickchart:hover {\n",
              "    background-color: var(--hover-bg-color);\n",
              "    box-shadow: 0 1px 2px rgba(60, 64, 67, 0.3), 0 1px 3px 1px rgba(60, 64, 67, 0.15);\n",
              "    fill: var(--button-hover-fill-color);\n",
              "  }\n",
              "\n",
              "  .colab-df-quickchart-complete:disabled,\n",
              "  .colab-df-quickchart-complete:disabled:hover {\n",
              "    background-color: var(--disabled-bg-color);\n",
              "    fill: var(--disabled-fill-color);\n",
              "    box-shadow: none;\n",
              "  }\n",
              "\n",
              "  .colab-df-spinner {\n",
              "    border: 2px solid var(--fill-color);\n",
              "    border-color: transparent;\n",
              "    border-bottom-color: var(--fill-color);\n",
              "    animation:\n",
              "      spin 1s steps(1) infinite;\n",
              "  }\n",
              "\n",
              "  @keyframes spin {\n",
              "    0% {\n",
              "      border-color: transparent;\n",
              "      border-bottom-color: var(--fill-color);\n",
              "      border-left-color: var(--fill-color);\n",
              "    }\n",
              "    20% {\n",
              "      border-color: transparent;\n",
              "      border-left-color: var(--fill-color);\n",
              "      border-top-color: var(--fill-color);\n",
              "    }\n",
              "    30% {\n",
              "      border-color: transparent;\n",
              "      border-left-color: var(--fill-color);\n",
              "      border-top-color: var(--fill-color);\n",
              "      border-right-color: var(--fill-color);\n",
              "    }\n",
              "    40% {\n",
              "      border-color: transparent;\n",
              "      border-right-color: var(--fill-color);\n",
              "      border-top-color: var(--fill-color);\n",
              "    }\n",
              "    60% {\n",
              "      border-color: transparent;\n",
              "      border-right-color: var(--fill-color);\n",
              "    }\n",
              "    80% {\n",
              "      border-color: transparent;\n",
              "      border-right-color: var(--fill-color);\n",
              "      border-bottom-color: var(--fill-color);\n",
              "    }\n",
              "    90% {\n",
              "      border-color: transparent;\n",
              "      border-bottom-color: var(--fill-color);\n",
              "    }\n",
              "  }\n",
              "</style>\n",
              "\n",
              "  <script>\n",
              "    async function quickchart(key) {\n",
              "      const quickchartButtonEl =\n",
              "        document.querySelector('#' + key + ' button');\n",
              "      quickchartButtonEl.disabled = true;  // To prevent multiple clicks.\n",
              "      quickchartButtonEl.classList.add('colab-df-spinner');\n",
              "      try {\n",
              "        const charts = await google.colab.kernel.invokeFunction(\n",
              "            'suggestCharts', [key], {});\n",
              "      } catch (error) {\n",
              "        console.error('Error during call to suggestCharts:', error);\n",
              "      }\n",
              "      quickchartButtonEl.classList.remove('colab-df-spinner');\n",
              "      quickchartButtonEl.classList.add('colab-df-quickchart-complete');\n",
              "    }\n",
              "    (() => {\n",
              "      let quickchartButtonEl =\n",
              "        document.querySelector('#df-b1b47c15-3c0b-4dde-8083-8e0907b5c35e button');\n",
              "      quickchartButtonEl.style.display =\n",
              "        google.colab.kernel.accessAllowed ? 'block' : 'none';\n",
              "    })();\n",
              "  </script>\n",
              "</div>\n",
              "\n",
              "    </div>\n",
              "  </div>\n"
            ],
            "application/vnd.google.colaboratory.intrinsic+json": {
              "type": "dataframe",
              "summary": "{\n  \"name\": \"df[:10]\",\n  \"rows\": 10,\n  \"fields\": [\n    {\n      \"column\": \"category_1\",\n      \"properties\": {\n        \"dtype\": \"category\",\n        \"num_unique_values\": 3,\n        \"samples\": [\n          \"\\u88fd\\u54c1\",\n          \"\\u914d\\u9001\",\n          \"\\u6ce8\\u6587\"\n        ],\n        \"semantic_type\": \"\",\n        \"description\": \"\"\n      }\n    },\n    {\n      \"column\": \"category_2\",\n      \"properties\": {\n        \"dtype\": \"string\",\n        \"num_unique_values\": 8,\n        \"samples\": [\n          \"\\u914d\\u9001\\u72b6\\u6cc1\",\n          \"\\u652f\\u6255\\u3044\\u65b9\\u6cd5\",\n          \"\\u30b9\\u30da\\u30c3\\u30af\"\n        ],\n        \"semantic_type\": \"\",\n        \"description\": \"\"\n      }\n    },\n    {\n      \"column\": \"inquiry\",\n      \"properties\": {\n        \"dtype\": \"string\",\n        \"num_unique_values\": 10,\n        \"samples\": [\n          \"\\u79c1\\u306e\\u6ce8\\u6587\\u306f\\u307e\\u3060\\u51fa\\u8377\\u3055\\u308c\\u3066\\u3044\\u307e\\u305b\\u3093\\u304b\\uff1f\",\n          \"\\u79c1\\u306e\\u30d1\\u30c3\\u30b1\\u30fc\\u30b8\\u306e\\u8ffd\\u8de1\\u756a\\u53f7\\u3092\\u6559\\u3048\\u3066\\u304f\\u3060\\u3055\\u3044\\u3002\",\n          \"\\u6ce8\\u6587\\u306e\\u652f\\u6255\\u3044\\u306bApple Pay\\u3084Google Pay\\u306f\\u4f7f\\u7528\\u3067\\u304d\\u307e\\u3059\\u304b\\uff1f\"\n        ],\n        \"semantic_type\": \"\",\n        \"description\": \"\"\n      }\n    }\n  ]\n}"
            }
          },
          "metadata": {},
          "execution_count": 23
        }
      ]
    },
    {
      "cell_type": "code",
      "source": [
        "for values in df.values[:10]:\n",
        "    print(\"\")\n",
        "    print(\"#\" * 100)\n",
        "    category_1, category_2, inquiry = values[0], values[1], values[2]\n",
        "    print(f\"問い合わせ内容:{inquiry}\\n\")\n",
        "    response = get_chatgpt_response(\n",
        "        user_input=inquiry,\n",
        "        category_1=category_1,\n",
        "        category_2=category_2,\n",
        "        template=PROMPT_TEMPLATE,\n",
        "    )\n",
        "    print(response)\n"
      ],
      "metadata": {
        "colab": {
          "base_uri": "https://localhost:8080/"
        },
        "id": "mhwWpflE50Bv",
        "outputId": "74311494-b2a8-4d99-e834-d0cac4b98ef7"
      },
      "execution_count": 24,
      "outputs": [
        {
          "output_type": "stream",
          "name": "stdout",
          "text": [
            "\n",
            "####################################################################################################\n",
            "問い合わせ内容:このカメラの最大シャッタースピードは何ですか？\n",
            "\n",
            "件名：カメラの最大シャッタースピードについての問い合わせ\n",
            "\n",
            "いつもお世話になっております。カスタマーサポートセンターの担当者です。\n",
            "\n",
            "お客様からの問い合わせに対して、製品のスペックに関するお問い合わせは product_spec@example.com にお願いいたします。\n",
            "\n",
            "カメラの最大シャッタースピードについての詳細については、製品のスペックに関する部署がお手伝いさせていただきます。\n",
            "\n",
            "何かご不明点がございましたら、お気軽にお知らせください。\n",
            "\n",
            "よろしくお願いいたします。\n",
            "\n",
            "カスタマーサポートセンター\n",
            "[会社名]\n",
            "\n",
            "####################################################################################################\n",
            "問い合わせ内容:私のパッケージの追跡番号を教えてください。\n",
            "\n",
            "件名：パッケージの配送状況についてのお問い合わせ\n",
            "\n",
            "いつも弊社のサービスをご利用いただき、誠にありがとうございます。お客様からのお問い合わせについて、配送状況に関するご質問をお伝えいただき、誠にありがとうございます。\n",
            "\n",
            "お客様のパッケージの配送状況については、配送カテゴリーに該当いたします。そのため、配送ステータスに関するお問い合わせは、下記のメールアドレスにご連絡いただけますようお願い申し上げます。\n",
            "\n",
            "配送ステータス：delivery_status@example.com\n",
            "\n",
            "お手数をおかけいたしますが、上記のメールアドレスに直接お問い合わせいただけますと幸いです。お客様のご理解とご協力に心より感謝申し上げます。\n",
            "\n",
            "何かご不明点がございましたら、お気軽にお知らせください。引き続き、弊社のサービスをご愛顧いただけますようお願い申し上げます。\n",
            "\n",
            "敬具\n",
            "\n",
            "カスタマーサポートセンター\n",
            "\n",
            "####################################################################################################\n",
            "問い合わせ内容:エクスプレス配送は可能ですか？\n",
            "\n",
            "件名：エクスプレス配送についての問い合わせ\n",
            "\n",
            "いつもご利用いただき、誠にありがとうございます。お客様からのエクスプレス配送に関するお問い合わせについて、お手数ですが配送オプション担当の方にご連絡いただけますでしょうか。\n",
            "\n",
            "配送オプション担当のメールアドレスは delivery_option@example.com です。お手続きに関するご質問やご要望がございましたら、お気軽にご連絡ください。\n",
            "\n",
            "何かご不明点がございましたら、お気軽にお知らせください。何卒よろしくお願い申し上げます。\n",
            "\n",
            "株式会社〇〇 カスタマーサポートセンター\n",
            "\n",
            "####################################################################################################\n",
            "問い合わせ内容:特定の日時に配送することはできますか？\n",
            "\n",
            "件名：特定の日時に配送することは可能ですか？\n",
            "\n",
            "お世話になっております、カスタマーサポートセンターの担当者です。\n",
            "\n",
            "お客様からのお問い合わせについて、配送に関するご質問にお答えいたします。配送に関するご質問は、配送カテゴリーに該当いたしますので、配送ステータスに関するお問い合わせは、delivery_status@example.com までご連絡をお願いいたします。\n",
            "\n",
            "配送ステータスに関するお問い合わせについては、迅速に対応させていただきますので、お気軽にご連絡ください。\n",
            "\n",
            "何かご不明点がございましたら、お気軽にお知らせください。それでは、よろしくお願いいたします。\n",
            "\n",
            "以上、よろしくお願いいたします。\n",
            "\n",
            "カスタマーサポートセンターの担当者より\n",
            "\n",
            "####################################################################################################\n",
            "問い合わせ内容:配送された商品が損傷していました。どうすればいいですか？\n",
            "\n",
            "件名：配送された商品の損傷についての問い合わせ\n",
            "\n",
            "いつも弊社の商品をご利用いただき、誠にありがとうございます。お客様からのご連絡を受け、大変申し訳ございませんが、商品が損傷してしまったとのこと、心よりお詫び申し上げます。\n",
            "\n",
            "このような問題については、配送部門の担当者が最も適切に対応させていただきます。そのため、お手数ですが配送問題に関するご連絡は、配送問題担当のメールアドレスであるdelivery_issue@example.comまでお送りいただけますでしょうか。\n",
            "\n",
            "お手数をおかけいたしますが、早急な対応を心よりお願い申し上げます。何かご不明点がございましたら、お気軽にお知らせください。\n",
            "\n",
            "何卒よろしくお願い申し上げます。\n",
            "\n",
            "株式会社〇〇\n",
            "カスタマーサポートセンター\n",
            "\n",
            "####################################################################################################\n",
            "問い合わせ内容:注文の支払いにApple PayやGoogle Payは使用できますか？\n",
            "\n",
            "件名：Apple PayやGoogle Payについての支払い方法についての問い合わせ\n",
            "\n",
            "いつも弊社製品をご利用いただき、誠にありがとうございます。お客様からのお問い合わせについて、以下のメールアドレスにご連絡いただけますでしょうか。\n",
            "\n",
            "注文：支払い方法\n",
            "メールアドレス：order_payment_method@example.com\n",
            "\n",
            "お手数をおかけいたしますが、上記のメールアドレスに直接お問い合わせいただければ、迅速にご対応させていただきます。何かご不明点がございましたら、お気軽にお知らせください。\n",
            "\n",
            "何かご質問がございましたら、お気軽にお問い合わせください。引き続き、弊社製品をご愛顧いただけますようお願い申し上げます。\n",
            "\n",
            "よろしくお願いいたします。\n",
            "\n",
            "[あなたの名前]\n",
            "カスタマーサポートセンター\n",
            "[会社名]\n",
            "[連絡先]\n",
            "\n",
            "####################################################################################################\n",
            "問い合わせ内容:私のパッケージはいつ到着予定ですか？\n",
            "\n",
            "件名：パッケージ到着予定についての問い合わせ\n",
            "\n",
            "いつも弊社のサービスをご利用いただき、誠にありがとうございます。お客様からのお問い合わせについて、配送部門にお問い合わせいたしました。\n",
            "\n",
            "お手数をおかけいたしますが、パッケージの到着予定について詳細をお知らせいただけますでしょうか。お客様のご注文に関する情報を確認し、速やかに回答させていただきます。\n",
            "\n",
            "このメールは配送部門のメールアドレスに転送され、担当者が直接ご連絡を差し上げます。何かご不明点やご質問がございましたら、お気軽にお知らせください。\n",
            "\n",
            "お客様のご理解とご協力に感謝申し上げます。引き続き、弊社のサービスをご愛顧いただけますようお願い申し上げます。\n",
            "\n",
            "何かご不明点がございましたら、お気軽にお知らせください。\n",
            "\n",
            "配送部門のメールアドレス：delivery_status@example.com\n",
            "\n",
            "どうぞよろしくお願いいたします。\n",
            "\n",
            "株式会社〇〇\n",
            "カスタマーサポートセンター\n",
            "\n",
            "####################################################################################################\n",
            "問い合わせ内容:注文の支払いにクレジットカードは使用できますか？\n",
            "\n",
            "件名：注文支払いについての問い合わせ\n",
            "\n",
            "いつも弊社の製品をご利用いただき、誠にありがとうございます。お客様からの注文支払いに関するお問い合わせについて、お手伝いさせていただきます。\n",
            "\n",
            "お問い合わせの内容については、注文と支払い方法のカテゴリーに該当します。そのため、お客様のご要望に最も適した部署は「注文：支払い方法」になります。\n",
            "\n",
            "お客様のご要望に関する詳細な情報をお伝えいただければ、迅速に対応させていただきます。お手数をおかけいたしますが、以下のメールアドレスまでお問い合わせください。\n",
            "\n",
            "order_payment_method@example.com\n",
            "\n",
            "何かご不明点がございましたら、お気軽にお知らせください。お客様のご要望にお応えできるよう、全力でサポートさせていただきます。\n",
            "\n",
            "何卒よろしくお願い申し上げます。\n",
            "\n",
            "カスタマーサポートセンター\n",
            "[会社名]\n",
            "\n",
            "####################################################################################################\n",
            "問い合わせ内容:私の注文はまだ出荷されていませんか？\n",
            "\n",
            "件名：注文の出荷状況についてのお問い合わせ\n",
            "\n",
            "いつもご利用いただき、誠にありがとうございます。お客様の注文の出荷状況についてお問い合わせいただき、誠に申し訳ございません。\n",
            "\n",
            "お手数ですが、以下のメールアドレスに直接お問い合わせいただけますでしょうか。\n",
            "注文：注文状況 は order_status@example.com\n",
            "\n",
            "お客様のご理解とご協力に感謝申し上げます。何かご不明点がございましたら、お気軽にお知らせください。\n",
            "\n",
            "何卒よろしくお願い申し上げます。\n",
            "\n",
            "カスタマーサポートセンターより\n",
            "\n",
            "####################################################################################################\n",
            "問い合わせ内容:この製品はオンラインで注文することができますか？\n",
            "\n",
            "件名：オンラインでの製品注文についてのお問い合わせ\n",
            "\n",
            "いつも弊社製品にご興味をお持ちいただき、誠にありがとうございます。お問い合わせいただきました製品のオンラインでの注文について、お手伝いさせていただきます。\n",
            "\n",
            "製品に関するご質問については、製品カテゴリーの専門スタッフがお手伝いさせていただきます。製品のスペックについてのお問い合わせは、product_spec@example.com まで、製品の価格についてのお問い合わせは、product_price@example.com まで、製品の購入方法についてのお問い合わせは、product_purchase_method@example.com までご連絡いただければと存じます。\n",
            "\n",
            "何かご不明点がございましたら、お気軽にお問い合わせください。お客様のご要望にお応えできるよう、心を込めてサポートさせていただきます。ますますのご活躍をお祈り申し上げます。\n",
            "\n",
            "何かご不明点がございましたら、お気軽にお問い合わせください。お客様のご要望にお応えできるよう、心を込めてサポートさせていただきます。ますますのご活躍をお祈り申し上げます。\n",
            "\n",
            "どうぞよろしくお願いいたします。\n",
            "\n",
            "株式会社〇〇\n",
            "カスタマーサポートセンター\n"
          ]
        }
      ]
    },
    {
      "cell_type": "code",
      "execution_count": null,
      "metadata": {
        "id": "tQuHMonCv2St"
      },
      "outputs": [],
      "source": []
    },
    {
      "cell_type": "code",
      "execution_count": null,
      "metadata": {
        "id": "KRBenGrpv2Wr"
      },
      "outputs": [],
      "source": []
    },
    {
      "cell_type": "code",
      "execution_count": null,
      "metadata": {
        "id": "sUpzgj9hv2bX"
      },
      "outputs": [],
      "source": []
    },
    {
      "cell_type": "code",
      "execution_count": null,
      "metadata": {
        "id": "2RZN63Alv2fl"
      },
      "outputs": [],
      "source": []
    }
  ],
  "metadata": {
    "colab": {
      "provenance": [],
      "include_colab_link": true
    },
    "kernelspec": {
      "display_name": "Python 3",
      "name": "python3"
    },
    "language_info": {
      "name": "python"
    }
  },
  "nbformat": 4,
  "nbformat_minor": 0
}