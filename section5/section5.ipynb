{
  "nbformat": 4,
  "nbformat_minor": 0,
  "metadata": {
    "colab": {
      "provenance": [],
      "authorship_tag": "ABX9TyN3WXN6KI29/CU7tD+uGDCa",
      "include_colab_link": true
    },
    "kernelspec": {
      "name": "python3",
      "display_name": "Python 3"
    },
    "language_info": {
      "name": "python"
    }
  },
  "cells": [
    {
      "cell_type": "markdown",
      "metadata": {
        "id": "view-in-github",
        "colab_type": "text"
      },
      "source": [
        "<a href=\"https://colab.research.google.com/github/nyanta012/chatgpt_api_practice/blob/main/section5/section5.ipynb\" target=\"_parent\"><img src=\"https://colab.research.google.com/assets/colab-badge.svg\" alt=\"Open In Colab\"/></a>"
      ]
    },
    {
      "cell_type": "markdown",
      "source": [
        "# Google Colaboratoryのショートカットキー\n",
        "1. **現在のセルを実行し、次のセルを選択**: `Shift + Enter`\n",
        "2. **コードセルをテキストセルにする**: `Ctrl + M M`\n",
        "3. **コードセルを上に追加**: `Ctrl + M A`\n",
        "4. **コードセルを下に追加**: `Ctrl + M B`\n",
        "5. **セルの削除**: `Ctrl + M D`"
      ],
      "metadata": {
        "id": "rhaDQ8cSy_YW"
      }
    },
    {
      "cell_type": "code",
      "source": [],
      "metadata": {
        "id": "6vlel0Q9zB0i"
      },
      "execution_count": null,
      "outputs": []
    },
    {
      "cell_type": "markdown",
      "source": [
        "# API KEYの設定"
      ],
      "metadata": {
        "id": "RFIq_f0IuNnY"
      }
    },
    {
      "cell_type": "code",
      "source": [],
      "metadata": {
        "id": "ZMV5rESEy-hJ"
      },
      "execution_count": null,
      "outputs": []
    },
    {
      "cell_type": "code",
      "source": [
        "%%capture\n",
        "!pip install openai"
      ],
      "metadata": {
        "id": "hWyA5Fq8vCR8"
      },
      "execution_count": 1,
      "outputs": []
    },
    {
      "cell_type": "code",
      "source": [
        "import openai\n",
        "import getpass\n",
        "from typing import List, Dict, Tuple\n",
        "\n",
        "apikey = getpass.getpass(prompt=\"OpenAIのAPIキーを入力してください \")\n",
        "\n",
        "openai.api_key = apikey"
      ],
      "metadata": {
        "colab": {
          "base_uri": "https://localhost:8080/"
        },
        "id": "gctYfamdvCV3",
        "outputId": "50607bf0-b9a1-44f5-b61d-397926e4b419"
      },
      "execution_count": 2,
      "outputs": [
        {
          "name": "stdout",
          "output_type": "stream",
          "text": [
            "OpenAIのAPIキーを入力してください ··········\n"
          ]
        }
      ]
    },
    {
      "cell_type": "code",
      "source": [],
      "metadata": {
        "id": "wYg3wJ_HvGv0"
      },
      "execution_count": null,
      "outputs": []
    },
    {
      "cell_type": "markdown",
      "source": [
        "# プロンプトを入力して返答を返す関数を定義"
      ],
      "metadata": {
        "id": "xJ2thOPwvGzl"
      }
    },
    {
      "cell_type": "code",
      "source": [
        "def get_chatgpt_response(\n",
        "    user_input: str,\n",
        "    template: str,\n",
        "    model: str = \"gpt-3.5-turbo-0613\",\n",
        "    temperature: float = 0,\n",
        "    max_tokens: int = 500,\n",
        "):\n",
        "    \"\"\"\n",
        "    ChatGPTに対して対話を投げかけ、返答を取得する\n",
        "    \"\"\"\n",
        "    prompt = template.format(user_input=user_input)\n",
        "    messages = [{\"role\": \"user\", \"content\": prompt}]\n",
        "    response = openai.ChatCompletion.create(\n",
        "        model=model,\n",
        "        messages=messages,\n",
        "        temperature=temperature,\n",
        "        max_tokens=max_tokens,\n",
        "    )\n",
        "    return response.choices[0].message[\"content\"]"
      ],
      "metadata": {
        "id": "X3wbYK0avG4Q"
      },
      "execution_count": 3,
      "outputs": []
    },
    {
      "cell_type": "code",
      "source": [
        "PROMPT_TEMPLATE = \"\"\"\n",
        "    下記の文章を英語にしてください。\n",
        "\n",
        "    {user_input}\n",
        "\n",
        "    \"\"\""
      ],
      "metadata": {
        "id": "FRuBi4NavMCP"
      },
      "execution_count": null,
      "outputs": []
    },
    {
      "cell_type": "code",
      "source": [
        "PROMPT_TEMPLATE = \"\"\"\n",
        "    下記の文章を関西弁にしてください。\n",
        "\n",
        "    {user_input}\n",
        "\n",
        "    \"\"\""
      ],
      "metadata": {
        "id": "dtmdazDw4DZ4"
      },
      "execution_count": null,
      "outputs": []
    },
    {
      "cell_type": "code",
      "source": [
        "print(get_chatgpt_response(\"がむしゃらにやれ！\", PROMPT_TEMPLATE))"
      ],
      "metadata": {
        "colab": {
          "base_uri": "https://localhost:8080/"
        },
        "id": "oJJYGx4nvMH3",
        "outputId": "502fb827-329c-405a-c76a-1bca11b233a5"
      },
      "execution_count": null,
      "outputs": [
        {
          "output_type": "stream",
          "name": "stdout",
          "text": [
            "がんばりやー！\n"
          ]
        }
      ]
    },
    {
      "cell_type": "code",
      "source": [],
      "metadata": {
        "id": "R_C1pPnHvMMF"
      },
      "execution_count": null,
      "outputs": []
    },
    {
      "cell_type": "code",
      "source": [],
      "metadata": {
        "id": "qgUK746qz-E9"
      },
      "execution_count": null,
      "outputs": []
    },
    {
      "cell_type": "code",
      "source": [],
      "metadata": {
        "id": "IyXZneNez-J3"
      },
      "execution_count": null,
      "outputs": []
    },
    {
      "cell_type": "code",
      "source": [],
      "metadata": {
        "id": "ecgN5YV_z-Oj"
      },
      "execution_count": null,
      "outputs": []
    },
    {
      "cell_type": "code",
      "source": [],
      "metadata": {
        "id": "B-Pyslwrz-So"
      },
      "execution_count": null,
      "outputs": []
    },
    {
      "cell_type": "code",
      "source": [],
      "metadata": {
        "id": "BVjPoHxIz-WU"
      },
      "execution_count": null,
      "outputs": []
    },
    {
      "cell_type": "code",
      "source": [],
      "metadata": {
        "id": "YR8Q1YJ0vG7_"
      },
      "execution_count": null,
      "outputs": []
    },
    {
      "cell_type": "code",
      "source": [],
      "metadata": {
        "id": "LosT2imwvG_i"
      },
      "execution_count": null,
      "outputs": []
    },
    {
      "cell_type": "code",
      "source": [],
      "metadata": {
        "id": "KxeaqpvrvHDQ"
      },
      "execution_count": null,
      "outputs": []
    },
    {
      "cell_type": "markdown",
      "source": [
        "# 問い合わせ分類\n",
        "\n",
        "**問い合わせが以下のどのカテゴリーか分類させよう**\n",
        "  - 製品に対する問い合わせ\n",
        "  - 注文に対する問い合わせ\n",
        "  - 配送に対する問い合わせ"
      ],
      "metadata": {
        "id": "vK0i5ISsvO3f"
      }
    },
    {
      "cell_type": "markdown",
      "source": [
        "まずは、プロンプトのテンプレートを定義"
      ],
      "metadata": {
        "id": "_DWCRN1PvO9w"
      }
    },
    {
      "cell_type": "code",
      "source": [
        "PROMPT_TEMPLATE = \"\"\"\n",
        "    下記の####で区切られた顧客からの問い合わせがあります。\n",
        "    問い合わせ内容が下記のどのカテゴリーに当てはまるか考えてください。\n",
        "    下記に当てはまらない場合は、「該当するカテゴリーがありません」と返答してください。\n",
        "\n",
        "    カテゴリー：\n",
        "     製品に対する問い合わせ\n",
        "     注文に対する問い合わせ\n",
        "     配送に対する問い合わせ\n",
        "\n",
        "    ####\n",
        "\n",
        "    {user_input}\n",
        "\n",
        "    ####\n",
        "\n",
        "    出力は必ず下記のどれかを出力してください\n",
        "    製品に対する問い合わせ, 注文に対する問い合わせ, 配送に対する問い合わせ\n",
        "    \"\"\""
      ],
      "metadata": {
        "id": "wVwsbYbcvHHA"
      },
      "execution_count": null,
      "outputs": []
    },
    {
      "cell_type": "code",
      "source": [],
      "metadata": {
        "id": "3B2K35XT45NG"
      },
      "execution_count": null,
      "outputs": []
    },
    {
      "cell_type": "code",
      "source": [],
      "metadata": {
        "id": "Y7gL7BPn45T9"
      },
      "execution_count": null,
      "outputs": []
    },
    {
      "cell_type": "code",
      "source": [
        "get_chatgpt_response(\"本日購入した場合、最短で納期はいつですか？\", PROMPT_TEMPLATE)"
      ],
      "metadata": {
        "colab": {
          "base_uri": "https://localhost:8080/",
          "height": 36
        },
        "id": "2NutOcmwvVu3",
        "outputId": "0b359937-b378-41e4-c206-7a09e1508098"
      },
      "execution_count": null,
      "outputs": [
        {
          "output_type": "execute_result",
          "data": {
            "text/plain": [
              "'配送に対する問い合わせ'"
            ],
            "application/vnd.google.colaboratory.intrinsic+json": {
              "type": "string"
            }
          },
          "metadata": {},
          "execution_count": 9
        }
      ]
    },
    {
      "cell_type": "code",
      "source": [
        "get_chatgpt_response(\"購入をキャンセルしたいです\", PROMPT_TEMPLATE)"
      ],
      "metadata": {
        "colab": {
          "base_uri": "https://localhost:8080/",
          "height": 36
        },
        "id": "GsHLwZDf6FhD",
        "outputId": "fe44107b-4594-40ca-b9d3-b0b3ba2331ce"
      },
      "execution_count": null,
      "outputs": [
        {
          "output_type": "execute_result",
          "data": {
            "text/plain": [
              "'注文に対する問い合わせ'"
            ],
            "application/vnd.google.colaboratory.intrinsic+json": {
              "type": "string"
            }
          },
          "metadata": {},
          "execution_count": 10
        }
      ]
    },
    {
      "cell_type": "code",
      "source": [
        "get_chatgpt_response(\"どのような商品がありますか？\", PROMPT_TEMPLATE)"
      ],
      "metadata": {
        "colab": {
          "base_uri": "https://localhost:8080/",
          "height": 36
        },
        "id": "CsMxfeiu6Fl4",
        "outputId": "88ef4a85-8a04-4225-9371-587aacbdef45"
      },
      "execution_count": null,
      "outputs": [
        {
          "output_type": "execute_result",
          "data": {
            "text/plain": [
              "'製品に対する問い合わせ'"
            ],
            "application/vnd.google.colaboratory.intrinsic+json": {
              "type": "string"
            }
          },
          "metadata": {},
          "execution_count": 12
        }
      ]
    },
    {
      "cell_type": "code",
      "source": [
        "get_chatgpt_response(\"猫を飼いたいです\", PROMPT_TEMPLATE)"
      ],
      "metadata": {
        "colab": {
          "base_uri": "https://localhost:8080/",
          "height": 36
        },
        "id": "i7GVwOnOvHtc",
        "outputId": "f7a921af-649e-4b5f-949b-1da39ecaec48"
      },
      "execution_count": null,
      "outputs": [
        {
          "output_type": "execute_result",
          "data": {
            "text/plain": [
              "'該当するカテゴリーがありません。'"
            ],
            "application/vnd.google.colaboratory.intrinsic+json": {
              "type": "string"
            }
          },
          "metadata": {},
          "execution_count": 13
        }
      ]
    },
    {
      "cell_type": "code",
      "source": [],
      "metadata": {
        "id": "8yL2YNmuvYQN"
      },
      "execution_count": null,
      "outputs": []
    },
    {
      "cell_type": "code",
      "source": [],
      "metadata": {
        "id": "-Gtuubv_0Cix"
      },
      "execution_count": null,
      "outputs": []
    },
    {
      "cell_type": "code",
      "source": [],
      "metadata": {
        "id": "JOXKXhWH0CoD"
      },
      "execution_count": null,
      "outputs": []
    },
    {
      "cell_type": "code",
      "source": [],
      "metadata": {
        "id": "nqW1RaJG0Cs2"
      },
      "execution_count": null,
      "outputs": []
    },
    {
      "cell_type": "code",
      "source": [],
      "metadata": {
        "id": "O1a06YC00Cxq"
      },
      "execution_count": null,
      "outputs": []
    },
    {
      "cell_type": "code",
      "source": [],
      "metadata": {
        "id": "nlmv2BQn0C2Y"
      },
      "execution_count": null,
      "outputs": []
    },
    {
      "cell_type": "code",
      "source": [],
      "metadata": {
        "id": "DIA5jGKXvYVR"
      },
      "execution_count": null,
      "outputs": []
    },
    {
      "cell_type": "code",
      "source": [],
      "metadata": {
        "id": "kS4qN9x6vYZ_"
      },
      "execution_count": null,
      "outputs": []
    },
    {
      "cell_type": "markdown",
      "source": [
        "# 問い合わせの詳細カテゴリー\n",
        "\n",
        "問い合わせの内容により、以下のカテゴリーに分類します。\n",
        "\n",
        "## 製品に対する問い合わせ\n",
        "  - **スペック**\n",
        "  - **値段**\n",
        "  - **購入方法**\n",
        "\n",
        "## 注文に対する問い合わせ\n",
        "  - **注文状況**\n",
        "  - **注文変更**\n",
        "  - **支払い方法**\n",
        "\n",
        "## 配送に対する問い合わせ\n",
        "  - **配送ステータス**\n",
        "  - **配送オプション**\n",
        "  - **配送問題**\n"
      ],
      "metadata": {
        "id": "u89KZClQvYe4"
      }
    },
    {
      "cell_type": "code",
      "source": [
        "PROMPT_TEMPLATE = \"\"\"\n",
        "    下記の####で区切られた顧客からの問い合わせがあります。\n",
        "    問い合わせ内容を最初に第一カテゴリーで分けて、その後、第一カテゴリーに紐づく第二カテゴリーに分けてください。\n",
        "    カテゴリーに当てはまるものが無い場合「該当するカテゴリーがありません」と返答してください。\n",
        "\n",
        "    第一カテゴリー：\n",
        "      製品, 注文, 配送\n",
        "\n",
        "    第二カテゴリー：\n",
        "     ・製品の場合\n",
        "       スペック, 値段, 購入方法\n",
        "     ・注文の場合\n",
        "       注文状況, 注文変更, 支払い方法\n",
        "      ・配送の場合\n",
        "       配送ステータス, 配送オプション, 配送問題\n",
        "\n",
        "    ####\n",
        "\n",
        "    {user_input}\n",
        "\n",
        "    ####\n",
        "\n",
        "    出力は下記の形式で出力してください\n",
        "      第一カテゴリー:<第一カテゴリーのどれか>\n",
        "      第二カテゴリー:<第二カテゴリーのどれか>\n",
        "    \"\"\""
      ],
      "metadata": {
        "id": "-tOrkKgKvaOO"
      },
      "execution_count": 13,
      "outputs": []
    },
    {
      "cell_type": "code",
      "source": [],
      "metadata": {
        "id": "y9y_pG0WvaW5"
      },
      "execution_count": 13,
      "outputs": []
    },
    {
      "cell_type": "code",
      "source": [
        "response = get_chatgpt_response(\"私のパッケージは出荷されましたか？\", PROMPT_TEMPLATE)\n",
        "print(response)"
      ],
      "metadata": {
        "colab": {
          "base_uri": "https://localhost:8080/"
        },
        "id": "ofokNOeMvaa3",
        "outputId": "359b3c13-94b8-46c8-fd18-ff61c3d41f50"
      },
      "execution_count": 14,
      "outputs": [
        {
          "output_type": "stream",
          "name": "stdout",
          "text": [
            "第一カテゴリー: 配送\n",
            "第二カテゴリー: 配送ステータス\n"
          ]
        }
      ]
    },
    {
      "cell_type": "code",
      "source": [
        "response = get_chatgpt_response(\"到着日時を変更して欲しいです\", PROMPT_TEMPLATE)\n",
        "print(response)"
      ],
      "metadata": {
        "colab": {
          "base_uri": "https://localhost:8080/"
        },
        "id": "7xyhVW6o7VGs",
        "outputId": "99747f89-c2b5-46b1-98b3-d01f1b1a5a6c"
      },
      "execution_count": 15,
      "outputs": [
        {
          "output_type": "stream",
          "name": "stdout",
          "text": [
            "第一カテゴリー: 配送\n",
            "第二カテゴリー: 配送問題\n"
          ]
        }
      ]
    },
    {
      "cell_type": "code",
      "source": [
        "response = get_chatgpt_response(\"商品が壊れました\", PROMPT_TEMPLATE)\n",
        "print(response)"
      ],
      "metadata": {
        "colab": {
          "base_uri": "https://localhost:8080/"
        },
        "id": "CbpmVq557VN9",
        "outputId": "a3e303f3-ede1-4338-bc40-daac7302f65b"
      },
      "execution_count": 16,
      "outputs": [
        {
          "output_type": "stream",
          "name": "stdout",
          "text": [
            "第一カテゴリー: 製品\n",
            "第二カテゴリー: 該当するカテゴリーがありません\n"
          ]
        }
      ]
    },
    {
      "cell_type": "code",
      "source": [],
      "metadata": {
        "id": "X5MpRtts8aMv"
      },
      "execution_count": null,
      "outputs": []
    },
    {
      "cell_type": "code",
      "source": [],
      "metadata": {
        "id": "YdQkRD0CvaeJ"
      },
      "execution_count": null,
      "outputs": []
    },
    {
      "cell_type": "code",
      "source": [
        "response = get_chatgpt_response(\"到着日時を変更して欲しいです\", PROMPT_TEMPLATE)\n",
        "print(response)"
      ],
      "metadata": {
        "colab": {
          "base_uri": "https://localhost:8080/"
        },
        "id": "GxrbmlH2vah5",
        "outputId": "d965bef7-61a5-422d-db34-e3db6882112d"
      },
      "execution_count": null,
      "outputs": [
        {
          "output_type": "stream",
          "name": "stdout",
          "text": [
            "第一カテゴリー:配送\n",
            "      第二カテゴリー:配送オプション\n"
          ]
        }
      ]
    },
    {
      "cell_type": "code",
      "source": [
        "print(response.replace(\" \", \"\"))"
      ],
      "metadata": {
        "colab": {
          "base_uri": "https://localhost:8080/"
        },
        "id": "9JRUSP8JvfT_",
        "outputId": "11b89fd9-4c7f-423b-b033-9c72de4f4762"
      },
      "execution_count": null,
      "outputs": [
        {
          "output_type": "stream",
          "name": "stdout",
          "text": [
            "第一カテゴリー:配送\n",
            "第二カテゴリー:配送オプション\n"
          ]
        }
      ]
    },
    {
      "cell_type": "code",
      "source": [],
      "metadata": {
        "id": "Hu7oXJo0vfX_"
      },
      "execution_count": null,
      "outputs": []
    },
    {
      "cell_type": "code",
      "source": [],
      "metadata": {
        "id": "J35Uh97dvfc8"
      },
      "execution_count": null,
      "outputs": []
    },
    {
      "cell_type": "code",
      "source": [],
      "metadata": {
        "id": "aoIoUBYhvg43"
      },
      "execution_count": null,
      "outputs": []
    },
    {
      "cell_type": "code",
      "source": [],
      "metadata": {
        "id": "ztWBkYlPvg9O"
      },
      "execution_count": null,
      "outputs": []
    },
    {
      "cell_type": "code",
      "source": [],
      "metadata": {
        "id": "9Zkw6diAvhBu"
      },
      "execution_count": null,
      "outputs": []
    },
    {
      "cell_type": "code",
      "source": [],
      "metadata": {
        "id": "W9dEAKDjvhFq"
      },
      "execution_count": null,
      "outputs": []
    },
    {
      "cell_type": "code",
      "source": [],
      "metadata": {
        "id": "FLGWVxSh0E-Z"
      },
      "execution_count": null,
      "outputs": []
    },
    {
      "cell_type": "code",
      "source": [],
      "metadata": {
        "id": "rqL_Wjjk0FDN"
      },
      "execution_count": null,
      "outputs": []
    },
    {
      "cell_type": "code",
      "source": [],
      "metadata": {
        "id": "q655g19i0FIA"
      },
      "execution_count": null,
      "outputs": []
    },
    {
      "cell_type": "code",
      "source": [],
      "metadata": {
        "id": "cxgldvgR0FND"
      },
      "execution_count": null,
      "outputs": []
    },
    {
      "cell_type": "code",
      "source": [],
      "metadata": {
        "id": "yTIsbf5N0FSq"
      },
      "execution_count": null,
      "outputs": []
    },
    {
      "cell_type": "code",
      "source": [],
      "metadata": {
        "id": "w4Im2x3I0FYK"
      },
      "execution_count": null,
      "outputs": []
    },
    {
      "cell_type": "code",
      "source": [],
      "metadata": {
        "id": "MPx19ek8vhJL"
      },
      "execution_count": null,
      "outputs": []
    },
    {
      "cell_type": "markdown",
      "source": [
        "# JSON形式で出力させてみよう"
      ],
      "metadata": {
        "id": "0r8SbbTIvhNb"
      }
    },
    {
      "cell_type": "code",
      "source": [
        "PROMPT_TEMPLATE = \"\"\"\n",
        "    下記の####で区切られた顧客からの問い合わせがあります。\n",
        "    問い合わせ内容を最初に第一カテゴリーで分けて、その後、第一カテゴリーにそれぞれ紐づく第二カテゴリーに分けてください。\n",
        "    カテゴリーに当てはまるものが無い場合「該当するカテゴリーがありません」と返答してください。\n",
        "\n",
        "    第一カテゴリー：\n",
        "      製品, 注文, 配送\n",
        "\n",
        "    第二カテゴリー：\n",
        "     ・製品の場合\n",
        "       スペック, 値段, 購入方法\n",
        "     ・注文の場合\n",
        "       注文状況, 注文変更, 支払い方法\n",
        "      ・配送の場合\n",
        "       配送ステータス, 配送オプション, 配送問題\n",
        "\n",
        "    ####\n",
        "\n",
        "    {user_input}\n",
        "\n",
        "    ####\n",
        "\n",
        "    出力は必ず、JSON形式(key=<第一カテゴリーのどれか>, value=<第二カテゴリーのどれか>)で出力してください。\n",
        "    例： {{\"key\": \"製品\", \"value\": \"値段\"}}\n",
        "    該当するカテゴリーが無い場合key,value両方とも 該当なし としてください\n",
        "    \"\"\""
      ],
      "metadata": {
        "id": "JuI9Cw9pvhR4"
      },
      "execution_count": 4,
      "outputs": []
    },
    {
      "cell_type": "code",
      "source": [
        "print(get_chatgpt_response(\"このスマートフォンの最新の価格は何ですか？\", PROMPT_TEMPLATE))"
      ],
      "metadata": {
        "colab": {
          "base_uri": "https://localhost:8080/"
        },
        "id": "Al66RyrhvhXe",
        "outputId": "bedbdd69-3d9a-4b3d-92fb-64523895fcad"
      },
      "execution_count": 5,
      "outputs": [
        {
          "output_type": "stream",
          "name": "stdout",
          "text": [
            "{\"key\": \"製品\", \"value\": \"値段\"}\n"
          ]
        }
      ]
    },
    {
      "cell_type": "code",
      "source": [],
      "metadata": {
        "id": "87bmvDc2vhco"
      },
      "execution_count": null,
      "outputs": []
    },
    {
      "cell_type": "code",
      "source": [],
      "metadata": {
        "id": "Q5YVC38ivhh0"
      },
      "execution_count": null,
      "outputs": []
    },
    {
      "cell_type": "code",
      "source": [],
      "metadata": {
        "id": "Ko_UNjO9vhmB"
      },
      "execution_count": null,
      "outputs": []
    },
    {
      "cell_type": "code",
      "source": [],
      "metadata": {
        "id": "By4NP9lovhrK"
      },
      "execution_count": null,
      "outputs": []
    },
    {
      "cell_type": "code",
      "source": [],
      "metadata": {
        "id": "Ofy63-3ovhu7"
      },
      "execution_count": null,
      "outputs": []
    },
    {
      "cell_type": "code",
      "source": [],
      "metadata": {
        "id": "udWCXxOUvhxu"
      },
      "execution_count": null,
      "outputs": []
    },
    {
      "cell_type": "code",
      "source": [],
      "metadata": {
        "id": "dugsBKKsvotp"
      },
      "execution_count": null,
      "outputs": []
    },
    {
      "cell_type": "markdown",
      "source": [
        "# 問い合わせ内容が膨大にある\n",
        "  - \"このスマートフォンのプロセッサーは何ですか？\"\n",
        "  - \"このパソコンのRAMの容量はどれくらいですか？\"\n",
        "  - \"このカメラの最大シャッタースピードは何ですか？\"\n",
        "  - \"このヘッドフォンの周波数レンジは何ですか？\"\n",
        "  - \"この自転車のフレームは何で作られていますか？\"\n",
        "  - \"このスマートフォンの最新の価格は何ですか？\"\n",
        "  - \"このゲーム機の割引価格はありますか？\"\n",
        "  - \"この製品の月々の費用はどれくらいですか？\"\n",
        "  - \"このサブスクリプションサービスの年間費用は何ですか？\"\n",
        "  - \"この洗濯機には何年間の保証が含まれていますか？そのコストはどれくらいですか？\"\n",
        "  - \"この製品はオンラインで注文することができますか？\"\n",
        "  - \"この製品を店舗で購入することは可能ですか？\"\n",
        "  - \"この製品は分割払いで購入できますか？\"\n",
        "  - \"この製品は海外から注文できますか？\"\n",
        "  - \"この製品を予約注文することは可能ですか？\"\n",
        "  - \"私の注文はすでに確認されましたか？\"\n",
        "  - \"私の注文はまだ出荷されていませんか？\"\n",
        "  - \"注文した商品の在庫状況を教えてください。\"\n",
        "  - \"注文の進行状況を確認するにはどうすればよいですか？\"\n",
        "  - \"私の注文はキャンセルされましたか？\"\n",
        "  - \"私の注文の配送先住所を変更することは可能ですか？\"\n",
        "  - \"注文した商品の色やサイズを変更することは可能ですか？\"\n",
        "  - \"注文した商品を別のものに変更することは可能ですか？\"\n",
        "  - \"注文の数量を増やすことは可能ですか？\"  \n",
        "  - \"注文した商品をキャンセルすることは可能ですか？\"\n",
        "  - \"注文の支払いにクレジットカードは使用できますか？\"\n",
        "  - \"注文の支払いにデビットカードは使用できますか？\"\n",
        "  - \"注文の支払いにPayPalは使用できますか？\"\n",
        "  - \"注文の支払いにApple PayやGoogle Payは使用できますか？\"\n",
        "  - \"注文の支払いにビットコインは使用できますか？\"\n",
        "  - \"私のパッケージは出荷されましたか？\"\n",
        "  - \"私のパッケージの追跡番号を教えてください。\"\n",
        "  - \"私のパッケージはいつ到着予定ですか？\"\n",
        "  - \"私のパッケージが遅延しています。なぜですか？\"\n",
        "  - \"私のパッケージは配送中に失われたようです。どうすればいいですか？\"\n",
        "  - \"エクスプレス配送は可能ですか？\"\n",
        "  - \"特定の日時に配送することはできますか？\"\n",
        "  - \"配送先を注文後に変更することは可能ですか？\"\n",
        "  - \"商品の配送はどの運送会社を利用していますか？\"\n",
        "  - \"私の地域への配送は可能ですか？\"\n",
        "  - \"配送された商品が損傷していました。どうすればいいですか？\"\n",
        "  - \"配送された商品が間違っていました。どうすればいいですか？\"\n",
        "  - \"パッケージが届かない場合、どうすればいいですか？\"\n",
        "  - \"配達員が不在票を残していました。どうすればいいですか？\"\n",
        "  - \"パッケージが開封されていました。どうすればいいですか？\""
      ],
      "metadata": {
        "id": "aCcBnL8ZvoyV"
      }
    },
    {
      "cell_type": "code",
      "source": [
        "questions = [\n",
        "    \"このカメラの最大シャッタースピードは何ですか？\",\n",
        "    \"私のパッケージの追跡番号を教えてください。\",\n",
        "    \"エクスプレス配送は可能ですか？\",\n",
        "    \"特定の日時に配送することはできますか？\",\n",
        "    \"配送された商品が損傷していました。どうすればいいですか？\",\n",
        "    \"注文の支払いにApple PayやGoogle Payは使用できますか？\",\n",
        "    \"私のパッケージはいつ到着予定ですか？\",\n",
        "    \"注文の支払いにクレジットカードは使用できますか？\",\n",
        "    \"私の注文はまだ出荷されていませんか？\",\n",
        "    \"この製品はオンラインで注文することができますか？\",\n",
        "    \"私のパッケージが遅延しています。なぜですか？\",\n",
        "    \"このスマートフォンの最新の価格は何ですか？\",\n",
        "    \"注文した商品をキャンセルすることは可能ですか？\",\n",
        "    \"商品の配送はどの運送会社を利用していますか？\",\n",
        "    \"このサブスクリプションサービスの年間費用は何ですか？\",\n",
        "    \"このヘッドフォンの周波数レンジは何ですか？\",\n",
        "    \"私の地域への配送は可能ですか？\",\n",
        "    \"注文の支払いにビットコインは使用できますか？\",\n",
        "    \"配送された商品が間違っていました。どうすればいいですか？\",\n",
        "    \"この製品を店舗で購入することは可能ですか？\",\n",
        "    \"パッケージが届かない場合、どうすればいいですか？\",\n",
        "    \"私の注文はキャンセルされましたか？\",\n",
        "    \"このパソコンのRAMの容量はどれくらいですか？\",\n",
        "    \"注文の支払いにデビットカードは使用できますか？\",\n",
        "    \"私のパッケージは出荷されましたか？\",\n",
        "    \"注文の数量を増やすことは可能ですか？\",\n",
        "    \"私の注文はすでに確認されましたか？\",\n",
        "    \"注文の進行状況を確認するにはどうすればよいですか？\",\n",
        "    \"配送先を注文後に変更することは可能ですか？\",\n",
        "    \"パッケージが開封されていました。どうすればいいですか？\",\n",
        "    \"配達員が不在票を残していました。どうすればいいですか？\",\n",
        "    \"私のパッケージは配送中に失われたようです。どうすればいいですか？\",\n",
        "    \"この自転車のフレームは何で作られていますか？\",\n",
        "    \"この製品を予約注文することは可能ですか？\",\n",
        "    \"注文した商品の色やサイズを変更することは可能ですか？\",\n",
        "    \"この製品の月々の費用はどれくらいですか？\",\n",
        "    \"このスマートフォンのプロセッサーは何ですか？\",\n",
        "    \"この製品は分割払いで購入できますか？\",\n",
        "    \"この製品は海外から注文できますか？\",\n",
        "    \"注文した商品の在庫状況を教えてください。\",\n",
        "    \"このゲーム機の割引価格はありますか？\",\n",
        "    \"私の注文の配送先住所を変更することは可能ですか？\",\n",
        "    \"注文した商品を別のものに変更することは可能ですか？\",\n",
        "    \"この洗濯機には何年間の保証が含まれていますか？そのコストはどれくらいですか？\",\n",
        "    \"注文の支払いにPayPalは使用できますか？\",\n",
        "]"
      ],
      "metadata": {
        "id": "M7dfmqvNvo12"
      },
      "execution_count": 6,
      "outputs": []
    },
    {
      "cell_type": "code",
      "source": [],
      "metadata": {
        "id": "NWY_ITkpvo6w"
      },
      "execution_count": 6,
      "outputs": []
    },
    {
      "cell_type": "code",
      "source": [
        "from tqdm import tqdm\n",
        "import json\n",
        "\n",
        "\n",
        "def get_responses_and_check_json(questions: List[str]):\n",
        "    \"\"\"\n",
        "    ChatGPTからの応答を取得し、それらがJSON形式であることを確認する\n",
        "    \"\"\"\n",
        "    list_json = []\n",
        "\n",
        "    def json_checker(response):\n",
        "        try:\n",
        "            return json.loads(response.strip())\n",
        "        except json.JSONDecodeError:\n",
        "            print(f\"No json format... {response.strip()}\")\n",
        "\n",
        "    for question in tqdm(questions):\n",
        "        response = get_chatgpt_response(question, PROMPT_TEMPLATE)\n",
        "        list_json.append(json_checker(response))\n",
        "\n",
        "    return list_json"
      ],
      "metadata": {
        "id": "5MSBkU7_vtDJ"
      },
      "execution_count": 7,
      "outputs": []
    },
    {
      "cell_type": "code",
      "source": [
        "list_json = get_responses_and_check_json(questions)"
      ],
      "metadata": {
        "colab": {
          "base_uri": "https://localhost:8080/"
        },
        "id": "oo22UGpxvtIE",
        "outputId": "06d3659e-58dd-4e5f-f98d-348b817ffcd8"
      },
      "execution_count": 8,
      "outputs": [
        {
          "output_type": "stream",
          "name": "stderr",
          "text": [
            "100%|██████████| 45/45 [00:49<00:00,  1.11s/it]\n"
          ]
        }
      ]
    },
    {
      "cell_type": "code",
      "source": [
        "import pandas as pd\n",
        "\n",
        "df = pd.DataFrame(list_json)\n",
        "df[\"question\"] = questions\n",
        "df.columns = [\"category_1\", \"category_2\", \"question\"]"
      ],
      "metadata": {
        "id": "0LKYGCW-vtND"
      },
      "execution_count": 9,
      "outputs": []
    },
    {
      "cell_type": "code",
      "source": [
        "df"
      ],
      "metadata": {
        "colab": {
          "base_uri": "https://localhost:8080/",
          "height": 1000
        },
        "id": "lYPkVwqOvtR6",
        "outputId": "65b494fc-11b2-4961-dd8b-c13bddb47b4f"
      },
      "execution_count": 10,
      "outputs": [
        {
          "output_type": "execute_result",
          "data": {
            "text/plain": [
              "   category_1       category_2                                question\n",
              "0          製品             スペック                 このカメラの最大シャッタースピードは何ですか？\n",
              "1          配送          配送ステータス                   私のパッケージの追跡番号を教えてください。\n",
              "2          配送          配送オプション                         エクスプレス配送は可能ですか？\n",
              "3          配送          配送オプション                     特定の日時に配送することはできますか？\n",
              "4          配送             配送問題            配送された商品が損傷していました。どうすればいいですか？\n",
              "5          注文            支払い方法    注文の支払いにApple PayやGoogle Payは使用できますか？\n",
              "6          配送          配送ステータス                      私のパッケージはいつ到着予定ですか？\n",
              "7          注文            支払い方法                注文の支払いにクレジットカードは使用できますか？\n",
              "8          注文             注文状況                      私の注文はまだ出荷されていませんか？\n",
              "9          製品             購入方法                この製品はオンラインで注文することができますか？\n",
              "10         配送             配送問題                  私のパッケージが遅延しています。なぜですか？\n",
              "11         製品               値段                   このスマートフォンの最新の価格は何ですか？\n",
              "12         注文             注文変更                 注文した商品をキャンセルすることは可能ですか？\n",
              "13         配送  該当するカテゴリーがありません                  商品の配送はどの運送会社を利用していますか？\n",
              "14         製品  該当するカテゴリーがありません              このサブスクリプションサービスの年間費用は何ですか？\n",
              "15         製品             スペック                   このヘッドフォンの周波数レンジは何ですか？\n",
              "16         配送             配送問題                         私の地域への配送は可能ですか？\n",
              "17         注文            支払い方法                  注文の支払いにビットコインは使用できますか？\n",
              "18         配送             配送問題            配送された商品が間違っていました。どうすればいいですか？\n",
              "19         製品             購入方法                   この製品を店舗で購入することは可能ですか？\n",
              "20         配送  該当するカテゴリーがありません                パッケージが届かない場合、どうすればいいですか？\n",
              "21         注文             注文状況                       私の注文はキャンセルされましたか？\n",
              "22         製品             スペック                 このパソコンのRAMの容量はどれくらいですか？\n",
              "23         注文            支払い方法                 注文の支払いにデビットカードは使用できますか？\n",
              "24         配送          配送ステータス                       私のパッケージは出荷されましたか？\n",
              "25         注文             注文変更                      注文の数量を増やすことは可能ですか？\n",
              "26         注文             注文状況                       私の注文はすでに確認されましたか？\n",
              "27         注文             注文状況               注文の進行状況を確認するにはどうすればよいですか？\n",
              "28         注文             注文変更                   配送先を注文後に変更することは可能ですか？\n",
              "29         製品  該当するカテゴリーがありません             パッケージが開封されていました。どうすればいいですか？\n",
              "30         配送             配送問題             配達員が不在票を残していました。どうすればいいですか？\n",
              "31         配送             配送問題        私のパッケージは配送中に失われたようです。どうすればいいですか？\n",
              "32         製品             スペック                  この自転車のフレームは何で作られていますか？\n",
              "33         注文  該当するカテゴリーがありません                    この製品を予約注文することは可能ですか？\n",
              "34         注文             注文変更              注文した商品の色やサイズを変更することは可能ですか？\n",
              "35         製品  該当するカテゴリーがありません                    この製品の月々の費用はどれくらいですか？\n",
              "36         製品             スペック                  このスマートフォンのプロセッサーは何ですか？\n",
              "37         製品             購入方法                      この製品は分割払いで購入できますか？\n",
              "38         製品             購入方法                       この製品は海外から注文できますか？\n",
              "39         注文             注文状況                    注文した商品の在庫状況を教えてください。\n",
              "40         製品               値段                      このゲーム機の割引価格はありますか？\n",
              "41         注文             注文変更                私の注文の配送先住所を変更することは可能ですか？\n",
              "42         注文             注文変更               注文した商品を別のものに変更することは可能ですか？\n",
              "43         製品             スペック  この洗濯機には何年間の保証が含まれていますか？そのコストはどれくらいですか？\n",
              "44         注文            支払い方法                  注文の支払いにPayPalは使用できますか？"
            ],
            "text/html": [
              "\n",
              "\n",
              "  <div id=\"df-aec84a5e-e1b0-479c-9af2-b7b1fffa5ea0\">\n",
              "    <div class=\"colab-df-container\">\n",
              "      <div>\n",
              "<style scoped>\n",
              "    .dataframe tbody tr th:only-of-type {\n",
              "        vertical-align: middle;\n",
              "    }\n",
              "\n",
              "    .dataframe tbody tr th {\n",
              "        vertical-align: top;\n",
              "    }\n",
              "\n",
              "    .dataframe thead th {\n",
              "        text-align: right;\n",
              "    }\n",
              "</style>\n",
              "<table border=\"1\" class=\"dataframe\">\n",
              "  <thead>\n",
              "    <tr style=\"text-align: right;\">\n",
              "      <th></th>\n",
              "      <th>category_1</th>\n",
              "      <th>category_2</th>\n",
              "      <th>question</th>\n",
              "    </tr>\n",
              "  </thead>\n",
              "  <tbody>\n",
              "    <tr>\n",
              "      <th>0</th>\n",
              "      <td>製品</td>\n",
              "      <td>スペック</td>\n",
              "      <td>このカメラの最大シャッタースピードは何ですか？</td>\n",
              "    </tr>\n",
              "    <tr>\n",
              "      <th>1</th>\n",
              "      <td>配送</td>\n",
              "      <td>配送ステータス</td>\n",
              "      <td>私のパッケージの追跡番号を教えてください。</td>\n",
              "    </tr>\n",
              "    <tr>\n",
              "      <th>2</th>\n",
              "      <td>配送</td>\n",
              "      <td>配送オプション</td>\n",
              "      <td>エクスプレス配送は可能ですか？</td>\n",
              "    </tr>\n",
              "    <tr>\n",
              "      <th>3</th>\n",
              "      <td>配送</td>\n",
              "      <td>配送オプション</td>\n",
              "      <td>特定の日時に配送することはできますか？</td>\n",
              "    </tr>\n",
              "    <tr>\n",
              "      <th>4</th>\n",
              "      <td>配送</td>\n",
              "      <td>配送問題</td>\n",
              "      <td>配送された商品が損傷していました。どうすればいいですか？</td>\n",
              "    </tr>\n",
              "    <tr>\n",
              "      <th>5</th>\n",
              "      <td>注文</td>\n",
              "      <td>支払い方法</td>\n",
              "      <td>注文の支払いにApple PayやGoogle Payは使用できますか？</td>\n",
              "    </tr>\n",
              "    <tr>\n",
              "      <th>6</th>\n",
              "      <td>配送</td>\n",
              "      <td>配送ステータス</td>\n",
              "      <td>私のパッケージはいつ到着予定ですか？</td>\n",
              "    </tr>\n",
              "    <tr>\n",
              "      <th>7</th>\n",
              "      <td>注文</td>\n",
              "      <td>支払い方法</td>\n",
              "      <td>注文の支払いにクレジットカードは使用できますか？</td>\n",
              "    </tr>\n",
              "    <tr>\n",
              "      <th>8</th>\n",
              "      <td>注文</td>\n",
              "      <td>注文状況</td>\n",
              "      <td>私の注文はまだ出荷されていませんか？</td>\n",
              "    </tr>\n",
              "    <tr>\n",
              "      <th>9</th>\n",
              "      <td>製品</td>\n",
              "      <td>購入方法</td>\n",
              "      <td>この製品はオンラインで注文することができますか？</td>\n",
              "    </tr>\n",
              "    <tr>\n",
              "      <th>10</th>\n",
              "      <td>配送</td>\n",
              "      <td>配送問題</td>\n",
              "      <td>私のパッケージが遅延しています。なぜですか？</td>\n",
              "    </tr>\n",
              "    <tr>\n",
              "      <th>11</th>\n",
              "      <td>製品</td>\n",
              "      <td>値段</td>\n",
              "      <td>このスマートフォンの最新の価格は何ですか？</td>\n",
              "    </tr>\n",
              "    <tr>\n",
              "      <th>12</th>\n",
              "      <td>注文</td>\n",
              "      <td>注文変更</td>\n",
              "      <td>注文した商品をキャンセルすることは可能ですか？</td>\n",
              "    </tr>\n",
              "    <tr>\n",
              "      <th>13</th>\n",
              "      <td>配送</td>\n",
              "      <td>該当するカテゴリーがありません</td>\n",
              "      <td>商品の配送はどの運送会社を利用していますか？</td>\n",
              "    </tr>\n",
              "    <tr>\n",
              "      <th>14</th>\n",
              "      <td>製品</td>\n",
              "      <td>該当するカテゴリーがありません</td>\n",
              "      <td>このサブスクリプションサービスの年間費用は何ですか？</td>\n",
              "    </tr>\n",
              "    <tr>\n",
              "      <th>15</th>\n",
              "      <td>製品</td>\n",
              "      <td>スペック</td>\n",
              "      <td>このヘッドフォンの周波数レンジは何ですか？</td>\n",
              "    </tr>\n",
              "    <tr>\n",
              "      <th>16</th>\n",
              "      <td>配送</td>\n",
              "      <td>配送問題</td>\n",
              "      <td>私の地域への配送は可能ですか？</td>\n",
              "    </tr>\n",
              "    <tr>\n",
              "      <th>17</th>\n",
              "      <td>注文</td>\n",
              "      <td>支払い方法</td>\n",
              "      <td>注文の支払いにビットコインは使用できますか？</td>\n",
              "    </tr>\n",
              "    <tr>\n",
              "      <th>18</th>\n",
              "      <td>配送</td>\n",
              "      <td>配送問題</td>\n",
              "      <td>配送された商品が間違っていました。どうすればいいですか？</td>\n",
              "    </tr>\n",
              "    <tr>\n",
              "      <th>19</th>\n",
              "      <td>製品</td>\n",
              "      <td>購入方法</td>\n",
              "      <td>この製品を店舗で購入することは可能ですか？</td>\n",
              "    </tr>\n",
              "    <tr>\n",
              "      <th>20</th>\n",
              "      <td>配送</td>\n",
              "      <td>該当するカテゴリーがありません</td>\n",
              "      <td>パッケージが届かない場合、どうすればいいですか？</td>\n",
              "    </tr>\n",
              "    <tr>\n",
              "      <th>21</th>\n",
              "      <td>注文</td>\n",
              "      <td>注文状況</td>\n",
              "      <td>私の注文はキャンセルされましたか？</td>\n",
              "    </tr>\n",
              "    <tr>\n",
              "      <th>22</th>\n",
              "      <td>製品</td>\n",
              "      <td>スペック</td>\n",
              "      <td>このパソコンのRAMの容量はどれくらいですか？</td>\n",
              "    </tr>\n",
              "    <tr>\n",
              "      <th>23</th>\n",
              "      <td>注文</td>\n",
              "      <td>支払い方法</td>\n",
              "      <td>注文の支払いにデビットカードは使用できますか？</td>\n",
              "    </tr>\n",
              "    <tr>\n",
              "      <th>24</th>\n",
              "      <td>配送</td>\n",
              "      <td>配送ステータス</td>\n",
              "      <td>私のパッケージは出荷されましたか？</td>\n",
              "    </tr>\n",
              "    <tr>\n",
              "      <th>25</th>\n",
              "      <td>注文</td>\n",
              "      <td>注文変更</td>\n",
              "      <td>注文の数量を増やすことは可能ですか？</td>\n",
              "    </tr>\n",
              "    <tr>\n",
              "      <th>26</th>\n",
              "      <td>注文</td>\n",
              "      <td>注文状況</td>\n",
              "      <td>私の注文はすでに確認されましたか？</td>\n",
              "    </tr>\n",
              "    <tr>\n",
              "      <th>27</th>\n",
              "      <td>注文</td>\n",
              "      <td>注文状況</td>\n",
              "      <td>注文の進行状況を確認するにはどうすればよいですか？</td>\n",
              "    </tr>\n",
              "    <tr>\n",
              "      <th>28</th>\n",
              "      <td>注文</td>\n",
              "      <td>注文変更</td>\n",
              "      <td>配送先を注文後に変更することは可能ですか？</td>\n",
              "    </tr>\n",
              "    <tr>\n",
              "      <th>29</th>\n",
              "      <td>製品</td>\n",
              "      <td>該当するカテゴリーがありません</td>\n",
              "      <td>パッケージが開封されていました。どうすればいいですか？</td>\n",
              "    </tr>\n",
              "    <tr>\n",
              "      <th>30</th>\n",
              "      <td>配送</td>\n",
              "      <td>配送問題</td>\n",
              "      <td>配達員が不在票を残していました。どうすればいいですか？</td>\n",
              "    </tr>\n",
              "    <tr>\n",
              "      <th>31</th>\n",
              "      <td>配送</td>\n",
              "      <td>配送問題</td>\n",
              "      <td>私のパッケージは配送中に失われたようです。どうすればいいですか？</td>\n",
              "    </tr>\n",
              "    <tr>\n",
              "      <th>32</th>\n",
              "      <td>製品</td>\n",
              "      <td>スペック</td>\n",
              "      <td>この自転車のフレームは何で作られていますか？</td>\n",
              "    </tr>\n",
              "    <tr>\n",
              "      <th>33</th>\n",
              "      <td>注文</td>\n",
              "      <td>該当するカテゴリーがありません</td>\n",
              "      <td>この製品を予約注文することは可能ですか？</td>\n",
              "    </tr>\n",
              "    <tr>\n",
              "      <th>34</th>\n",
              "      <td>注文</td>\n",
              "      <td>注文変更</td>\n",
              "      <td>注文した商品の色やサイズを変更することは可能ですか？</td>\n",
              "    </tr>\n",
              "    <tr>\n",
              "      <th>35</th>\n",
              "      <td>製品</td>\n",
              "      <td>該当するカテゴリーがありません</td>\n",
              "      <td>この製品の月々の費用はどれくらいですか？</td>\n",
              "    </tr>\n",
              "    <tr>\n",
              "      <th>36</th>\n",
              "      <td>製品</td>\n",
              "      <td>スペック</td>\n",
              "      <td>このスマートフォンのプロセッサーは何ですか？</td>\n",
              "    </tr>\n",
              "    <tr>\n",
              "      <th>37</th>\n",
              "      <td>製品</td>\n",
              "      <td>購入方法</td>\n",
              "      <td>この製品は分割払いで購入できますか？</td>\n",
              "    </tr>\n",
              "    <tr>\n",
              "      <th>38</th>\n",
              "      <td>製品</td>\n",
              "      <td>購入方法</td>\n",
              "      <td>この製品は海外から注文できますか？</td>\n",
              "    </tr>\n",
              "    <tr>\n",
              "      <th>39</th>\n",
              "      <td>注文</td>\n",
              "      <td>注文状況</td>\n",
              "      <td>注文した商品の在庫状況を教えてください。</td>\n",
              "    </tr>\n",
              "    <tr>\n",
              "      <th>40</th>\n",
              "      <td>製品</td>\n",
              "      <td>値段</td>\n",
              "      <td>このゲーム機の割引価格はありますか？</td>\n",
              "    </tr>\n",
              "    <tr>\n",
              "      <th>41</th>\n",
              "      <td>注文</td>\n",
              "      <td>注文変更</td>\n",
              "      <td>私の注文の配送先住所を変更することは可能ですか？</td>\n",
              "    </tr>\n",
              "    <tr>\n",
              "      <th>42</th>\n",
              "      <td>注文</td>\n",
              "      <td>注文変更</td>\n",
              "      <td>注文した商品を別のものに変更することは可能ですか？</td>\n",
              "    </tr>\n",
              "    <tr>\n",
              "      <th>43</th>\n",
              "      <td>製品</td>\n",
              "      <td>スペック</td>\n",
              "      <td>この洗濯機には何年間の保証が含まれていますか？そのコストはどれくらいですか？</td>\n",
              "    </tr>\n",
              "    <tr>\n",
              "      <th>44</th>\n",
              "      <td>注文</td>\n",
              "      <td>支払い方法</td>\n",
              "      <td>注文の支払いにPayPalは使用できますか？</td>\n",
              "    </tr>\n",
              "  </tbody>\n",
              "</table>\n",
              "</div>\n",
              "      <button class=\"colab-df-convert\" onclick=\"convertToInteractive('df-aec84a5e-e1b0-479c-9af2-b7b1fffa5ea0')\"\n",
              "              title=\"Convert this dataframe to an interactive table.\"\n",
              "              style=\"display:none;\">\n",
              "\n",
              "  <svg xmlns=\"http://www.w3.org/2000/svg\" height=\"24px\"viewBox=\"0 0 24 24\"\n",
              "       width=\"24px\">\n",
              "    <path d=\"M0 0h24v24H0V0z\" fill=\"none\"/>\n",
              "    <path d=\"M18.56 5.44l.94 2.06.94-2.06 2.06-.94-2.06-.94-.94-2.06-.94 2.06-2.06.94zm-11 1L8.5 8.5l.94-2.06 2.06-.94-2.06-.94L8.5 2.5l-.94 2.06-2.06.94zm10 10l.94 2.06.94-2.06 2.06-.94-2.06-.94-.94-2.06-.94 2.06-2.06.94z\"/><path d=\"M17.41 7.96l-1.37-1.37c-.4-.4-.92-.59-1.43-.59-.52 0-1.04.2-1.43.59L10.3 9.45l-7.72 7.72c-.78.78-.78 2.05 0 2.83L4 21.41c.39.39.9.59 1.41.59.51 0 1.02-.2 1.41-.59l7.78-7.78 2.81-2.81c.8-.78.8-2.07 0-2.86zM5.41 20L4 18.59l7.72-7.72 1.47 1.35L5.41 20z\"/>\n",
              "  </svg>\n",
              "      </button>\n",
              "\n",
              "\n",
              "\n",
              "    <div id=\"df-24b1f2cc-55ac-4310-a16b-1a827ec02b00\">\n",
              "      <button class=\"colab-df-quickchart\" onclick=\"quickchart('df-24b1f2cc-55ac-4310-a16b-1a827ec02b00')\"\n",
              "              title=\"Suggest charts.\"\n",
              "              style=\"display:none;\">\n",
              "\n",
              "<svg xmlns=\"http://www.w3.org/2000/svg\" height=\"24px\"viewBox=\"0 0 24 24\"\n",
              "     width=\"24px\">\n",
              "    <g>\n",
              "        <path d=\"M19 3H5c-1.1 0-2 .9-2 2v14c0 1.1.9 2 2 2h14c1.1 0 2-.9 2-2V5c0-1.1-.9-2-2-2zM9 17H7v-7h2v7zm4 0h-2V7h2v10zm4 0h-2v-4h2v4z\"/>\n",
              "    </g>\n",
              "</svg>\n",
              "      </button>\n",
              "    </div>\n",
              "\n",
              "<style>\n",
              "  .colab-df-quickchart {\n",
              "    background-color: #E8F0FE;\n",
              "    border: none;\n",
              "    border-radius: 50%;\n",
              "    cursor: pointer;\n",
              "    display: none;\n",
              "    fill: #1967D2;\n",
              "    height: 32px;\n",
              "    padding: 0 0 0 0;\n",
              "    width: 32px;\n",
              "  }\n",
              "\n",
              "  .colab-df-quickchart:hover {\n",
              "    background-color: #E2EBFA;\n",
              "    box-shadow: 0px 1px 2px rgba(60, 64, 67, 0.3), 0px 1px 3px 1px rgba(60, 64, 67, 0.15);\n",
              "    fill: #174EA6;\n",
              "  }\n",
              "\n",
              "  [theme=dark] .colab-df-quickchart {\n",
              "    background-color: #3B4455;\n",
              "    fill: #D2E3FC;\n",
              "  }\n",
              "\n",
              "  [theme=dark] .colab-df-quickchart:hover {\n",
              "    background-color: #434B5C;\n",
              "    box-shadow: 0px 1px 3px 1px rgba(0, 0, 0, 0.15);\n",
              "    filter: drop-shadow(0px 1px 2px rgba(0, 0, 0, 0.3));\n",
              "    fill: #FFFFFF;\n",
              "  }\n",
              "</style>\n",
              "\n",
              "    <script>\n",
              "      async function quickchart(key) {\n",
              "        const containerElement = document.querySelector('#' + key);\n",
              "        const charts = await google.colab.kernel.invokeFunction(\n",
              "            'suggestCharts', [key], {});\n",
              "      }\n",
              "    </script>\n",
              "\n",
              "      <script>\n",
              "\n",
              "function displayQuickchartButton(domScope) {\n",
              "  let quickchartButtonEl =\n",
              "    domScope.querySelector('#df-24b1f2cc-55ac-4310-a16b-1a827ec02b00 button.colab-df-quickchart');\n",
              "  quickchartButtonEl.style.display =\n",
              "    google.colab.kernel.accessAllowed ? 'block' : 'none';\n",
              "}\n",
              "\n",
              "        displayQuickchartButton(document);\n",
              "      </script>\n",
              "      <style>\n",
              "    .colab-df-container {\n",
              "      display:flex;\n",
              "      flex-wrap:wrap;\n",
              "      gap: 12px;\n",
              "    }\n",
              "\n",
              "    .colab-df-convert {\n",
              "      background-color: #E8F0FE;\n",
              "      border: none;\n",
              "      border-radius: 50%;\n",
              "      cursor: pointer;\n",
              "      display: none;\n",
              "      fill: #1967D2;\n",
              "      height: 32px;\n",
              "      padding: 0 0 0 0;\n",
              "      width: 32px;\n",
              "    }\n",
              "\n",
              "    .colab-df-convert:hover {\n",
              "      background-color: #E2EBFA;\n",
              "      box-shadow: 0px 1px 2px rgba(60, 64, 67, 0.3), 0px 1px 3px 1px rgba(60, 64, 67, 0.15);\n",
              "      fill: #174EA6;\n",
              "    }\n",
              "\n",
              "    [theme=dark] .colab-df-convert {\n",
              "      background-color: #3B4455;\n",
              "      fill: #D2E3FC;\n",
              "    }\n",
              "\n",
              "    [theme=dark] .colab-df-convert:hover {\n",
              "      background-color: #434B5C;\n",
              "      box-shadow: 0px 1px 3px 1px rgba(0, 0, 0, 0.15);\n",
              "      filter: drop-shadow(0px 1px 2px rgba(0, 0, 0, 0.3));\n",
              "      fill: #FFFFFF;\n",
              "    }\n",
              "  </style>\n",
              "\n",
              "      <script>\n",
              "        const buttonEl =\n",
              "          document.querySelector('#df-aec84a5e-e1b0-479c-9af2-b7b1fffa5ea0 button.colab-df-convert');\n",
              "        buttonEl.style.display =\n",
              "          google.colab.kernel.accessAllowed ? 'block' : 'none';\n",
              "\n",
              "        async function convertToInteractive(key) {\n",
              "          const element = document.querySelector('#df-aec84a5e-e1b0-479c-9af2-b7b1fffa5ea0');\n",
              "          const dataTable =\n",
              "            await google.colab.kernel.invokeFunction('convertToInteractive',\n",
              "                                                     [key], {});\n",
              "          if (!dataTable) return;\n",
              "\n",
              "          const docLinkHtml = 'Like what you see? Visit the ' +\n",
              "            '<a target=\"_blank\" href=https://colab.research.google.com/notebooks/data_table.ipynb>data table notebook</a>'\n",
              "            + ' to learn more about interactive tables.';\n",
              "          element.innerHTML = '';\n",
              "          dataTable['output_type'] = 'display_data';\n",
              "          await google.colab.output.renderOutput(dataTable, element);\n",
              "          const docLink = document.createElement('div');\n",
              "          docLink.innerHTML = docLinkHtml;\n",
              "          element.appendChild(docLink);\n",
              "        }\n",
              "      </script>\n",
              "    </div>\n",
              "  </div>\n"
            ]
          },
          "metadata": {},
          "execution_count": 10
        }
      ]
    },
    {
      "cell_type": "code",
      "source": [],
      "metadata": {
        "id": "gp2KXWuLvwHi"
      },
      "execution_count": null,
      "outputs": []
    },
    {
      "cell_type": "code",
      "source": [
        "df[\"category_1\"].value_counts(normalize=True) * 100"
      ],
      "metadata": {
        "colab": {
          "base_uri": "https://localhost:8080/"
        },
        "id": "puKvkUCDvwLw",
        "outputId": "6899b2cf-6915-427d-daf5-481d72f8da20"
      },
      "execution_count": 11,
      "outputs": [
        {
          "output_type": "execute_result",
          "data": {
            "text/plain": [
              "注文    37.777778\n",
              "製品    33.333333\n",
              "配送    28.888889\n",
              "Name: category_1, dtype: float64"
            ]
          },
          "metadata": {},
          "execution_count": 11
        }
      ]
    },
    {
      "cell_type": "code",
      "source": [
        "df[\"category_2\"].value_counts(normalize=True) * 100"
      ],
      "metadata": {
        "colab": {
          "base_uri": "https://localhost:8080/"
        },
        "id": "NG2HMx2dvwPS",
        "outputId": "24e74138-793e-4af3-acac-05557401066d"
      },
      "execution_count": 12,
      "outputs": [
        {
          "output_type": "execute_result",
          "data": {
            "text/plain": [
              "スペック               13.333333\n",
              "配送問題               13.333333\n",
              "注文変更               13.333333\n",
              "該当するカテゴリーがありません    13.333333\n",
              "支払い方法              11.111111\n",
              "注文状況               11.111111\n",
              "購入方法                8.888889\n",
              "配送ステータス             6.666667\n",
              "配送オプション             4.444444\n",
              "値段                  4.444444\n",
              "Name: category_2, dtype: float64"
            ]
          },
          "metadata": {},
          "execution_count": 12
        }
      ]
    },
    {
      "cell_type": "code",
      "source": [],
      "metadata": {
        "id": "9Au56Op2vyK8"
      },
      "execution_count": null,
      "outputs": []
    },
    {
      "cell_type": "code",
      "source": [],
      "metadata": {
        "id": "RfHRUXoOvyPe"
      },
      "execution_count": null,
      "outputs": []
    },
    {
      "cell_type": "code",
      "source": [],
      "metadata": {
        "id": "d9GbLv3IvzTS"
      },
      "execution_count": null,
      "outputs": []
    },
    {
      "cell_type": "code",
      "source": [],
      "metadata": {
        "id": "vnqbf160vzWT"
      },
      "execution_count": null,
      "outputs": []
    },
    {
      "cell_type": "code",
      "source": [],
      "metadata": {
        "id": "59uB2rcnvzcW"
      },
      "execution_count": null,
      "outputs": []
    },
    {
      "cell_type": "code",
      "source": [],
      "metadata": {
        "id": "LkMaRB5wvzgz"
      },
      "execution_count": null,
      "outputs": []
    },
    {
      "cell_type": "code",
      "source": [],
      "metadata": {
        "id": "dkS3V0nWvzlD"
      },
      "execution_count": null,
      "outputs": []
    },
    {
      "cell_type": "code",
      "source": [],
      "metadata": {
        "id": "ZwDULQ5nvzoT"
      },
      "execution_count": null,
      "outputs": []
    },
    {
      "cell_type": "markdown",
      "source": [
        "# 各カテゴリーに対応した返答文の生成\n",
        "\n",
        "問い合わせカテゴリーごとに、適切な問い合わせ先を示す返答文を作成しましょう。\n",
        "\n",
        "## シチュエーション\n",
        "\n",
        "具体的には、ユーザーからの問い合わせを適切に分類し、その問い合わせの内容に応じた連絡先をユーザーに教える返答文を自動生成します。\n"
      ],
      "metadata": {
        "id": "ocaFaQ2Jv0Dv"
      }
    },
    {
      "cell_type": "code",
      "source": [
        "def get_chatgpt_response(\n",
        "    user_input: str,\n",
        "    category_1: str,\n",
        "    category_2: str,\n",
        "    template: str,\n",
        "    model: str = \"gpt-3.5-turbo\",\n",
        "    temperature: float = 0,\n",
        "    max_tokens: int = 500,\n",
        "):\n",
        "    \"\"\"\n",
        "    ChatGPTに対して対話を投げかけ、返答を取得する\n",
        "    \"\"\"\n",
        "    prompt = template.format(\n",
        "        user_input=user_input, category_1=category_1, category_2=category_2\n",
        "    )\n",
        "    messages = [{\"role\": \"user\", \"content\": prompt}]\n",
        "    response = openai.ChatCompletion.create(\n",
        "        model=model,\n",
        "        messages=messages,\n",
        "        temperature=temperature,\n",
        "        max_tokens=max_tokens,\n",
        "    )\n",
        "    return response.choices[0].message[\"content\"]"
      ],
      "metadata": {
        "id": "k90C1oqsv1-j"
      },
      "execution_count": null,
      "outputs": []
    },
    {
      "cell_type": "code",
      "source": [
        "PROMPT_TEMPLATE = \"\"\"\n",
        "    あなたはカスタマーセンターの従業員です。\n",
        "    あなたの仕事は顧客の問い合わせに対して、適切な部門の連絡先を教えることです。\n",
        "    顧客の問い合わせ内容とカテゴリ－は下記の####で区切られた内容です。\n",
        "\n",
        "    ####\n",
        "    {user_input}\n",
        "\n",
        "    第一カテゴリー:{category_1}\n",
        "    第二カテゴリー:{category_2}\n",
        "    ####\n",
        "\n",
        "    下記ステップに従って、メールを作成してください。\n",
        "\n",
        "    1. 第一カテゴリーと第二カテゴリーに応じてメールアドレスを下記から抽出してください。\n",
        "        製品：スペック は product_spec@example.com\n",
        "        製品：値段 は product_price@example.com\n",
        "        製品：購入方法 は product_purchase_method@example.com\n",
        "        注文：注文状況 は order_status@example.com\n",
        "        注文：注文変更 は order_change@example.com\n",
        "        注文：支払い方法 は order_payment_method@example.com\n",
        "        配送：配送ステータス は delivery_status@example.com\n",
        "        配送：配送オプション は delivery_option@example.com\n",
        "        配送：配送問題 は delivery_issue@example.com\n",
        "\n",
        "    2. メール文章を作成\n",
        "      ユーザーからの問い合わせ内容に対して1で抽出したメールアドレスに送信するようにお願いする文章を書いてください。\n",
        "        形式：\n",
        "          適切な件名\n",
        "\n",
        "          文章\n",
        "    \"\"\""
      ],
      "metadata": {
        "id": "h-KgE7Gzv2Hc"
      },
      "execution_count": null,
      "outputs": []
    },
    {
      "cell_type": "code",
      "source": [
        "for values in df.values[:10]:\n",
        "    print(\"\")\n",
        "    print(\"#\" * 100)\n",
        "    category_1, category_2, user_question = values[0], values[1], values[2]\n",
        "    print(f\"問い合わせ内容:{user_question}\\n\")\n",
        "    response = get_chatgpt_response(\n",
        "        user_input=user_question,\n",
        "        category_1=category_1,\n",
        "        category_2=category_2,\n",
        "        template=PROMPT_TEMPLATE,\n",
        "    )\n",
        "    print(response)\n"
      ],
      "metadata": {
        "colab": {
          "base_uri": "https://localhost:8080/"
        },
        "id": "qz66Mbgxv2Ot",
        "outputId": "a0cfa852-aa70-4db8-9cad-b0bf691d7a68"
      },
      "execution_count": null,
      "outputs": [
        {
          "output_type": "stream",
          "name": "stdout",
          "text": [
            "\n",
            "####################################################################################################\n",
            "問い合わせ内容:このカメラの最大シャッタースピードは何ですか？\n",
            "\n",
            "件名：カメラの最大シャッタースピードについてのお問い合わせ\n",
            "\n",
            "お客様からのお問い合わせに対し、適切な部署に連絡いたします。\n",
            "\n",
            "このお問い合わせは、製品のスペックに関するものであり、以下のメールアドレスにお問い合わせいただけます。\n",
            "\n",
            "product_spec@example.com\n",
            "\n",
            "ご不明点がございましたら、お気軽にお問い合わせください。\n",
            "\n",
            "よろしくお願いいたします。\n",
            "\n",
            "####################################################################################################\n",
            "問い合わせ内容:私のパッケージの追跡番号を教えてください。\n",
            "\n",
            "件名：配送ステータスに関するお問い合わせ\n",
            "\n",
            "お客様\n",
            "\n",
            "この度は弊社にお問い合わせいただき、誠にありがとうございます。\n",
            "お客様からのお問い合わせにつきまして、配送ステータスに関するお問い合わせであることを確認いたしました。\n",
            "\n",
            "お手数をおかけいたしますが、下記のメールアドレスにお問い合わせ内容をご連絡いただけますでしょうか。\n",
            "配送：配送ステータス は delivery_status@example.com\n",
            "\n",
            "お客様のご理解とご協力に心より感謝申し上げます。\n",
            "\n",
            "敬具\n",
            "カスタマーセンター\n",
            "\n",
            "####################################################################################################\n",
            "問い合わせ内容:エクスプレス配送は可能ですか？\n",
            "\n",
            "件名：エクスプレス配送についてのお問い合わせ\n",
            "\n",
            "お客様\n",
            "\n",
            "いつも弊社をご利用いただきありがとうございます。お問い合わせいただきましたエクスプレス配送については、配送オプションのカテゴリーに該当いたします。\n",
            "\n",
            "配送オプションに関するお問い合わせは、delivery_option@example.com までご連絡ください。専門のスタッフが迅速に対応いたします。\n",
            "\n",
            "何かご不明な点がございましたら、お気軽にお問い合わせください。\n",
            "\n",
            "敬具\n",
            "\n",
            "カスタマーセンター\n",
            "\n",
            "####################################################################################################\n",
            "問い合わせ内容:特定の日時に配送することはできますか？\n",
            "\n",
            "件名：配送オプションに関するお問い合わせ\n",
            "\n",
            "お客様\n",
            "\n",
            "いつも当社の製品をご利用いただきありがとうございます。\n",
            "お問い合わせいただきました配送オプションに関するご質問について、適切な部署にご連絡いただけますようお願い申し上げます。\n",
            "\n",
            "このお問い合わせは、配送カテゴリーの配送オプションに関するものです。そのため、以下のメールアドレスにお問い合わせ内容をお送りいただけますようお願いいたします。\n",
            "\n",
            "配送：配送オプション は delivery_option@example.com\n",
            "\n",
            "何かご不明な点がございましたら、お気軽にお問い合わせください。\n",
            "\n",
            "敬具\n",
            "カスタマーセンター\n",
            "\n",
            "####################################################################################################\n",
            "問い合わせ内容:配送された商品が損傷していました。どうすればいいですか？\n",
            "\n",
            "件名：配送問題に関するお問い合わせ\n",
            "\n",
            "お客様\n",
            "\n",
            "この度は、当社の商品をご購入いただきありがとうございます。\n",
            "お客様からのお問い合わせについて、適切な部署にご連絡いただくために、下記のメールアドレスにお問い合わせ内容をお送りください。\n",
            "\n",
            "配送：配送問題 は delivery_issue@example.com\n",
            "\n",
            "お手数をおかけいたしますが、何卒よろしくお願い申し上げます。\n",
            "\n",
            "敬具\n",
            "\n",
            "####################################################################################################\n",
            "問い合わせ内容:注文の支払いにApple PayやGoogle Payは使用できますか？\n",
            "\n",
            "件名：注文支払いについてのお問い合わせ\n",
            "\n",
            "お客様からのお問い合わせありがとうございます。\n",
            "お問い合わせいただいた内容については、以下のメールアドレスにお問い合わせください。\n",
            "\n",
            "製品：購入方法 は product_purchase_method@example.com\n",
            "注文：支払い方法 は order_payment_method@example.com\n",
            "\n",
            "どちらのメールアドレスにお問い合わせいただいても、適切な対応ができるようになっておりますので、お気軽にご連絡ください。\n",
            "\n",
            "何かご不明な点がございましたら、いつでもお問い合わせください。\n",
            "\n",
            "よろしくお願いいたします。\n",
            "\n",
            "####################################################################################################\n",
            "問い合わせ内容:私のパッケージはいつ到着予定ですか？\n",
            "\n",
            "件名：配送ステータスに関するお問い合わせ\n",
            "\n",
            "お客様へ\n",
            "\n",
            "この度は、弊社カスタマーセンターにお問い合わせいただきありがとうございます。\n",
            "お客様からのお問い合わせにつきまして、配送ステータスに関するお問い合わせであることを確認いたしました。\n",
            "\n",
            "お手数をおかけいたしますが、下記のメールアドレスにお問い合わせ内容をご連絡いただけますようお願い申し上げます。\n",
            "\n",
            "配送：配送ステータス は delivery_status@example.com\n",
            "\n",
            "何卒よろしくお願い申し上げます。\n",
            "\n",
            "敬具\n",
            "\n",
            "####################################################################################################\n",
            "問い合わせ内容:注文の支払いにクレジットカードは使用できますか？\n",
            "\n",
            "件名：注文の支払いについてのお問い合わせ\n",
            "\n",
            "お客様からのお問い合わせありがとうございます。\n",
            "お問い合わせいただいた内容については、以下の部署にお問い合わせいただけます。\n",
            "\n",
            "注文：支払い方法 は order_payment_method@example.com\n",
            "\n",
            "上記のメールアドレスにお問い合わせいただけますようお願い申し上げます。\n",
            "何かご不明な点がございましたら、お気軽にお問い合わせください。\n",
            "\n",
            "よろしくお願いいたします。\n",
            "\n",
            "####################################################################################################\n",
            "問い合わせ内容:私の注文はまだ出荷されていませんか？\n",
            "\n",
            "件名：配送ステータスに関するお問い合わせについて\n",
            "\n",
            "お客様へ、\n",
            "\n",
            "この度は弊社製品をご購入いただき、誠にありがとうございます。\n",
            "お問い合わせいただきました配送ステータスに関しましては、以下のメールアドレスにお問い合わせいただけます。\n",
            "\n",
            "配送：配送ステータス は delivery_status@example.com\n",
            "\n",
            "上記メールアドレスにお問い合わせいただけますよう、お願い申し上げます。\n",
            "何かご不明な点がございましたら、お気軽にお問い合わせください。\n",
            "\n",
            "敬具\n",
            "\n",
            "####################################################################################################\n",
            "問い合わせ内容:この製品はオンラインで注文することができますか？\n",
            "\n",
            "件名：オンライン注文についてのお問い合わせ\n",
            "\n",
            "お客様からのお問い合わせありがとうございます。\n",
            "お問い合わせいただいた内容については、以下のメールアドレスにご連絡いただけます。\n",
            "\n",
            "製品：購入方法　→　product_purchase_method@example.com\n",
            "\n",
            "上記のメールアドレスにお問い合わせ内容をお送りいただけますようお願いいたします。\n",
            "何かご不明な点がございましたら、お気軽にお問い合わせください。\n",
            "\n",
            "よろしくお願いいたします。\n"
          ]
        }
      ]
    },
    {
      "cell_type": "code",
      "source": [],
      "metadata": {
        "id": "tQuHMonCv2St"
      },
      "execution_count": null,
      "outputs": []
    },
    {
      "cell_type": "code",
      "source": [],
      "metadata": {
        "id": "KRBenGrpv2Wr"
      },
      "execution_count": null,
      "outputs": []
    },
    {
      "cell_type": "code",
      "source": [],
      "metadata": {
        "id": "sUpzgj9hv2bX"
      },
      "execution_count": null,
      "outputs": []
    },
    {
      "cell_type": "code",
      "source": [],
      "metadata": {
        "id": "2RZN63Alv2fl"
      },
      "execution_count": null,
      "outputs": []
    }
  ]
}